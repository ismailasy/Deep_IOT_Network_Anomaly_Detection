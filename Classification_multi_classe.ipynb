{
  "nbformat": 4,
  "nbformat_minor": 0,
  "metadata": {
    "colab": {
      "name": "Classification_multi_classe.ipynb",
      "provenance": [],
      "collapsed_sections": [],
      "mount_file_id": "1Vq7GH-Tqf2gKQcQtPxo2m6FI0ymCjxsi",
      "authorship_tag": "ABX9TyPbs2r2ab+S/zstY75PUwyJ",
      "include_colab_link": true
    },
    "kernelspec": {
      "name": "python3",
      "display_name": "Python 3"
    },
    "language_info": {
      "name": "python"
    },
    "accelerator": "GPU",
    "gpuClass": "standard"
  },
  "cells": [
    {
      "cell_type": "markdown",
      "metadata": {
        "id": "view-in-github",
        "colab_type": "text"
      },
      "source": [
        "<a href=\"https://colab.research.google.com/github/ismailasy/Deep_IOT_Network_Anomaly_Detection/blob/main/Classification_multi_classe.ipynb\" target=\"_parent\"><img src=\"https://colab.research.google.com/assets/colab-badge.svg\" alt=\"Open In Colab\"/></a>"
      ]
    },
    {
      "cell_type": "code",
      "execution_count": 2,
      "metadata": {
        "id": "mT6MlZbjoyXz"
      },
      "outputs": [],
      "source": [
        "import pandas as pd\n",
        "import numpy as np\n",
        "\n",
        "df = pd.read_csv('/content/drive/MyDrive/Datasets/Selected dataset for ML and DL/DNN-EdgeIIoT-dataset.csv', low_memory=False)"
      ]
    },
    {
      "cell_type": "code",
      "source": [
        "# Affichage des types d'attaques \n",
        "print(df['Attack_type'].value_counts())"
      ],
      "metadata": {
        "colab": {
          "base_uri": "https://localhost:8080/"
        },
        "id": "9WeNAQtwp7HT",
        "outputId": "2e90d51a-261f-4a07-e524-e73b1bbe0859"
      },
      "execution_count": 3,
      "outputs": [
        {
          "output_type": "stream",
          "name": "stdout",
          "text": [
            "Normal                   1615643\n",
            "DDoS_UDP                  121568\n",
            "DDoS_ICMP                 116436\n",
            "SQL_injection              51203\n",
            "Password                   50153\n",
            "Vulnerability_scanner      50110\n",
            "DDoS_TCP                   50062\n",
            "DDoS_HTTP                  49911\n",
            "Uploading                  37634\n",
            "Backdoor                   24862\n",
            "Port_Scanning              22564\n",
            "XSS                        15915\n",
            "Ransomware                 10925\n",
            "MITM                        1214\n",
            "Fingerprinting              1001\n",
            "Name: Attack_type, dtype: int64\n"
          ]
        }
      ]
    },
    {
      "cell_type": "code",
      "source": [
        "# Affichage des types d'attaques \n",
        "print(df['Attack_type'].value_counts())"
      ],
      "metadata": {
        "colab": {
          "base_uri": "https://localhost:8080/"
        },
        "id": "lyJ3o_8fqBQt",
        "outputId": "9adec624-173e-4ff3-e4da-cf28350798b8"
      },
      "execution_count": 4,
      "outputs": [
        {
          "output_type": "stream",
          "name": "stdout",
          "text": [
            "Normal                   1615643\n",
            "DDoS_UDP                  121568\n",
            "DDoS_ICMP                 116436\n",
            "SQL_injection              51203\n",
            "Password                   50153\n",
            "Vulnerability_scanner      50110\n",
            "DDoS_TCP                   50062\n",
            "DDoS_HTTP                  49911\n",
            "Uploading                  37634\n",
            "Backdoor                   24862\n",
            "Port_Scanning              22564\n",
            "XSS                        15915\n",
            "Ransomware                 10925\n",
            "MITM                        1214\n",
            "Fingerprinting              1001\n",
            "Name: Attack_type, dtype: int64\n"
          ]
        }
      ]
    },
    {
      "cell_type": "code",
      "source": [
        "df.describe()"
      ],
      "metadata": {
        "colab": {
          "base_uri": "https://localhost:8080/",
          "height": 418
        },
        "id": "cSm2GhSiqSQp",
        "outputId": "e77ca132-daf4-4b77-8314-16fa56bfe941"
      },
      "execution_count": 5,
      "outputs": [
        {
          "output_type": "execute_result",
          "data": {
            "text/plain": [
              "         arp.opcode   arp.hw.size  icmp.checksum   icmp.seq_le  \\\n",
              "count  2.219201e+06  2.219201e+06   2.219201e+06  2.219201e+06   \n",
              "mean   3.323268e-03  1.582732e-02   1.730285e+03  1.893064e+03   \n",
              "std    6.843237e-02  3.077555e-01   8.526581e+03  8.870474e+03   \n",
              "min    0.000000e+00  0.000000e+00   0.000000e+00  0.000000e+00   \n",
              "25%    0.000000e+00  0.000000e+00   0.000000e+00  0.000000e+00   \n",
              "50%    0.000000e+00  0.000000e+00   0.000000e+00  0.000000e+00   \n",
              "75%    0.000000e+00  0.000000e+00   0.000000e+00  0.000000e+00   \n",
              "max    2.000000e+00  6.000000e+00   6.553300e+04  6.553500e+04   \n",
              "\n",
              "       icmp.transmit_timestamp  icmp.unused  http.content_length  \\\n",
              "count             2.219201e+06    2219201.0         2.219201e+06   \n",
              "mean              2.877556e+03          0.0         4.808231e+00   \n",
              "std               4.705188e+05          0.0         9.642259e+01   \n",
              "min               0.000000e+00          0.0         0.000000e+00   \n",
              "25%               0.000000e+00          0.0         0.000000e+00   \n",
              "50%               0.000000e+00          0.0         0.000000e+00   \n",
              "75%               0.000000e+00          0.0         0.000000e+00   \n",
              "max               7.728902e+07          0.0         8.365500e+04   \n",
              "\n",
              "       http.response  http.tls_port       tcp.ack  ...      mqtt.len  \\\n",
              "count   2.219201e+06      2219201.0  2.219201e+06  ...  2.219201e+06   \n",
              "mean    1.469132e-02            0.0  2.278400e+07  ...  1.982731e+00   \n",
              "std     1.203142e-01            0.0  1.649033e+08  ...  7.648797e+00   \n",
              "min     0.000000e+00            0.0  0.000000e+00  ...  0.000000e+00   \n",
              "25%     0.000000e+00            0.0  1.000000e+00  ...  0.000000e+00   \n",
              "50%     0.000000e+00            0.0  6.000000e+00  ...  0.000000e+00   \n",
              "75%     0.000000e+00            0.0  5.900000e+01  ...  0.000000e+00   \n",
              "max     1.000000e+00            0.0  3.949529e+09  ...  3.900000e+01   \n",
              "\n",
              "       mqtt.msg_decoded_as  mqtt.msgtype  mqtt.proto_len  mqtt.topic_len  \\\n",
              "count            2219201.0  2.219201e+06    2.219201e+06    2.219201e+06   \n",
              "mean                   0.0  7.481643e-01    1.496665e-01    8.977934e-01   \n",
              "std                    0.0  2.701086e+00    7.591219e-01    4.554231e+00   \n",
              "min                    0.0  0.000000e+00    0.000000e+00    0.000000e+00   \n",
              "25%                    0.0  0.000000e+00    0.000000e+00    0.000000e+00   \n",
              "50%                    0.0  0.000000e+00    0.000000e+00    0.000000e+00   \n",
              "75%                    0.0  0.000000e+00    0.000000e+00    0.000000e+00   \n",
              "max                    0.0  1.400000e+01    4.000000e+00    2.400000e+01   \n",
              "\n",
              "           mqtt.ver     mbtcp.len  mbtcp.trans_id  mbtcp.unit_id  Attack_label  \n",
              "count  2.219201e+06  2.219201e+06    2.219201e+06   2.219201e+06  2.219201e+06  \n",
              "mean   1.496665e-01  1.297764e-03    5.170780e-03   9.417804e-05  2.719709e-01  \n",
              "std    7.591219e-01  1.711483e-01    7.226807e-01   1.377313e-02  4.449751e-01  \n",
              "min    0.000000e+00  0.000000e+00    0.000000e+00   0.000000e+00  0.000000e+00  \n",
              "25%    0.000000e+00  0.000000e+00    0.000000e+00   0.000000e+00  0.000000e+00  \n",
              "50%    0.000000e+00  0.000000e+00    0.000000e+00   0.000000e+00  0.000000e+00  \n",
              "75%    0.000000e+00  0.000000e+00    0.000000e+00   0.000000e+00  1.000000e+00  \n",
              "max    4.000000e+00  2.700000e+01    1.510000e+02   6.000000e+00  1.000000e+00  \n",
              "\n",
              "[8 rows x 43 columns]"
            ],
            "text/html": [
              "\n",
              "  <div id=\"df-3ff7d2b4-82f2-4bca-8a74-a0976f2824a9\">\n",
              "    <div class=\"colab-df-container\">\n",
              "      <div>\n",
              "<style scoped>\n",
              "    .dataframe tbody tr th:only-of-type {\n",
              "        vertical-align: middle;\n",
              "    }\n",
              "\n",
              "    .dataframe tbody tr th {\n",
              "        vertical-align: top;\n",
              "    }\n",
              "\n",
              "    .dataframe thead th {\n",
              "        text-align: right;\n",
              "    }\n",
              "</style>\n",
              "<table border=\"1\" class=\"dataframe\">\n",
              "  <thead>\n",
              "    <tr style=\"text-align: right;\">\n",
              "      <th></th>\n",
              "      <th>arp.opcode</th>\n",
              "      <th>arp.hw.size</th>\n",
              "      <th>icmp.checksum</th>\n",
              "      <th>icmp.seq_le</th>\n",
              "      <th>icmp.transmit_timestamp</th>\n",
              "      <th>icmp.unused</th>\n",
              "      <th>http.content_length</th>\n",
              "      <th>http.response</th>\n",
              "      <th>http.tls_port</th>\n",
              "      <th>tcp.ack</th>\n",
              "      <th>...</th>\n",
              "      <th>mqtt.len</th>\n",
              "      <th>mqtt.msg_decoded_as</th>\n",
              "      <th>mqtt.msgtype</th>\n",
              "      <th>mqtt.proto_len</th>\n",
              "      <th>mqtt.topic_len</th>\n",
              "      <th>mqtt.ver</th>\n",
              "      <th>mbtcp.len</th>\n",
              "      <th>mbtcp.trans_id</th>\n",
              "      <th>mbtcp.unit_id</th>\n",
              "      <th>Attack_label</th>\n",
              "    </tr>\n",
              "  </thead>\n",
              "  <tbody>\n",
              "    <tr>\n",
              "      <th>count</th>\n",
              "      <td>2.219201e+06</td>\n",
              "      <td>2.219201e+06</td>\n",
              "      <td>2.219201e+06</td>\n",
              "      <td>2.219201e+06</td>\n",
              "      <td>2.219201e+06</td>\n",
              "      <td>2219201.0</td>\n",
              "      <td>2.219201e+06</td>\n",
              "      <td>2.219201e+06</td>\n",
              "      <td>2219201.0</td>\n",
              "      <td>2.219201e+06</td>\n",
              "      <td>...</td>\n",
              "      <td>2.219201e+06</td>\n",
              "      <td>2219201.0</td>\n",
              "      <td>2.219201e+06</td>\n",
              "      <td>2.219201e+06</td>\n",
              "      <td>2.219201e+06</td>\n",
              "      <td>2.219201e+06</td>\n",
              "      <td>2.219201e+06</td>\n",
              "      <td>2.219201e+06</td>\n",
              "      <td>2.219201e+06</td>\n",
              "      <td>2.219201e+06</td>\n",
              "    </tr>\n",
              "    <tr>\n",
              "      <th>mean</th>\n",
              "      <td>3.323268e-03</td>\n",
              "      <td>1.582732e-02</td>\n",
              "      <td>1.730285e+03</td>\n",
              "      <td>1.893064e+03</td>\n",
              "      <td>2.877556e+03</td>\n",
              "      <td>0.0</td>\n",
              "      <td>4.808231e+00</td>\n",
              "      <td>1.469132e-02</td>\n",
              "      <td>0.0</td>\n",
              "      <td>2.278400e+07</td>\n",
              "      <td>...</td>\n",
              "      <td>1.982731e+00</td>\n",
              "      <td>0.0</td>\n",
              "      <td>7.481643e-01</td>\n",
              "      <td>1.496665e-01</td>\n",
              "      <td>8.977934e-01</td>\n",
              "      <td>1.496665e-01</td>\n",
              "      <td>1.297764e-03</td>\n",
              "      <td>5.170780e-03</td>\n",
              "      <td>9.417804e-05</td>\n",
              "      <td>2.719709e-01</td>\n",
              "    </tr>\n",
              "    <tr>\n",
              "      <th>std</th>\n",
              "      <td>6.843237e-02</td>\n",
              "      <td>3.077555e-01</td>\n",
              "      <td>8.526581e+03</td>\n",
              "      <td>8.870474e+03</td>\n",
              "      <td>4.705188e+05</td>\n",
              "      <td>0.0</td>\n",
              "      <td>9.642259e+01</td>\n",
              "      <td>1.203142e-01</td>\n",
              "      <td>0.0</td>\n",
              "      <td>1.649033e+08</td>\n",
              "      <td>...</td>\n",
              "      <td>7.648797e+00</td>\n",
              "      <td>0.0</td>\n",
              "      <td>2.701086e+00</td>\n",
              "      <td>7.591219e-01</td>\n",
              "      <td>4.554231e+00</td>\n",
              "      <td>7.591219e-01</td>\n",
              "      <td>1.711483e-01</td>\n",
              "      <td>7.226807e-01</td>\n",
              "      <td>1.377313e-02</td>\n",
              "      <td>4.449751e-01</td>\n",
              "    </tr>\n",
              "    <tr>\n",
              "      <th>min</th>\n",
              "      <td>0.000000e+00</td>\n",
              "      <td>0.000000e+00</td>\n",
              "      <td>0.000000e+00</td>\n",
              "      <td>0.000000e+00</td>\n",
              "      <td>0.000000e+00</td>\n",
              "      <td>0.0</td>\n",
              "      <td>0.000000e+00</td>\n",
              "      <td>0.000000e+00</td>\n",
              "      <td>0.0</td>\n",
              "      <td>0.000000e+00</td>\n",
              "      <td>...</td>\n",
              "      <td>0.000000e+00</td>\n",
              "      <td>0.0</td>\n",
              "      <td>0.000000e+00</td>\n",
              "      <td>0.000000e+00</td>\n",
              "      <td>0.000000e+00</td>\n",
              "      <td>0.000000e+00</td>\n",
              "      <td>0.000000e+00</td>\n",
              "      <td>0.000000e+00</td>\n",
              "      <td>0.000000e+00</td>\n",
              "      <td>0.000000e+00</td>\n",
              "    </tr>\n",
              "    <tr>\n",
              "      <th>25%</th>\n",
              "      <td>0.000000e+00</td>\n",
              "      <td>0.000000e+00</td>\n",
              "      <td>0.000000e+00</td>\n",
              "      <td>0.000000e+00</td>\n",
              "      <td>0.000000e+00</td>\n",
              "      <td>0.0</td>\n",
              "      <td>0.000000e+00</td>\n",
              "      <td>0.000000e+00</td>\n",
              "      <td>0.0</td>\n",
              "      <td>1.000000e+00</td>\n",
              "      <td>...</td>\n",
              "      <td>0.000000e+00</td>\n",
              "      <td>0.0</td>\n",
              "      <td>0.000000e+00</td>\n",
              "      <td>0.000000e+00</td>\n",
              "      <td>0.000000e+00</td>\n",
              "      <td>0.000000e+00</td>\n",
              "      <td>0.000000e+00</td>\n",
              "      <td>0.000000e+00</td>\n",
              "      <td>0.000000e+00</td>\n",
              "      <td>0.000000e+00</td>\n",
              "    </tr>\n",
              "    <tr>\n",
              "      <th>50%</th>\n",
              "      <td>0.000000e+00</td>\n",
              "      <td>0.000000e+00</td>\n",
              "      <td>0.000000e+00</td>\n",
              "      <td>0.000000e+00</td>\n",
              "      <td>0.000000e+00</td>\n",
              "      <td>0.0</td>\n",
              "      <td>0.000000e+00</td>\n",
              "      <td>0.000000e+00</td>\n",
              "      <td>0.0</td>\n",
              "      <td>6.000000e+00</td>\n",
              "      <td>...</td>\n",
              "      <td>0.000000e+00</td>\n",
              "      <td>0.0</td>\n",
              "      <td>0.000000e+00</td>\n",
              "      <td>0.000000e+00</td>\n",
              "      <td>0.000000e+00</td>\n",
              "      <td>0.000000e+00</td>\n",
              "      <td>0.000000e+00</td>\n",
              "      <td>0.000000e+00</td>\n",
              "      <td>0.000000e+00</td>\n",
              "      <td>0.000000e+00</td>\n",
              "    </tr>\n",
              "    <tr>\n",
              "      <th>75%</th>\n",
              "      <td>0.000000e+00</td>\n",
              "      <td>0.000000e+00</td>\n",
              "      <td>0.000000e+00</td>\n",
              "      <td>0.000000e+00</td>\n",
              "      <td>0.000000e+00</td>\n",
              "      <td>0.0</td>\n",
              "      <td>0.000000e+00</td>\n",
              "      <td>0.000000e+00</td>\n",
              "      <td>0.0</td>\n",
              "      <td>5.900000e+01</td>\n",
              "      <td>...</td>\n",
              "      <td>0.000000e+00</td>\n",
              "      <td>0.0</td>\n",
              "      <td>0.000000e+00</td>\n",
              "      <td>0.000000e+00</td>\n",
              "      <td>0.000000e+00</td>\n",
              "      <td>0.000000e+00</td>\n",
              "      <td>0.000000e+00</td>\n",
              "      <td>0.000000e+00</td>\n",
              "      <td>0.000000e+00</td>\n",
              "      <td>1.000000e+00</td>\n",
              "    </tr>\n",
              "    <tr>\n",
              "      <th>max</th>\n",
              "      <td>2.000000e+00</td>\n",
              "      <td>6.000000e+00</td>\n",
              "      <td>6.553300e+04</td>\n",
              "      <td>6.553500e+04</td>\n",
              "      <td>7.728902e+07</td>\n",
              "      <td>0.0</td>\n",
              "      <td>8.365500e+04</td>\n",
              "      <td>1.000000e+00</td>\n",
              "      <td>0.0</td>\n",
              "      <td>3.949529e+09</td>\n",
              "      <td>...</td>\n",
              "      <td>3.900000e+01</td>\n",
              "      <td>0.0</td>\n",
              "      <td>1.400000e+01</td>\n",
              "      <td>4.000000e+00</td>\n",
              "      <td>2.400000e+01</td>\n",
              "      <td>4.000000e+00</td>\n",
              "      <td>2.700000e+01</td>\n",
              "      <td>1.510000e+02</td>\n",
              "      <td>6.000000e+00</td>\n",
              "      <td>1.000000e+00</td>\n",
              "    </tr>\n",
              "  </tbody>\n",
              "</table>\n",
              "<p>8 rows × 43 columns</p>\n",
              "</div>\n",
              "      <button class=\"colab-df-convert\" onclick=\"convertToInteractive('df-3ff7d2b4-82f2-4bca-8a74-a0976f2824a9')\"\n",
              "              title=\"Convert this dataframe to an interactive table.\"\n",
              "              style=\"display:none;\">\n",
              "        \n",
              "  <svg xmlns=\"http://www.w3.org/2000/svg\" height=\"24px\"viewBox=\"0 0 24 24\"\n",
              "       width=\"24px\">\n",
              "    <path d=\"M0 0h24v24H0V0z\" fill=\"none\"/>\n",
              "    <path d=\"M18.56 5.44l.94 2.06.94-2.06 2.06-.94-2.06-.94-.94-2.06-.94 2.06-2.06.94zm-11 1L8.5 8.5l.94-2.06 2.06-.94-2.06-.94L8.5 2.5l-.94 2.06-2.06.94zm10 10l.94 2.06.94-2.06 2.06-.94-2.06-.94-.94-2.06-.94 2.06-2.06.94z\"/><path d=\"M17.41 7.96l-1.37-1.37c-.4-.4-.92-.59-1.43-.59-.52 0-1.04.2-1.43.59L10.3 9.45l-7.72 7.72c-.78.78-.78 2.05 0 2.83L4 21.41c.39.39.9.59 1.41.59.51 0 1.02-.2 1.41-.59l7.78-7.78 2.81-2.81c.8-.78.8-2.07 0-2.86zM5.41 20L4 18.59l7.72-7.72 1.47 1.35L5.41 20z\"/>\n",
              "  </svg>\n",
              "      </button>\n",
              "      \n",
              "  <style>\n",
              "    .colab-df-container {\n",
              "      display:flex;\n",
              "      flex-wrap:wrap;\n",
              "      gap: 12px;\n",
              "    }\n",
              "\n",
              "    .colab-df-convert {\n",
              "      background-color: #E8F0FE;\n",
              "      border: none;\n",
              "      border-radius: 50%;\n",
              "      cursor: pointer;\n",
              "      display: none;\n",
              "      fill: #1967D2;\n",
              "      height: 32px;\n",
              "      padding: 0 0 0 0;\n",
              "      width: 32px;\n",
              "    }\n",
              "\n",
              "    .colab-df-convert:hover {\n",
              "      background-color: #E2EBFA;\n",
              "      box-shadow: 0px 1px 2px rgba(60, 64, 67, 0.3), 0px 1px 3px 1px rgba(60, 64, 67, 0.15);\n",
              "      fill: #174EA6;\n",
              "    }\n",
              "\n",
              "    [theme=dark] .colab-df-convert {\n",
              "      background-color: #3B4455;\n",
              "      fill: #D2E3FC;\n",
              "    }\n",
              "\n",
              "    [theme=dark] .colab-df-convert:hover {\n",
              "      background-color: #434B5C;\n",
              "      box-shadow: 0px 1px 3px 1px rgba(0, 0, 0, 0.15);\n",
              "      filter: drop-shadow(0px 1px 2px rgba(0, 0, 0, 0.3));\n",
              "      fill: #FFFFFF;\n",
              "    }\n",
              "  </style>\n",
              "\n",
              "      <script>\n",
              "        const buttonEl =\n",
              "          document.querySelector('#df-3ff7d2b4-82f2-4bca-8a74-a0976f2824a9 button.colab-df-convert');\n",
              "        buttonEl.style.display =\n",
              "          google.colab.kernel.accessAllowed ? 'block' : 'none';\n",
              "\n",
              "        async function convertToInteractive(key) {\n",
              "          const element = document.querySelector('#df-3ff7d2b4-82f2-4bca-8a74-a0976f2824a9');\n",
              "          const dataTable =\n",
              "            await google.colab.kernel.invokeFunction('convertToInteractive',\n",
              "                                                     [key], {});\n",
              "          if (!dataTable) return;\n",
              "\n",
              "          const docLinkHtml = 'Like what you see? Visit the ' +\n",
              "            '<a target=\"_blank\" href=https://colab.research.google.com/notebooks/data_table.ipynb>data table notebook</a>'\n",
              "            + ' to learn more about interactive tables.';\n",
              "          element.innerHTML = '';\n",
              "          dataTable['output_type'] = 'display_data';\n",
              "          await google.colab.output.renderOutput(dataTable, element);\n",
              "          const docLink = document.createElement('div');\n",
              "          docLink.innerHTML = docLinkHtml;\n",
              "          element.appendChild(docLink);\n",
              "        }\n",
              "      </script>\n",
              "    </div>\n",
              "  </div>\n",
              "  "
            ]
          },
          "metadata": {},
          "execution_count": 5
        }
      ]
    },
    {
      "cell_type": "code",
      "source": [
        "drop_columns = [\"frame.time\", \"ip.src_host\", \"ip.dst_host\", \"arp.src.proto_ipv4\",\"arp.dst.proto_ipv4\", \n",
        "\n",
        "         \"http.file_data\",\"http.request.full_uri\",\"icmp.transmit_timestamp\",\n",
        "\n",
        "         \"http.request.uri.query\", \"tcp.options\",\"tcp.payload\",\"tcp.srcport\",\n",
        "\n",
        "         \"tcp.dstport\", \"udp.port\", \"mqtt.msg\"]"
      ],
      "metadata": {
        "id": "fadoiVFOqYN3"
      },
      "execution_count": 6,
      "outputs": []
    },
    {
      "cell_type": "code",
      "source": [
        "df.drop(drop_columns, axis=1, inplace=True)"
      ],
      "metadata": {
        "id": "1dkmFfbcqffl"
      },
      "execution_count": 7,
      "outputs": []
    },
    {
      "cell_type": "code",
      "source": [
        "df.info()"
      ],
      "metadata": {
        "colab": {
          "base_uri": "https://localhost:8080/"
        },
        "id": "IqOdwqrQqjti",
        "outputId": "db90e646-9c13-4010-b624-17904a78e685"
      },
      "execution_count": 8,
      "outputs": [
        {
          "output_type": "stream",
          "name": "stdout",
          "text": [
            "<class 'pandas.core.frame.DataFrame'>\n",
            "RangeIndex: 2219201 entries, 0 to 2219200\n",
            "Data columns (total 48 columns):\n",
            " #   Column                     Dtype  \n",
            "---  ------                     -----  \n",
            " 0   arp.opcode                 float64\n",
            " 1   arp.hw.size                float64\n",
            " 2   icmp.checksum              float64\n",
            " 3   icmp.seq_le                float64\n",
            " 4   icmp.unused                float64\n",
            " 5   http.content_length        float64\n",
            " 6   http.request.method        object \n",
            " 7   http.referer               object \n",
            " 8   http.request.version       object \n",
            " 9   http.response              float64\n",
            " 10  http.tls_port              float64\n",
            " 11  tcp.ack                    float64\n",
            " 12  tcp.ack_raw                float64\n",
            " 13  tcp.checksum               float64\n",
            " 14  tcp.connection.fin         float64\n",
            " 15  tcp.connection.rst         float64\n",
            " 16  tcp.connection.syn         float64\n",
            " 17  tcp.connection.synack      float64\n",
            " 18  tcp.flags                  float64\n",
            " 19  tcp.flags.ack              float64\n",
            " 20  tcp.len                    float64\n",
            " 21  tcp.seq                    float64\n",
            " 22  udp.stream                 float64\n",
            " 23  udp.time_delta             float64\n",
            " 24  dns.qry.name               float64\n",
            " 25  dns.qry.name.len           object \n",
            " 26  dns.qry.qu                 float64\n",
            " 27  dns.qry.type               float64\n",
            " 28  dns.retransmission         float64\n",
            " 29  dns.retransmit_request     float64\n",
            " 30  dns.retransmit_request_in  float64\n",
            " 31  mqtt.conack.flags          object \n",
            " 32  mqtt.conflag.cleansess     float64\n",
            " 33  mqtt.conflags              float64\n",
            " 34  mqtt.hdrflags              float64\n",
            " 35  mqtt.len                   float64\n",
            " 36  mqtt.msg_decoded_as        float64\n",
            " 37  mqtt.msgtype               float64\n",
            " 38  mqtt.proto_len             float64\n",
            " 39  mqtt.protoname             object \n",
            " 40  mqtt.topic                 object \n",
            " 41  mqtt.topic_len             float64\n",
            " 42  mqtt.ver                   float64\n",
            " 43  mbtcp.len                  float64\n",
            " 44  mbtcp.trans_id             float64\n",
            " 45  mbtcp.unit_id              float64\n",
            " 46  Attack_label               int64  \n",
            " 47  Attack_type                object \n",
            "dtypes: float64(39), int64(1), object(8)\n",
            "memory usage: 812.7+ MB\n"
          ]
        }
      ]
    },
    {
      "cell_type": "code",
      "source": [
        "#Suppression des Nan\n",
        "df.dropna(axis=0, how='any', inplace=True)"
      ],
      "metadata": {
        "id": "NgzhO7LOqpwU"
      },
      "execution_count": 9,
      "outputs": []
    },
    {
      "cell_type": "code",
      "source": [
        "# On supprime les données lignes dupliqués\n",
        "df.drop_duplicates(subset=None, keep=\"first\", inplace=True)"
      ],
      "metadata": {
        "id": "wMhQG9FOqyEK"
      },
      "execution_count": 10,
      "outputs": []
    },
    {
      "cell_type": "code",
      "source": [
        "df"
      ],
      "metadata": {
        "colab": {
          "base_uri": "https://localhost:8080/",
          "height": 520
        },
        "id": "-TNC_nP5q37t",
        "outputId": "723f1d7e-6de0-4cee-c802-e369964977c9"
      },
      "execution_count": 11,
      "outputs": [
        {
          "output_type": "execute_result",
          "data": {
            "text/plain": [
              "         arp.opcode  arp.hw.size  icmp.checksum  icmp.seq_le  icmp.unused  \\\n",
              "0               0.0          0.0            0.0          0.0          0.0   \n",
              "1               0.0          0.0            0.0          0.0          0.0   \n",
              "2               0.0          0.0            0.0          0.0          0.0   \n",
              "3               0.0          0.0            0.0          0.0          0.0   \n",
              "4               0.0          0.0            0.0          0.0          0.0   \n",
              "...             ...          ...            ...          ...          ...   \n",
              "2219162         0.0          0.0        35149.0      43815.0          0.0   \n",
              "2219167         0.0          0.0        54603.0      44251.0          0.0   \n",
              "2219181         0.0          0.0        48711.0      45298.0          0.0   \n",
              "2219192         0.0          0.0        60230.0      45509.0          0.0   \n",
              "2219193         0.0          0.0        56646.0      45523.0          0.0   \n",
              "\n",
              "         http.content_length http.request.method http.referer  \\\n",
              "0                        0.0                 0.0          0.0   \n",
              "1                        0.0                 0.0          0.0   \n",
              "2                        0.0                 0.0          0.0   \n",
              "3                        0.0                 0.0          0.0   \n",
              "4                        0.0                 0.0          0.0   \n",
              "...                      ...                 ...          ...   \n",
              "2219162                  0.0                 0.0          0.0   \n",
              "2219167                  0.0                 0.0          0.0   \n",
              "2219181                  0.0                 0.0          0.0   \n",
              "2219192                  0.0                 0.0          0.0   \n",
              "2219193                  0.0                 0.0          0.0   \n",
              "\n",
              "        http.request.version  http.response  ...  mqtt.proto_len  \\\n",
              "0                        0.0            0.0  ...             0.0   \n",
              "1                        0.0            0.0  ...             4.0   \n",
              "2                        0.0            0.0  ...             0.0   \n",
              "3                        0.0            0.0  ...             0.0   \n",
              "4                        0.0            0.0  ...             0.0   \n",
              "...                      ...            ...  ...             ...   \n",
              "2219162                  0.0            0.0  ...             0.0   \n",
              "2219167                  0.0            0.0  ...             0.0   \n",
              "2219181                  0.0            0.0  ...             0.0   \n",
              "2219192                  0.0            0.0  ...             0.0   \n",
              "2219193                  0.0            0.0  ...             0.0   \n",
              "\n",
              "         mqtt.protoname                mqtt.topic  mqtt.topic_len  mqtt.ver  \\\n",
              "0                     0                         0             0.0       0.0   \n",
              "1                  MQTT                         0             0.0       4.0   \n",
              "2                     0                         0             0.0       0.0   \n",
              "3                     0                         0             0.0       0.0   \n",
              "4                     0  Temperature_and_Humidity            24.0       0.0   \n",
              "...                 ...                       ...             ...       ...   \n",
              "2219162             0.0                       0.0             0.0       0.0   \n",
              "2219167             0.0                       0.0             0.0       0.0   \n",
              "2219181             0.0                       0.0             0.0       0.0   \n",
              "2219192             0.0                       0.0             0.0       0.0   \n",
              "2219193             0.0                       0.0             0.0       0.0   \n",
              "\n",
              "         mbtcp.len  mbtcp.trans_id  mbtcp.unit_id  Attack_label  Attack_type  \n",
              "0              0.0             0.0            0.0             0       Normal  \n",
              "1              0.0             0.0            0.0             0       Normal  \n",
              "2              0.0             0.0            0.0             0       Normal  \n",
              "3              0.0             0.0            0.0             0       Normal  \n",
              "4              0.0             0.0            0.0             0       Normal  \n",
              "...            ...             ...            ...           ...          ...  \n",
              "2219162        0.0             0.0            0.0             1    DDoS_ICMP  \n",
              "2219167        0.0             0.0            0.0             1    DDoS_ICMP  \n",
              "2219181        0.0             0.0            0.0             1    DDoS_ICMP  \n",
              "2219192        0.0             0.0            0.0             1    DDoS_ICMP  \n",
              "2219193        0.0             0.0            0.0             1    DDoS_ICMP  \n",
              "\n",
              "[1909671 rows x 48 columns]"
            ],
            "text/html": [
              "\n",
              "  <div id=\"df-435c1f7d-9a7a-4077-b550-cd3ef36553ee\">\n",
              "    <div class=\"colab-df-container\">\n",
              "      <div>\n",
              "<style scoped>\n",
              "    .dataframe tbody tr th:only-of-type {\n",
              "        vertical-align: middle;\n",
              "    }\n",
              "\n",
              "    .dataframe tbody tr th {\n",
              "        vertical-align: top;\n",
              "    }\n",
              "\n",
              "    .dataframe thead th {\n",
              "        text-align: right;\n",
              "    }\n",
              "</style>\n",
              "<table border=\"1\" class=\"dataframe\">\n",
              "  <thead>\n",
              "    <tr style=\"text-align: right;\">\n",
              "      <th></th>\n",
              "      <th>arp.opcode</th>\n",
              "      <th>arp.hw.size</th>\n",
              "      <th>icmp.checksum</th>\n",
              "      <th>icmp.seq_le</th>\n",
              "      <th>icmp.unused</th>\n",
              "      <th>http.content_length</th>\n",
              "      <th>http.request.method</th>\n",
              "      <th>http.referer</th>\n",
              "      <th>http.request.version</th>\n",
              "      <th>http.response</th>\n",
              "      <th>...</th>\n",
              "      <th>mqtt.proto_len</th>\n",
              "      <th>mqtt.protoname</th>\n",
              "      <th>mqtt.topic</th>\n",
              "      <th>mqtt.topic_len</th>\n",
              "      <th>mqtt.ver</th>\n",
              "      <th>mbtcp.len</th>\n",
              "      <th>mbtcp.trans_id</th>\n",
              "      <th>mbtcp.unit_id</th>\n",
              "      <th>Attack_label</th>\n",
              "      <th>Attack_type</th>\n",
              "    </tr>\n",
              "  </thead>\n",
              "  <tbody>\n",
              "    <tr>\n",
              "      <th>0</th>\n",
              "      <td>0.0</td>\n",
              "      <td>0.0</td>\n",
              "      <td>0.0</td>\n",
              "      <td>0.0</td>\n",
              "      <td>0.0</td>\n",
              "      <td>0.0</td>\n",
              "      <td>0.0</td>\n",
              "      <td>0.0</td>\n",
              "      <td>0.0</td>\n",
              "      <td>0.0</td>\n",
              "      <td>...</td>\n",
              "      <td>0.0</td>\n",
              "      <td>0</td>\n",
              "      <td>0</td>\n",
              "      <td>0.0</td>\n",
              "      <td>0.0</td>\n",
              "      <td>0.0</td>\n",
              "      <td>0.0</td>\n",
              "      <td>0.0</td>\n",
              "      <td>0</td>\n",
              "      <td>Normal</td>\n",
              "    </tr>\n",
              "    <tr>\n",
              "      <th>1</th>\n",
              "      <td>0.0</td>\n",
              "      <td>0.0</td>\n",
              "      <td>0.0</td>\n",
              "      <td>0.0</td>\n",
              "      <td>0.0</td>\n",
              "      <td>0.0</td>\n",
              "      <td>0.0</td>\n",
              "      <td>0.0</td>\n",
              "      <td>0.0</td>\n",
              "      <td>0.0</td>\n",
              "      <td>...</td>\n",
              "      <td>4.0</td>\n",
              "      <td>MQTT</td>\n",
              "      <td>0</td>\n",
              "      <td>0.0</td>\n",
              "      <td>4.0</td>\n",
              "      <td>0.0</td>\n",
              "      <td>0.0</td>\n",
              "      <td>0.0</td>\n",
              "      <td>0</td>\n",
              "      <td>Normal</td>\n",
              "    </tr>\n",
              "    <tr>\n",
              "      <th>2</th>\n",
              "      <td>0.0</td>\n",
              "      <td>0.0</td>\n",
              "      <td>0.0</td>\n",
              "      <td>0.0</td>\n",
              "      <td>0.0</td>\n",
              "      <td>0.0</td>\n",
              "      <td>0.0</td>\n",
              "      <td>0.0</td>\n",
              "      <td>0.0</td>\n",
              "      <td>0.0</td>\n",
              "      <td>...</td>\n",
              "      <td>0.0</td>\n",
              "      <td>0</td>\n",
              "      <td>0</td>\n",
              "      <td>0.0</td>\n",
              "      <td>0.0</td>\n",
              "      <td>0.0</td>\n",
              "      <td>0.0</td>\n",
              "      <td>0.0</td>\n",
              "      <td>0</td>\n",
              "      <td>Normal</td>\n",
              "    </tr>\n",
              "    <tr>\n",
              "      <th>3</th>\n",
              "      <td>0.0</td>\n",
              "      <td>0.0</td>\n",
              "      <td>0.0</td>\n",
              "      <td>0.0</td>\n",
              "      <td>0.0</td>\n",
              "      <td>0.0</td>\n",
              "      <td>0.0</td>\n",
              "      <td>0.0</td>\n",
              "      <td>0.0</td>\n",
              "      <td>0.0</td>\n",
              "      <td>...</td>\n",
              "      <td>0.0</td>\n",
              "      <td>0</td>\n",
              "      <td>0</td>\n",
              "      <td>0.0</td>\n",
              "      <td>0.0</td>\n",
              "      <td>0.0</td>\n",
              "      <td>0.0</td>\n",
              "      <td>0.0</td>\n",
              "      <td>0</td>\n",
              "      <td>Normal</td>\n",
              "    </tr>\n",
              "    <tr>\n",
              "      <th>4</th>\n",
              "      <td>0.0</td>\n",
              "      <td>0.0</td>\n",
              "      <td>0.0</td>\n",
              "      <td>0.0</td>\n",
              "      <td>0.0</td>\n",
              "      <td>0.0</td>\n",
              "      <td>0.0</td>\n",
              "      <td>0.0</td>\n",
              "      <td>0.0</td>\n",
              "      <td>0.0</td>\n",
              "      <td>...</td>\n",
              "      <td>0.0</td>\n",
              "      <td>0</td>\n",
              "      <td>Temperature_and_Humidity</td>\n",
              "      <td>24.0</td>\n",
              "      <td>0.0</td>\n",
              "      <td>0.0</td>\n",
              "      <td>0.0</td>\n",
              "      <td>0.0</td>\n",
              "      <td>0</td>\n",
              "      <td>Normal</td>\n",
              "    </tr>\n",
              "    <tr>\n",
              "      <th>...</th>\n",
              "      <td>...</td>\n",
              "      <td>...</td>\n",
              "      <td>...</td>\n",
              "      <td>...</td>\n",
              "      <td>...</td>\n",
              "      <td>...</td>\n",
              "      <td>...</td>\n",
              "      <td>...</td>\n",
              "      <td>...</td>\n",
              "      <td>...</td>\n",
              "      <td>...</td>\n",
              "      <td>...</td>\n",
              "      <td>...</td>\n",
              "      <td>...</td>\n",
              "      <td>...</td>\n",
              "      <td>...</td>\n",
              "      <td>...</td>\n",
              "      <td>...</td>\n",
              "      <td>...</td>\n",
              "      <td>...</td>\n",
              "      <td>...</td>\n",
              "    </tr>\n",
              "    <tr>\n",
              "      <th>2219162</th>\n",
              "      <td>0.0</td>\n",
              "      <td>0.0</td>\n",
              "      <td>35149.0</td>\n",
              "      <td>43815.0</td>\n",
              "      <td>0.0</td>\n",
              "      <td>0.0</td>\n",
              "      <td>0.0</td>\n",
              "      <td>0.0</td>\n",
              "      <td>0.0</td>\n",
              "      <td>0.0</td>\n",
              "      <td>...</td>\n",
              "      <td>0.0</td>\n",
              "      <td>0.0</td>\n",
              "      <td>0.0</td>\n",
              "      <td>0.0</td>\n",
              "      <td>0.0</td>\n",
              "      <td>0.0</td>\n",
              "      <td>0.0</td>\n",
              "      <td>0.0</td>\n",
              "      <td>1</td>\n",
              "      <td>DDoS_ICMP</td>\n",
              "    </tr>\n",
              "    <tr>\n",
              "      <th>2219167</th>\n",
              "      <td>0.0</td>\n",
              "      <td>0.0</td>\n",
              "      <td>54603.0</td>\n",
              "      <td>44251.0</td>\n",
              "      <td>0.0</td>\n",
              "      <td>0.0</td>\n",
              "      <td>0.0</td>\n",
              "      <td>0.0</td>\n",
              "      <td>0.0</td>\n",
              "      <td>0.0</td>\n",
              "      <td>...</td>\n",
              "      <td>0.0</td>\n",
              "      <td>0.0</td>\n",
              "      <td>0.0</td>\n",
              "      <td>0.0</td>\n",
              "      <td>0.0</td>\n",
              "      <td>0.0</td>\n",
              "      <td>0.0</td>\n",
              "      <td>0.0</td>\n",
              "      <td>1</td>\n",
              "      <td>DDoS_ICMP</td>\n",
              "    </tr>\n",
              "    <tr>\n",
              "      <th>2219181</th>\n",
              "      <td>0.0</td>\n",
              "      <td>0.0</td>\n",
              "      <td>48711.0</td>\n",
              "      <td>45298.0</td>\n",
              "      <td>0.0</td>\n",
              "      <td>0.0</td>\n",
              "      <td>0.0</td>\n",
              "      <td>0.0</td>\n",
              "      <td>0.0</td>\n",
              "      <td>0.0</td>\n",
              "      <td>...</td>\n",
              "      <td>0.0</td>\n",
              "      <td>0.0</td>\n",
              "      <td>0.0</td>\n",
              "      <td>0.0</td>\n",
              "      <td>0.0</td>\n",
              "      <td>0.0</td>\n",
              "      <td>0.0</td>\n",
              "      <td>0.0</td>\n",
              "      <td>1</td>\n",
              "      <td>DDoS_ICMP</td>\n",
              "    </tr>\n",
              "    <tr>\n",
              "      <th>2219192</th>\n",
              "      <td>0.0</td>\n",
              "      <td>0.0</td>\n",
              "      <td>60230.0</td>\n",
              "      <td>45509.0</td>\n",
              "      <td>0.0</td>\n",
              "      <td>0.0</td>\n",
              "      <td>0.0</td>\n",
              "      <td>0.0</td>\n",
              "      <td>0.0</td>\n",
              "      <td>0.0</td>\n",
              "      <td>...</td>\n",
              "      <td>0.0</td>\n",
              "      <td>0.0</td>\n",
              "      <td>0.0</td>\n",
              "      <td>0.0</td>\n",
              "      <td>0.0</td>\n",
              "      <td>0.0</td>\n",
              "      <td>0.0</td>\n",
              "      <td>0.0</td>\n",
              "      <td>1</td>\n",
              "      <td>DDoS_ICMP</td>\n",
              "    </tr>\n",
              "    <tr>\n",
              "      <th>2219193</th>\n",
              "      <td>0.0</td>\n",
              "      <td>0.0</td>\n",
              "      <td>56646.0</td>\n",
              "      <td>45523.0</td>\n",
              "      <td>0.0</td>\n",
              "      <td>0.0</td>\n",
              "      <td>0.0</td>\n",
              "      <td>0.0</td>\n",
              "      <td>0.0</td>\n",
              "      <td>0.0</td>\n",
              "      <td>...</td>\n",
              "      <td>0.0</td>\n",
              "      <td>0.0</td>\n",
              "      <td>0.0</td>\n",
              "      <td>0.0</td>\n",
              "      <td>0.0</td>\n",
              "      <td>0.0</td>\n",
              "      <td>0.0</td>\n",
              "      <td>0.0</td>\n",
              "      <td>1</td>\n",
              "      <td>DDoS_ICMP</td>\n",
              "    </tr>\n",
              "  </tbody>\n",
              "</table>\n",
              "<p>1909671 rows × 48 columns</p>\n",
              "</div>\n",
              "      <button class=\"colab-df-convert\" onclick=\"convertToInteractive('df-435c1f7d-9a7a-4077-b550-cd3ef36553ee')\"\n",
              "              title=\"Convert this dataframe to an interactive table.\"\n",
              "              style=\"display:none;\">\n",
              "        \n",
              "  <svg xmlns=\"http://www.w3.org/2000/svg\" height=\"24px\"viewBox=\"0 0 24 24\"\n",
              "       width=\"24px\">\n",
              "    <path d=\"M0 0h24v24H0V0z\" fill=\"none\"/>\n",
              "    <path d=\"M18.56 5.44l.94 2.06.94-2.06 2.06-.94-2.06-.94-.94-2.06-.94 2.06-2.06.94zm-11 1L8.5 8.5l.94-2.06 2.06-.94-2.06-.94L8.5 2.5l-.94 2.06-2.06.94zm10 10l.94 2.06.94-2.06 2.06-.94-2.06-.94-.94-2.06-.94 2.06-2.06.94z\"/><path d=\"M17.41 7.96l-1.37-1.37c-.4-.4-.92-.59-1.43-.59-.52 0-1.04.2-1.43.59L10.3 9.45l-7.72 7.72c-.78.78-.78 2.05 0 2.83L4 21.41c.39.39.9.59 1.41.59.51 0 1.02-.2 1.41-.59l7.78-7.78 2.81-2.81c.8-.78.8-2.07 0-2.86zM5.41 20L4 18.59l7.72-7.72 1.47 1.35L5.41 20z\"/>\n",
              "  </svg>\n",
              "      </button>\n",
              "      \n",
              "  <style>\n",
              "    .colab-df-container {\n",
              "      display:flex;\n",
              "      flex-wrap:wrap;\n",
              "      gap: 12px;\n",
              "    }\n",
              "\n",
              "    .colab-df-convert {\n",
              "      background-color: #E8F0FE;\n",
              "      border: none;\n",
              "      border-radius: 50%;\n",
              "      cursor: pointer;\n",
              "      display: none;\n",
              "      fill: #1967D2;\n",
              "      height: 32px;\n",
              "      padding: 0 0 0 0;\n",
              "      width: 32px;\n",
              "    }\n",
              "\n",
              "    .colab-df-convert:hover {\n",
              "      background-color: #E2EBFA;\n",
              "      box-shadow: 0px 1px 2px rgba(60, 64, 67, 0.3), 0px 1px 3px 1px rgba(60, 64, 67, 0.15);\n",
              "      fill: #174EA6;\n",
              "    }\n",
              "\n",
              "    [theme=dark] .colab-df-convert {\n",
              "      background-color: #3B4455;\n",
              "      fill: #D2E3FC;\n",
              "    }\n",
              "\n",
              "    [theme=dark] .colab-df-convert:hover {\n",
              "      background-color: #434B5C;\n",
              "      box-shadow: 0px 1px 3px 1px rgba(0, 0, 0, 0.15);\n",
              "      filter: drop-shadow(0px 1px 2px rgba(0, 0, 0, 0.3));\n",
              "      fill: #FFFFFF;\n",
              "    }\n",
              "  </style>\n",
              "\n",
              "      <script>\n",
              "        const buttonEl =\n",
              "          document.querySelector('#df-435c1f7d-9a7a-4077-b550-cd3ef36553ee button.colab-df-convert');\n",
              "        buttonEl.style.display =\n",
              "          google.colab.kernel.accessAllowed ? 'block' : 'none';\n",
              "\n",
              "        async function convertToInteractive(key) {\n",
              "          const element = document.querySelector('#df-435c1f7d-9a7a-4077-b550-cd3ef36553ee');\n",
              "          const dataTable =\n",
              "            await google.colab.kernel.invokeFunction('convertToInteractive',\n",
              "                                                     [key], {});\n",
              "          if (!dataTable) return;\n",
              "\n",
              "          const docLinkHtml = 'Like what you see? Visit the ' +\n",
              "            '<a target=\"_blank\" href=https://colab.research.google.com/notebooks/data_table.ipynb>data table notebook</a>'\n",
              "            + ' to learn more about interactive tables.';\n",
              "          element.innerHTML = '';\n",
              "          dataTable['output_type'] = 'display_data';\n",
              "          await google.colab.output.renderOutput(dataTable, element);\n",
              "          const docLink = document.createElement('div');\n",
              "          docLink.innerHTML = docLinkHtml;\n",
              "          element.appendChild(docLink);\n",
              "        }\n",
              "      </script>\n",
              "    </div>\n",
              "  </div>\n",
              "  "
            ]
          },
          "metadata": {},
          "execution_count": 11
        }
      ]
    },
    {
      "cell_type": "code",
      "source": [
        "#fonction d'encodage des variable\n",
        "def encode_text_dummy(df, name):\n",
        "\n",
        "    dummies = pd.get_dummies(df[name])\n",
        "\n",
        "    for x in dummies.columns:\n",
        "\n",
        "        dummy_name = f\"{name}-{x}\"\n",
        "\n",
        "        df[dummy_name] = dummies[x]\n",
        "\n",
        "    df.drop(name, axis=1, inplace=True)"
      ],
      "metadata": {
        "id": "7-pLy-meq-NJ"
      },
      "execution_count": 12,
      "outputs": []
    },
    {
      "cell_type": "code",
      "source": [
        "encode_text_dummy(df,'http.request.method')\n",
        "\n",
        "encode_text_dummy(df,'http.referer')\n",
        "\n",
        "encode_text_dummy(df,\"http.request.version\")\n",
        "\n",
        "encode_text_dummy(df,\"dns.qry.name.len\")\n",
        "\n",
        "encode_text_dummy(df,\"mqtt.conack.flags\")\n",
        "\n",
        "encode_text_dummy(df,\"mqtt.protoname\")"
      ],
      "metadata": {
        "id": "R0vNTE8erOfm"
      },
      "execution_count": 13,
      "outputs": []
    },
    {
      "cell_type": "code",
      "source": [
        "df.info()"
      ],
      "metadata": {
        "colab": {
          "base_uri": "https://localhost:8080/"
        },
        "id": "hDYYFUBbrbBH",
        "outputId": "949cf97a-a490-4a4b-cb78-33868e0957f1"
      },
      "execution_count": 14,
      "outputs": [
        {
          "output_type": "stream",
          "name": "stdout",
          "text": [
            "<class 'pandas.core.frame.DataFrame'>\n",
            "Int64Index: 1909671 entries, 0 to 2219193\n",
            "Data columns (total 95 columns):\n",
            " #   Column                                                                                                Dtype  \n",
            "---  ------                                                                                                -----  \n",
            " 0   arp.opcode                                                                                            float64\n",
            " 1   arp.hw.size                                                                                           float64\n",
            " 2   icmp.checksum                                                                                         float64\n",
            " 3   icmp.seq_le                                                                                           float64\n",
            " 4   icmp.unused                                                                                           float64\n",
            " 5   http.content_length                                                                                   float64\n",
            " 6   http.response                                                                                         float64\n",
            " 7   http.tls_port                                                                                         float64\n",
            " 8   tcp.ack                                                                                               float64\n",
            " 9   tcp.ack_raw                                                                                           float64\n",
            " 10  tcp.checksum                                                                                          float64\n",
            " 11  tcp.connection.fin                                                                                    float64\n",
            " 12  tcp.connection.rst                                                                                    float64\n",
            " 13  tcp.connection.syn                                                                                    float64\n",
            " 14  tcp.connection.synack                                                                                 float64\n",
            " 15  tcp.flags                                                                                             float64\n",
            " 16  tcp.flags.ack                                                                                         float64\n",
            " 17  tcp.len                                                                                               float64\n",
            " 18  tcp.seq                                                                                               float64\n",
            " 19  udp.stream                                                                                            float64\n",
            " 20  udp.time_delta                                                                                        float64\n",
            " 21  dns.qry.name                                                                                          float64\n",
            " 22  dns.qry.qu                                                                                            float64\n",
            " 23  dns.qry.type                                                                                          float64\n",
            " 24  dns.retransmission                                                                                    float64\n",
            " 25  dns.retransmit_request                                                                                float64\n",
            " 26  dns.retransmit_request_in                                                                             float64\n",
            " 27  mqtt.conflag.cleansess                                                                                float64\n",
            " 28  mqtt.conflags                                                                                         float64\n",
            " 29  mqtt.hdrflags                                                                                         float64\n",
            " 30  mqtt.len                                                                                              float64\n",
            " 31  mqtt.msg_decoded_as                                                                                   float64\n",
            " 32  mqtt.msgtype                                                                                          float64\n",
            " 33  mqtt.proto_len                                                                                        float64\n",
            " 34  mqtt.topic                                                                                            object \n",
            " 35  mqtt.topic_len                                                                                        float64\n",
            " 36  mqtt.ver                                                                                              float64\n",
            " 37  mbtcp.len                                                                                             float64\n",
            " 38  mbtcp.trans_id                                                                                        float64\n",
            " 39  mbtcp.unit_id                                                                                         float64\n",
            " 40  Attack_label                                                                                          int64  \n",
            " 41  Attack_type                                                                                           object \n",
            " 42  http.request.method-0                                                                                 uint8  \n",
            " 43  http.request.method-0.0                                                                               uint8  \n",
            " 44  http.request.method-GET                                                                               uint8  \n",
            " 45  http.request.method-OPTIONS                                                                           uint8  \n",
            " 46  http.request.method-POST                                                                              uint8  \n",
            " 47  http.request.method-PROPFIND                                                                          uint8  \n",
            " 48  http.request.method-PUT                                                                               uint8  \n",
            " 49  http.request.method-SEARCH                                                                            uint8  \n",
            " 50  http.request.method-TRACE                                                                             uint8  \n",
            " 51  http.referer-() { _; } >_[$($())] { echo 93e4r0-CVE-2014-6278: true; echo;echo; }                     uint8  \n",
            " 52  http.referer-0                                                                                        uint8  \n",
            " 53  http.referer-0.0                                                                                      uint8  \n",
            " 54  http.referer-127.0.0.1                                                                                uint8  \n",
            " 55  http.referer-TESTING_PURPOSES_ONLY                                                                    uint8  \n",
            " 56  http.request.version--a HTTP/1.1                                                                      uint8  \n",
            " 57  http.request.version--al&ABSOLUTE_PATH_STUDIP=http://cirt.net/rfiinc.txt?? HTTP/1.1                   uint8  \n",
            " 58  http.request.version--al&_PHPLIB[libdir]=http://cirt.net/rfiinc.txt?? HTTP/1.1                        uint8  \n",
            " 59  http.request.version-/etc/passwd|?data=Download HTTP/1.1                                              uint8  \n",
            " 60  http.request.version-0                                                                                uint8  \n",
            " 61  http.request.version-0.0                                                                              uint8  \n",
            " 62  http.request.version-> HTTP/1.1                                                                       uint8  \n",
            " 63  http.request.version-By Dr HTTP/1.1                                                                   uint8  \n",
            " 64  http.request.version-HTTP/1.0                                                                         uint8  \n",
            " 65  http.request.version-HTTP/1.1                                                                         uint8  \n",
            " 66  http.request.version-Src=javascript:alert('Vulnerable')><Img Src=\\\" HTTP/1.1                          uint8  \n",
            " 67  http.request.version-name=a><input name=i value=XSS>&lt;script>alert('Vulnerable')</script> HTTP/1.1  uint8  \n",
            " 68  http.request.version-script>alert(1)/script><\\\" HTTP/1.1                                              uint8  \n",
            " 69  dns.qry.name.len-0                                                                                    uint8  \n",
            " 70  dns.qry.name.len-0.0                                                                                  uint8  \n",
            " 71  dns.qry.name.len-0.debian.pool.ntp.org                                                                uint8  \n",
            " 72  dns.qry.name.len-1.0                                                                                  uint8  \n",
            " 73  dns.qry.name.len-1.debian.pool.ntp.org                                                                uint8  \n",
            " 74  dns.qry.name.len-2.debian.pool.ntp.org                                                                uint8  \n",
            " 75  dns.qry.name.len-3.debian.pool.ntp.org                                                                uint8  \n",
            " 76  dns.qry.name.len-_googlecast._tcp.local                                                               uint8  \n",
            " 77  dns.qry.name.len-null-null.local                                                                      uint8  \n",
            " 78  dns.qry.name.len-raspberrypi.local                                                                    uint8  \n",
            " 79  mqtt.conack.flags-0                                                                                   uint8  \n",
            " 80  mqtt.conack.flags-0.0                                                                                 uint8  \n",
            " 81  mqtt.conack.flags-0x00000000                                                                          uint8  \n",
            " 82  mqtt.conack.flags-1461073                                                                             uint8  \n",
            " 83  mqtt.conack.flags-1461074                                                                             uint8  \n",
            " 84  mqtt.conack.flags-1461383                                                                             uint8  \n",
            " 85  mqtt.conack.flags-1461384                                                                             uint8  \n",
            " 86  mqtt.conack.flags-1461589                                                                             uint8  \n",
            " 87  mqtt.conack.flags-1461591                                                                             uint8  \n",
            " 88  mqtt.conack.flags-1471198                                                                             uint8  \n",
            " 89  mqtt.conack.flags-1471199                                                                             uint8  \n",
            " 90  mqtt.conack.flags-1574358                                                                             uint8  \n",
            " 91  mqtt.conack.flags-1574359                                                                             uint8  \n",
            " 92  mqtt.protoname-0                                                                                      uint8  \n",
            " 93  mqtt.protoname-0.0                                                                                    uint8  \n",
            " 94  mqtt.protoname-MQTT                                                                                   uint8  \n",
            "dtypes: float64(39), int64(1), object(2), uint8(53)\n",
            "memory usage: 723.0+ MB\n"
          ]
        }
      ]
    },
    {
      "cell_type": "code",
      "source": [
        "y_column = df['Attack_type']"
      ],
      "metadata": {
        "id": "F0hYri17rfDk"
      },
      "execution_count": 15,
      "outputs": []
    },
    {
      "cell_type": "code",
      "source": [
        "y_column"
      ],
      "metadata": {
        "colab": {
          "base_uri": "https://localhost:8080/"
        },
        "id": "h0sFAQ5jrkoj",
        "outputId": "c78ef846-c60f-4738-c865-0d664bff8358"
      },
      "execution_count": 16,
      "outputs": [
        {
          "output_type": "execute_result",
          "data": {
            "text/plain": [
              "0             Normal\n",
              "1             Normal\n",
              "2             Normal\n",
              "3             Normal\n",
              "4             Normal\n",
              "             ...    \n",
              "2219162    DDoS_ICMP\n",
              "2219167    DDoS_ICMP\n",
              "2219181    DDoS_ICMP\n",
              "2219192    DDoS_ICMP\n",
              "2219193    DDoS_ICMP\n",
              "Name: Attack_type, Length: 1909671, dtype: object"
            ]
          },
          "metadata": {},
          "execution_count": 16
        }
      ]
    },
    {
      "cell_type": "code",
      "source": [
        "df.drop('Attack_label',axis=1,inplace=True)\n",
        "df.drop('Attack_type',axis=1,inplace=True)\n",
        "df.drop('mqtt.topic',axis=1,inplace=True)"
      ],
      "metadata": {
        "id": "UD8Y2uoUr2Kz"
      },
      "execution_count": 17,
      "outputs": []
    },
    {
      "cell_type": "code",
      "source": [
        "dummies = pd.get_dummies(y_column) \n",
        "y = dummies.values\n"
      ],
      "metadata": {
        "id": "O4DBus5xr3_G"
      },
      "execution_count": 18,
      "outputs": []
    },
    {
      "cell_type": "code",
      "source": [
        "y.shape"
      ],
      "metadata": {
        "colab": {
          "base_uri": "https://localhost:8080/"
        },
        "id": "AjQoXjG9sBEV",
        "outputId": "6105378f-0428-4670-b33b-453870c40421"
      },
      "execution_count": 19,
      "outputs": [
        {
          "output_type": "execute_result",
          "data": {
            "text/plain": [
              "(1909671, 15)"
            ]
          },
          "metadata": {},
          "execution_count": 19
        }
      ]
    },
    {
      "cell_type": "code",
      "source": [
        "X = df"
      ],
      "metadata": {
        "id": "912ONFtrsOla"
      },
      "execution_count": 20,
      "outputs": []
    },
    {
      "cell_type": "code",
      "source": [
        "# Standardisation des données\n",
        "from sklearn.preprocessing import StandardScaler\n",
        "X2 = StandardScaler().fit_transform(X)"
      ],
      "metadata": {
        "id": "i8__51NcsaHN"
      },
      "execution_count": 21,
      "outputs": []
    },
    {
      "cell_type": "code",
      "source": [
        "#Separation en train et test set\n",
        "from sklearn.model_selection import train_test_split\n",
        "\n",
        "xtrain, xtest, ytrain, ytest = train_test_split(X2, y,\n",
        "                                                test_size = 0.2)"
      ],
      "metadata": {
        "id": "ocrr3udksc9_"
      },
      "execution_count": 22,
      "outputs": []
    },
    {
      "cell_type": "code",
      "source": [
        "from keras.models import Sequential\n",
        "from keras.layers import Dense\n",
        "from keras.layers import LSTM\n",
        "from keras.layers import Dropout\n",
        "from keras.layers import Flatten\n",
        "from keras.layers import RNN,Activation\n",
        "\n",
        "model_lstm = Sequential() \n",
        "model_lstm.add(LSTM(units = 512, return_sequences = True, input_shape = (xtrain.shape[1],1), activation='tanh'))\n",
        "#model_lstm.add(LSTM(units = 512, return_sequences = True))\n",
        "model_lstm.add(Dense(128, activation='relu'))\n",
        "model_lstm.add(Dense(128, activation='relu'))\n",
        "#model_lstm.add(Dropout(0.2))\n",
        "#model_lstm.add(Dense(32, activation='relu'))\n",
        "#model_lstm.add(Dropout(0.2))\n",
        "#model_lstm.add(Dense(32, activation='relu'))\n",
        "model_lstm.add(Flatten())\n",
        "model_lstm.add(Dense(15, activation='softmax'))\n",
        "model_lstm.compile(optimizer = 'adam', loss ='categorical_crossentropy', metrics=['accuracy'] )\n",
        "model_lstm.summary()"
      ],
      "metadata": {
        "colab": {
          "base_uri": "https://localhost:8080/"
        },
        "id": "_Q9ywpg9sjEh",
        "outputId": "fc5a69ef-aa8c-4c03-d174-73c5a417e039"
      },
      "execution_count": 23,
      "outputs": [
        {
          "output_type": "stream",
          "name": "stdout",
          "text": [
            "Model: \"sequential\"\n",
            "_________________________________________________________________\n",
            " Layer (type)                Output Shape              Param #   \n",
            "=================================================================\n",
            " lstm (LSTM)                 (None, 92, 512)           1052672   \n",
            "                                                                 \n",
            " dense (Dense)               (None, 92, 128)           65664     \n",
            "                                                                 \n",
            " dense_1 (Dense)             (None, 92, 128)           16512     \n",
            "                                                                 \n",
            " flatten (Flatten)           (None, 11776)             0         \n",
            "                                                                 \n",
            " dense_2 (Dense)             (None, 15)                176655    \n",
            "                                                                 \n",
            "=================================================================\n",
            "Total params: 1,311,503\n",
            "Trainable params: 1,311,503\n",
            "Non-trainable params: 0\n",
            "_________________________________________________________________\n"
          ]
        }
      ]
    },
    {
      "cell_type": "code",
      "source": [
        "from keras.utils.vis_utils import plot_model\n",
        "\n",
        "plot_model(model_lstm, to_file='model_plot.png', show_shapes=True, show_layer_names=True)"
      ],
      "metadata": {
        "colab": {
          "base_uri": "https://localhost:8080/",
          "height": 644
        },
        "id": "zsqd9IYns4Ms",
        "outputId": "51457365-bceb-43bb-d1eb-0a35b10ed0f0"
      },
      "execution_count": 24,
      "outputs": [
        {
          "output_type": "execute_result",
          "data": {
            "text/plain": [
              "<IPython.core.display.Image object>"
            ],
            "image/png": "[encoded data removed]"
          },
          "metadata": {},
          "execution_count": 24
        }
      ]
    },
    {
      "cell_type": "code",
      "source": [
        "history_lstm = model_lstm.fit(\n",
        "    xtrain,\n",
        "    ytrain,\n",
        "    validation_split = 0.1,\n",
        "    epochs = 10,\n",
        "    batch_size = 500\n",
        ")"
      ],
      "metadata": {
        "colab": {
          "base_uri": "https://localhost:8080/"
        },
        "id": "mkJP9NKXs-5z",
        "outputId": "01c207a6-2b2f-4886-b4e4-10558e9ac799"
      },
      "execution_count": 25,
      "outputs": [
        {
          "output_type": "stream",
          "name": "stdout",
          "text": [
            "Epoch 1/10\n",
            "2750/2750 [==============================] - 308s 109ms/step - loss: 0.1339 - accuracy: 0.9389 - val_loss: 0.1106 - val_accuracy: 0.9464\n",
            "Epoch 2/10\n",
            "2750/2750 [==============================] - 302s 110ms/step - loss: 0.1085 - accuracy: 0.9466 - val_loss: 0.1033 - val_accuracy: 0.9476\n",
            "Epoch 3/10\n",
            "2750/2750 [==============================] - 301s 109ms/step - loss: 0.1031 - accuracy: 0.9483 - val_loss: 0.1018 - val_accuracy: 0.9484\n",
            "Epoch 4/10\n",
            "2750/2750 [==============================] - 300s 109ms/step - loss: 0.1012 - accuracy: 0.9489 - val_loss: 0.1015 - val_accuracy: 0.9488\n",
            "Epoch 5/10\n",
            "2750/2750 [==============================] - 300s 109ms/step - loss: 0.1026 - accuracy: 0.9483 - val_loss: 0.1022 - val_accuracy: 0.9484\n",
            "Epoch 6/10\n",
            "2750/2750 [==============================] - 300s 109ms/step - loss: 0.1015 - accuracy: 0.9486 - val_loss: 0.0999 - val_accuracy: 0.9488\n",
            "Epoch 7/10\n",
            "2750/2750 [==============================] - 300s 109ms/step - loss: 0.0999 - accuracy: 0.9492 - val_loss: 0.1010 - val_accuracy: 0.9488\n",
            "Epoch 8/10\n",
            "2750/2750 [==============================] - 300s 109ms/step - loss: 0.0999 - accuracy: 0.9492 - val_loss: 0.1000 - val_accuracy: 0.9490\n",
            "Epoch 9/10\n",
            "2750/2750 [==============================] - 298s 108ms/step - loss: 0.0995 - accuracy: 0.9492 - val_loss: 0.0999 - val_accuracy: 0.9490\n",
            "Epoch 10/10\n",
            "2750/2750 [==============================] - 299s 109ms/step - loss: 0.0995 - accuracy: 0.9493 - val_loss: 0.0996 - val_accuracy: 0.9492\n"
          ]
        }
      ]
    },
    {
      "cell_type": "code",
      "source": [
        "import matplotlib.pyplot as plt\n",
        "\n",
        "plt.clf()\n",
        "loss = history_lstm.history['loss']\n",
        "val_loss = history_lstm.history['val_loss']\n",
        "epochs = range(1, len(loss) + 1)\n",
        "plt.plot(epochs, loss, 'b', label='Training loss')\n",
        "plt.plot(epochs, val_loss, 'g', label='Validation loss')\n",
        "plt.title('Training and validation loss')\n",
        "plt.xlabel('Epochs')\n",
        "plt.ylabel('Loss')\n",
        "plt.legend()\n",
        "plt.show()"
      ],
      "metadata": {
        "colab": {
          "base_uri": "https://localhost:8080/",
          "height": 295
        },
        "id": "9dp35yUD8_4M",
        "outputId": "84122bd0-200d-407a-ddc7-0ec46e3f9b25"
      },
      "execution_count": 27,
      "outputs": [
        {
          "output_type": "display_data",
          "data": {
            "text/plain": [
              "<Figure size 432x288 with 1 Axes>"
            ],
            "image/png": "[encoded data removed]"
          },
          "metadata": {
            "needs_background": "light"
          }
        }
      ]
    },
    {
      "cell_type": "code",
      "source": [
        "plt.clf()\n",
        "acc = history_lstm.history['accuracy']\n",
        "val_acc = history_lstm.history['val_accuracy']\n",
        "plt.plot(epochs, acc, 'b', label='Training acc')\n",
        "plt.plot(epochs, val_acc, 'g', label='Validation acc')\n",
        "plt.title('Training and validation accuracy')\n",
        "plt.xlabel('Epochs')\n",
        "plt.ylabel('Accuracy')\n",
        "plt.legend()\n",
        "plt.show()"
      ],
      "metadata": {
        "colab": {
          "base_uri": "https://localhost:8080/",
          "height": 295
        },
        "id": "OQDbhpN-9XxJ",
        "outputId": "ab1488c9-98a1-4641-c082-24c5cbe2a8eb"
      },
      "execution_count": 28,
      "outputs": [
        {
          "output_type": "display_data",
          "data": {
            "text/plain": [
              "<Figure size 432x288 with 1 Axes>"
            ],
            "image/png": "[encoded data removed]"
          },
          "metadata": {
            "needs_background": "light"
          }
        }
      ]
    },
    {
      "cell_type": "code",
      "source": [
        "# Evaluation du model\n",
        "# Evaluation du model\n",
        "model_lstm.evaluate(xtest,ytest)"
      ],
      "metadata": {
        "colab": {
          "base_uri": "https://localhost:8080/"
        },
        "id": "_rn8qPDf9hvQ",
        "outputId": "eb02eccf-216c-438d-e517-61f17235f7bc"
      },
      "execution_count": 30,
      "outputs": [
        {
          "output_type": "stream",
          "name": "stdout",
          "text": [
            "11936/11936 [==============================] - 85s 7ms/step - loss: 0.0994 - accuracy: 0.9493\n"
          ]
        },
        {
          "output_type": "execute_result",
          "data": {
            "text/plain": [
              "[0.0994281992316246, 0.9492688775062561]"
            ]
          },
          "metadata": {},
          "execution_count": 30
        }
      ]
    },
    {
      "cell_type": "code",
      "source": [
        "from sklearn import metrics\n",
        "y_pred = model_lstm.predict(xtest)\n",
        "y_pred = np.argmax(y_pred,axis=1) \n",
        "y_true = np.argmax(ytest,axis=1)"
      ],
      "metadata": {
        "id": "PxduE8dt-Qek"
      },
      "execution_count": 31,
      "outputs": []
    },
    {
      "cell_type": "code",
      "source": [
        "y_pred"
      ],
      "metadata": {
        "colab": {
          "base_uri": "https://localhost:8080/"
        },
        "id": "fDaz-07i-6TT",
        "outputId": "383f829e-f1ab-43af-f298-a9a009437628"
      },
      "execution_count": 32,
      "outputs": [
        {
          "output_type": "execute_result",
          "data": {
            "text/plain": [
              "array([7, 7, 7, ..., 7, 7, 7])"
            ]
          },
          "metadata": {},
          "execution_count": 32
        }
      ]
    },
    {
      "cell_type": "code",
      "source": [
        "y_true"
      ],
      "metadata": {
        "colab": {
          "base_uri": "https://localhost:8080/"
        },
        "id": "f4LGbVSp_Bm3",
        "outputId": "2c0da48e-cdd8-4ce1-fafb-1edf96992cee"
      },
      "execution_count": 33,
      "outputs": [
        {
          "output_type": "execute_result",
          "data": {
            "text/plain": [
              "array([7, 7, 7, ..., 7, 7, 7])"
            ]
          },
          "metadata": {},
          "execution_count": 33
        }
      ]
    },
    {
      "cell_type": "code",
      "source": [
        "from sklearn.metrics import multilabel_confusion_matrix\n",
        "cm_ml =multilabel_confusion_matrix(y_true, y_pred)\n"
      ],
      "metadata": {
        "id": "ZT4ZZVBR_GOu"
      },
      "execution_count": 53,
      "outputs": []
    },
    {
      "cell_type": "code",
      "source": [
        "from sklearn.metrics import classification_report\n",
        "print(classification_report(y_true, y_pred))"
      ],
      "metadata": {
        "colab": {
          "base_uri": "https://localhost:8080/"
        },
        "id": "2D7nWXbc_YyI",
        "outputId": "c4f7cbdc-6c6b-4870-f065-bd594e92eca9"
      },
      "execution_count": 37,
      "outputs": [
        {
          "output_type": "stream",
          "name": "stdout",
          "text": [
            "              precision    recall  f1-score   support\n",
            "\n",
            "           0       0.96      0.98      0.97      4853\n",
            "           1       0.74      0.95      0.83      9544\n",
            "           2       0.99      1.00      1.00     13481\n",
            "           3       0.82      1.00      0.90     10009\n",
            "           4       1.00      1.00      1.00     24486\n",
            "           5       0.88      0.08      0.15       169\n",
            "           6       1.00      1.00      1.00        75\n",
            "           7       1.00      1.00      1.00    272701\n",
            "           8       0.46      0.78      0.58      9994\n",
            "           9       1.00      0.49      0.66      3969\n",
            "          10       0.99      0.89      0.94      1989\n",
            "          11       0.61      0.32      0.42     10209\n",
            "          12       0.67      0.48      0.56      7319\n",
            "          13       1.00      0.85      0.92     10134\n",
            "          14       0.61      0.34      0.43      3003\n",
            "\n",
            "    accuracy                           0.95    381935\n",
            "   macro avg       0.85      0.74      0.76    381935\n",
            "weighted avg       0.95      0.95      0.95    381935\n",
            "\n"
          ]
        }
      ]
    },
    {
      "cell_type": "code",
      "source": [
        "class_names = ['Normal', 'DDoS_UDP  ', 'DDoS_ICMP', 'SQL_injection','Password','Vulnerability_scanner','DDoS_TCP','DDoS_HTTP',\n",
        "               'Uploading','Backdoor','Port_Scanning','XSS','Ransomware','MITM','Fingerprinting']"
      ],
      "metadata": {
        "id": "EOMj4SzREOO-"
      },
      "execution_count": 67,
      "outputs": []
    },
    {
      "cell_type": "code",
      "source": [
        "cm = metrics.confusion_matrix(y_true, y_pred)"
      ],
      "metadata": {
        "id": "PJXAb9anAhgc"
      },
      "execution_count": 77,
      "outputs": []
    },
    {
      "cell_type": "code",
      "source": [
        "from sklearn.metrics import confusion_matrix\n",
        "import seaborn as sns\n",
        "\n",
        "#cm = confusion_matrix(y_test, y_pred)\n",
        "# Normalise\n",
        "cmn = cm.astype('float') / cm.sum(axis=1)[:, np.newaxis]\n",
        "fig, ax = plt.subplots(figsize=(15,15))\n",
        "sns.heatmap(cmn, annot=True, fmt='.2f', xticklabels=class_names, yticklabels=class_names)\n",
        "plt.ylabel('Actual')\n",
        "plt.xlabel('Predicted')\n",
        "plt.show(block=False)\n"
      ],
      "metadata": {
        "colab": {
          "base_uri": "https://localhost:8080/",
          "height": 979
        },
        "id": "1rdpcxebWNkU",
        "outputId": "47fe1409-a16d-4d80-a404-988e987fe692"
      },
      "execution_count": 93,
      "outputs": [
        {
          "output_type": "display_data",
          "data": {
            "text/plain": [
              "<Figure size 1080x1080 with 2 Axes>"
            ],
            "image/png": "[encoded data removed]"
          },
          "metadata": {
            "needs_background": "light"
          }
        }
      ]
    },
    {
      "cell_type": "code",
      "source": [
        ""
      ],
      "metadata": {
        "id": "0B8cgUVsQSdD"
      },
      "execution_count": 89,
      "outputs": []
    },
    {
      "cell_type": "code",
      "source": [
        "from sklearn.metrics import confusion_matrix\n",
        "import seaborn as sns\n",
        "\n",
        "#cm = confusion_matrix(y_test, y_pred)\n",
        "# Normalise\n",
        "cmml = cm_ml.astype('float') / cm_ml.sum(axis=1)[:, np.newaxis]\n",
        "fig, ax = plt.subplots(figsize=(15,15))\n",
        "sns.heatmap(cmn, annot=True, fmt='.2g', cmap=\"coolwarm\",xticklabels=class_names, yticklabels=class_names)\n",
        "plt.ylabel('Actual')\n",
        "plt.xlabel('Predicted')\n",
        "plt.show(block=False)"
      ],
      "metadata": {
        "colab": {
          "base_uri": "https://localhost:8080/",
          "height": 979
        },
        "id": "e9Rf7u4C_1pt",
        "outputId": "7399e696-fa5e-4b52-ad6c-f5415d553035"
      },
      "execution_count": 95,
      "outputs": [
        {
          "output_type": "display_data",
          "data": {
            "text/plain": [
              "<Figure size 1080x1080 with 2 Axes>"
            ],
            "image/png": "[encoded data removed]"
          },
          "metadata": {
            "needs_background": "light"
          }
        }
      ]
    }
  ]
}