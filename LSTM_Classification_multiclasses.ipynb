{
  "nbformat": 4,
  "nbformat_minor": 0,
  "metadata": {
    "colab": {
      "name": "LSTM_Classification_multiclasses.ipynb",
      "provenance": [],
      "collapsed_sections": [],
      "authorship_tag": "ABX9TyO66s9muBpQS+cgVF6JoBrZ",
      "include_colab_link": true
    },
    "kernelspec": {
      "name": "python3",
      "display_name": "Python 3"
    },
    "language_info": {
      "name": "python"
    },
    "accelerator": "GPU",
    "gpuClass": "standard"
  },
  "cells": [
    {
      "cell_type": "markdown",
      "metadata": {
        "id": "view-in-github",
        "colab_type": "text"
      },
      "source": [
        "<a href=\"https://colab.research.google.com/github/ismailasy/Deep_IOT_Network_Anomaly_Detection/blob/main/LSTM_Classification_multiclasses.ipynb\" target=\"_parent\"><img src=\"https://colab.research.google.com/assets/colab-badge.svg\" alt=\"Open In Colab\"/></a>"
      ]
    },
    {
      "cell_type": "code",
      "execution_count": 1,
      "metadata": {
        "colab": {
          "base_uri": "https://localhost:8080/"
        },
        "id": "tU09J4dfaPGT",
        "outputId": "7638faa1-b2ac-42c6-934a-de4c5d738f47"
      },
      "outputs": [
        {
          "output_type": "stream",
          "name": "stdout",
          "text": [
            "Looking in indexes: https://pypi.org/simple, https://us-python.pkg.dev/colab-wheels/public/simple/\n",
            "Collecting bayesian-optimization\n",
            "  Downloading bayesian-optimization-1.2.0.tar.gz (14 kB)\n",
            "Requirement already satisfied: numpy>=1.9.0 in /usr/local/lib/python3.7/dist-packages (from bayesian-optimization) (1.21.6)\n",
            "Requirement already satisfied: scipy>=0.14.0 in /usr/local/lib/python3.7/dist-packages (from bayesian-optimization) (1.4.1)\n",
            "Requirement already satisfied: scikit-learn>=0.18.0 in /usr/local/lib/python3.7/dist-packages (from bayesian-optimization) (1.0.2)\n",
            "Requirement already satisfied: joblib>=0.11 in /usr/local/lib/python3.7/dist-packages (from scikit-learn>=0.18.0->bayesian-optimization) (1.1.0)\n",
            "Requirement already satisfied: threadpoolctl>=2.0.0 in /usr/local/lib/python3.7/dist-packages (from scikit-learn>=0.18.0->bayesian-optimization) (3.1.0)\n",
            "Building wheels for collected packages: bayesian-optimization\n",
            "  Building wheel for bayesian-optimization (setup.py) ... \u001b[?25l\u001b[?25hdone\n",
            "  Created wheel for bayesian-optimization: filename=bayesian_optimization-1.2.0-py3-none-any.whl size=11685 sha256=fc8d20ecc5df300a84690dd4d6f91b68e3ded247c79448a32cfabd2e2b1d1a6e\n",
            "  Stored in directory: /root/.cache/pip/wheels/fd/9b/71/f127d694e02eb40bcf18c7ae9613b88a6be4470f57a8528c5b\n",
            "Successfully built bayesian-optimization\n",
            "Installing collected packages: bayesian-optimization\n",
            "Successfully installed bayesian-optimization-1.2.0\n"
          ]
        }
      ],
      "source": [
        "pip install  bayesian-optimization"
      ]
    },
    {
      "cell_type": "code",
      "source": [
        "import pandas as pd\n",
        "import numpy as np\n",
        "import matplotlib.pyplot as plt\n",
        "from tensorflow.keras.utils import get_file\n",
        "from sklearn import preprocessing\n",
        "from sklearn.preprocessing import LabelEncoder\n",
        "from PIL import Image\n",
        "from sklearn.model_selection import StratifiedShuffleSplit\n",
        "from sklearn import metrics\n",
        "from keras import backend as K\n",
        "from keras.utils.generic_utils import get_custom_objects\n",
        "from bayes_opt import BayesianOptimization\n",
        "import pandas as pd\n",
        "import numpy as np\n",
        "import matplotlib.pyplot as plt\n",
        "from tensorflow.keras.utils import get_file\n",
        "from sklearn import preprocessing\n",
        "from sklearn.preprocessing import LabelEncoder\n",
        "from PIL import Image\n",
        "from sklearn.model_selection import StratifiedShuffleSplit\n",
        "from sklearn import metrics\n",
        "from keras import backend as K\n",
        "from keras.utils.generic_utils import get_custom_objects\n",
        "from bayes_opt import BayesianOptimization\n",
        "from sklearn.model_selection import StratifiedKFold\n",
        "from mlxtend.plotting import plot_confusion_matrix\n",
        "from sklearn.model_selection import train_test_split\n",
        "from imblearn.over_sampling import SMOTE\n",
        "\n",
        "\n",
        "from tensorflow.keras.models import Sequential,Model\n",
        "from tensorflow.keras.layers import Dense, Conv2D,LSTM, MaxPooling2D,UpSampling2D,Conv2DTranspose, Dropout, Flatten, Activation, LeakyReLU, ReLU, Input,concatenate,BatchNormalization\n",
        "from tensorflow.keras.optimizers import Adam\n",
        "from keras.regularizers import l1\n",
        "from tensorflow.keras.callbacks import EarlyStopping\n",
        "from sklearn.model_selection import StratifiedKFold\n",
        "from mlxtend.plotting import plot_confusion_matrix\n",
        "from sklearn.model_selection import train_test_split\n",
        "from imblearn.over_sampling import SMOTE\n",
        "\n",
        "\n",
        "from tensorflow.keras.models import Sequential,Model\n",
        "from tensorflow.keras.layers import Dense, Conv2D,LSTM, MaxPooling2D,UpSampling2D,Conv2DTranspose, Dropout, Flatten, Activation, LeakyReLU, ReLU, Input,concatenate,BatchNormalization\n",
        "from tensorflow.keras.optimizers import Adam\n",
        "from keras.regularizers import l1\n",
        "from tensorflow.keras.callbacks import EarlyStopping"
      ],
      "metadata": {
        "id": "Kd33fGNWbLYp"
      },
      "execution_count": 2,
      "outputs": []
    },
    {
      "cell_type": "code",
      "source": [
        "from google.colab import files \n",
        "  \n",
        "  \n",
        "uploaded = files.upload()"
      ],
      "metadata": {
        "colab": {
          "resources": {
            "http://localhost:8080/nbextensions/google.colab/files.js": {
              "data": "Ly8gQ29weXJpZ2h0IDIwMTcgR29vZ2xlIExMQwovLwovLyBMaWNlbnNlZCB1bmRlciB0aGUgQXBhY2hlIExpY2Vuc2UsIFZlcnNpb24gMi4wICh0aGUgIkxpY2Vuc2UiKTsKLy8geW91IG1heSBub3QgdXNlIHRoaXMgZmlsZSBleGNlcHQgaW4gY29tcGxpYW5jZSB3aXRoIHRoZSBMaWNlbnNlLgovLyBZb3UgbWF5IG9idGFpbiBhIGNvcHkgb2YgdGhlIExpY2Vuc2UgYXQKLy8KLy8gICAgICBodHRwOi8vd3d3LmFwYWNoZS5vcmcvbGljZW5zZXMvTElDRU5TRS0yLjAKLy8KLy8gVW5sZXNzIHJlcXVpcmVkIGJ5IGFwcGxpY2FibGUgbGF3IG9yIGFncmVlZCB0byBpbiB3cml0aW5nLCBzb2Z0d2FyZQovLyBkaXN0cmlidXRlZCB1bmRlciB0aGUgTGljZW5zZSBpcyBkaXN0cmlidXRlZCBvbiBhbiAiQVMgSVMiIEJBU0lTLAovLyBXSVRIT1VUIFdBUlJBTlRJRVMgT1IgQ09ORElUSU9OUyBPRiBBTlkgS0lORCwgZWl0aGVyIGV4cHJlc3Mgb3IgaW1wbGllZC4KLy8gU2VlIHRoZSBMaWNlbnNlIGZvciB0aGUgc3BlY2lmaWMgbGFuZ3VhZ2UgZ292ZXJuaW5nIHBlcm1pc3Npb25zIGFuZAovLyBsaW1pdGF0aW9ucyB1bmRlciB0aGUgTGljZW5zZS4KCi8qKgogKiBAZmlsZW92ZXJ2aWV3IEhlbHBlcnMgZm9yIGdvb2dsZS5jb2xhYiBQeXRob24gbW9kdWxlLgogKi8KKGZ1bmN0aW9uKHNjb3BlKSB7CmZ1bmN0aW9uIHNwYW4odGV4dCwgc3R5bGVBdHRyaWJ1dGVzID0ge30pIHsKICBjb25zdCBlbGVtZW50ID0gZG9jdW1lbnQuY3JlYXRlRWxlbWVudCgnc3BhbicpOwogIGVsZW1lbnQudGV4dENvbnRlbnQgPSB0ZXh0OwogIGZvciAoY29uc3Qga2V5IG9mIE9iamVjdC5rZXlzKHN0eWxlQXR0cmlidXRlcykpIHsKICAgIGVsZW1lbnQuc3R5bGVba2V5XSA9IHN0eWxlQXR0cmlidXRlc1trZXldOwogIH0KICByZXR1cm4gZWxlbWVudDsKfQoKLy8gTWF4IG51bWJlciBvZiBieXRlcyB3aGljaCB3aWxsIGJlIHVwbG9hZGVkIGF0IGEgdGltZS4KY29uc3QgTUFYX1BBWUxPQURfU0laRSA9IDEwMCAqIDEwMjQ7CgpmdW5jdGlvbiBfdXBsb2FkRmlsZXMoaW5wdXRJZCwgb3V0cHV0SWQpIHsKICBjb25zdCBzdGVwcyA9IHVwbG9hZEZpbGVzU3RlcChpbnB1dElkLCBvdXRwdXRJZCk7CiAgY29uc3Qgb3V0cHV0RWxlbWVudCA9IGRvY3VtZW50LmdldEVsZW1lbnRCeUlkKG91dHB1dElkKTsKICAvLyBDYWNoZSBzdGVwcyBvbiB0aGUgb3V0cHV0RWxlbWVudCB0byBtYWtlIGl0IGF2YWlsYWJsZSBmb3IgdGhlIG5leHQgY2FsbAogIC8vIHRvIHVwbG9hZEZpbGVzQ29udGludWUgZnJvbSBQeXRob24uCiAgb3V0cHV0RWxlbWVudC5zdGVwcyA9IHN0ZXBzOwoKICByZXR1cm4gX3VwbG9hZEZpbGVzQ29udGludWUob3V0cHV0SWQpOwp9CgovLyBUaGlzIGlzIHJvdWdobHkgYW4gYXN5bmMgZ2VuZXJhdG9yIChub3Qgc3VwcG9ydGVkIGluIHRoZSBicm93c2VyIHlldCksCi8vIHdoZXJlIHRoZXJlIGFyZSBtdWx0aXBsZSBhc3luY2hyb25vdXMgc3RlcHMgYW5kIHRoZSBQeXRob24gc2lkZSBpcyBnb2luZwovLyB0byBwb2xsIGZvciBjb21wbGV0aW9uIG9mIGVhY2ggc3RlcC4KLy8gVGhpcyB1c2VzIGEgUHJvbWlzZSB0byBibG9jayB0aGUgcHl0aG9uIHNpZGUgb24gY29tcGxldGlvbiBvZiBlYWNoIHN0ZXAsCi8vIHRoZW4gcGFzc2VzIHRoZSByZXN1bHQgb2YgdGhlIHByZXZpb3VzIHN0ZXAgYXMgdGhlIGlucHV0IHRvIHRoZSBuZXh0IHN0ZXAuCmZ1bmN0aW9uIF91cGxvYWRGaWxlc0NvbnRpbnVlKG91dHB1dElkKSB7CiAgY29uc3Qgb3V0cHV0RWxlbWVudCA9IGRvY3VtZW50LmdldEVsZW1lbnRCeUlkKG91dHB1dElkKTsKICBjb25zdCBzdGVwcyA9IG91dHB1dEVsZW1lbnQuc3RlcHM7CgogIGNvbnN0IG5leHQgPSBzdGVwcy5uZXh0KG91dHB1dEVsZW1lbnQubGFzdFByb21pc2VWYWx1ZSk7CiAgcmV0dXJuIFByb21pc2UucmVzb2x2ZShuZXh0LnZhbHVlLnByb21pc2UpLnRoZW4oKHZhbHVlKSA9PiB7CiAgICAvLyBDYWNoZSB0aGUgbGFzdCBwcm9taXNlIHZhbHVlIHRvIG1ha2UgaXQgYXZhaWxhYmxlIHRvIHRoZSBuZXh0CiAgICAvLyBzdGVwIG9mIHRoZSBnZW5lcmF0b3IuCiAgICBvdXRwdXRFbGVtZW50Lmxhc3RQcm9taXNlVmFsdWUgPSB2YWx1ZTsKICAgIHJldHVybiBuZXh0LnZhbHVlLnJlc3BvbnNlOwogIH0pOwp9CgovKioKICogR2VuZXJhdG9yIGZ1bmN0aW9uIHdoaWNoIGlzIGNhbGxlZCBiZXR3ZWVuIGVhY2ggYXN5bmMgc3RlcCBvZiB0aGUgdXBsb2FkCiAqIHByb2Nlc3MuCiAqIEBwYXJhbSB7c3RyaW5nfSBpbnB1dElkIEVsZW1lbnQgSUQgb2YgdGhlIGlucHV0IGZpbGUgcGlja2VyIGVsZW1lbnQuCiAqIEBwYXJhbSB7c3RyaW5nfSBvdXRwdXRJZCBFbGVtZW50IElEIG9mIHRoZSBvdXRwdXQgZGlzcGxheS4KICogQHJldHVybiB7IUl0ZXJhYmxlPCFPYmplY3Q+fSBJdGVyYWJsZSBvZiBuZXh0IHN0ZXBzLgogKi8KZnVuY3Rpb24qIHVwbG9hZEZpbGVzU3RlcChpbnB1dElkLCBvdXRwdXRJZCkgewogIGNvbnN0IGlucHV0RWxlbWVudCA9IGRvY3VtZW50LmdldEVsZW1lbnRCeUlkKGlucHV0SWQpOwogIGlucHV0RWxlbWVudC5kaXNhYmxlZCA9IGZhbHNlOwoKICBjb25zdCBvdXRwdXRFbGVtZW50ID0gZG9jdW1lbnQuZ2V0RWxlbWVudEJ5SWQob3V0cHV0SWQpOwogIG91dHB1dEVsZW1lbnQuaW5uZXJIVE1MID0gJyc7CgogIGNvbnN0IHBpY2tlZFByb21pc2UgPSBuZXcgUHJvbWlzZSgocmVzb2x2ZSkgPT4gewogICAgaW5wdXRFbGVtZW50LmFkZEV2ZW50TGlzdGVuZXIoJ2NoYW5nZScsIChlKSA9PiB7CiAgICAgIHJlc29sdmUoZS50YXJnZXQuZmlsZXMpOwogICAgfSk7CiAgfSk7CgogIGNvbnN0IGNhbmNlbCA9IGRvY3VtZW50LmNyZWF0ZUVsZW1lbnQoJ2J1dHRvbicpOwogIGlucHV0RWxlbWVudC5wYXJlbnRFbGVtZW50LmFwcGVuZENoaWxkKGNhbmNlbCk7CiAgY2FuY2VsLnRleHRDb250ZW50ID0gJ0NhbmNlbCB1cGxvYWQnOwogIGNvbnN0IGNhbmNlbFByb21pc2UgPSBuZXcgUHJvbWlzZSgocmVzb2x2ZSkgPT4gewogICAgY2FuY2VsLm9uY2xpY2sgPSAoKSA9PiB7CiAgICAgIHJlc29sdmUobnVsbCk7CiAgICB9OwogIH0pOwoKICAvLyBXYWl0IGZvciB0aGUgdXNlciB0byBwaWNrIHRoZSBmaWxlcy4KICBjb25zdCBmaWxlcyA9IHlpZWxkIHsKICAgIHByb21pc2U6IFByb21pc2UucmFjZShbcGlja2VkUHJvbWlzZSwgY2FuY2VsUHJvbWlzZV0pLAogICAgcmVzcG9uc2U6IHsKICAgICAgYWN0aW9uOiAnc3RhcnRpbmcnLAogICAgfQogIH07CgogIGNhbmNlbC5yZW1vdmUoKTsKCiAgLy8gRGlzYWJsZSB0aGUgaW5wdXQgZWxlbWVudCBzaW5jZSBmdXJ0aGVyIHBpY2tzIGFyZSBub3QgYWxsb3dlZC4KICBpbnB1dEVsZW1lbnQuZGlzYWJsZWQgPSB0cnVlOwoKICBpZiAoIWZpbGVzKSB7CiAgICByZXR1cm4gewogICAgICByZXNwb25zZTogewogICAgICAgIGFjdGlvbjogJ2NvbXBsZXRlJywKICAgICAgfQogICAgfTsKICB9CgogIGZvciAoY29uc3QgZmlsZSBvZiBmaWxlcykgewogICAgY29uc3QgbGkgPSBkb2N1bWVudC5jcmVhdGVFbGVtZW50KCdsaScpOwogICAgbGkuYXBwZW5kKHNwYW4oZmlsZS5uYW1lLCB7Zm9udFdlaWdodDogJ2JvbGQnfSkpOwogICAgbGkuYXBwZW5kKHNwYW4oCiAgICAgICAgYCgke2ZpbGUudHlwZSB8fCAnbi9hJ30pIC0gJHtmaWxlLnNpemV9IGJ5dGVzLCBgICsKICAgICAgICBgbGFzdCBtb2RpZmllZDogJHsKICAgICAgICAgICAgZmlsZS5sYXN0TW9kaWZpZWREYXRlID8gZmlsZS5sYXN0TW9kaWZpZWREYXRlLnRvTG9jYWxlRGF0ZVN0cmluZygpIDoKICAgICAgICAgICAgICAgICAgICAgICAgICAgICAgICAgICAgJ24vYSd9IC0gYCkpOwogICAgY29uc3QgcGVyY2VudCA9IHNwYW4oJzAlIGRvbmUnKTsKICAgIGxpLmFwcGVuZENoaWxkKHBlcmNlbnQpOwoKICAgIG91dHB1dEVsZW1lbnQuYXBwZW5kQ2hpbGQobGkpOwoKICAgIGNvbnN0IGZpbGVEYXRhUHJvbWlzZSA9IG5ldyBQcm9taXNlKChyZXNvbHZlKSA9PiB7CiAgICAgIGNvbnN0IHJlYWRlciA9IG5ldyBGaWxlUmVhZGVyKCk7CiAgICAgIHJlYWRlci5vbmxvYWQgPSAoZSkgPT4gewogICAgICAgIHJlc29sdmUoZS50YXJnZXQucmVzdWx0KTsKICAgICAgfTsKICAgICAgcmVhZGVyLnJlYWRBc0FycmF5QnVmZmVyKGZpbGUpOwogICAgfSk7CiAgICAvLyBXYWl0IGZvciB0aGUgZGF0YSB0byBiZSByZWFkeS4KICAgIGxldCBmaWxlRGF0YSA9IHlpZWxkIHsKICAgICAgcHJvbWlzZTogZmlsZURhdGFQcm9taXNlLAogICAgICByZXNwb25zZTogewogICAgICAgIGFjdGlvbjogJ2NvbnRpbnVlJywKICAgICAgfQogICAgfTsKCiAgICAvLyBVc2UgYSBjaHVua2VkIHNlbmRpbmcgdG8gYXZvaWQgbWVzc2FnZSBzaXplIGxpbWl0cy4gU2VlIGIvNjIxMTU2NjAuCiAgICBsZXQgcG9zaXRpb24gPSAwOwogICAgZG8gewogICAgICBjb25zdCBsZW5ndGggPSBNYXRoLm1pbihmaWxlRGF0YS5ieXRlTGVuZ3RoIC0gcG9zaXRpb24sIE1BWF9QQVlMT0FEX1NJWkUpOwogICAgICBjb25zdCBjaHVuayA9IG5ldyBVaW50OEFycmF5KGZpbGVEYXRhLCBwb3NpdGlvbiwgbGVuZ3RoKTsKICAgICAgcG9zaXRpb24gKz0gbGVuZ3RoOwoKICAgICAgY29uc3QgYmFzZTY0ID0gYnRvYShTdHJpbmcuZnJvbUNoYXJDb2RlLmFwcGx5KG51bGwsIGNodW5rKSk7CiAgICAgIHlpZWxkIHsKICAgICAgICByZXNwb25zZTogewogICAgICAgICAgYWN0aW9uOiAnYXBwZW5kJywKICAgICAgICAgIGZpbGU6IGZpbGUubmFtZSwKICAgICAgICAgIGRhdGE6IGJhc2U2NCwKICAgICAgICB9LAogICAgICB9OwoKICAgICAgbGV0IHBlcmNlbnREb25lID0gZmlsZURhdGEuYnl0ZUxlbmd0aCA9PT0gMCA/CiAgICAgICAgICAxMDAgOgogICAgICAgICAgTWF0aC5yb3VuZCgocG9zaXRpb24gLyBmaWxlRGF0YS5ieXRlTGVuZ3RoKSAqIDEwMCk7CiAgICAgIHBlcmNlbnQudGV4dENvbnRlbnQgPSBgJHtwZXJjZW50RG9uZX0lIGRvbmVgOwoKICAgIH0gd2hpbGUgKHBvc2l0aW9uIDwgZmlsZURhdGEuYnl0ZUxlbmd0aCk7CiAgfQoKICAvLyBBbGwgZG9uZS4KICB5aWVsZCB7CiAgICByZXNwb25zZTogewogICAgICBhY3Rpb246ICdjb21wbGV0ZScsCiAgICB9CiAgfTsKfQoKc2NvcGUuZ29vZ2xlID0gc2NvcGUuZ29vZ2xlIHx8IHt9OwpzY29wZS5nb29nbGUuY29sYWIgPSBzY29wZS5nb29nbGUuY29sYWIgfHwge307CnNjb3BlLmdvb2dsZS5jb2xhYi5fZmlsZXMgPSB7CiAgX3VwbG9hZEZpbGVzLAogIF91cGxvYWRGaWxlc0NvbnRpbnVlLAp9Owp9KShzZWxmKTsK",
              "ok": true,
              "headers": [
                [
                  "content-type",
                  "application/javascript"
                ]
              ],
              "status": 200,
              "status_text": ""
            }
          },
          "base_uri": "https://localhost:8080/",
          "height": 61
        },
        "id": "miH4RWVLbdJi",
        "outputId": "9b27ed6e-1652-49f1-c1ad-203757846bc0"
      },
      "execution_count": null,
      "outputs": [
        {
          "output_type": "display_data",
          "data": {
            "text/plain": [
              "<IPython.core.display.HTML object>"
            ],
            "text/html": [
              "\n",
              "     <input type=\"file\" id=\"files-4b30aba4-ccc1-4605-ad24-d7066cca7db1\" name=\"files[]\" multiple disabled\n",
              "        style=\"border:none\" />\n",
              "     <output id=\"result-4b30aba4-ccc1-4605-ad24-d7066cca7db1\">\n",
              "      Upload widget is only available when the cell has been executed in the\n",
              "      current browser session. Please rerun this cell to enable.\n",
              "      </output>\n",
              "      <script src=\"/nbextensions/google.colab/files.js\"></script> "
            ]
          },
          "metadata": {}
        }
      ]
    },
    {
      "cell_type": "code",
      "source": [
        "import pandas as pd \n",
        "import io \n",
        "  \n",
        "df_train = pd.read_csv(io.BytesIO(uploaded['UNSW_NB15_training.csv']))  \n",
        "df_test =  pd.read_csv(io.BytesIO(uploaded['UNSW_NB15_testing.csv']))  "
      ],
      "metadata": {
        "id": "qcYTVkg1idng"
      },
      "execution_count": null,
      "outputs": []
    },
    {
      "cell_type": "code",
      "source": [
        "#supprimer les colonnes inutiles\n",
        "df_train.drop('id', axis=1, inplace=True)\n",
        "df_train.drop('label', axis=1, inplace=True)\n",
        "df_test.drop('id', axis=1, inplace=True)\n",
        "df_test.drop('label', axis=1, inplace=True)"
      ],
      "metadata": {
        "id": "mB-1UFtJjRUq"
      },
      "execution_count": null,
      "outputs": []
    },
    {
      "cell_type": "code",
      "source": [
        "#Nous concaténons l'ensemble d'apprentissage et l'ensemble de test pour manipuler directement l'ensemble.\n",
        "df = pd.concat([df_train,df_test],axis=0)"
      ],
      "metadata": {
        "id": "sZsjyf0KjlcI"
      },
      "execution_count": null,
      "outputs": []
    },
    {
      "cell_type": "code",
      "source": [
        "df.head()"
      ],
      "metadata": {
        "id": "z3zmRaWnjrzn"
      },
      "execution_count": null,
      "outputs": []
    },
    {
      "cell_type": "code",
      "source": [
        "#Visualisation dans un graphique circulaire du poids de chaque classe d'attaque\n",
        "print(\"taille du dataframe: {} \\n\".format(df.shape))\n",
        "print(\"Nombre d'échantillons par attaque\")\n",
        "display(df['attack_cat'].value_counts())\n",
        "print(\"\")\n",
        "print(\"Tracer la repartition du Dataset\")\n",
        "df_plot = (df['attack_cat'].value_counts(normalize=True) *100)\n",
        "df_plot.plot(kind='pie',figsize=(10,10),title='Repartition du dataset (%)')"
      ],
      "metadata": {
        "id": "cQCPmpUDxglN"
      },
      "execution_count": null,
      "outputs": []
    },
    {
      "cell_type": "code",
      "source": [
        "#Conversion de la chaîne de type de données en nombres entiers dans une plage comprise entre 0 et 255 (1 octet d'informations)\n",
        "def encode_string_byte (df,name):\n",
        "  df[name] = LabelEncoder().fit_transform(df[name])\n",
        "\n",
        "encode_string_byte (df,'proto')\n",
        "encode_string_byte (df,'state') \n",
        "encode_string_byte (df,'service') "
      ],
      "metadata": {
        "id": "QZheaGzQyv0-"
      },
      "execution_count": null,
      "outputs": []
    },
    {
      "cell_type": "code",
      "source": [
        "#Normalisation des nombres entiers en valeurs décimales comprises entre 0 et 1\n",
        "def numerical_minmax_normalization (df, name):\n",
        "  x = df[name].values.reshape(-1,1)\n",
        "  min_max_scaler = preprocessing.MinMaxScaler()\n",
        "  x_scaled = min_max_scaler.fit_transform(x)\n",
        "  df[name] = x_scaled\n",
        "\n",
        "numerical_minmax_normalization(df,'dur')\n",
        "numerical_minmax_normalization(df,'spkts')\n",
        "numerical_minmax_normalization(df,'dpkts')\n",
        "numerical_minmax_normalization(df,'sbytes')\n",
        "numerical_minmax_normalization(df,'dbytes')\n",
        "numerical_minmax_normalization(df,'rate')\n",
        "numerical_minmax_normalization(df,'sttl')\n",
        "numerical_minmax_normalization(df,'dttl')\n",
        "numerical_minmax_normalization(df,'sload')\n",
        "numerical_minmax_normalization(df,'dload')\n",
        "numerical_minmax_normalization(df,'sloss')\n",
        "numerical_minmax_normalization(df,'dloss')\n",
        "numerical_minmax_normalization(df,'sinpkt')\n",
        "numerical_minmax_normalization(df,'dinpkt')\n",
        "numerical_minmax_normalization(df,'sjit')\n",
        "numerical_minmax_normalization(df,'djit')\n",
        "numerical_minmax_normalization(df,'swin')\n",
        "numerical_minmax_normalization(df,'stcpb')\n",
        "numerical_minmax_normalization(df,'dtcpb')\n",
        "numerical_minmax_normalization(df,'dwin')\n",
        "numerical_minmax_normalization(df,'tcprtt')\n",
        "numerical_minmax_normalization(df,'synack')\n",
        "numerical_minmax_normalization(df,'ackdat')\n",
        "numerical_minmax_normalization(df,'smean')\n",
        "numerical_minmax_normalization(df,'dmean')\n",
        "numerical_minmax_normalization(df,'trans_depth')\n",
        "numerical_minmax_normalization(df,'response_body_len')\n",
        "numerical_minmax_normalization(df,'ct_srv_src')\n",
        "numerical_minmax_normalization(df,'ct_state_ttl')\n",
        "numerical_minmax_normalization(df,'ct_dst_ltm')\n",
        "numerical_minmax_normalization(df,'ct_src_dport_ltm')\n",
        "numerical_minmax_normalization(df,'ct_dst_sport_ltm')\n",
        "numerical_minmax_normalization(df,'ct_dst_src_ltm')\n",
        "numerical_minmax_normalization(df,'is_ftp_login')\n",
        "numerical_minmax_normalization(df,'ct_ftp_cmd')\n",
        "numerical_minmax_normalization(df,'ct_flw_http_mthd')\n",
        "numerical_minmax_normalization(df,'ct_src_ltm')\n",
        "numerical_minmax_normalization(df,'ct_srv_dst')\n",
        "numerical_minmax_normalization(df,'is_sm_ips_ports')"
      ],
      "metadata": {
        "id": "_P9Fdab5y2Xy"
      },
      "execution_count": null,
      "outputs": []
    },
    {
      "cell_type": "code",
      "source": [
        "#Mappage des valeurs normalisées de l'étape précédente sur des valeurs entières comprises entre 0 et 255 (1 Byte d'information)\n",
        "def numerical_split_ohe (df,name):\n",
        "  pd_to_np = df[name].tolist()\n",
        "  np_split = []\n",
        "  \n",
        "  categories = np.linspace(0, 1, num=256,endpoint=False)\n",
        "  quantization = range(0,256)\n",
        "\n",
        "  for value in pd_to_np:\n",
        "    for i in range(len(categories)-1):\n",
        "      if (categories[i] <= float(value) <= categories[i+1]):\n",
        "        np_split.append(quantization[i])\n",
        "        break\n",
        "      if (float(value) > categories[-1]):\n",
        "        np_split.append(quantization[-1])\n",
        "        break\n",
        "  \n",
        "  df[name] = np_split\n",
        "\n",
        "\n",
        "numerical_split_ohe(df,'dur')\n",
        "numerical_split_ohe(df,'spkts')\n",
        "numerical_split_ohe(df,'dpkts')\n",
        "numerical_split_ohe(df,'sbytes')\n",
        "numerical_split_ohe(df,'dbytes')\n",
        "numerical_split_ohe(df,'rate')\n",
        "numerical_split_ohe(df,'sttl')\n",
        "numerical_split_ohe(df,'dttl')\n",
        "numerical_split_ohe(df,'sload')\n",
        "numerical_split_ohe(df,'dload')\n",
        "numerical_split_ohe(df,'sloss')\n",
        "numerical_split_ohe(df,'dloss')\n",
        "numerical_split_ohe(df,'sinpkt')\n",
        "numerical_split_ohe(df,'dinpkt')\n",
        "numerical_split_ohe(df,'sjit')\n",
        "numerical_split_ohe(df,'djit')\n",
        "numerical_split_ohe(df,'swin')\n",
        "numerical_split_ohe(df,'stcpb')\n",
        "numerical_split_ohe(df,'dtcpb')\n",
        "numerical_split_ohe(df,'dwin')\n",
        "numerical_split_ohe(df,'tcprtt')\n",
        "numerical_split_ohe(df,'synack')\n",
        "numerical_split_ohe(df,'ackdat')\n",
        "numerical_split_ohe(df,'smean')\n",
        "numerical_split_ohe(df,'dmean')\n",
        "numerical_split_ohe(df,'trans_depth')\n",
        "numerical_split_ohe(df,'response_body_len')\n",
        "numerical_split_ohe(df,'ct_srv_src')\n",
        "numerical_split_ohe(df,'ct_state_ttl')\n",
        "numerical_split_ohe(df,'ct_dst_ltm')\n",
        "numerical_split_ohe(df,'ct_src_dport_ltm')\n",
        "numerical_split_ohe(df,'ct_dst_sport_ltm')\n",
        "numerical_split_ohe(df,'ct_dst_src_ltm')\n",
        "numerical_split_ohe(df,'is_ftp_login')\n",
        "numerical_split_ohe(df,'ct_ftp_cmd')\n",
        "numerical_split_ohe(df,'ct_flw_http_mthd')\n",
        "numerical_split_ohe(df,'ct_src_ltm')\n",
        "numerical_split_ohe(df,'ct_srv_dst')\n",
        "numerical_split_ohe(df,'is_sm_ips_ports')"
      ],
      "metadata": {
        "id": "9-xjIfEDzYPu"
      },
      "execution_count": null,
      "outputs": []
    },
    {
      "cell_type": "code",
      "source": [
        "#Retirer la colonne attack_cat et l'enregistrer dans la variable y.\n",
        "y_column = df['attack_cat']\n",
        "df.drop('attack_cat',axis=1,inplace=True)\n",
        "dummies = pd.get_dummies(y_column) \n",
        "y = dummies.values"
      ],
      "metadata": {
        "id": "nM7PhGD10J2P"
      },
      "execution_count": null,
      "outputs": []
    },
    {
      "cell_type": "code",
      "source": [
        "# Équilibrage du jeu de données à l'aide de SMOTE (930000 pour chaque classe) et normalisation entre -0,5 et 0,5\n",
        "x = []\n",
        "for image in np.array(df.to_numpy()):\n",
        "  x.append((image/255 - 0.5))\n",
        "sm = SMOTE(random_state=0)\n",
        "x, y = sm.fit_resample(x, y)\n",
        "x = np.array(x)\n"
      ],
      "metadata": {
        "id": "tOq5vXcS0lWl"
      },
      "execution_count": null,
      "outputs": []
    },
    {
      "cell_type": "code",
      "source": [
        "#Fonction pour représenter la courbe de précision pour chaque hyperparamètre sélectionné.\n",
        "def plot_accuracies (nets,history,names,y_accuracy):\n",
        "  plt.figure(figsize=(15,5))\n",
        "  color = ['red','green','blue','orange','purple','brown','pink','gray','olive','cyan']\n",
        "  for i in range(nets):\n",
        "    plt.plot(history[i].history['val_accuracy'],linestyle='--',color = color[i])\n",
        "  plt.title('model accuracy')\n",
        "  plt.ylabel('accuracy')\n",
        "  plt.xlabel('epoch')\n",
        "  plt.legend(names, loc='upper left')\n",
        "  axes = plt.gca()\n",
        "  plt.grid(True)\n",
        "  axes.set_ylim(y_accuracy)\n",
        "  plt.show()"
      ],
      "metadata": {
        "id": "EiVFl-ah16rq"
      },
      "execution_count": null,
      "outputs": []
    },
    {
      "cell_type": "code",
      "source": [
        "# Fonction d'activation #Swish\n",
        "def swish(x):\n",
        "    return (K.sigmoid(x) * x)\n",
        "\n",
        "get_custom_objects().update({'swish': Activation(swish)})"
      ],
      "metadata": {
        "id": "p9SA3cuR2LPk"
      },
      "execution_count": null,
      "outputs": []
    },
    {
      "cell_type": "code",
      "source": [
        "#Séparation du jeu de données en un ensemble d'apprentissage et un ensemble de validation.\n",
        "sss = StratifiedShuffleSplit(n_splits=1, test_size=0.25, random_state=42)\n",
        "\n",
        "for train_index, test_index in sss.split(x,y):\n",
        "  x_train, x_test = x[train_index], x[test_index]\n",
        "  y_train, y_test = y[train_index], y[test_index]"
      ],
      "metadata": {
        "id": "C3a8L-zi2az8"
      },
      "execution_count": null,
      "outputs": []
    },
    {
      "cell_type": "code",
      "source": [
        "#CONCEPTION DU RÉSEAU NEURONAL MLP -- Choix du nombre de couches LSTM.\n",
        "\n",
        "from keras.models import Sequential\n",
        "from keras.layers import Dense\n",
        "from keras.layers import LSTM\n",
        "from keras.layers import Dropout\n",
        "\n",
        "model_lstm = Sequential() \n",
        "model_lstm.add(LSTM(units = 512, return_sequences = True, input_shape = (x_train.shape[1],1), activation='tanh'))\n",
        "model_lstm.add(LSTM(units = 256, return_sequences = True))\n",
        "model_lstm.add(Dense(128, activation='relu'))\n",
        "model_lstm.add(Dense(128, activation='relu'))\n",
        "model_lstm.add(Dropout(0.2))\n",
        "model_lstm.add(Dense(32, activation='relu'))\n",
        "model_lstm.add(Dropout(0.2))\n",
        "model_lstm.add(Dense(32, activation='relu'))\n",
        "model_lstm.add(Flatten())\n",
        "model_lstm.add(Dense(10, activation='softmax'))\n",
        "model_lstm.compile(optimizer = 'adam', loss ='categorical_crossentropy', metrics=['accuracy'] )\n",
        "model_lstm.summary()"
      ],
      "metadata": {
        "id": "YsKPMx3T2x7U"
      },
      "execution_count": null,
      "outputs": []
    },
    {
      "cell_type": "code",
      "source": [
        "es = EarlyStopping(monitor='accuracy', mode='max', verbose=1)\n",
        "history= model_lstm.fit(x_train,y_train,validation_data=(x_test,y_test),verbose=1,batch_size=batch_size,epochs=50,callbacks=[es])"
      ],
      "metadata": {
        "id": "wD-P5J_i4JVa"
      },
      "execution_count": null,
      "outputs": []
    }
  ]
}