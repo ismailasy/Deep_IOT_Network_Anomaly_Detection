{
  "nbformat": 4,
  "nbformat_minor": 0,
  "metadata": {
    "colab": {
      "name": "Classification multiclasse_6_Classes.ipynb",
      "provenance": [],
      "collapsed_sections": [],
      "mount_file_id": "1EP4NNOneav2HBpXqp1-ZEFWTyZbgdMWF",
      "authorship_tag": "ABX9TyN4xKpGxN9eaZDBFpVjaSC2",
      "include_colab_link": true
    },
    "kernelspec": {
      "name": "python3",
      "display_name": "Python 3"
    },
    "language_info": {
      "name": "python"
    },
    "accelerator": "GPU",
    "gpuClass": "standard"
  },
  "cells": [
    {
      "cell_type": "markdown",
      "metadata": {
        "id": "view-in-github",
        "colab_type": "text"
      },
      "source": [
        "<a href=\"https://colab.research.google.com/github/ismailasy/Deep_IOT_Network_Anomaly_Detection/blob/main/Classification_multiclasse_6_Classes.ipynb\" target=\"_parent\"><img src=\"https://colab.research.google.com/assets/colab-badge.svg\" alt=\"Open In Colab\"/></a>"
      ]
    },
    {
      "cell_type": "markdown",
      "source": [
        "Pour cette section nous allons essayer de faire une classification multiclasse en 5 classes:\n",
        "\n",
        "1.   Normal\n",
        "1.   MITM(attaque man in the midddle)\n",
        "2.   Injection \n",
        "3.   Malware \n",
        "4.   DDos(Deni de service distribué)\n",
        "5.   Vol d'informations\n",
        "\n",
        "\n",
        "\n",
        "\n"
      ],
      "metadata": {
        "id": "GHj3woWSPJJg"
      }
    },
    {
      "cell_type": "code",
      "execution_count": 1,
      "metadata": {
        "id": "yjw0U9s3OMRX"
      },
      "outputs": [],
      "source": [
        "# Pour commencer nous allons importzr le jeu de données Iot dataset\n",
        "import pandas as pd\n",
        "import numpy as np\n",
        "\n",
        "df = pd.read_csv('/content/drive/MyDrive/Datasets/Selected dataset for ML and DL/DNN-EdgeIIoT-dataset.csv', low_memory=False)"
      ]
    },
    {
      "cell_type": "code",
      "source": [
        "# Affichage des types d'attaques \n",
        "print(df['Attack_type'].value_counts())"
      ],
      "metadata": {
        "colab": {
          "base_uri": "https://localhost:8080/"
        },
        "id": "DlTlHsO9QytN",
        "outputId": "d99f8d66-1038-4a8c-e658-9d8fedac612a"
      },
      "execution_count": 2,
      "outputs": [
        {
          "output_type": "stream",
          "name": "stdout",
          "text": [
            "Normal                   1615643\n",
            "DDoS_UDP                  121568\n",
            "DDoS_ICMP                 116436\n",
            "SQL_injection              51203\n",
            "Password                   50153\n",
            "Vulnerability_scanner      50110\n",
            "DDoS_TCP                   50062\n",
            "DDoS_HTTP                  49911\n",
            "Uploading                  37634\n",
            "Backdoor                   24862\n",
            "Port_Scanning              22564\n",
            "XSS                        15915\n",
            "Ransomware                 10925\n",
            "MITM                        1214\n",
            "Fingerprinting              1001\n",
            "Name: Attack_type, dtype: int64\n"
          ]
        }
      ]
    },
    {
      "cell_type": "markdown",
      "source": [
        "Pour commencer nous allons regroupper les categories d'attaques de meme type sur une seule classe\n",
        "\n",
        "*   MITM \n",
        "*   Injection : XSS,SQL_injection,Uploading\n",
        "*   Malware : Backdoor,Ransomware,Password \n",
        "*   DDoS(DDoS_UDP,DDoS_ICMP,DDoS_TCP,DDoS_HTTP )\n",
        "*   Vol d'informations :Port_Scanning,Vulnerability_scanner,Fingerprinting              \n",
        "\n"
      ],
      "metadata": {
        "id": "DSUnMxIuQ8dT"
      }
    },
    {
      "cell_type": "markdown",
      "source": [
        "Passons maintenant a la phase de pretraitemant des donnes"
      ],
      "metadata": {
        "id": "TnoGsAriQ9qD"
      }
    },
    {
      "cell_type": "code",
      "source": [
        "df.describe()"
      ],
      "metadata": {
        "id": "C7EKcA9DQ7H8",
        "colab": {
          "base_uri": "https://localhost:8080/",
          "height": 418
        },
        "outputId": "571c9607-ea34-47ed-f0bb-568f2c259946"
      },
      "execution_count": 3,
      "outputs": [
        {
          "output_type": "execute_result",
          "data": {
            "text/plain": [
              "         arp.opcode   arp.hw.size  icmp.checksum   icmp.seq_le  \\\n",
              "count  2.219201e+06  2.219201e+06   2.219201e+06  2.219201e+06   \n",
              "mean   3.323268e-03  1.582732e-02   1.730285e+03  1.893064e+03   \n",
              "std    6.843237e-02  3.077555e-01   8.526581e+03  8.870474e+03   \n",
              "min    0.000000e+00  0.000000e+00   0.000000e+00  0.000000e+00   \n",
              "25%    0.000000e+00  0.000000e+00   0.000000e+00  0.000000e+00   \n",
              "50%    0.000000e+00  0.000000e+00   0.000000e+00  0.000000e+00   \n",
              "75%    0.000000e+00  0.000000e+00   0.000000e+00  0.000000e+00   \n",
              "max    2.000000e+00  6.000000e+00   6.553300e+04  6.553500e+04   \n",
              "\n",
              "       icmp.transmit_timestamp  icmp.unused  http.content_length  \\\n",
              "count             2.219201e+06    2219201.0         2.219201e+06   \n",
              "mean              2.877556e+03          0.0         4.808231e+00   \n",
              "std               4.705188e+05          0.0         9.642259e+01   \n",
              "min               0.000000e+00          0.0         0.000000e+00   \n",
              "25%               0.000000e+00          0.0         0.000000e+00   \n",
              "50%               0.000000e+00          0.0         0.000000e+00   \n",
              "75%               0.000000e+00          0.0         0.000000e+00   \n",
              "max               7.728902e+07          0.0         8.365500e+04   \n",
              "\n",
              "       http.response  http.tls_port       tcp.ack  ...      mqtt.len  \\\n",
              "count   2.219201e+06      2219201.0  2.219201e+06  ...  2.219201e+06   \n",
              "mean    1.469132e-02            0.0  2.278400e+07  ...  1.982731e+00   \n",
              "std     1.203142e-01            0.0  1.649033e+08  ...  7.648797e+00   \n",
              "min     0.000000e+00            0.0  0.000000e+00  ...  0.000000e+00   \n",
              "25%     0.000000e+00            0.0  1.000000e+00  ...  0.000000e+00   \n",
              "50%     0.000000e+00            0.0  6.000000e+00  ...  0.000000e+00   \n",
              "75%     0.000000e+00            0.0  5.900000e+01  ...  0.000000e+00   \n",
              "max     1.000000e+00            0.0  3.949529e+09  ...  3.900000e+01   \n",
              "\n",
              "       mqtt.msg_decoded_as  mqtt.msgtype  mqtt.proto_len  mqtt.topic_len  \\\n",
              "count            2219201.0  2.219201e+06    2.219201e+06    2.219201e+06   \n",
              "mean                   0.0  7.481643e-01    1.496665e-01    8.977934e-01   \n",
              "std                    0.0  2.701086e+00    7.591219e-01    4.554231e+00   \n",
              "min                    0.0  0.000000e+00    0.000000e+00    0.000000e+00   \n",
              "25%                    0.0  0.000000e+00    0.000000e+00    0.000000e+00   \n",
              "50%                    0.0  0.000000e+00    0.000000e+00    0.000000e+00   \n",
              "75%                    0.0  0.000000e+00    0.000000e+00    0.000000e+00   \n",
              "max                    0.0  1.400000e+01    4.000000e+00    2.400000e+01   \n",
              "\n",
              "           mqtt.ver     mbtcp.len  mbtcp.trans_id  mbtcp.unit_id  Attack_label  \n",
              "count  2.219201e+06  2.219201e+06    2.219201e+06   2.219201e+06  2.219201e+06  \n",
              "mean   1.496665e-01  1.297764e-03    5.170780e-03   9.417804e-05  2.719709e-01  \n",
              "std    7.591219e-01  1.711483e-01    7.226807e-01   1.377313e-02  4.449751e-01  \n",
              "min    0.000000e+00  0.000000e+00    0.000000e+00   0.000000e+00  0.000000e+00  \n",
              "25%    0.000000e+00  0.000000e+00    0.000000e+00   0.000000e+00  0.000000e+00  \n",
              "50%    0.000000e+00  0.000000e+00    0.000000e+00   0.000000e+00  0.000000e+00  \n",
              "75%    0.000000e+00  0.000000e+00    0.000000e+00   0.000000e+00  1.000000e+00  \n",
              "max    4.000000e+00  2.700000e+01    1.510000e+02   6.000000e+00  1.000000e+00  \n",
              "\n",
              "[8 rows x 43 columns]"
            ],
            "text/html": [
              "\n",
              "  <div id=\"df-d7630c87-5cea-4c1f-97d7-2c183712d38c\">\n",
              "    <div class=\"colab-df-container\">\n",
              "      <div>\n",
              "<style scoped>\n",
              "    .dataframe tbody tr th:only-of-type {\n",
              "        vertical-align: middle;\n",
              "    }\n",
              "\n",
              "    .dataframe tbody tr th {\n",
              "        vertical-align: top;\n",
              "    }\n",
              "\n",
              "    .dataframe thead th {\n",
              "        text-align: right;\n",
              "    }\n",
              "</style>\n",
              "<table border=\"1\" class=\"dataframe\">\n",
              "  <thead>\n",
              "    <tr style=\"text-align: right;\">\n",
              "      <th></th>\n",
              "      <th>arp.opcode</th>\n",
              "      <th>arp.hw.size</th>\n",
              "      <th>icmp.checksum</th>\n",
              "      <th>icmp.seq_le</th>\n",
              "      <th>icmp.transmit_timestamp</th>\n",
              "      <th>icmp.unused</th>\n",
              "      <th>http.content_length</th>\n",
              "      <th>http.response</th>\n",
              "      <th>http.tls_port</th>\n",
              "      <th>tcp.ack</th>\n",
              "      <th>...</th>\n",
              "      <th>mqtt.len</th>\n",
              "      <th>mqtt.msg_decoded_as</th>\n",
              "      <th>mqtt.msgtype</th>\n",
              "      <th>mqtt.proto_len</th>\n",
              "      <th>mqtt.topic_len</th>\n",
              "      <th>mqtt.ver</th>\n",
              "      <th>mbtcp.len</th>\n",
              "      <th>mbtcp.trans_id</th>\n",
              "      <th>mbtcp.unit_id</th>\n",
              "      <th>Attack_label</th>\n",
              "    </tr>\n",
              "  </thead>\n",
              "  <tbody>\n",
              "    <tr>\n",
              "      <th>count</th>\n",
              "      <td>2.219201e+06</td>\n",
              "      <td>2.219201e+06</td>\n",
              "      <td>2.219201e+06</td>\n",
              "      <td>2.219201e+06</td>\n",
              "      <td>2.219201e+06</td>\n",
              "      <td>2219201.0</td>\n",
              "      <td>2.219201e+06</td>\n",
              "      <td>2.219201e+06</td>\n",
              "      <td>2219201.0</td>\n",
              "      <td>2.219201e+06</td>\n",
              "      <td>...</td>\n",
              "      <td>2.219201e+06</td>\n",
              "      <td>2219201.0</td>\n",
              "      <td>2.219201e+06</td>\n",
              "      <td>2.219201e+06</td>\n",
              "      <td>2.219201e+06</td>\n",
              "      <td>2.219201e+06</td>\n",
              "      <td>2.219201e+06</td>\n",
              "      <td>2.219201e+06</td>\n",
              "      <td>2.219201e+06</td>\n",
              "      <td>2.219201e+06</td>\n",
              "    </tr>\n",
              "    <tr>\n",
              "      <th>mean</th>\n",
              "      <td>3.323268e-03</td>\n",
              "      <td>1.582732e-02</td>\n",
              "      <td>1.730285e+03</td>\n",
              "      <td>1.893064e+03</td>\n",
              "      <td>2.877556e+03</td>\n",
              "      <td>0.0</td>\n",
              "      <td>4.808231e+00</td>\n",
              "      <td>1.469132e-02</td>\n",
              "      <td>0.0</td>\n",
              "      <td>2.278400e+07</td>\n",
              "      <td>...</td>\n",
              "      <td>1.982731e+00</td>\n",
              "      <td>0.0</td>\n",
              "      <td>7.481643e-01</td>\n",
              "      <td>1.496665e-01</td>\n",
              "      <td>8.977934e-01</td>\n",
              "      <td>1.496665e-01</td>\n",
              "      <td>1.297764e-03</td>\n",
              "      <td>5.170780e-03</td>\n",
              "      <td>9.417804e-05</td>\n",
              "      <td>2.719709e-01</td>\n",
              "    </tr>\n",
              "    <tr>\n",
              "      <th>std</th>\n",
              "      <td>6.843237e-02</td>\n",
              "      <td>3.077555e-01</td>\n",
              "      <td>8.526581e+03</td>\n",
              "      <td>8.870474e+03</td>\n",
              "      <td>4.705188e+05</td>\n",
              "      <td>0.0</td>\n",
              "      <td>9.642259e+01</td>\n",
              "      <td>1.203142e-01</td>\n",
              "      <td>0.0</td>\n",
              "      <td>1.649033e+08</td>\n",
              "      <td>...</td>\n",
              "      <td>7.648797e+00</td>\n",
              "      <td>0.0</td>\n",
              "      <td>2.701086e+00</td>\n",
              "      <td>7.591219e-01</td>\n",
              "      <td>4.554231e+00</td>\n",
              "      <td>7.591219e-01</td>\n",
              "      <td>1.711483e-01</td>\n",
              "      <td>7.226807e-01</td>\n",
              "      <td>1.377313e-02</td>\n",
              "      <td>4.449751e-01</td>\n",
              "    </tr>\n",
              "    <tr>\n",
              "      <th>min</th>\n",
              "      <td>0.000000e+00</td>\n",
              "      <td>0.000000e+00</td>\n",
              "      <td>0.000000e+00</td>\n",
              "      <td>0.000000e+00</td>\n",
              "      <td>0.000000e+00</td>\n",
              "      <td>0.0</td>\n",
              "      <td>0.000000e+00</td>\n",
              "      <td>0.000000e+00</td>\n",
              "      <td>0.0</td>\n",
              "      <td>0.000000e+00</td>\n",
              "      <td>...</td>\n",
              "      <td>0.000000e+00</td>\n",
              "      <td>0.0</td>\n",
              "      <td>0.000000e+00</td>\n",
              "      <td>0.000000e+00</td>\n",
              "      <td>0.000000e+00</td>\n",
              "      <td>0.000000e+00</td>\n",
              "      <td>0.000000e+00</td>\n",
              "      <td>0.000000e+00</td>\n",
              "      <td>0.000000e+00</td>\n",
              "      <td>0.000000e+00</td>\n",
              "    </tr>\n",
              "    <tr>\n",
              "      <th>25%</th>\n",
              "      <td>0.000000e+00</td>\n",
              "      <td>0.000000e+00</td>\n",
              "      <td>0.000000e+00</td>\n",
              "      <td>0.000000e+00</td>\n",
              "      <td>0.000000e+00</td>\n",
              "      <td>0.0</td>\n",
              "      <td>0.000000e+00</td>\n",
              "      <td>0.000000e+00</td>\n",
              "      <td>0.0</td>\n",
              "      <td>1.000000e+00</td>\n",
              "      <td>...</td>\n",
              "      <td>0.000000e+00</td>\n",
              "      <td>0.0</td>\n",
              "      <td>0.000000e+00</td>\n",
              "      <td>0.000000e+00</td>\n",
              "      <td>0.000000e+00</td>\n",
              "      <td>0.000000e+00</td>\n",
              "      <td>0.000000e+00</td>\n",
              "      <td>0.000000e+00</td>\n",
              "      <td>0.000000e+00</td>\n",
              "      <td>0.000000e+00</td>\n",
              "    </tr>\n",
              "    <tr>\n",
              "      <th>50%</th>\n",
              "      <td>0.000000e+00</td>\n",
              "      <td>0.000000e+00</td>\n",
              "      <td>0.000000e+00</td>\n",
              "      <td>0.000000e+00</td>\n",
              "      <td>0.000000e+00</td>\n",
              "      <td>0.0</td>\n",
              "      <td>0.000000e+00</td>\n",
              "      <td>0.000000e+00</td>\n",
              "      <td>0.0</td>\n",
              "      <td>6.000000e+00</td>\n",
              "      <td>...</td>\n",
              "      <td>0.000000e+00</td>\n",
              "      <td>0.0</td>\n",
              "      <td>0.000000e+00</td>\n",
              "      <td>0.000000e+00</td>\n",
              "      <td>0.000000e+00</td>\n",
              "      <td>0.000000e+00</td>\n",
              "      <td>0.000000e+00</td>\n",
              "      <td>0.000000e+00</td>\n",
              "      <td>0.000000e+00</td>\n",
              "      <td>0.000000e+00</td>\n",
              "    </tr>\n",
              "    <tr>\n",
              "      <th>75%</th>\n",
              "      <td>0.000000e+00</td>\n",
              "      <td>0.000000e+00</td>\n",
              "      <td>0.000000e+00</td>\n",
              "      <td>0.000000e+00</td>\n",
              "      <td>0.000000e+00</td>\n",
              "      <td>0.0</td>\n",
              "      <td>0.000000e+00</td>\n",
              "      <td>0.000000e+00</td>\n",
              "      <td>0.0</td>\n",
              "      <td>5.900000e+01</td>\n",
              "      <td>...</td>\n",
              "      <td>0.000000e+00</td>\n",
              "      <td>0.0</td>\n",
              "      <td>0.000000e+00</td>\n",
              "      <td>0.000000e+00</td>\n",
              "      <td>0.000000e+00</td>\n",
              "      <td>0.000000e+00</td>\n",
              "      <td>0.000000e+00</td>\n",
              "      <td>0.000000e+00</td>\n",
              "      <td>0.000000e+00</td>\n",
              "      <td>1.000000e+00</td>\n",
              "    </tr>\n",
              "    <tr>\n",
              "      <th>max</th>\n",
              "      <td>2.000000e+00</td>\n",
              "      <td>6.000000e+00</td>\n",
              "      <td>6.553300e+04</td>\n",
              "      <td>6.553500e+04</td>\n",
              "      <td>7.728902e+07</td>\n",
              "      <td>0.0</td>\n",
              "      <td>8.365500e+04</td>\n",
              "      <td>1.000000e+00</td>\n",
              "      <td>0.0</td>\n",
              "      <td>3.949529e+09</td>\n",
              "      <td>...</td>\n",
              "      <td>3.900000e+01</td>\n",
              "      <td>0.0</td>\n",
              "      <td>1.400000e+01</td>\n",
              "      <td>4.000000e+00</td>\n",
              "      <td>2.400000e+01</td>\n",
              "      <td>4.000000e+00</td>\n",
              "      <td>2.700000e+01</td>\n",
              "      <td>1.510000e+02</td>\n",
              "      <td>6.000000e+00</td>\n",
              "      <td>1.000000e+00</td>\n",
              "    </tr>\n",
              "  </tbody>\n",
              "</table>\n",
              "<p>8 rows × 43 columns</p>\n",
              "</div>\n",
              "      <button class=\"colab-df-convert\" onclick=\"convertToInteractive('df-d7630c87-5cea-4c1f-97d7-2c183712d38c')\"\n",
              "              title=\"Convert this dataframe to an interactive table.\"\n",
              "              style=\"display:none;\">\n",
              "        \n",
              "  <svg xmlns=\"http://www.w3.org/2000/svg\" height=\"24px\"viewBox=\"0 0 24 24\"\n",
              "       width=\"24px\">\n",
              "    <path d=\"M0 0h24v24H0V0z\" fill=\"none\"/>\n",
              "    <path d=\"M18.56 5.44l.94 2.06.94-2.06 2.06-.94-2.06-.94-.94-2.06-.94 2.06-2.06.94zm-11 1L8.5 8.5l.94-2.06 2.06-.94-2.06-.94L8.5 2.5l-.94 2.06-2.06.94zm10 10l.94 2.06.94-2.06 2.06-.94-2.06-.94-.94-2.06-.94 2.06-2.06.94z\"/><path d=\"M17.41 7.96l-1.37-1.37c-.4-.4-.92-.59-1.43-.59-.52 0-1.04.2-1.43.59L10.3 9.45l-7.72 7.72c-.78.78-.78 2.05 0 2.83L4 21.41c.39.39.9.59 1.41.59.51 0 1.02-.2 1.41-.59l7.78-7.78 2.81-2.81c.8-.78.8-2.07 0-2.86zM5.41 20L4 18.59l7.72-7.72 1.47 1.35L5.41 20z\"/>\n",
              "  </svg>\n",
              "      </button>\n",
              "      \n",
              "  <style>\n",
              "    .colab-df-container {\n",
              "      display:flex;\n",
              "      flex-wrap:wrap;\n",
              "      gap: 12px;\n",
              "    }\n",
              "\n",
              "    .colab-df-convert {\n",
              "      background-color: #E8F0FE;\n",
              "      border: none;\n",
              "      border-radius: 50%;\n",
              "      cursor: pointer;\n",
              "      display: none;\n",
              "      fill: #1967D2;\n",
              "      height: 32px;\n",
              "      padding: 0 0 0 0;\n",
              "      width: 32px;\n",
              "    }\n",
              "\n",
              "    .colab-df-convert:hover {\n",
              "      background-color: #E2EBFA;\n",
              "      box-shadow: 0px 1px 2px rgba(60, 64, 67, 0.3), 0px 1px 3px 1px rgba(60, 64, 67, 0.15);\n",
              "      fill: #174EA6;\n",
              "    }\n",
              "\n",
              "    [theme=dark] .colab-df-convert {\n",
              "      background-color: #3B4455;\n",
              "      fill: #D2E3FC;\n",
              "    }\n",
              "\n",
              "    [theme=dark] .colab-df-convert:hover {\n",
              "      background-color: #434B5C;\n",
              "      box-shadow: 0px 1px 3px 1px rgba(0, 0, 0, 0.15);\n",
              "      filter: drop-shadow(0px 1px 2px rgba(0, 0, 0, 0.3));\n",
              "      fill: #FFFFFF;\n",
              "    }\n",
              "  </style>\n",
              "\n",
              "      <script>\n",
              "        const buttonEl =\n",
              "          document.querySelector('#df-d7630c87-5cea-4c1f-97d7-2c183712d38c button.colab-df-convert');\n",
              "        buttonEl.style.display =\n",
              "          google.colab.kernel.accessAllowed ? 'block' : 'none';\n",
              "\n",
              "        async function convertToInteractive(key) {\n",
              "          const element = document.querySelector('#df-d7630c87-5cea-4c1f-97d7-2c183712d38c');\n",
              "          const dataTable =\n",
              "            await google.colab.kernel.invokeFunction('convertToInteractive',\n",
              "                                                     [key], {});\n",
              "          if (!dataTable) return;\n",
              "\n",
              "          const docLinkHtml = 'Like what you see? Visit the ' +\n",
              "            '<a target=\"_blank\" href=https://colab.research.google.com/notebooks/data_table.ipynb>data table notebook</a>'\n",
              "            + ' to learn more about interactive tables.';\n",
              "          element.innerHTML = '';\n",
              "          dataTable['output_type'] = 'display_data';\n",
              "          await google.colab.output.renderOutput(dataTable, element);\n",
              "          const docLink = document.createElement('div');\n",
              "          docLink.innerHTML = docLinkHtml;\n",
              "          element.appendChild(docLink);\n",
              "        }\n",
              "      </script>\n",
              "    </div>\n",
              "  </div>\n",
              "  "
            ]
          },
          "metadata": {},
          "execution_count": 3
        }
      ]
    },
    {
      "cell_type": "code",
      "source": [
        "drop_columns = [\"frame.time\", \"ip.src_host\", \"ip.dst_host\", \"arp.src.proto_ipv4\",\"arp.dst.proto_ipv4\", \n",
        "\n",
        "         \"http.file_data\",\"http.request.full_uri\",\"icmp.transmit_timestamp\",\n",
        "\n",
        "         \"http.request.uri.query\", \"tcp.options\",\"tcp.payload\",\"tcp.srcport\",\n",
        "\n",
        "         \"tcp.dstport\", \"udp.port\", \"mqtt.msg\"]"
      ],
      "metadata": {
        "id": "Cdl_hRsUqyhC"
      },
      "execution_count": 4,
      "outputs": []
    },
    {
      "cell_type": "code",
      "source": [
        "df.drop(drop_columns, axis=1, inplace=True)"
      ],
      "metadata": {
        "id": "wvi4AdC2rCWr"
      },
      "execution_count": 5,
      "outputs": []
    },
    {
      "cell_type": "code",
      "source": [
        "df.drop('mqtt.topic',axis=1,inplace=True)"
      ],
      "metadata": {
        "id": "l1KhFNoQvO7s"
      },
      "execution_count": 6,
      "outputs": []
    },
    {
      "cell_type": "code",
      "source": [
        "#Suppression des Nan\n",
        "df.dropna(axis=0, how='any', inplace=True)"
      ],
      "metadata": {
        "id": "7IA3s_6pvehZ"
      },
      "execution_count": 7,
      "outputs": []
    },
    {
      "cell_type": "code",
      "source": [
        "# On supprime les données lignes dupliqués\n",
        "df.drop_duplicates(subset=None, keep=\"first\", inplace=True)"
      ],
      "metadata": {
        "id": "xF-kONpuvj7h"
      },
      "execution_count": 8,
      "outputs": []
    },
    {
      "cell_type": "code",
      "source": [
        "print(df['Attack_type'].value_counts())"
      ],
      "metadata": {
        "colab": {
          "base_uri": "https://localhost:8080/"
        },
        "id": "CdvPcT1NOzfn",
        "outputId": "21517b37-d524-46ad-f385-5bead446cff2"
      },
      "execution_count": 9,
      "outputs": [
        {
          "output_type": "stream",
          "name": "stdout",
          "text": [
            "Normal                   1363998\n",
            "DDoS_UDP                  121567\n",
            "DDoS_ICMP                  67939\n",
            "SQL_injection              50826\n",
            "DDoS_TCP                   50062\n",
            "Vulnerability_scanner      50026\n",
            "Password                   49933\n",
            "DDoS_HTTP                  48544\n",
            "Uploading                  36807\n",
            "Backdoor                   24026\n",
            "Port_Scanning              19977\n",
            "XSS                        15066\n",
            "Ransomware                  9689\n",
            "Fingerprinting               853\n",
            "MITM                         358\n",
            "Name: Attack_type, dtype: int64\n"
          ]
        }
      ]
    },
    {
      "cell_type": "code",
      "source": [
        "df"
      ],
      "metadata": {
        "colab": {
          "base_uri": "https://localhost:8080/",
          "height": 520
        },
        "id": "yhxZISUqzg47",
        "outputId": "06e93636-06d2-409f-d301-d102cefaae9b"
      },
      "execution_count": 10,
      "outputs": [
        {
          "output_type": "execute_result",
          "data": {
            "text/plain": [
              "         arp.opcode  arp.hw.size  icmp.checksum  icmp.seq_le  icmp.unused  \\\n",
              "0               0.0          0.0            0.0          0.0          0.0   \n",
              "1               0.0          0.0            0.0          0.0          0.0   \n",
              "2               0.0          0.0            0.0          0.0          0.0   \n",
              "3               0.0          0.0            0.0          0.0          0.0   \n",
              "4               0.0          0.0            0.0          0.0          0.0   \n",
              "...             ...          ...            ...          ...          ...   \n",
              "2219162         0.0          0.0        35149.0      43815.0          0.0   \n",
              "2219167         0.0          0.0        54603.0      44251.0          0.0   \n",
              "2219181         0.0          0.0        48711.0      45298.0          0.0   \n",
              "2219192         0.0          0.0        60230.0      45509.0          0.0   \n",
              "2219193         0.0          0.0        56646.0      45523.0          0.0   \n",
              "\n",
              "         http.content_length http.request.method http.referer  \\\n",
              "0                        0.0                 0.0          0.0   \n",
              "1                        0.0                 0.0          0.0   \n",
              "2                        0.0                 0.0          0.0   \n",
              "3                        0.0                 0.0          0.0   \n",
              "4                        0.0                 0.0          0.0   \n",
              "...                      ...                 ...          ...   \n",
              "2219162                  0.0                 0.0          0.0   \n",
              "2219167                  0.0                 0.0          0.0   \n",
              "2219181                  0.0                 0.0          0.0   \n",
              "2219192                  0.0                 0.0          0.0   \n",
              "2219193                  0.0                 0.0          0.0   \n",
              "\n",
              "        http.request.version  http.response  ...  mqtt.msgtype  \\\n",
              "0                        0.0            0.0  ...           0.0   \n",
              "1                        0.0            0.0  ...           1.0   \n",
              "2                        0.0            0.0  ...           0.0   \n",
              "3                        0.0            0.0  ...           2.0   \n",
              "4                        0.0            0.0  ...           3.0   \n",
              "...                      ...            ...  ...           ...   \n",
              "2219162                  0.0            0.0  ...           0.0   \n",
              "2219167                  0.0            0.0  ...           0.0   \n",
              "2219181                  0.0            0.0  ...           0.0   \n",
              "2219192                  0.0            0.0  ...           0.0   \n",
              "2219193                  0.0            0.0  ...           0.0   \n",
              "\n",
              "         mqtt.proto_len  mqtt.protoname  mqtt.topic_len  mqtt.ver  mbtcp.len  \\\n",
              "0                   0.0               0             0.0       0.0        0.0   \n",
              "1                   4.0            MQTT             0.0       4.0        0.0   \n",
              "2                   0.0               0             0.0       0.0        0.0   \n",
              "3                   0.0               0             0.0       0.0        0.0   \n",
              "4                   0.0               0            24.0       0.0        0.0   \n",
              "...                 ...             ...             ...       ...        ...   \n",
              "2219162             0.0             0.0             0.0       0.0        0.0   \n",
              "2219167             0.0             0.0             0.0       0.0        0.0   \n",
              "2219181             0.0             0.0             0.0       0.0        0.0   \n",
              "2219192             0.0             0.0             0.0       0.0        0.0   \n",
              "2219193             0.0             0.0             0.0       0.0        0.0   \n",
              "\n",
              "         mbtcp.trans_id  mbtcp.unit_id  Attack_label  Attack_type  \n",
              "0                   0.0            0.0             0       Normal  \n",
              "1                   0.0            0.0             0       Normal  \n",
              "2                   0.0            0.0             0       Normal  \n",
              "3                   0.0            0.0             0       Normal  \n",
              "4                   0.0            0.0             0       Normal  \n",
              "...                 ...            ...           ...          ...  \n",
              "2219162             0.0            0.0             1    DDoS_ICMP  \n",
              "2219167             0.0            0.0             1    DDoS_ICMP  \n",
              "2219181             0.0            0.0             1    DDoS_ICMP  \n",
              "2219192             0.0            0.0             1    DDoS_ICMP  \n",
              "2219193             0.0            0.0             1    DDoS_ICMP  \n",
              "\n",
              "[1909671 rows x 47 columns]"
            ],
            "text/html": [
              "\n",
              "  <div id=\"df-17d87ea8-f302-4f46-bf67-1c780f0718c9\">\n",
              "    <div class=\"colab-df-container\">\n",
              "      <div>\n",
              "<style scoped>\n",
              "    .dataframe tbody tr th:only-of-type {\n",
              "        vertical-align: middle;\n",
              "    }\n",
              "\n",
              "    .dataframe tbody tr th {\n",
              "        vertical-align: top;\n",
              "    }\n",
              "\n",
              "    .dataframe thead th {\n",
              "        text-align: right;\n",
              "    }\n",
              "</style>\n",
              "<table border=\"1\" class=\"dataframe\">\n",
              "  <thead>\n",
              "    <tr style=\"text-align: right;\">\n",
              "      <th></th>\n",
              "      <th>arp.opcode</th>\n",
              "      <th>arp.hw.size</th>\n",
              "      <th>icmp.checksum</th>\n",
              "      <th>icmp.seq_le</th>\n",
              "      <th>icmp.unused</th>\n",
              "      <th>http.content_length</th>\n",
              "      <th>http.request.method</th>\n",
              "      <th>http.referer</th>\n",
              "      <th>http.request.version</th>\n",
              "      <th>http.response</th>\n",
              "      <th>...</th>\n",
              "      <th>mqtt.msgtype</th>\n",
              "      <th>mqtt.proto_len</th>\n",
              "      <th>mqtt.protoname</th>\n",
              "      <th>mqtt.topic_len</th>\n",
              "      <th>mqtt.ver</th>\n",
              "      <th>mbtcp.len</th>\n",
              "      <th>mbtcp.trans_id</th>\n",
              "      <th>mbtcp.unit_id</th>\n",
              "      <th>Attack_label</th>\n",
              "      <th>Attack_type</th>\n",
              "    </tr>\n",
              "  </thead>\n",
              "  <tbody>\n",
              "    <tr>\n",
              "      <th>0</th>\n",
              "      <td>0.0</td>\n",
              "      <td>0.0</td>\n",
              "      <td>0.0</td>\n",
              "      <td>0.0</td>\n",
              "      <td>0.0</td>\n",
              "      <td>0.0</td>\n",
              "      <td>0.0</td>\n",
              "      <td>0.0</td>\n",
              "      <td>0.0</td>\n",
              "      <td>0.0</td>\n",
              "      <td>...</td>\n",
              "      <td>0.0</td>\n",
              "      <td>0.0</td>\n",
              "      <td>0</td>\n",
              "      <td>0.0</td>\n",
              "      <td>0.0</td>\n",
              "      <td>0.0</td>\n",
              "      <td>0.0</td>\n",
              "      <td>0.0</td>\n",
              "      <td>0</td>\n",
              "      <td>Normal</td>\n",
              "    </tr>\n",
              "    <tr>\n",
              "      <th>1</th>\n",
              "      <td>0.0</td>\n",
              "      <td>0.0</td>\n",
              "      <td>0.0</td>\n",
              "      <td>0.0</td>\n",
              "      <td>0.0</td>\n",
              "      <td>0.0</td>\n",
              "      <td>0.0</td>\n",
              "      <td>0.0</td>\n",
              "      <td>0.0</td>\n",
              "      <td>0.0</td>\n",
              "      <td>...</td>\n",
              "      <td>1.0</td>\n",
              "      <td>4.0</td>\n",
              "      <td>MQTT</td>\n",
              "      <td>0.0</td>\n",
              "      <td>4.0</td>\n",
              "      <td>0.0</td>\n",
              "      <td>0.0</td>\n",
              "      <td>0.0</td>\n",
              "      <td>0</td>\n",
              "      <td>Normal</td>\n",
              "    </tr>\n",
              "    <tr>\n",
              "      <th>2</th>\n",
              "      <td>0.0</td>\n",
              "      <td>0.0</td>\n",
              "      <td>0.0</td>\n",
              "      <td>0.0</td>\n",
              "      <td>0.0</td>\n",
              "      <td>0.0</td>\n",
              "      <td>0.0</td>\n",
              "      <td>0.0</td>\n",
              "      <td>0.0</td>\n",
              "      <td>0.0</td>\n",
              "      <td>...</td>\n",
              "      <td>0.0</td>\n",
              "      <td>0.0</td>\n",
              "      <td>0</td>\n",
              "      <td>0.0</td>\n",
              "      <td>0.0</td>\n",
              "      <td>0.0</td>\n",
              "      <td>0.0</td>\n",
              "      <td>0.0</td>\n",
              "      <td>0</td>\n",
              "      <td>Normal</td>\n",
              "    </tr>\n",
              "    <tr>\n",
              "      <th>3</th>\n",
              "      <td>0.0</td>\n",
              "      <td>0.0</td>\n",
              "      <td>0.0</td>\n",
              "      <td>0.0</td>\n",
              "      <td>0.0</td>\n",
              "      <td>0.0</td>\n",
              "      <td>0.0</td>\n",
              "      <td>0.0</td>\n",
              "      <td>0.0</td>\n",
              "      <td>0.0</td>\n",
              "      <td>...</td>\n",
              "      <td>2.0</td>\n",
              "      <td>0.0</td>\n",
              "      <td>0</td>\n",
              "      <td>0.0</td>\n",
              "      <td>0.0</td>\n",
              "      <td>0.0</td>\n",
              "      <td>0.0</td>\n",
              "      <td>0.0</td>\n",
              "      <td>0</td>\n",
              "      <td>Normal</td>\n",
              "    </tr>\n",
              "    <tr>\n",
              "      <th>4</th>\n",
              "      <td>0.0</td>\n",
              "      <td>0.0</td>\n",
              "      <td>0.0</td>\n",
              "      <td>0.0</td>\n",
              "      <td>0.0</td>\n",
              "      <td>0.0</td>\n",
              "      <td>0.0</td>\n",
              "      <td>0.0</td>\n",
              "      <td>0.0</td>\n",
              "      <td>0.0</td>\n",
              "      <td>...</td>\n",
              "      <td>3.0</td>\n",
              "      <td>0.0</td>\n",
              "      <td>0</td>\n",
              "      <td>24.0</td>\n",
              "      <td>0.0</td>\n",
              "      <td>0.0</td>\n",
              "      <td>0.0</td>\n",
              "      <td>0.0</td>\n",
              "      <td>0</td>\n",
              "      <td>Normal</td>\n",
              "    </tr>\n",
              "    <tr>\n",
              "      <th>...</th>\n",
              "      <td>...</td>\n",
              "      <td>...</td>\n",
              "      <td>...</td>\n",
              "      <td>...</td>\n",
              "      <td>...</td>\n",
              "      <td>...</td>\n",
              "      <td>...</td>\n",
              "      <td>...</td>\n",
              "      <td>...</td>\n",
              "      <td>...</td>\n",
              "      <td>...</td>\n",
              "      <td>...</td>\n",
              "      <td>...</td>\n",
              "      <td>...</td>\n",
              "      <td>...</td>\n",
              "      <td>...</td>\n",
              "      <td>...</td>\n",
              "      <td>...</td>\n",
              "      <td>...</td>\n",
              "      <td>...</td>\n",
              "      <td>...</td>\n",
              "    </tr>\n",
              "    <tr>\n",
              "      <th>2219162</th>\n",
              "      <td>0.0</td>\n",
              "      <td>0.0</td>\n",
              "      <td>35149.0</td>\n",
              "      <td>43815.0</td>\n",
              "      <td>0.0</td>\n",
              "      <td>0.0</td>\n",
              "      <td>0.0</td>\n",
              "      <td>0.0</td>\n",
              "      <td>0.0</td>\n",
              "      <td>0.0</td>\n",
              "      <td>...</td>\n",
              "      <td>0.0</td>\n",
              "      <td>0.0</td>\n",
              "      <td>0.0</td>\n",
              "      <td>0.0</td>\n",
              "      <td>0.0</td>\n",
              "      <td>0.0</td>\n",
              "      <td>0.0</td>\n",
              "      <td>0.0</td>\n",
              "      <td>1</td>\n",
              "      <td>DDoS_ICMP</td>\n",
              "    </tr>\n",
              "    <tr>\n",
              "      <th>2219167</th>\n",
              "      <td>0.0</td>\n",
              "      <td>0.0</td>\n",
              "      <td>54603.0</td>\n",
              "      <td>44251.0</td>\n",
              "      <td>0.0</td>\n",
              "      <td>0.0</td>\n",
              "      <td>0.0</td>\n",
              "      <td>0.0</td>\n",
              "      <td>0.0</td>\n",
              "      <td>0.0</td>\n",
              "      <td>...</td>\n",
              "      <td>0.0</td>\n",
              "      <td>0.0</td>\n",
              "      <td>0.0</td>\n",
              "      <td>0.0</td>\n",
              "      <td>0.0</td>\n",
              "      <td>0.0</td>\n",
              "      <td>0.0</td>\n",
              "      <td>0.0</td>\n",
              "      <td>1</td>\n",
              "      <td>DDoS_ICMP</td>\n",
              "    </tr>\n",
              "    <tr>\n",
              "      <th>2219181</th>\n",
              "      <td>0.0</td>\n",
              "      <td>0.0</td>\n",
              "      <td>48711.0</td>\n",
              "      <td>45298.0</td>\n",
              "      <td>0.0</td>\n",
              "      <td>0.0</td>\n",
              "      <td>0.0</td>\n",
              "      <td>0.0</td>\n",
              "      <td>0.0</td>\n",
              "      <td>0.0</td>\n",
              "      <td>...</td>\n",
              "      <td>0.0</td>\n",
              "      <td>0.0</td>\n",
              "      <td>0.0</td>\n",
              "      <td>0.0</td>\n",
              "      <td>0.0</td>\n",
              "      <td>0.0</td>\n",
              "      <td>0.0</td>\n",
              "      <td>0.0</td>\n",
              "      <td>1</td>\n",
              "      <td>DDoS_ICMP</td>\n",
              "    </tr>\n",
              "    <tr>\n",
              "      <th>2219192</th>\n",
              "      <td>0.0</td>\n",
              "      <td>0.0</td>\n",
              "      <td>60230.0</td>\n",
              "      <td>45509.0</td>\n",
              "      <td>0.0</td>\n",
              "      <td>0.0</td>\n",
              "      <td>0.0</td>\n",
              "      <td>0.0</td>\n",
              "      <td>0.0</td>\n",
              "      <td>0.0</td>\n",
              "      <td>...</td>\n",
              "      <td>0.0</td>\n",
              "      <td>0.0</td>\n",
              "      <td>0.0</td>\n",
              "      <td>0.0</td>\n",
              "      <td>0.0</td>\n",
              "      <td>0.0</td>\n",
              "      <td>0.0</td>\n",
              "      <td>0.0</td>\n",
              "      <td>1</td>\n",
              "      <td>DDoS_ICMP</td>\n",
              "    </tr>\n",
              "    <tr>\n",
              "      <th>2219193</th>\n",
              "      <td>0.0</td>\n",
              "      <td>0.0</td>\n",
              "      <td>56646.0</td>\n",
              "      <td>45523.0</td>\n",
              "      <td>0.0</td>\n",
              "      <td>0.0</td>\n",
              "      <td>0.0</td>\n",
              "      <td>0.0</td>\n",
              "      <td>0.0</td>\n",
              "      <td>0.0</td>\n",
              "      <td>...</td>\n",
              "      <td>0.0</td>\n",
              "      <td>0.0</td>\n",
              "      <td>0.0</td>\n",
              "      <td>0.0</td>\n",
              "      <td>0.0</td>\n",
              "      <td>0.0</td>\n",
              "      <td>0.0</td>\n",
              "      <td>0.0</td>\n",
              "      <td>1</td>\n",
              "      <td>DDoS_ICMP</td>\n",
              "    </tr>\n",
              "  </tbody>\n",
              "</table>\n",
              "<p>1909671 rows × 47 columns</p>\n",
              "</div>\n",
              "      <button class=\"colab-df-convert\" onclick=\"convertToInteractive('df-17d87ea8-f302-4f46-bf67-1c780f0718c9')\"\n",
              "              title=\"Convert this dataframe to an interactive table.\"\n",
              "              style=\"display:none;\">\n",
              "        \n",
              "  <svg xmlns=\"http://www.w3.org/2000/svg\" height=\"24px\"viewBox=\"0 0 24 24\"\n",
              "       width=\"24px\">\n",
              "    <path d=\"M0 0h24v24H0V0z\" fill=\"none\"/>\n",
              "    <path d=\"M18.56 5.44l.94 2.06.94-2.06 2.06-.94-2.06-.94-.94-2.06-.94 2.06-2.06.94zm-11 1L8.5 8.5l.94-2.06 2.06-.94-2.06-.94L8.5 2.5l-.94 2.06-2.06.94zm10 10l.94 2.06.94-2.06 2.06-.94-2.06-.94-.94-2.06-.94 2.06-2.06.94z\"/><path d=\"M17.41 7.96l-1.37-1.37c-.4-.4-.92-.59-1.43-.59-.52 0-1.04.2-1.43.59L10.3 9.45l-7.72 7.72c-.78.78-.78 2.05 0 2.83L4 21.41c.39.39.9.59 1.41.59.51 0 1.02-.2 1.41-.59l7.78-7.78 2.81-2.81c.8-.78.8-2.07 0-2.86zM5.41 20L4 18.59l7.72-7.72 1.47 1.35L5.41 20z\"/>\n",
              "  </svg>\n",
              "      </button>\n",
              "      \n",
              "  <style>\n",
              "    .colab-df-container {\n",
              "      display:flex;\n",
              "      flex-wrap:wrap;\n",
              "      gap: 12px;\n",
              "    }\n",
              "\n",
              "    .colab-df-convert {\n",
              "      background-color: #E8F0FE;\n",
              "      border: none;\n",
              "      border-radius: 50%;\n",
              "      cursor: pointer;\n",
              "      display: none;\n",
              "      fill: #1967D2;\n",
              "      height: 32px;\n",
              "      padding: 0 0 0 0;\n",
              "      width: 32px;\n",
              "    }\n",
              "\n",
              "    .colab-df-convert:hover {\n",
              "      background-color: #E2EBFA;\n",
              "      box-shadow: 0px 1px 2px rgba(60, 64, 67, 0.3), 0px 1px 3px 1px rgba(60, 64, 67, 0.15);\n",
              "      fill: #174EA6;\n",
              "    }\n",
              "\n",
              "    [theme=dark] .colab-df-convert {\n",
              "      background-color: #3B4455;\n",
              "      fill: #D2E3FC;\n",
              "    }\n",
              "\n",
              "    [theme=dark] .colab-df-convert:hover {\n",
              "      background-color: #434B5C;\n",
              "      box-shadow: 0px 1px 3px 1px rgba(0, 0, 0, 0.15);\n",
              "      filter: drop-shadow(0px 1px 2px rgba(0, 0, 0, 0.3));\n",
              "      fill: #FFFFFF;\n",
              "    }\n",
              "  </style>\n",
              "\n",
              "      <script>\n",
              "        const buttonEl =\n",
              "          document.querySelector('#df-17d87ea8-f302-4f46-bf67-1c780f0718c9 button.colab-df-convert');\n",
              "        buttonEl.style.display =\n",
              "          google.colab.kernel.accessAllowed ? 'block' : 'none';\n",
              "\n",
              "        async function convertToInteractive(key) {\n",
              "          const element = document.querySelector('#df-17d87ea8-f302-4f46-bf67-1c780f0718c9');\n",
              "          const dataTable =\n",
              "            await google.colab.kernel.invokeFunction('convertToInteractive',\n",
              "                                                     [key], {});\n",
              "          if (!dataTable) return;\n",
              "\n",
              "          const docLinkHtml = 'Like what you see? Visit the ' +\n",
              "            '<a target=\"_blank\" href=https://colab.research.google.com/notebooks/data_table.ipynb>data table notebook</a>'\n",
              "            + ' to learn more about interactive tables.';\n",
              "          element.innerHTML = '';\n",
              "          dataTable['output_type'] = 'display_data';\n",
              "          await google.colab.output.renderOutput(dataTable, element);\n",
              "          const docLink = document.createElement('div');\n",
              "          docLink.innerHTML = docLinkHtml;\n",
              "          element.appendChild(docLink);\n",
              "        }\n",
              "      </script>\n",
              "    </div>\n",
              "  </div>\n",
              "  "
            ]
          },
          "metadata": {},
          "execution_count": 10
        }
      ]
    },
    {
      "cell_type": "code",
      "source": [
        "df.head()"
      ],
      "metadata": {
        "colab": {
          "base_uri": "https://localhost:8080/",
          "height": 317
        },
        "id": "hi8OiC_erKc2",
        "outputId": "abcd8549-5a35-4e96-d348-dbc585314a0c"
      },
      "execution_count": 11,
      "outputs": [
        {
          "output_type": "execute_result",
          "data": {
            "text/plain": [
              "   arp.opcode  arp.hw.size  icmp.checksum  icmp.seq_le  icmp.unused  \\\n",
              "0         0.0          0.0            0.0          0.0          0.0   \n",
              "1         0.0          0.0            0.0          0.0          0.0   \n",
              "2         0.0          0.0            0.0          0.0          0.0   \n",
              "3         0.0          0.0            0.0          0.0          0.0   \n",
              "4         0.0          0.0            0.0          0.0          0.0   \n",
              "\n",
              "   http.content_length http.request.method http.referer http.request.version  \\\n",
              "0                  0.0                 0.0          0.0                  0.0   \n",
              "1                  0.0                 0.0          0.0                  0.0   \n",
              "2                  0.0                 0.0          0.0                  0.0   \n",
              "3                  0.0                 0.0          0.0                  0.0   \n",
              "4                  0.0                 0.0          0.0                  0.0   \n",
              "\n",
              "   http.response  ...  mqtt.msgtype  mqtt.proto_len  mqtt.protoname  \\\n",
              "0            0.0  ...           0.0             0.0               0   \n",
              "1            0.0  ...           1.0             4.0            MQTT   \n",
              "2            0.0  ...           0.0             0.0               0   \n",
              "3            0.0  ...           2.0             0.0               0   \n",
              "4            0.0  ...           3.0             0.0               0   \n",
              "\n",
              "   mqtt.topic_len  mqtt.ver  mbtcp.len  mbtcp.trans_id  mbtcp.unit_id  \\\n",
              "0             0.0       0.0        0.0             0.0            0.0   \n",
              "1             0.0       4.0        0.0             0.0            0.0   \n",
              "2             0.0       0.0        0.0             0.0            0.0   \n",
              "3             0.0       0.0        0.0             0.0            0.0   \n",
              "4            24.0       0.0        0.0             0.0            0.0   \n",
              "\n",
              "   Attack_label  Attack_type  \n",
              "0             0       Normal  \n",
              "1             0       Normal  \n",
              "2             0       Normal  \n",
              "3             0       Normal  \n",
              "4             0       Normal  \n",
              "\n",
              "[5 rows x 47 columns]"
            ],
            "text/html": [
              "\n",
              "  <div id=\"df-dd2d8749-1c63-4903-ba0c-cbd38d3ee35d\">\n",
              "    <div class=\"colab-df-container\">\n",
              "      <div>\n",
              "<style scoped>\n",
              "    .dataframe tbody tr th:only-of-type {\n",
              "        vertical-align: middle;\n",
              "    }\n",
              "\n",
              "    .dataframe tbody tr th {\n",
              "        vertical-align: top;\n",
              "    }\n",
              "\n",
              "    .dataframe thead th {\n",
              "        text-align: right;\n",
              "    }\n",
              "</style>\n",
              "<table border=\"1\" class=\"dataframe\">\n",
              "  <thead>\n",
              "    <tr style=\"text-align: right;\">\n",
              "      <th></th>\n",
              "      <th>arp.opcode</th>\n",
              "      <th>arp.hw.size</th>\n",
              "      <th>icmp.checksum</th>\n",
              "      <th>icmp.seq_le</th>\n",
              "      <th>icmp.unused</th>\n",
              "      <th>http.content_length</th>\n",
              "      <th>http.request.method</th>\n",
              "      <th>http.referer</th>\n",
              "      <th>http.request.version</th>\n",
              "      <th>http.response</th>\n",
              "      <th>...</th>\n",
              "      <th>mqtt.msgtype</th>\n",
              "      <th>mqtt.proto_len</th>\n",
              "      <th>mqtt.protoname</th>\n",
              "      <th>mqtt.topic_len</th>\n",
              "      <th>mqtt.ver</th>\n",
              "      <th>mbtcp.len</th>\n",
              "      <th>mbtcp.trans_id</th>\n",
              "      <th>mbtcp.unit_id</th>\n",
              "      <th>Attack_label</th>\n",
              "      <th>Attack_type</th>\n",
              "    </tr>\n",
              "  </thead>\n",
              "  <tbody>\n",
              "    <tr>\n",
              "      <th>0</th>\n",
              "      <td>0.0</td>\n",
              "      <td>0.0</td>\n",
              "      <td>0.0</td>\n",
              "      <td>0.0</td>\n",
              "      <td>0.0</td>\n",
              "      <td>0.0</td>\n",
              "      <td>0.0</td>\n",
              "      <td>0.0</td>\n",
              "      <td>0.0</td>\n",
              "      <td>0.0</td>\n",
              "      <td>...</td>\n",
              "      <td>0.0</td>\n",
              "      <td>0.0</td>\n",
              "      <td>0</td>\n",
              "      <td>0.0</td>\n",
              "      <td>0.0</td>\n",
              "      <td>0.0</td>\n",
              "      <td>0.0</td>\n",
              "      <td>0.0</td>\n",
              "      <td>0</td>\n",
              "      <td>Normal</td>\n",
              "    </tr>\n",
              "    <tr>\n",
              "      <th>1</th>\n",
              "      <td>0.0</td>\n",
              "      <td>0.0</td>\n",
              "      <td>0.0</td>\n",
              "      <td>0.0</td>\n",
              "      <td>0.0</td>\n",
              "      <td>0.0</td>\n",
              "      <td>0.0</td>\n",
              "      <td>0.0</td>\n",
              "      <td>0.0</td>\n",
              "      <td>0.0</td>\n",
              "      <td>...</td>\n",
              "      <td>1.0</td>\n",
              "      <td>4.0</td>\n",
              "      <td>MQTT</td>\n",
              "      <td>0.0</td>\n",
              "      <td>4.0</td>\n",
              "      <td>0.0</td>\n",
              "      <td>0.0</td>\n",
              "      <td>0.0</td>\n",
              "      <td>0</td>\n",
              "      <td>Normal</td>\n",
              "    </tr>\n",
              "    <tr>\n",
              "      <th>2</th>\n",
              "      <td>0.0</td>\n",
              "      <td>0.0</td>\n",
              "      <td>0.0</td>\n",
              "      <td>0.0</td>\n",
              "      <td>0.0</td>\n",
              "      <td>0.0</td>\n",
              "      <td>0.0</td>\n",
              "      <td>0.0</td>\n",
              "      <td>0.0</td>\n",
              "      <td>0.0</td>\n",
              "      <td>...</td>\n",
              "      <td>0.0</td>\n",
              "      <td>0.0</td>\n",
              "      <td>0</td>\n",
              "      <td>0.0</td>\n",
              "      <td>0.0</td>\n",
              "      <td>0.0</td>\n",
              "      <td>0.0</td>\n",
              "      <td>0.0</td>\n",
              "      <td>0</td>\n",
              "      <td>Normal</td>\n",
              "    </tr>\n",
              "    <tr>\n",
              "      <th>3</th>\n",
              "      <td>0.0</td>\n",
              "      <td>0.0</td>\n",
              "      <td>0.0</td>\n",
              "      <td>0.0</td>\n",
              "      <td>0.0</td>\n",
              "      <td>0.0</td>\n",
              "      <td>0.0</td>\n",
              "      <td>0.0</td>\n",
              "      <td>0.0</td>\n",
              "      <td>0.0</td>\n",
              "      <td>...</td>\n",
              "      <td>2.0</td>\n",
              "      <td>0.0</td>\n",
              "      <td>0</td>\n",
              "      <td>0.0</td>\n",
              "      <td>0.0</td>\n",
              "      <td>0.0</td>\n",
              "      <td>0.0</td>\n",
              "      <td>0.0</td>\n",
              "      <td>0</td>\n",
              "      <td>Normal</td>\n",
              "    </tr>\n",
              "    <tr>\n",
              "      <th>4</th>\n",
              "      <td>0.0</td>\n",
              "      <td>0.0</td>\n",
              "      <td>0.0</td>\n",
              "      <td>0.0</td>\n",
              "      <td>0.0</td>\n",
              "      <td>0.0</td>\n",
              "      <td>0.0</td>\n",
              "      <td>0.0</td>\n",
              "      <td>0.0</td>\n",
              "      <td>0.0</td>\n",
              "      <td>...</td>\n",
              "      <td>3.0</td>\n",
              "      <td>0.0</td>\n",
              "      <td>0</td>\n",
              "      <td>24.0</td>\n",
              "      <td>0.0</td>\n",
              "      <td>0.0</td>\n",
              "      <td>0.0</td>\n",
              "      <td>0.0</td>\n",
              "      <td>0</td>\n",
              "      <td>Normal</td>\n",
              "    </tr>\n",
              "  </tbody>\n",
              "</table>\n",
              "<p>5 rows × 47 columns</p>\n",
              "</div>\n",
              "      <button class=\"colab-df-convert\" onclick=\"convertToInteractive('df-dd2d8749-1c63-4903-ba0c-cbd38d3ee35d')\"\n",
              "              title=\"Convert this dataframe to an interactive table.\"\n",
              "              style=\"display:none;\">\n",
              "        \n",
              "  <svg xmlns=\"http://www.w3.org/2000/svg\" height=\"24px\"viewBox=\"0 0 24 24\"\n",
              "       width=\"24px\">\n",
              "    <path d=\"M0 0h24v24H0V0z\" fill=\"none\"/>\n",
              "    <path d=\"M18.56 5.44l.94 2.06.94-2.06 2.06-.94-2.06-.94-.94-2.06-.94 2.06-2.06.94zm-11 1L8.5 8.5l.94-2.06 2.06-.94-2.06-.94L8.5 2.5l-.94 2.06-2.06.94zm10 10l.94 2.06.94-2.06 2.06-.94-2.06-.94-.94-2.06-.94 2.06-2.06.94z\"/><path d=\"M17.41 7.96l-1.37-1.37c-.4-.4-.92-.59-1.43-.59-.52 0-1.04.2-1.43.59L10.3 9.45l-7.72 7.72c-.78.78-.78 2.05 0 2.83L4 21.41c.39.39.9.59 1.41.59.51 0 1.02-.2 1.41-.59l7.78-7.78 2.81-2.81c.8-.78.8-2.07 0-2.86zM5.41 20L4 18.59l7.72-7.72 1.47 1.35L5.41 20z\"/>\n",
              "  </svg>\n",
              "      </button>\n",
              "      \n",
              "  <style>\n",
              "    .colab-df-container {\n",
              "      display:flex;\n",
              "      flex-wrap:wrap;\n",
              "      gap: 12px;\n",
              "    }\n",
              "\n",
              "    .colab-df-convert {\n",
              "      background-color: #E8F0FE;\n",
              "      border: none;\n",
              "      border-radius: 50%;\n",
              "      cursor: pointer;\n",
              "      display: none;\n",
              "      fill: #1967D2;\n",
              "      height: 32px;\n",
              "      padding: 0 0 0 0;\n",
              "      width: 32px;\n",
              "    }\n",
              "\n",
              "    .colab-df-convert:hover {\n",
              "      background-color: #E2EBFA;\n",
              "      box-shadow: 0px 1px 2px rgba(60, 64, 67, 0.3), 0px 1px 3px 1px rgba(60, 64, 67, 0.15);\n",
              "      fill: #174EA6;\n",
              "    }\n",
              "\n",
              "    [theme=dark] .colab-df-convert {\n",
              "      background-color: #3B4455;\n",
              "      fill: #D2E3FC;\n",
              "    }\n",
              "\n",
              "    [theme=dark] .colab-df-convert:hover {\n",
              "      background-color: #434B5C;\n",
              "      box-shadow: 0px 1px 3px 1px rgba(0, 0, 0, 0.15);\n",
              "      filter: drop-shadow(0px 1px 2px rgba(0, 0, 0, 0.3));\n",
              "      fill: #FFFFFF;\n",
              "    }\n",
              "  </style>\n",
              "\n",
              "      <script>\n",
              "        const buttonEl =\n",
              "          document.querySelector('#df-dd2d8749-1c63-4903-ba0c-cbd38d3ee35d button.colab-df-convert');\n",
              "        buttonEl.style.display =\n",
              "          google.colab.kernel.accessAllowed ? 'block' : 'none';\n",
              "\n",
              "        async function convertToInteractive(key) {\n",
              "          const element = document.querySelector('#df-dd2d8749-1c63-4903-ba0c-cbd38d3ee35d');\n",
              "          const dataTable =\n",
              "            await google.colab.kernel.invokeFunction('convertToInteractive',\n",
              "                                                     [key], {});\n",
              "          if (!dataTable) return;\n",
              "\n",
              "          const docLinkHtml = 'Like what you see? Visit the ' +\n",
              "            '<a target=\"_blank\" href=https://colab.research.google.com/notebooks/data_table.ipynb>data table notebook</a>'\n",
              "            + ' to learn more about interactive tables.';\n",
              "          element.innerHTML = '';\n",
              "          dataTable['output_type'] = 'display_data';\n",
              "          await google.colab.output.renderOutput(dataTable, element);\n",
              "          const docLink = document.createElement('div');\n",
              "          docLink.innerHTML = docLinkHtml;\n",
              "          element.appendChild(docLink);\n",
              "        }\n",
              "      </script>\n",
              "    </div>\n",
              "  </div>\n",
              "  "
            ]
          },
          "metadata": {},
          "execution_count": 11
        }
      ]
    },
    {
      "cell_type": "code",
      "source": [
        "df.info()"
      ],
      "metadata": {
        "colab": {
          "base_uri": "https://localhost:8080/"
        },
        "id": "ycR0N1T0rRPp",
        "outputId": "9de5389e-2680-4336-d1f0-0c29795d8438"
      },
      "execution_count": 12,
      "outputs": [
        {
          "output_type": "stream",
          "name": "stdout",
          "text": [
            "<class 'pandas.core.frame.DataFrame'>\n",
            "Int64Index: 1909671 entries, 0 to 2219193\n",
            "Data columns (total 47 columns):\n",
            " #   Column                     Dtype  \n",
            "---  ------                     -----  \n",
            " 0   arp.opcode                 float64\n",
            " 1   arp.hw.size                float64\n",
            " 2   icmp.checksum              float64\n",
            " 3   icmp.seq_le                float64\n",
            " 4   icmp.unused                float64\n",
            " 5   http.content_length        float64\n",
            " 6   http.request.method        object \n",
            " 7   http.referer               object \n",
            " 8   http.request.version       object \n",
            " 9   http.response              float64\n",
            " 10  http.tls_port              float64\n",
            " 11  tcp.ack                    float64\n",
            " 12  tcp.ack_raw                float64\n",
            " 13  tcp.checksum               float64\n",
            " 14  tcp.connection.fin         float64\n",
            " 15  tcp.connection.rst         float64\n",
            " 16  tcp.connection.syn         float64\n",
            " 17  tcp.connection.synack      float64\n",
            " 18  tcp.flags                  float64\n",
            " 19  tcp.flags.ack              float64\n",
            " 20  tcp.len                    float64\n",
            " 21  tcp.seq                    float64\n",
            " 22  udp.stream                 float64\n",
            " 23  udp.time_delta             float64\n",
            " 24  dns.qry.name               float64\n",
            " 25  dns.qry.name.len           object \n",
            " 26  dns.qry.qu                 float64\n",
            " 27  dns.qry.type               float64\n",
            " 28  dns.retransmission         float64\n",
            " 29  dns.retransmit_request     float64\n",
            " 30  dns.retransmit_request_in  float64\n",
            " 31  mqtt.conack.flags          object \n",
            " 32  mqtt.conflag.cleansess     float64\n",
            " 33  mqtt.conflags              float64\n",
            " 34  mqtt.hdrflags              float64\n",
            " 35  mqtt.len                   float64\n",
            " 36  mqtt.msg_decoded_as        float64\n",
            " 37  mqtt.msgtype               float64\n",
            " 38  mqtt.proto_len             float64\n",
            " 39  mqtt.protoname             object \n",
            " 40  mqtt.topic_len             float64\n",
            " 41  mqtt.ver                   float64\n",
            " 42  mbtcp.len                  float64\n",
            " 43  mbtcp.trans_id             float64\n",
            " 44  mbtcp.unit_id              float64\n",
            " 45  Attack_label               int64  \n",
            " 46  Attack_type                object \n",
            "dtypes: float64(39), int64(1), object(7)\n",
            "memory usage: 699.3+ MB\n"
          ]
        }
      ]
    },
    {
      "cell_type": "code",
      "source": [
        "#Normal\n",
        "#MITM \n",
        "#Injection : XSS,SQL_injection,Uploading\n",
        "#Malware : Backdoor,Ransomware,Password \n",
        "#DDoS(DDoS_UDP,DDoS_ICMP,DDoS_TCP,DDoS_HTTP )\n",
        "#Vol_informations :Port_Scanning,Vulnerability_scanner,Fingerprinting              "
      ],
      "metadata": {
        "id": "ShnTPOEqr_Hg"
      },
      "execution_count": null,
      "outputs": []
    },
    {
      "cell_type": "code",
      "source": [
        "df['Attack_type']= df['Attack_type'].map({'Normal':'Normal','DDoS_UDP':'DDoS','DDoS_ICMP':'DDoS','SQL_injection':'Injection','Password':'Malware',\n",
        "       'Vulnerability_scanner':'Vol_informations','DDoS_TCP':'DDoS','DDoS_HTTP':'DDoS','Uploading':'Injection','Backdoor':'Malware','Port_Scanning':'Vol_informations','XSS':'Injection',\n",
        "       'Ransomware':'Malware','MITM':'MITM','Fingerprinting':'Vol_informations'},\n",
        "      na_action=None)"
      ],
      "metadata": {
        "id": "Ja5wyzGrrdT0"
      },
      "execution_count": 13,
      "outputs": []
    },
    {
      "cell_type": "code",
      "source": [
        "# Affichage des types d'attaques \n",
        "print(df['Attack_type'].value_counts())"
      ],
      "metadata": {
        "colab": {
          "base_uri": "https://localhost:8080/"
        },
        "id": "mTu1HSbltwY9",
        "outputId": "c535a439-65bf-48bf-9d72-5f93f3b07711"
      },
      "execution_count": 14,
      "outputs": [
        {
          "output_type": "stream",
          "name": "stdout",
          "text": [
            "Normal              1363998\n",
            "DDoS                 288112\n",
            "Injection            102699\n",
            "Malware               83648\n",
            "Vol_informations      70856\n",
            "MITM                    358\n",
            "Name: Attack_type, dtype: int64\n"
          ]
        }
      ]
    },
    {
      "cell_type": "code",
      "source": [],
      "metadata": {
        "id": "X8P6Tk4a6dwH"
      },
      "execution_count": null,
      "outputs": []
    },
    {
      "cell_type": "code",
      "source": [
        "y = df['Attack_type']"
      ],
      "metadata": {
        "id": "G5-PpkzC6bti"
      },
      "execution_count": 15,
      "outputs": []
    },
    {
      "cell_type": "code",
      "source": [],
      "metadata": {
        "id": "P8qvfqBQ6Nbr"
      },
      "execution_count": null,
      "outputs": []
    },
    {
      "cell_type": "code",
      "source": [
        "y = df['Attack_type']\n",
        "values = np.unique(y,return_counts=True)"
      ],
      "metadata": {
        "id": "JiYZWvL_uB5O"
      },
      "execution_count": 16,
      "outputs": []
    },
    {
      "cell_type": "code",
      "source": [
        "y"
      ],
      "metadata": {
        "colab": {
          "base_uri": "https://localhost:8080/"
        },
        "id": "nWZflNCuzuK5",
        "outputId": "ba7bcc52-3517-49bd-abad-e7b5e3a7c1b3"
      },
      "execution_count": 17,
      "outputs": [
        {
          "output_type": "execute_result",
          "data": {
            "text/plain": [
              "0          Normal\n",
              "1          Normal\n",
              "2          Normal\n",
              "3          Normal\n",
              "4          Normal\n",
              "            ...  \n",
              "2219162      DDoS\n",
              "2219167      DDoS\n",
              "2219181      DDoS\n",
              "2219192      DDoS\n",
              "2219193      DDoS\n",
              "Name: Attack_type, Length: 1909671, dtype: object"
            ]
          },
          "metadata": {},
          "execution_count": 17
        }
      ]
    },
    {
      "cell_type": "code",
      "source": [
        "values"
      ],
      "metadata": {
        "colab": {
          "base_uri": "https://localhost:8080/"
        },
        "id": "ssyZ-2ESuHMG",
        "outputId": "0f660f59-c020-4123-cc96-146d7ffe5cfd"
      },
      "execution_count": 18,
      "outputs": [
        {
          "output_type": "execute_result",
          "data": {
            "text/plain": [
              "(array(['DDoS', 'Injection', 'MITM', 'Malware', 'Normal',\n",
              "        'Vol_informations'], dtype=object),\n",
              " array([ 288112,  102699,     358,   83648, 1363998,   70856]))"
            ]
          },
          "metadata": {},
          "execution_count": 18
        }
      ]
    },
    {
      "cell_type": "code",
      "source": [
        "class_names= ['DDoS', 'Injection', 'MITM', 'Malware', 'Normal',\n",
        "        'Vol_informations']"
      ],
      "metadata": {
        "id": "QMDdCxkwubAK"
      },
      "execution_count": 19,
      "outputs": []
    },
    {
      "cell_type": "code",
      "source": [
        "labels = class_names\n",
        "sizes = values[1:]"
      ],
      "metadata": {
        "id": "ib74ur1nvAIB"
      },
      "execution_count": 20,
      "outputs": []
    },
    {
      "cell_type": "code",
      "source": [
        "#tracage de la distribution des categories\n",
        "import matplotlib.pyplot as plt\n",
        "\n",
        "fig1, ax1 = plt.subplots()\n",
        "ax1.pie(sizes, autopct='%1.1f%%', startangle=120)\n",
        "centre_circle = plt.Circle((0,0),0.50,fc='white')\n",
        "fig = plt.gcf()\n",
        "fig.gca().add_artist(centre_circle)\n",
        "ax1.axis('equal')  \n",
        "plt.tight_layout()\n",
        "plt.legend(labels =labels)\n",
        "plt.show()"
      ],
      "metadata": {
        "colab": {
          "base_uri": "https://localhost:8080/",
          "height": 357
        },
        "id": "rCjD9JvQvIYb",
        "outputId": "346fdc56-6798-4712-c967-c0775b893233"
      },
      "execution_count": 21,
      "outputs": [
        {
          "output_type": "stream",
          "name": "stderr",
          "text": [
            "/usr/local/lib/python3.7/dist-packages/ipykernel_launcher.py:5: MatplotlibDeprecationWarning: Non-1D inputs to pie() are currently squeeze()d, but this behavior is deprecated since 3.1 and will be removed in 3.3; pass a 1D array instead.\n",
            "  \"\"\"\n"
          ]
        },
        {
          "output_type": "display_data",
          "data": {
            "text/plain": [
              "<Figure size 432x288 with 1 Axes>"
            ],
            "image/png": "[encoded data removed]"
          },
          "metadata": {}
        }
      ]
    },
    {
      "cell_type": "code",
      "source": [
        "#fonction d'encodage des variable\n",
        "def encode_text_dummy(df, name):\n",
        "\n",
        "    dummies = pd.get_dummies(df[name])\n",
        "\n",
        "    for x in dummies.columns:\n",
        "\n",
        "        dummy_name = f\"{name}-{x}\"\n",
        "\n",
        "        df[dummy_name] = dummies[x]\n",
        "\n",
        "    df.drop(name, axis=1, inplace=True)"
      ],
      "metadata": {
        "id": "MvTVLKV1vpy-"
      },
      "execution_count": 22,
      "outputs": []
    },
    {
      "cell_type": "code",
      "source": [
        "encode_text_dummy(df,'http.request.method')\n",
        "\n",
        "encode_text_dummy(df,'http.referer')\n",
        "\n",
        "encode_text_dummy(df,\"http.request.version\")\n",
        "\n",
        "encode_text_dummy(df,\"dns.qry.name.len\")\n",
        "\n",
        "encode_text_dummy(df,\"mqtt.conack.flags\")\n",
        "\n",
        "encode_text_dummy(df,\"mqtt.protoname\")"
      ],
      "metadata": {
        "id": "rr2JQ41TvvEA"
      },
      "execution_count": 23,
      "outputs": []
    },
    {
      "cell_type": "code",
      "source": [
        "df.info()"
      ],
      "metadata": {
        "colab": {
          "base_uri": "https://localhost:8080/"
        },
        "id": "KmRDMRzZv4Zx",
        "outputId": "a41dea15-acaf-4c9d-d1cd-bbbf3a8a2889"
      },
      "execution_count": 24,
      "outputs": [
        {
          "output_type": "stream",
          "name": "stdout",
          "text": [
            "<class 'pandas.core.frame.DataFrame'>\n",
            "Int64Index: 1909671 entries, 0 to 2219193\n",
            "Data columns (total 94 columns):\n",
            " #   Column                                                                                                Dtype  \n",
            "---  ------                                                                                                -----  \n",
            " 0   arp.opcode                                                                                            float64\n",
            " 1   arp.hw.size                                                                                           float64\n",
            " 2   icmp.checksum                                                                                         float64\n",
            " 3   icmp.seq_le                                                                                           float64\n",
            " 4   icmp.unused                                                                                           float64\n",
            " 5   http.content_length                                                                                   float64\n",
            " 6   http.response                                                                                         float64\n",
            " 7   http.tls_port                                                                                         float64\n",
            " 8   tcp.ack                                                                                               float64\n",
            " 9   tcp.ack_raw                                                                                           float64\n",
            " 10  tcp.checksum                                                                                          float64\n",
            " 11  tcp.connection.fin                                                                                    float64\n",
            " 12  tcp.connection.rst                                                                                    float64\n",
            " 13  tcp.connection.syn                                                                                    float64\n",
            " 14  tcp.connection.synack                                                                                 float64\n",
            " 15  tcp.flags                                                                                             float64\n",
            " 16  tcp.flags.ack                                                                                         float64\n",
            " 17  tcp.len                                                                                               float64\n",
            " 18  tcp.seq                                                                                               float64\n",
            " 19  udp.stream                                                                                            float64\n",
            " 20  udp.time_delta                                                                                        float64\n",
            " 21  dns.qry.name                                                                                          float64\n",
            " 22  dns.qry.qu                                                                                            float64\n",
            " 23  dns.qry.type                                                                                          float64\n",
            " 24  dns.retransmission                                                                                    float64\n",
            " 25  dns.retransmit_request                                                                                float64\n",
            " 26  dns.retransmit_request_in                                                                             float64\n",
            " 27  mqtt.conflag.cleansess                                                                                float64\n",
            " 28  mqtt.conflags                                                                                         float64\n",
            " 29  mqtt.hdrflags                                                                                         float64\n",
            " 30  mqtt.len                                                                                              float64\n",
            " 31  mqtt.msg_decoded_as                                                                                   float64\n",
            " 32  mqtt.msgtype                                                                                          float64\n",
            " 33  mqtt.proto_len                                                                                        float64\n",
            " 34  mqtt.topic_len                                                                                        float64\n",
            " 35  mqtt.ver                                                                                              float64\n",
            " 36  mbtcp.len                                                                                             float64\n",
            " 37  mbtcp.trans_id                                                                                        float64\n",
            " 38  mbtcp.unit_id                                                                                         float64\n",
            " 39  Attack_label                                                                                          int64  \n",
            " 40  Attack_type                                                                                           object \n",
            " 41  http.request.method-0                                                                                 uint8  \n",
            " 42  http.request.method-0.0                                                                               uint8  \n",
            " 43  http.request.method-GET                                                                               uint8  \n",
            " 44  http.request.method-OPTIONS                                                                           uint8  \n",
            " 45  http.request.method-POST                                                                              uint8  \n",
            " 46  http.request.method-PROPFIND                                                                          uint8  \n",
            " 47  http.request.method-PUT                                                                               uint8  \n",
            " 48  http.request.method-SEARCH                                                                            uint8  \n",
            " 49  http.request.method-TRACE                                                                             uint8  \n",
            " 50  http.referer-() { _; } >_[$($())] { echo 93e4r0-CVE-2014-6278: true; echo;echo; }                     uint8  \n",
            " 51  http.referer-0                                                                                        uint8  \n",
            " 52  http.referer-0.0                                                                                      uint8  \n",
            " 53  http.referer-127.0.0.1                                                                                uint8  \n",
            " 54  http.referer-TESTING_PURPOSES_ONLY                                                                    uint8  \n",
            " 55  http.request.version--a HTTP/1.1                                                                      uint8  \n",
            " 56  http.request.version--al&ABSOLUTE_PATH_STUDIP=http://cirt.net/rfiinc.txt?? HTTP/1.1                   uint8  \n",
            " 57  http.request.version--al&_PHPLIB[libdir]=http://cirt.net/rfiinc.txt?? HTTP/1.1                        uint8  \n",
            " 58  http.request.version-/etc/passwd|?data=Download HTTP/1.1                                              uint8  \n",
            " 59  http.request.version-0                                                                                uint8  \n",
            " 60  http.request.version-0.0                                                                              uint8  \n",
            " 61  http.request.version-> HTTP/1.1                                                                       uint8  \n",
            " 62  http.request.version-By Dr HTTP/1.1                                                                   uint8  \n",
            " 63  http.request.version-HTTP/1.0                                                                         uint8  \n",
            " 64  http.request.version-HTTP/1.1                                                                         uint8  \n",
            " 65  http.request.version-Src=javascript:alert('Vulnerable')><Img Src=\\\" HTTP/1.1                          uint8  \n",
            " 66  http.request.version-name=a><input name=i value=XSS>&lt;script>alert('Vulnerable')</script> HTTP/1.1  uint8  \n",
            " 67  http.request.version-script>alert(1)/script><\\\" HTTP/1.1                                              uint8  \n",
            " 68  dns.qry.name.len-0                                                                                    uint8  \n",
            " 69  dns.qry.name.len-0.0                                                                                  uint8  \n",
            " 70  dns.qry.name.len-0.debian.pool.ntp.org                                                                uint8  \n",
            " 71  dns.qry.name.len-1.0                                                                                  uint8  \n",
            " 72  dns.qry.name.len-1.debian.pool.ntp.org                                                                uint8  \n",
            " 73  dns.qry.name.len-2.debian.pool.ntp.org                                                                uint8  \n",
            " 74  dns.qry.name.len-3.debian.pool.ntp.org                                                                uint8  \n",
            " 75  dns.qry.name.len-_googlecast._tcp.local                                                               uint8  \n",
            " 76  dns.qry.name.len-null-null.local                                                                      uint8  \n",
            " 77  dns.qry.name.len-raspberrypi.local                                                                    uint8  \n",
            " 78  mqtt.conack.flags-0                                                                                   uint8  \n",
            " 79  mqtt.conack.flags-0.0                                                                                 uint8  \n",
            " 80  mqtt.conack.flags-0x00000000                                                                          uint8  \n",
            " 81  mqtt.conack.flags-1461073                                                                             uint8  \n",
            " 82  mqtt.conack.flags-1461074                                                                             uint8  \n",
            " 83  mqtt.conack.flags-1461383                                                                             uint8  \n",
            " 84  mqtt.conack.flags-1461384                                                                             uint8  \n",
            " 85  mqtt.conack.flags-1461589                                                                             uint8  \n",
            " 86  mqtt.conack.flags-1461591                                                                             uint8  \n",
            " 87  mqtt.conack.flags-1471198                                                                             uint8  \n",
            " 88  mqtt.conack.flags-1471199                                                                             uint8  \n",
            " 89  mqtt.conack.flags-1574358                                                                             uint8  \n",
            " 90  mqtt.conack.flags-1574359                                                                             uint8  \n",
            " 91  mqtt.protoname-0                                                                                      uint8  \n",
            " 92  mqtt.protoname-0.0                                                                                    uint8  \n",
            " 93  mqtt.protoname-MQTT                                                                                   uint8  \n",
            "dtypes: float64(39), int64(1), object(1), uint8(53)\n",
            "memory usage: 708.4+ MB\n"
          ]
        }
      ]
    },
    {
      "cell_type": "code",
      "source": [
        "# Affichage des types d'attaques \n",
        "print(df['Attack_type'].value_counts())"
      ],
      "metadata": {
        "colab": {
          "base_uri": "https://localhost:8080/"
        },
        "id": "k-rdQcqzw5AB",
        "outputId": "4135df3e-7eed-4c81-b140-7fbeaab1ddd4"
      },
      "execution_count": 25,
      "outputs": [
        {
          "output_type": "stream",
          "name": "stdout",
          "text": [
            "Normal              1363998\n",
            "DDoS                 288112\n",
            "Injection            102699\n",
            "Malware               83648\n",
            "Vol_informations      70856\n",
            "MITM                    358\n",
            "Name: Attack_type, dtype: int64\n"
          ]
        }
      ]
    },
    {
      "cell_type": "code",
      "source": [
        "y= y.map({'Normal':0,'DDoS':1,'Injection':2,'Malware':3,'Vol_informations':4,\n",
        "       'MITM':5},\n",
        "      na_action=None)"
      ],
      "metadata": {
        "id": "k6aPPVsiwP-u"
      },
      "execution_count": 26,
      "outputs": []
    },
    {
      "cell_type": "code",
      "source": [
        "y"
      ],
      "metadata": {
        "colab": {
          "base_uri": "https://localhost:8080/"
        },
        "id": "fVOo9IHr0ANE",
        "outputId": "81d4e717-ecc2-433a-813a-878fb0b1fe13"
      },
      "execution_count": 27,
      "outputs": [
        {
          "output_type": "execute_result",
          "data": {
            "text/plain": [
              "0          0\n",
              "1          0\n",
              "2          0\n",
              "3          0\n",
              "4          0\n",
              "          ..\n",
              "2219162    1\n",
              "2219167    1\n",
              "2219181    1\n",
              "2219192    1\n",
              "2219193    1\n",
              "Name: Attack_type, Length: 1909671, dtype: int64"
            ]
          },
          "metadata": {},
          "execution_count": 27
        }
      ]
    },
    {
      "cell_type": "code",
      "source": [
        "dummies = pd.get_dummies(y) \n",
        "y = dummies.values"
      ],
      "metadata": {
        "id": "vqMRlzDTxbp8"
      },
      "execution_count": 28,
      "outputs": []
    },
    {
      "cell_type": "code",
      "source": [
        "y"
      ],
      "metadata": {
        "colab": {
          "base_uri": "https://localhost:8080/"
        },
        "id": "fqnVAu_rxlPD",
        "outputId": "cea2e7b1-4b03-43b0-a94b-5ee33fb988f8"
      },
      "execution_count": 29,
      "outputs": [
        {
          "output_type": "execute_result",
          "data": {
            "text/plain": [
              "array([[1, 0, 0, 0, 0, 0],\n",
              "       [1, 0, 0, 0, 0, 0],\n",
              "       [1, 0, 0, 0, 0, 0],\n",
              "       ...,\n",
              "       [0, 1, 0, 0, 0, 0],\n",
              "       [0, 1, 0, 0, 0, 0],\n",
              "       [0, 1, 0, 0, 0, 0]], dtype=uint8)"
            ]
          },
          "metadata": {},
          "execution_count": 29
        }
      ]
    },
    {
      "cell_type": "code",
      "source": [
        "X = df"
      ],
      "metadata": {
        "id": "SsmFPwTkxorL"
      },
      "execution_count": 30,
      "outputs": []
    },
    {
      "cell_type": "code",
      "source": [
        "X.shape"
      ],
      "metadata": {
        "colab": {
          "base_uri": "https://localhost:8080/"
        },
        "id": "EmfpRn72x5Cf",
        "outputId": "1bc5262e-555d-4c1e-c3a3-d26d514d4e0f"
      },
      "execution_count": 31,
      "outputs": [
        {
          "output_type": "execute_result",
          "data": {
            "text/plain": [
              "(1909671, 94)"
            ]
          },
          "metadata": {},
          "execution_count": 31
        }
      ]
    },
    {
      "cell_type": "code",
      "source": [],
      "metadata": {
        "id": "QAVI56pF1rqF"
      },
      "execution_count": null,
      "outputs": []
    },
    {
      "cell_type": "code",
      "source": [
        "X.drop('Attack_type',axis=1,inplace=True)\n",
        "X.drop('Attack_label',axis=1,inplace=True)"
      ],
      "metadata": {
        "id": "j3_NfbcyyNxd"
      },
      "execution_count": 32,
      "outputs": []
    },
    {
      "cell_type": "code",
      "source": [
        "# Standardisation des données\n",
        "from sklearn.preprocessing import StandardScaler\n",
        "X2 = StandardScaler().fit_transform(X)"
      ],
      "metadata": {
        "id": "19xRqY_MyXvB"
      },
      "execution_count": 33,
      "outputs": []
    },
    {
      "cell_type": "code",
      "source": [
        "#Separation en train et test set\n",
        "from sklearn.model_selection import train_test_split\n",
        "\n",
        "xtrain, xtest, ytrain, ytest = train_test_split(X2, y,\n",
        "                                                test_size = 0.3 ,stratify=y)"
      ],
      "metadata": {
        "id": "lAuJpB1UydpG"
      },
      "execution_count": 34,
      "outputs": []
    },
    {
      "cell_type": "code",
      "source": [
        "from keras.models import Sequential\n",
        "from keras.layers import Dense\n",
        "from keras.layers import LSTM\n",
        "from keras.layers import Dropout\n",
        "from keras.layers import Flatten\n",
        "from keras.layers import RNN,Activation\n",
        "\n",
        "model_lstm = Sequential() \n",
        "model_lstm.add(LSTM(units = 32, return_sequences = True, input_shape = (xtrain.shape[1],1)))\n",
        "model_lstm.add(Dense(64, activation='relu'))\n",
        "model_lstm.add(Dense(64, activation='relu'))\n",
        "model_lstm.add(Dropout(0.2))\n",
        "model_lstm.add(Flatten())\n",
        "model_lstm.add(Dense(6, activation='softmax'))\n",
        "model_lstm.compile(optimizer = 'adam', loss ='categorical_crossentropy', metrics=['accuracy'] )\n",
        "model_lstm.summary()"
      ],
      "metadata": {
        "colab": {
          "base_uri": "https://localhost:8080/"
        },
        "id": "Xnuk62Al0MuK",
        "outputId": "bf38afbc-27fd-4241-c7ff-4a7b2440bc40"
      },
      "execution_count": 35,
      "outputs": [
        {
          "output_type": "stream",
          "name": "stdout",
          "text": [
            "Model: \"sequential\"\n",
            "_________________________________________________________________\n",
            " Layer (type)                Output Shape              Param #   \n",
            "=================================================================\n",
            " lstm (LSTM)                 (None, 92, 32)            4352      \n",
            "                                                                 \n",
            " dense (Dense)               (None, 92, 64)            2112      \n",
            "                                                                 \n",
            " dense_1 (Dense)             (None, 92, 64)            4160      \n",
            "                                                                 \n",
            " dropout (Dropout)           (None, 92, 64)            0         \n",
            "                                                                 \n",
            " flatten (Flatten)           (None, 5888)              0         \n",
            "                                                                 \n",
            " dense_2 (Dense)             (None, 6)                 35334     \n",
            "                                                                 \n",
            "=================================================================\n",
            "Total params: 45,958\n",
            "Trainable params: 45,958\n",
            "Non-trainable params: 0\n",
            "_________________________________________________________________\n"
          ]
        }
      ]
    },
    {
      "cell_type": "code",
      "source": [
        "from keras.utils.vis_utils import plot_model\n",
        "\n",
        "plot_model(model_lstm, to_file='model_plot.png', show_shapes=True, show_layer_names=True)"
      ],
      "metadata": {
        "colab": {
          "base_uri": "https://localhost:8080/",
          "height": 754
        },
        "id": "Sw9xpg2S0iPP",
        "outputId": "744369ac-4759-4105-e5cb-b141d41d3f24"
      },
      "execution_count": 36,
      "outputs": [
        {
          "output_type": "execute_result",
          "data": {
            "image/png": "[encoded data removed]",
            "text/plain": [
              "<IPython.core.display.Image object>"
            ]
          },
          "metadata": {},
          "execution_count": 36
        }
      ]
    },
    {
      "cell_type": "code",
      "source": [
        "history_lstm = model_lstm.fit(\n",
        "    xtrain,\n",
        "    ytrain,\n",
        "    validation_split = 0.1,\n",
        "    epochs = 20,\n",
        "    batch_size = 2048\n",
        ")"
      ],
      "metadata": {
        "colab": {
          "base_uri": "https://localhost:8080/"
        },
        "id": "tS6Wj0hG0sA6",
        "outputId": "5d05d181-841d-4cd3-81d1-bedd0813aded"
      },
      "execution_count": 40,
      "outputs": [
        {
          "output_type": "stream",
          "name": "stdout",
          "text": [
            "Epoch 1/20\n",
            "588/588 [==============================] - 16s 26ms/step - loss: 0.0820 - accuracy: 0.9592 - val_loss: 0.0810 - val_accuracy: 0.9597\n",
            "Epoch 2/20\n",
            "588/588 [==============================] - 16s 26ms/step - loss: 0.0814 - accuracy: 0.9595 - val_loss: 0.0806 - val_accuracy: 0.9598\n",
            "Epoch 3/20\n",
            "588/588 [==============================] - 16s 28ms/step - loss: 0.0809 - accuracy: 0.9599 - val_loss: 0.0814 - val_accuracy: 0.9607\n",
            "Epoch 4/20\n",
            "588/588 [==============================] - 15s 26ms/step - loss: 0.0802 - accuracy: 0.9601 - val_loss: 0.0803 - val_accuracy: 0.9605\n",
            "Epoch 5/20\n",
            "588/588 [==============================] - 16s 27ms/step - loss: 0.0796 - accuracy: 0.9603 - val_loss: 0.0792 - val_accuracy: 0.9609\n",
            "Epoch 6/20\n",
            "588/588 [==============================] - 16s 26ms/step - loss: 0.0799 - accuracy: 0.9602 - val_loss: 0.0779 - val_accuracy: 0.9609\n",
            "Epoch 7/20\n",
            "588/588 [==============================] - 16s 27ms/step - loss: 0.0786 - accuracy: 0.9606 - val_loss: 0.0776 - val_accuracy: 0.9614\n",
            "Epoch 8/20\n",
            "588/588 [==============================] - 16s 27ms/step - loss: 0.0781 - accuracy: 0.9608 - val_loss: 0.0772 - val_accuracy: 0.9615\n",
            "Epoch 9/20\n",
            "588/588 [==============================] - 16s 27ms/step - loss: 0.0779 - accuracy: 0.9609 - val_loss: 0.0772 - val_accuracy: 0.9614\n",
            "Epoch 10/20\n",
            "588/588 [==============================] - 16s 26ms/step - loss: 0.0780 - accuracy: 0.9609 - val_loss: 0.0765 - val_accuracy: 0.9618\n",
            "Epoch 11/20\n",
            "588/588 [==============================] - 16s 26ms/step - loss: 0.0773 - accuracy: 0.9610 - val_loss: 0.0774 - val_accuracy: 0.9611\n",
            "Epoch 12/20\n",
            "588/588 [==============================] - 16s 27ms/step - loss: 0.0770 - accuracy: 0.9612 - val_loss: 0.0765 - val_accuracy: 0.9617\n",
            "Epoch 13/20\n",
            "588/588 [==============================] - 16s 27ms/step - loss: 0.0769 - accuracy: 0.9613 - val_loss: 0.1151 - val_accuracy: 0.9456\n",
            "Epoch 14/20\n",
            "588/588 [==============================] - 16s 27ms/step - loss: 0.0794 - accuracy: 0.9602 - val_loss: 0.0774 - val_accuracy: 0.9614\n",
            "Epoch 15/20\n",
            "588/588 [==============================] - 16s 26ms/step - loss: 0.0780 - accuracy: 0.9610 - val_loss: 0.0771 - val_accuracy: 0.9613\n",
            "Epoch 16/20\n",
            "588/588 [==============================] - 16s 26ms/step - loss: 0.0767 - accuracy: 0.9612 - val_loss: 0.0757 - val_accuracy: 0.9616\n",
            "Epoch 17/20\n",
            "588/588 [==============================] - 16s 27ms/step - loss: 0.0762 - accuracy: 0.9614 - val_loss: 0.0761 - val_accuracy: 0.9619\n",
            "Epoch 18/20\n",
            "588/588 [==============================] - 16s 27ms/step - loss: 0.0773 - accuracy: 0.9610 - val_loss: 0.0760 - val_accuracy: 0.9616\n",
            "Epoch 19/20\n",
            "588/588 [==============================] - 16s 27ms/step - loss: 0.0761 - accuracy: 0.9613 - val_loss: 0.0757 - val_accuracy: 0.9617\n",
            "Epoch 20/20\n",
            "588/588 [==============================] - 16s 27ms/step - loss: 0.0760 - accuracy: 0.9614 - val_loss: 0.0754 - val_accuracy: 0.9616\n"
          ]
        }
      ]
    },
    {
      "cell_type": "code",
      "source": [
        "import matplotlib.pyplot as plt\n",
        "\n",
        "plt.clf()\n",
        "loss = history_lstm.history['loss']\n",
        "val_loss = history_lstm.history['val_loss']\n",
        "epochs = range(1, len(loss) + 1)\n",
        "plt.plot(epochs, loss, 'b', label='Training loss')\n",
        "plt.plot(epochs, val_loss, 'g', label='Validation loss')\n",
        "plt.title('Training and validation loss')\n",
        "plt.xlabel('Epochs')\n",
        "plt.ylabel('Loss')\n",
        "plt.legend()\n",
        "plt.show()"
      ],
      "metadata": {
        "colab": {
          "base_uri": "https://localhost:8080/",
          "height": 295
        },
        "id": "VGZp7nsd2HXH",
        "outputId": "63bbdda7-f32f-4901-a8fb-59b6a3661774"
      },
      "execution_count": 41,
      "outputs": [
        {
          "output_type": "display_data",
          "data": {
            "text/plain": [
              "<Figure size 432x288 with 1 Axes>"
            ],
            "image/png": "[encoded data removed]"
          },
          "metadata": {
            "needs_background": "light"
          }
        }
      ]
    },
    {
      "cell_type": "code",
      "source": [
        "plt.clf()\n",
        "acc = history_lstm.history['accuracy']\n",
        "val_acc = history_lstm.history['val_accuracy']\n",
        "plt.plot(epochs, acc, 'b', label='Training acc')\n",
        "plt.plot(epochs, val_acc, 'g', label='Validation acc')\n",
        "plt.title('Training and validation accuracy')\n",
        "plt.xlabel('Epochs')\n",
        "plt.ylabel('Accuracy')\n",
        "plt.legend()\n",
        "plt.show()"
      ],
      "metadata": {
        "id": "elMlV2L6gFqZ",
        "outputId": "42d1825f-efa4-4f8f-d2a5-f966c409469e",
        "colab": {
          "base_uri": "https://localhost:8080/",
          "height": 295
        }
      },
      "execution_count": 42,
      "outputs": [
        {
          "output_type": "display_data",
          "data": {
            "text/plain": [
              "<Figure size 432x288 with 1 Axes>"
            ],
            "image/png": "[encoded data removed]"
          },
          "metadata": {
            "needs_background": "light"
          }
        }
      ]
    },
    {
      "cell_type": "code",
      "source": [
        "from sklearn import metrics\n",
        "y_pred = model_lstm.predict(xtest)\n",
        "y_pred = np.argmax(y_pred,axis=1) \n",
        "y_true = np.argmax(ytest,axis=1)"
      ],
      "metadata": {
        "id": "EzDJoz1oVcVG"
      },
      "execution_count": 43,
      "outputs": []
    },
    {
      "cell_type": "code",
      "source": [
        "y_pred"
      ],
      "metadata": {
        "colab": {
          "base_uri": "https://localhost:8080/"
        },
        "id": "kBOwQBF_Wi6E",
        "outputId": "1d2804e5-1aa9-4ca1-af82-189e50aec58c"
      },
      "execution_count": 44,
      "outputs": [
        {
          "output_type": "execute_result",
          "data": {
            "text/plain": [
              "array([3, 1, 0, ..., 2, 0, 0])"
            ]
          },
          "metadata": {},
          "execution_count": 44
        }
      ]
    },
    {
      "cell_type": "code",
      "source": [
        "y_true"
      ],
      "metadata": {
        "colab": {
          "base_uri": "https://localhost:8080/"
        },
        "id": "lbkCdWo9Wl8V",
        "outputId": "2a525773-9f05-4052-cbe0-58dc4d0b62ab"
      },
      "execution_count": 45,
      "outputs": [
        {
          "output_type": "execute_result",
          "data": {
            "text/plain": [
              "array([3, 1, 0, ..., 3, 0, 0])"
            ]
          },
          "metadata": {},
          "execution_count": 45
        }
      ]
    },
    {
      "cell_type": "code",
      "source": [
        "from sklearn.metrics import multilabel_confusion_matrix\n",
        "cm_ml =multilabel_confusion_matrix(y_true, y_pred)\n"
      ],
      "metadata": {
        "id": "6mJIaqAEWo6q"
      },
      "execution_count": 46,
      "outputs": []
    },
    {
      "cell_type": "code",
      "source": [
        "cm_ml"
      ],
      "metadata": {
        "id": "u6GTSL_Ljbed",
        "outputId": "589b369d-9918-4888-954c-c86588135b9f",
        "colab": {
          "base_uri": "https://localhost:8080/"
        }
      },
      "execution_count": 48,
      "outputs": [
        {
          "output_type": "execute_result",
          "data": {
            "text/plain": [
              "array([[[163702,      0],\n",
              "        [     0, 409200]],\n",
              "\n",
              "       [[478047,   8421],\n",
              "        [   672,  85762]],\n",
              "\n",
              "       [[529009,  13083],\n",
              "        [  3282,  27528]],\n",
              "\n",
              "       [[547495,    313],\n",
              "        [ 12473,  12621]],\n",
              "\n",
              "       [[551470,    175],\n",
              "        [  5565,  15692]],\n",
              "\n",
              "       [[572795,      0],\n",
              "        [     0,    107]]])"
            ]
          },
          "metadata": {},
          "execution_count": 48
        }
      ]
    },
    {
      "cell_type": "code",
      "source": [
        "from sklearn.metrics import classification_report\n",
        "print(classification_report(y_true, y_pred))"
      ],
      "metadata": {
        "colab": {
          "base_uri": "https://localhost:8080/"
        },
        "id": "6629bNaKWvRd",
        "outputId": "3039fbc1-1e59-44d3-9cda-3caf2a0a8e72"
      },
      "execution_count": 49,
      "outputs": [
        {
          "output_type": "stream",
          "name": "stdout",
          "text": [
            "              precision    recall  f1-score   support\n",
            "\n",
            "           0       1.00      1.00      1.00    409200\n",
            "           1       0.91      0.99      0.95     86434\n",
            "           2       0.68      0.89      0.77     30810\n",
            "           3       0.98      0.50      0.66     25094\n",
            "           4       0.99      0.74      0.85     21257\n",
            "           5       1.00      1.00      1.00       107\n",
            "\n",
            "    accuracy                           0.96    572902\n",
            "   macro avg       0.93      0.85      0.87    572902\n",
            "weighted avg       0.97      0.96      0.96    572902\n",
            "\n"
          ]
        }
      ]
    },
    {
      "cell_type": "code",
      "source": [
        "cm = metrics.confusion_matrix(y_true, y_pred)"
      ],
      "metadata": {
        "id": "cz6F-twUXyB1"
      },
      "execution_count": 50,
      "outputs": []
    },
    {
      "cell_type": "code",
      "source": [
        "cm"
      ],
      "metadata": {
        "colab": {
          "base_uri": "https://localhost:8080/"
        },
        "id": "TX6I71YEX318",
        "outputId": "72af29c7-2a3b-4582-f612-8ccc251e7482"
      },
      "execution_count": 51,
      "outputs": [
        {
          "output_type": "execute_result",
          "data": {
            "text/plain": [
              "array([[409200,      0,      0,      0,      0,      0],\n",
              "       [     0,  85762,    503,      1,    168,      0],\n",
              "       [     0,   3027,  27528,    248,      7,      0],\n",
              "       [     0,    229,  12244,  12621,      0,      0],\n",
              "       [     0,   5165,    336,     64,  15692,      0],\n",
              "       [     0,      0,      0,      0,      0,    107]])"
            ]
          },
          "metadata": {},
          "execution_count": 51
        }
      ]
    },
    {
      "cell_type": "code",
      "source": [
        "classes= ['Normal', 'DDoS', 'Injection', 'Malware', 'Vol_informations',\n",
        "        'MITM']"
      ],
      "metadata": {
        "id": "WpXmTd0rYKYi"
      },
      "execution_count": 52,
      "outputs": []
    },
    {
      "cell_type": "code",
      "source": [
        "from sklearn.metrics import confusion_matrix\n",
        "import seaborn as sns\n",
        "\n",
        "#cm = confusion_matrix(y_test, y_pred)\n",
        "# Normalise\n",
        "cmn = cm.astype('float') / cm.sum(axis=1)[:, np.newaxis]\n",
        "fig, ax = plt.subplots(figsize=(10,10))\n",
        "sns.heatmap(cmn, annot=True, fmt='.2f', xticklabels=classes, yticklabels=classes)\n",
        "plt.ylabel('Reel ')\n",
        "plt.xlabel('Predite par le model')\n",
        "plt.show(block=False)"
      ],
      "metadata": {
        "colab": {
          "base_uri": "https://localhost:8080/",
          "height": 610
        },
        "id": "mEvlv53NW7SA",
        "outputId": "fdc01e60-e2cb-461d-c588-51aac5d37367"
      },
      "execution_count": 53,
      "outputs": [
        {
          "output_type": "display_data",
          "data": {
            "text/plain": [
              "<Figure size 720x720 with 2 Axes>"
            ],
            "image/png": "[encoded data removed]"
          },
          "metadata": {
            "needs_background": "light"
          }
        }
      ]
    }
  ]
}