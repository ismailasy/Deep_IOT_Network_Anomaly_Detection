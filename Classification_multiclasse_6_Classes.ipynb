{
  "nbformat": 4,
  "nbformat_minor": 0,
  "metadata": {
    "colab": {
      "name": "Classification multiclasse_6_Classes.ipynb",
      "provenance": [],
      "collapsed_sections": [],
      "mount_file_id": "1EP4NNOneav2HBpXqp1-ZEFWTyZbgdMWF",
      "authorship_tag": "ABX9TyP71cLF6uOXNDJ/EzQasqN5",
      "include_colab_link": true
    },
    "kernelspec": {
      "name": "python3",
      "display_name": "Python 3"
    },
    "language_info": {
      "name": "python"
    }
  },
  "cells": [
    {
      "cell_type": "markdown",
      "metadata": {
        "id": "view-in-github",
        "colab_type": "text"
      },
      "source": [
        "<a href=\"https://colab.research.google.com/github/ismailasy/Deep_IOT_Network_Anomaly_Detection/blob/main/Classification_multiclasse_6_Classes.ipynb\" target=\"_parent\"><img src=\"https://colab.research.google.com/assets/colab-badge.svg\" alt=\"Open In Colab\"/></a>"
      ]
    },
    {
      "cell_type": "markdown",
      "source": [
        "Pour cette section nous allons essayer de faire une classification multiclasse en 5 classes:\n",
        "\n",
        "\n",
        "1.   MITM(attaque man in the midddle)\n",
        "2.   Injection \n",
        "3.   Malware \n",
        "4.   DDos(Deni de service distribué)\n",
        "5.   Vol d'informations\n",
        "\n",
        "\n",
        "\n",
        "\n"
      ],
      "metadata": {
        "id": "GHj3woWSPJJg"
      }
    },
    {
      "cell_type": "code",
      "execution_count": 1,
      "metadata": {
        "id": "yjw0U9s3OMRX"
      },
      "outputs": [],
      "source": [
        "# Pour commencer nous allons importzr le jeu de données Iot dataset\n",
        "import pandas as pd\n",
        "import numpy as np\n",
        "\n",
        "df = pd.read_csv('/content/drive/MyDrive/Datasets/Selected dataset for ML and DL/DNN-EdgeIIoT-dataset.csv', low_memory=False)"
      ]
    },
    {
      "cell_type": "code",
      "source": [
        "# Affichage des types d'attaques \n",
        "print(df['Attack_type'].value_counts())"
      ],
      "metadata": {
        "colab": {
          "base_uri": "https://localhost:8080/"
        },
        "id": "DlTlHsO9QytN",
        "outputId": "f587c9ca-9e7f-4cc4-ea7e-1e5ef55f80fb"
      },
      "execution_count": 2,
      "outputs": [
        {
          "output_type": "stream",
          "name": "stdout",
          "text": [
            "Normal                   1615643\n",
            "DDoS_UDP                  121568\n",
            "DDoS_ICMP                 116436\n",
            "SQL_injection              51203\n",
            "Password                   50153\n",
            "Vulnerability_scanner      50110\n",
            "DDoS_TCP                   50062\n",
            "DDoS_HTTP                  49911\n",
            "Uploading                  37634\n",
            "Backdoor                   24862\n",
            "Port_Scanning              22564\n",
            "XSS                        15915\n",
            "Ransomware                 10925\n",
            "MITM                        1214\n",
            "Fingerprinting              1001\n",
            "Name: Attack_type, dtype: int64\n"
          ]
        }
      ]
    },
    {
      "cell_type": "markdown",
      "source": [
        "Pour commencer nous allons regroupper les categories d'attaques de meme type sur une seule classe\n",
        "\n",
        "*   MITM \n",
        "*   Injection : XSS,SQL_injection,Uploading\n",
        "*   Malware : Backdoor,Ransomware,Password \n",
        "*   DDoS(DDoS_UDP,DDoS_ICMP,DDoS_TCP,DDoS_HTTP )\n",
        "*   Vol d'informations :Port_Scanning,Vulnerability_scanner,Fingerprinting              \n",
        "\n"
      ],
      "metadata": {
        "id": "DSUnMxIuQ8dT"
      }
    },
    {
      "cell_type": "markdown",
      "source": [],
      "metadata": {
        "id": "TnoGsAriQ9qD"
      }
    },
    {
      "cell_type": "code",
      "source": [],
      "metadata": {
        "id": "C7EKcA9DQ7H8"
      },
      "execution_count": null,
      "outputs": []
    }
  ]
}