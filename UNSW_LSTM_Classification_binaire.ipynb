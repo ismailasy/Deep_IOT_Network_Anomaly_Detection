{
  "cells": [
    {
      "cell_type": "markdown",
      "metadata": {
        "id": "view-in-github",
        "colab_type": "text"
      },
      "source": [
        "<a href=\"https://colab.research.google.com/github/ismailasy/Deep_IOT_Network_Anomaly_Detection/blob/main/UNSW_LSTM_Classification_binaire.ipynb\" target=\"_parent\"><img src=\"https://colab.research.google.com/assets/colab-badge.svg\" alt=\"Open In Colab\"/></a>"
      ]
    },
    {
      "cell_type": "code",
      "execution_count": 1,
      "metadata": {
        "colab": {
          "base_uri": "https://localhost:8080/"
        },
        "id": "KGd1agPgOoQC",
        "outputId": "d7bc8786-1e44-402c-e34e-2aceddf2b453"
      },
      "outputs": [
        {
          "output_type": "stream",
          "name": "stdout",
          "text": [
            "Looking in indexes: https://pypi.org/simple, https://us-python.pkg.dev/colab-wheels/public/simple/\n",
            "Collecting bayesian-optimization\n",
            "  Downloading bayesian-optimization-1.2.0.tar.gz (14 kB)\n",
            "Requirement already satisfied: numpy>=1.9.0 in /usr/local/lib/python3.7/dist-packages (from bayesian-optimization) (1.21.6)\n",
            "Requirement already satisfied: scipy>=0.14.0 in /usr/local/lib/python3.7/dist-packages (from bayesian-optimization) (1.4.1)\n",
            "Requirement already satisfied: scikit-learn>=0.18.0 in /usr/local/lib/python3.7/dist-packages (from bayesian-optimization) (1.0.2)\n",
            "Requirement already satisfied: threadpoolctl>=2.0.0 in /usr/local/lib/python3.7/dist-packages (from scikit-learn>=0.18.0->bayesian-optimization) (3.1.0)\n",
            "Requirement already satisfied: joblib>=0.11 in /usr/local/lib/python3.7/dist-packages (from scikit-learn>=0.18.0->bayesian-optimization) (1.1.0)\n",
            "Building wheels for collected packages: bayesian-optimization\n",
            "  Building wheel for bayesian-optimization (setup.py) ... \u001b[?25l\u001b[?25hdone\n",
            "  Created wheel for bayesian-optimization: filename=bayesian_optimization-1.2.0-py3-none-any.whl size=11685 sha256=a24bdcb07ff64f4df782193b25b60dd9080adcd74a78691562402bc6754dc050\n",
            "  Stored in directory: /root/.cache/pip/wheels/fd/9b/71/f127d694e02eb40bcf18c7ae9613b88a6be4470f57a8528c5b\n",
            "Successfully built bayesian-optimization\n",
            "Installing collected packages: bayesian-optimization\n",
            "Successfully installed bayesian-optimization-1.2.0\n"
          ]
        }
      ],
      "source": [
        "pip install  bayesian-optimization"
      ]
    },
    {
      "cell_type": "code",
      "execution_count": 2,
      "metadata": {
        "id": "vOhVarHFNXb3"
      },
      "outputs": [],
      "source": [
        "import pandas as pd\n",
        "import numpy as np\n",
        "import matplotlib.pyplot as plt\n",
        "from tensorflow.keras.utils import get_file\n",
        "from sklearn import preprocessing\n",
        "from sklearn.preprocessing import LabelEncoder\n",
        "from PIL import Image\n",
        "from sklearn.model_selection import StratifiedShuffleSplit\n",
        "from sklearn import metrics\n",
        "from keras import backend as K\n",
        "from keras.utils.generic_utils import get_custom_objects\n",
        "from bayes_opt import BayesianOptimization\n",
        "import pandas as pd\n",
        "import numpy as np\n",
        "import matplotlib.pyplot as plt\n",
        "from tensorflow.keras.utils import get_file\n",
        "from sklearn import preprocessing\n",
        "from sklearn.preprocessing import LabelEncoder\n",
        "from PIL import Image\n",
        "from sklearn.model_selection import StratifiedShuffleSplit\n",
        "from sklearn import metrics\n",
        "from keras import backend as K\n",
        "from keras.utils.generic_utils import get_custom_objects\n",
        "from bayes_opt import BayesianOptimization\n",
        "from sklearn.model_selection import StratifiedKFold\n",
        "from mlxtend.plotting import plot_confusion_matrix\n",
        "from sklearn.model_selection import train_test_split\n",
        "from imblearn.over_sampling import SMOTE\n",
        "\n",
        "\n",
        "from tensorflow.keras.models import Sequential,Model\n",
        "from tensorflow.keras.layers import Dense, Conv2D,LSTM, MaxPooling2D,UpSampling2D,Conv2DTranspose, Dropout, Flatten, Activation, LeakyReLU, ReLU, Input,concatenate,BatchNormalization\n",
        "from tensorflow.keras.optimizers import Adam\n",
        "from keras.regularizers import l1\n",
        "from tensorflow.keras.callbacks import EarlyStopping\n",
        "from sklearn.model_selection import StratifiedKFold\n",
        "from mlxtend.plotting import plot_confusion_matrix\n",
        "from sklearn.model_selection import train_test_split\n",
        "from imblearn.over_sampling import SMOTE\n",
        "\n",
        "\n",
        "from tensorflow.keras.models import Sequential,Model\n",
        "from tensorflow.keras.layers import Dense, Conv2D,LSTM, MaxPooling2D,UpSampling2D,Conv2DTranspose, Dropout, Flatten, Activation, LeakyReLU, ReLU, Input,concatenate,BatchNormalization\n",
        "from tensorflow.keras.optimizers import Adam\n",
        "from keras.regularizers import l1\n",
        "from tensorflow.keras.callbacks import EarlyStopping"
      ]
    },
    {
      "cell_type": "code",
      "execution_count": 3,
      "metadata": {
        "colab": {
          "base_uri": "https://localhost:8080/",
          "height": 120,
          "resources": {
            "http://localhost:8080/nbextensions/google.colab/files.js": {
              "data": "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",
              "headers": [
                [
                  "content-type",
                  "application/javascript"
                ]
              ],
              "ok": true,
              "status": 200,
              "status_text": ""
            }
          }
        },
        "id": "I95jtHI2OzPr",
        "outputId": "b5fe158a-6354-4135-9b39-b7f97bc289a9"
      },
      "outputs": [
        {
          "output_type": "display_data",
          "data": {
            "text/plain": [
              "<IPython.core.display.HTML object>"
            ],
            "text/html": [
              "\n",
              "     <input type=\"file\" id=\"files-32730e3d-ad8a-4495-a740-2d8b473b18fa\" name=\"files[]\" multiple disabled\n",
              "        style=\"border:none\" />\n",
              "     <output id=\"result-32730e3d-ad8a-4495-a740-2d8b473b18fa\">\n",
              "      Upload widget is only available when the cell has been executed in the\n",
              "      current browser session. Please rerun this cell to enable.\n",
              "      </output>\n",
              "      <script src=\"/nbextensions/google.colab/files.js\"></script> "
            ]
          },
          "metadata": {}
        },
        {
          "output_type": "stream",
          "name": "stdout",
          "text": [
            "Saving UNSW_NB15_training.csv to UNSW_NB15_training.csv\n",
            "Saving UNSW_NB15_testing.csv to UNSW_NB15_testing.csv\n"
          ]
        }
      ],
      "source": [
        "from google.colab import files \n",
        "  \n",
        "  \n",
        "uploaded = files.upload()"
      ]
    },
    {
      "cell_type": "code",
      "execution_count": 4,
      "metadata": {
        "id": "b06cG17FO-5J"
      },
      "outputs": [],
      "source": [
        "import pandas as pd \n",
        "import io \n",
        "  \n",
        "df_train = pd.read_csv(io.BytesIO(uploaded['UNSW_NB15_training.csv']))  \n",
        "df_test =  pd.read_csv(io.BytesIO(uploaded['UNSW_NB15_testing.csv']))  "
      ]
    },
    {
      "cell_type": "code",
      "source": [
        "#supprimer les colonnes inutiles\n",
        "df_train.drop('id', axis=1, inplace=True)\n",
        "df_train.drop('attack_cat', axis=1, inplace=True)\n",
        "df_test.drop('id', axis=1, inplace=True)\n",
        "df_test.drop('attack_cat', axis=1, inplace=True)"
      ],
      "metadata": {
        "id": "XWeR0IE3qAw8"
      },
      "execution_count": 5,
      "outputs": []
    },
    {
      "cell_type": "code",
      "source": [
        "#Nous concaténons l'ensemble d'apprentissage et l'ensemble de test pour manipuler directement l'ensemble.\n",
        "df = pd.concat([df_train,df_test],axis=0)"
      ],
      "metadata": {
        "id": "1HgpgRIVqHYY"
      },
      "execution_count": 6,
      "outputs": []
    },
    {
      "cell_type": "code",
      "source": [
        "df.head()"
      ],
      "metadata": {
        "colab": {
          "base_uri": "https://localhost:8080/",
          "height": 317
        },
        "id": "fM06JgfRqMCr",
        "outputId": "622ca467-ad6e-40d4-f7bb-ae3d8ddb0f60"
      },
      "execution_count": 7,
      "outputs": [
        {
          "output_type": "execute_result",
          "data": {
            "text/plain": [
              "        dur proto service state  spkts  dpkts  sbytes  dbytes       rate  \\\n",
              "0  0.121478   tcp       -   FIN      6      4     258     172  74.087490   \n",
              "1  0.649902   tcp       -   FIN     14     38     734   42014  78.473372   \n",
              "2  1.623129   tcp       -   FIN      8     16     364   13186  14.170161   \n",
              "3  1.681642   tcp     ftp   FIN     12     12     628     770  13.677108   \n",
              "4  0.449454   tcp       -   FIN     10      6     534     268  33.373826   \n",
              "\n",
              "   sttl  ...  ct_src_dport_ltm  ct_dst_sport_ltm  ct_dst_src_ltm  \\\n",
              "0   252  ...                 1                 1               1   \n",
              "1    62  ...                 1                 1               2   \n",
              "2    62  ...                 1                 1               3   \n",
              "3    62  ...                 1                 1               3   \n",
              "4   254  ...                 2                 1              40   \n",
              "\n",
              "   is_ftp_login  ct_ftp_cmd  ct_flw_http_mthd  ct_src_ltm  ct_srv_dst  \\\n",
              "0             0           0                 0           1           1   \n",
              "1             0           0                 0           1           6   \n",
              "2             0           0                 0           2           6   \n",
              "3             1           1                 0           2           1   \n",
              "4             0           0                 0           2          39   \n",
              "\n",
              "   is_sm_ips_ports  label  \n",
              "0                0      0  \n",
              "1                0      0  \n",
              "2                0      0  \n",
              "3                0      0  \n",
              "4                0      0  \n",
              "\n",
              "[5 rows x 43 columns]"
            ],
            "text/html": [
              "\n",
              "  <div id=\"df-6a8ee6e1-87df-4558-8d5e-1b31e067fcfa\">\n",
              "    <div class=\"colab-df-container\">\n",
              "      <div>\n",
              "<style scoped>\n",
              "    .dataframe tbody tr th:only-of-type {\n",
              "        vertical-align: middle;\n",
              "    }\n",
              "\n",
              "    .dataframe tbody tr th {\n",
              "        vertical-align: top;\n",
              "    }\n",
              "\n",
              "    .dataframe thead th {\n",
              "        text-align: right;\n",
              "    }\n",
              "</style>\n",
              "<table border=\"1\" class=\"dataframe\">\n",
              "  <thead>\n",
              "    <tr style=\"text-align: right;\">\n",
              "      <th></th>\n",
              "      <th>dur</th>\n",
              "      <th>proto</th>\n",
              "      <th>service</th>\n",
              "      <th>state</th>\n",
              "      <th>spkts</th>\n",
              "      <th>dpkts</th>\n",
              "      <th>sbytes</th>\n",
              "      <th>dbytes</th>\n",
              "      <th>rate</th>\n",
              "      <th>sttl</th>\n",
              "      <th>...</th>\n",
              "      <th>ct_src_dport_ltm</th>\n",
              "      <th>ct_dst_sport_ltm</th>\n",
              "      <th>ct_dst_src_ltm</th>\n",
              "      <th>is_ftp_login</th>\n",
              "      <th>ct_ftp_cmd</th>\n",
              "      <th>ct_flw_http_mthd</th>\n",
              "      <th>ct_src_ltm</th>\n",
              "      <th>ct_srv_dst</th>\n",
              "      <th>is_sm_ips_ports</th>\n",
              "      <th>label</th>\n",
              "    </tr>\n",
              "  </thead>\n",
              "  <tbody>\n",
              "    <tr>\n",
              "      <th>0</th>\n",
              "      <td>0.121478</td>\n",
              "      <td>tcp</td>\n",
              "      <td>-</td>\n",
              "      <td>FIN</td>\n",
              "      <td>6</td>\n",
              "      <td>4</td>\n",
              "      <td>258</td>\n",
              "      <td>172</td>\n",
              "      <td>74.087490</td>\n",
              "      <td>252</td>\n",
              "      <td>...</td>\n",
              "      <td>1</td>\n",
              "      <td>1</td>\n",
              "      <td>1</td>\n",
              "      <td>0</td>\n",
              "      <td>0</td>\n",
              "      <td>0</td>\n",
              "      <td>1</td>\n",
              "      <td>1</td>\n",
              "      <td>0</td>\n",
              "      <td>0</td>\n",
              "    </tr>\n",
              "    <tr>\n",
              "      <th>1</th>\n",
              "      <td>0.649902</td>\n",
              "      <td>tcp</td>\n",
              "      <td>-</td>\n",
              "      <td>FIN</td>\n",
              "      <td>14</td>\n",
              "      <td>38</td>\n",
              "      <td>734</td>\n",
              "      <td>42014</td>\n",
              "      <td>78.473372</td>\n",
              "      <td>62</td>\n",
              "      <td>...</td>\n",
              "      <td>1</td>\n",
              "      <td>1</td>\n",
              "      <td>2</td>\n",
              "      <td>0</td>\n",
              "      <td>0</td>\n",
              "      <td>0</td>\n",
              "      <td>1</td>\n",
              "      <td>6</td>\n",
              "      <td>0</td>\n",
              "      <td>0</td>\n",
              "    </tr>\n",
              "    <tr>\n",
              "      <th>2</th>\n",
              "      <td>1.623129</td>\n",
              "      <td>tcp</td>\n",
              "      <td>-</td>\n",
              "      <td>FIN</td>\n",
              "      <td>8</td>\n",
              "      <td>16</td>\n",
              "      <td>364</td>\n",
              "      <td>13186</td>\n",
              "      <td>14.170161</td>\n",
              "      <td>62</td>\n",
              "      <td>...</td>\n",
              "      <td>1</td>\n",
              "      <td>1</td>\n",
              "      <td>3</td>\n",
              "      <td>0</td>\n",
              "      <td>0</td>\n",
              "      <td>0</td>\n",
              "      <td>2</td>\n",
              "      <td>6</td>\n",
              "      <td>0</td>\n",
              "      <td>0</td>\n",
              "    </tr>\n",
              "    <tr>\n",
              "      <th>3</th>\n",
              "      <td>1.681642</td>\n",
              "      <td>tcp</td>\n",
              "      <td>ftp</td>\n",
              "      <td>FIN</td>\n",
              "      <td>12</td>\n",
              "      <td>12</td>\n",
              "      <td>628</td>\n",
              "      <td>770</td>\n",
              "      <td>13.677108</td>\n",
              "      <td>62</td>\n",
              "      <td>...</td>\n",
              "      <td>1</td>\n",
              "      <td>1</td>\n",
              "      <td>3</td>\n",
              "      <td>1</td>\n",
              "      <td>1</td>\n",
              "      <td>0</td>\n",
              "      <td>2</td>\n",
              "      <td>1</td>\n",
              "      <td>0</td>\n",
              "      <td>0</td>\n",
              "    </tr>\n",
              "    <tr>\n",
              "      <th>4</th>\n",
              "      <td>0.449454</td>\n",
              "      <td>tcp</td>\n",
              "      <td>-</td>\n",
              "      <td>FIN</td>\n",
              "      <td>10</td>\n",
              "      <td>6</td>\n",
              "      <td>534</td>\n",
              "      <td>268</td>\n",
              "      <td>33.373826</td>\n",
              "      <td>254</td>\n",
              "      <td>...</td>\n",
              "      <td>2</td>\n",
              "      <td>1</td>\n",
              "      <td>40</td>\n",
              "      <td>0</td>\n",
              "      <td>0</td>\n",
              "      <td>0</td>\n",
              "      <td>2</td>\n",
              "      <td>39</td>\n",
              "      <td>0</td>\n",
              "      <td>0</td>\n",
              "    </tr>\n",
              "  </tbody>\n",
              "</table>\n",
              "<p>5 rows × 43 columns</p>\n",
              "</div>\n",
              "      <button class=\"colab-df-convert\" onclick=\"convertToInteractive('df-6a8ee6e1-87df-4558-8d5e-1b31e067fcfa')\"\n",
              "              title=\"Convert this dataframe to an interactive table.\"\n",
              "              style=\"display:none;\">\n",
              "        \n",
              "  <svg xmlns=\"http://www.w3.org/2000/svg\" height=\"24px\"viewBox=\"0 0 24 24\"\n",
              "       width=\"24px\">\n",
              "    <path d=\"M0 0h24v24H0V0z\" fill=\"none\"/>\n",
              "    <path d=\"M18.56 5.44l.94 2.06.94-2.06 2.06-.94-2.06-.94-.94-2.06-.94 2.06-2.06.94zm-11 1L8.5 8.5l.94-2.06 2.06-.94-2.06-.94L8.5 2.5l-.94 2.06-2.06.94zm10 10l.94 2.06.94-2.06 2.06-.94-2.06-.94-.94-2.06-.94 2.06-2.06.94z\"/><path d=\"M17.41 7.96l-1.37-1.37c-.4-.4-.92-.59-1.43-.59-.52 0-1.04.2-1.43.59L10.3 9.45l-7.72 7.72c-.78.78-.78 2.05 0 2.83L4 21.41c.39.39.9.59 1.41.59.51 0 1.02-.2 1.41-.59l7.78-7.78 2.81-2.81c.8-.78.8-2.07 0-2.86zM5.41 20L4 18.59l7.72-7.72 1.47 1.35L5.41 20z\"/>\n",
              "  </svg>\n",
              "      </button>\n",
              "      \n",
              "  <style>\n",
              "    .colab-df-container {\n",
              "      display:flex;\n",
              "      flex-wrap:wrap;\n",
              "      gap: 12px;\n",
              "    }\n",
              "\n",
              "    .colab-df-convert {\n",
              "      background-color: #E8F0FE;\n",
              "      border: none;\n",
              "      border-radius: 50%;\n",
              "      cursor: pointer;\n",
              "      display: none;\n",
              "      fill: #1967D2;\n",
              "      height: 32px;\n",
              "      padding: 0 0 0 0;\n",
              "      width: 32px;\n",
              "    }\n",
              "\n",
              "    .colab-df-convert:hover {\n",
              "      background-color: #E2EBFA;\n",
              "      box-shadow: 0px 1px 2px rgba(60, 64, 67, 0.3), 0px 1px 3px 1px rgba(60, 64, 67, 0.15);\n",
              "      fill: #174EA6;\n",
              "    }\n",
              "\n",
              "    [theme=dark] .colab-df-convert {\n",
              "      background-color: #3B4455;\n",
              "      fill: #D2E3FC;\n",
              "    }\n",
              "\n",
              "    [theme=dark] .colab-df-convert:hover {\n",
              "      background-color: #434B5C;\n",
              "      box-shadow: 0px 1px 3px 1px rgba(0, 0, 0, 0.15);\n",
              "      filter: drop-shadow(0px 1px 2px rgba(0, 0, 0, 0.3));\n",
              "      fill: #FFFFFF;\n",
              "    }\n",
              "  </style>\n",
              "\n",
              "      <script>\n",
              "        const buttonEl =\n",
              "          document.querySelector('#df-6a8ee6e1-87df-4558-8d5e-1b31e067fcfa button.colab-df-convert');\n",
              "        buttonEl.style.display =\n",
              "          google.colab.kernel.accessAllowed ? 'block' : 'none';\n",
              "\n",
              "        async function convertToInteractive(key) {\n",
              "          const element = document.querySelector('#df-6a8ee6e1-87df-4558-8d5e-1b31e067fcfa');\n",
              "          const dataTable =\n",
              "            await google.colab.kernel.invokeFunction('convertToInteractive',\n",
              "                                                     [key], {});\n",
              "          if (!dataTable) return;\n",
              "\n",
              "          const docLinkHtml = 'Like what you see? Visit the ' +\n",
              "            '<a target=\"_blank\" href=https://colab.research.google.com/notebooks/data_table.ipynb>data table notebook</a>'\n",
              "            + ' to learn more about interactive tables.';\n",
              "          element.innerHTML = '';\n",
              "          dataTable['output_type'] = 'display_data';\n",
              "          await google.colab.output.renderOutput(dataTable, element);\n",
              "          const docLink = document.createElement('div');\n",
              "          docLink.innerHTML = docLinkHtml;\n",
              "          element.appendChild(docLink);\n",
              "        }\n",
              "      </script>\n",
              "    </div>\n",
              "  </div>\n",
              "  "
            ]
          },
          "metadata": {},
          "execution_count": 7
        }
      ]
    },
    {
      "cell_type": "code",
      "source": [
        "df.shape"
      ],
      "metadata": {
        "colab": {
          "base_uri": "https://localhost:8080/"
        },
        "id": "etSduWggwGJQ",
        "outputId": "c396ef8e-fcf5-4fd5-de1a-34a0f2425837"
      },
      "execution_count": 8,
      "outputs": [
        {
          "output_type": "execute_result",
          "data": {
            "text/plain": [
              "(257673, 43)"
            ]
          },
          "metadata": {},
          "execution_count": 8
        }
      ]
    },
    {
      "cell_type": "code",
      "source": [
        "df_class_Normal = df[df['label'] == 0]\n",
        "df_class_Attack = df[df['label'] == 1]\n"
      ],
      "metadata": {
        "id": "0ZS5EBxAvH7I"
      },
      "execution_count": 9,
      "outputs": []
    },
    {
      "cell_type": "code",
      "source": [
        "#Sous-échantillonnage de la catégorie d'attaque jusqu'à atteindre la même valeur que la catégorie Normal\n",
        "df_class_Attack = df_class_Attack.sample(df_class_Normal.shape[0])\n",
        "#Concaténé\n",
        "df = pd.concat([df_class_Normal,df_class_Attack], axis=0)"
      ],
      "metadata": {
        "id": "bV7d_xuiqV9E"
      },
      "execution_count": 10,
      "outputs": []
    },
    {
      "cell_type": "code",
      "source": [
        "df.head()"
      ],
      "metadata": {
        "colab": {
          "base_uri": "https://localhost:8080/",
          "height": 317
        },
        "id": "4QmjhRhXrUub",
        "outputId": "443e2d6e-a10e-4cd7-ea71-ae917b3a9171"
      },
      "execution_count": 11,
      "outputs": [
        {
          "output_type": "execute_result",
          "data": {
            "text/plain": [
              "        dur proto service state  spkts  dpkts  sbytes  dbytes       rate  \\\n",
              "0  0.121478   tcp       -   FIN      6      4     258     172  74.087490   \n",
              "1  0.649902   tcp       -   FIN     14     38     734   42014  78.473372   \n",
              "2  1.623129   tcp       -   FIN      8     16     364   13186  14.170161   \n",
              "3  1.681642   tcp     ftp   FIN     12     12     628     770  13.677108   \n",
              "4  0.449454   tcp       -   FIN     10      6     534     268  33.373826   \n",
              "\n",
              "   sttl  ...  ct_src_dport_ltm  ct_dst_sport_ltm  ct_dst_src_ltm  \\\n",
              "0   252  ...                 1                 1               1   \n",
              "1    62  ...                 1                 1               2   \n",
              "2    62  ...                 1                 1               3   \n",
              "3    62  ...                 1                 1               3   \n",
              "4   254  ...                 2                 1              40   \n",
              "\n",
              "   is_ftp_login  ct_ftp_cmd  ct_flw_http_mthd  ct_src_ltm  ct_srv_dst  \\\n",
              "0             0           0                 0           1           1   \n",
              "1             0           0                 0           1           6   \n",
              "2             0           0                 0           2           6   \n",
              "3             1           1                 0           2           1   \n",
              "4             0           0                 0           2          39   \n",
              "\n",
              "   is_sm_ips_ports  label  \n",
              "0                0      0  \n",
              "1                0      0  \n",
              "2                0      0  \n",
              "3                0      0  \n",
              "4                0      0  \n",
              "\n",
              "[5 rows x 43 columns]"
            ],
            "text/html": [
              "\n",
              "  <div id=\"df-4cf599ff-0958-4f3e-b0f8-e52b3c5fb5db\">\n",
              "    <div class=\"colab-df-container\">\n",
              "      <div>\n",
              "<style scoped>\n",
              "    .dataframe tbody tr th:only-of-type {\n",
              "        vertical-align: middle;\n",
              "    }\n",
              "\n",
              "    .dataframe tbody tr th {\n",
              "        vertical-align: top;\n",
              "    }\n",
              "\n",
              "    .dataframe thead th {\n",
              "        text-align: right;\n",
              "    }\n",
              "</style>\n",
              "<table border=\"1\" class=\"dataframe\">\n",
              "  <thead>\n",
              "    <tr style=\"text-align: right;\">\n",
              "      <th></th>\n",
              "      <th>dur</th>\n",
              "      <th>proto</th>\n",
              "      <th>service</th>\n",
              "      <th>state</th>\n",
              "      <th>spkts</th>\n",
              "      <th>dpkts</th>\n",
              "      <th>sbytes</th>\n",
              "      <th>dbytes</th>\n",
              "      <th>rate</th>\n",
              "      <th>sttl</th>\n",
              "      <th>...</th>\n",
              "      <th>ct_src_dport_ltm</th>\n",
              "      <th>ct_dst_sport_ltm</th>\n",
              "      <th>ct_dst_src_ltm</th>\n",
              "      <th>is_ftp_login</th>\n",
              "      <th>ct_ftp_cmd</th>\n",
              "      <th>ct_flw_http_mthd</th>\n",
              "      <th>ct_src_ltm</th>\n",
              "      <th>ct_srv_dst</th>\n",
              "      <th>is_sm_ips_ports</th>\n",
              "      <th>label</th>\n",
              "    </tr>\n",
              "  </thead>\n",
              "  <tbody>\n",
              "    <tr>\n",
              "      <th>0</th>\n",
              "      <td>0.121478</td>\n",
              "      <td>tcp</td>\n",
              "      <td>-</td>\n",
              "      <td>FIN</td>\n",
              "      <td>6</td>\n",
              "      <td>4</td>\n",
              "      <td>258</td>\n",
              "      <td>172</td>\n",
              "      <td>74.087490</td>\n",
              "      <td>252</td>\n",
              "      <td>...</td>\n",
              "      <td>1</td>\n",
              "      <td>1</td>\n",
              "      <td>1</td>\n",
              "      <td>0</td>\n",
              "      <td>0</td>\n",
              "      <td>0</td>\n",
              "      <td>1</td>\n",
              "      <td>1</td>\n",
              "      <td>0</td>\n",
              "      <td>0</td>\n",
              "    </tr>\n",
              "    <tr>\n",
              "      <th>1</th>\n",
              "      <td>0.649902</td>\n",
              "      <td>tcp</td>\n",
              "      <td>-</td>\n",
              "      <td>FIN</td>\n",
              "      <td>14</td>\n",
              "      <td>38</td>\n",
              "      <td>734</td>\n",
              "      <td>42014</td>\n",
              "      <td>78.473372</td>\n",
              "      <td>62</td>\n",
              "      <td>...</td>\n",
              "      <td>1</td>\n",
              "      <td>1</td>\n",
              "      <td>2</td>\n",
              "      <td>0</td>\n",
              "      <td>0</td>\n",
              "      <td>0</td>\n",
              "      <td>1</td>\n",
              "      <td>6</td>\n",
              "      <td>0</td>\n",
              "      <td>0</td>\n",
              "    </tr>\n",
              "    <tr>\n",
              "      <th>2</th>\n",
              "      <td>1.623129</td>\n",
              "      <td>tcp</td>\n",
              "      <td>-</td>\n",
              "      <td>FIN</td>\n",
              "      <td>8</td>\n",
              "      <td>16</td>\n",
              "      <td>364</td>\n",
              "      <td>13186</td>\n",
              "      <td>14.170161</td>\n",
              "      <td>62</td>\n",
              "      <td>...</td>\n",
              "      <td>1</td>\n",
              "      <td>1</td>\n",
              "      <td>3</td>\n",
              "      <td>0</td>\n",
              "      <td>0</td>\n",
              "      <td>0</td>\n",
              "      <td>2</td>\n",
              "      <td>6</td>\n",
              "      <td>0</td>\n",
              "      <td>0</td>\n",
              "    </tr>\n",
              "    <tr>\n",
              "      <th>3</th>\n",
              "      <td>1.681642</td>\n",
              "      <td>tcp</td>\n",
              "      <td>ftp</td>\n",
              "      <td>FIN</td>\n",
              "      <td>12</td>\n",
              "      <td>12</td>\n",
              "      <td>628</td>\n",
              "      <td>770</td>\n",
              "      <td>13.677108</td>\n",
              "      <td>62</td>\n",
              "      <td>...</td>\n",
              "      <td>1</td>\n",
              "      <td>1</td>\n",
              "      <td>3</td>\n",
              "      <td>1</td>\n",
              "      <td>1</td>\n",
              "      <td>0</td>\n",
              "      <td>2</td>\n",
              "      <td>1</td>\n",
              "      <td>0</td>\n",
              "      <td>0</td>\n",
              "    </tr>\n",
              "    <tr>\n",
              "      <th>4</th>\n",
              "      <td>0.449454</td>\n",
              "      <td>tcp</td>\n",
              "      <td>-</td>\n",
              "      <td>FIN</td>\n",
              "      <td>10</td>\n",
              "      <td>6</td>\n",
              "      <td>534</td>\n",
              "      <td>268</td>\n",
              "      <td>33.373826</td>\n",
              "      <td>254</td>\n",
              "      <td>...</td>\n",
              "      <td>2</td>\n",
              "      <td>1</td>\n",
              "      <td>40</td>\n",
              "      <td>0</td>\n",
              "      <td>0</td>\n",
              "      <td>0</td>\n",
              "      <td>2</td>\n",
              "      <td>39</td>\n",
              "      <td>0</td>\n",
              "      <td>0</td>\n",
              "    </tr>\n",
              "  </tbody>\n",
              "</table>\n",
              "<p>5 rows × 43 columns</p>\n",
              "</div>\n",
              "      <button class=\"colab-df-convert\" onclick=\"convertToInteractive('df-4cf599ff-0958-4f3e-b0f8-e52b3c5fb5db')\"\n",
              "              title=\"Convert this dataframe to an interactive table.\"\n",
              "              style=\"display:none;\">\n",
              "        \n",
              "  <svg xmlns=\"http://www.w3.org/2000/svg\" height=\"24px\"viewBox=\"0 0 24 24\"\n",
              "       width=\"24px\">\n",
              "    <path d=\"M0 0h24v24H0V0z\" fill=\"none\"/>\n",
              "    <path d=\"M18.56 5.44l.94 2.06.94-2.06 2.06-.94-2.06-.94-.94-2.06-.94 2.06-2.06.94zm-11 1L8.5 8.5l.94-2.06 2.06-.94-2.06-.94L8.5 2.5l-.94 2.06-2.06.94zm10 10l.94 2.06.94-2.06 2.06-.94-2.06-.94-.94-2.06-.94 2.06-2.06.94z\"/><path d=\"M17.41 7.96l-1.37-1.37c-.4-.4-.92-.59-1.43-.59-.52 0-1.04.2-1.43.59L10.3 9.45l-7.72 7.72c-.78.78-.78 2.05 0 2.83L4 21.41c.39.39.9.59 1.41.59.51 0 1.02-.2 1.41-.59l7.78-7.78 2.81-2.81c.8-.78.8-2.07 0-2.86zM5.41 20L4 18.59l7.72-7.72 1.47 1.35L5.41 20z\"/>\n",
              "  </svg>\n",
              "      </button>\n",
              "      \n",
              "  <style>\n",
              "    .colab-df-container {\n",
              "      display:flex;\n",
              "      flex-wrap:wrap;\n",
              "      gap: 12px;\n",
              "    }\n",
              "\n",
              "    .colab-df-convert {\n",
              "      background-color: #E8F0FE;\n",
              "      border: none;\n",
              "      border-radius: 50%;\n",
              "      cursor: pointer;\n",
              "      display: none;\n",
              "      fill: #1967D2;\n",
              "      height: 32px;\n",
              "      padding: 0 0 0 0;\n",
              "      width: 32px;\n",
              "    }\n",
              "\n",
              "    .colab-df-convert:hover {\n",
              "      background-color: #E2EBFA;\n",
              "      box-shadow: 0px 1px 2px rgba(60, 64, 67, 0.3), 0px 1px 3px 1px rgba(60, 64, 67, 0.15);\n",
              "      fill: #174EA6;\n",
              "    }\n",
              "\n",
              "    [theme=dark] .colab-df-convert {\n",
              "      background-color: #3B4455;\n",
              "      fill: #D2E3FC;\n",
              "    }\n",
              "\n",
              "    [theme=dark] .colab-df-convert:hover {\n",
              "      background-color: #434B5C;\n",
              "      box-shadow: 0px 1px 3px 1px rgba(0, 0, 0, 0.15);\n",
              "      filter: drop-shadow(0px 1px 2px rgba(0, 0, 0, 0.3));\n",
              "      fill: #FFFFFF;\n",
              "    }\n",
              "  </style>\n",
              "\n",
              "      <script>\n",
              "        const buttonEl =\n",
              "          document.querySelector('#df-4cf599ff-0958-4f3e-b0f8-e52b3c5fb5db button.colab-df-convert');\n",
              "        buttonEl.style.display =\n",
              "          google.colab.kernel.accessAllowed ? 'block' : 'none';\n",
              "\n",
              "        async function convertToInteractive(key) {\n",
              "          const element = document.querySelector('#df-4cf599ff-0958-4f3e-b0f8-e52b3c5fb5db');\n",
              "          const dataTable =\n",
              "            await google.colab.kernel.invokeFunction('convertToInteractive',\n",
              "                                                     [key], {});\n",
              "          if (!dataTable) return;\n",
              "\n",
              "          const docLinkHtml = 'Like what you see? Visit the ' +\n",
              "            '<a target=\"_blank\" href=https://colab.research.google.com/notebooks/data_table.ipynb>data table notebook</a>'\n",
              "            + ' to learn more about interactive tables.';\n",
              "          element.innerHTML = '';\n",
              "          dataTable['output_type'] = 'display_data';\n",
              "          await google.colab.output.renderOutput(dataTable, element);\n",
              "          const docLink = document.createElement('div');\n",
              "          docLink.innerHTML = docLinkHtml;\n",
              "          element.appendChild(docLink);\n",
              "        }\n",
              "      </script>\n",
              "    </div>\n",
              "  </div>\n",
              "  "
            ]
          },
          "metadata": {},
          "execution_count": 11
        }
      ]
    },
    {
      "cell_type": "code",
      "source": [
        "#Visualisation dans un graphique circulaire du poids de chaque classe\n",
        "print(\"Forme de dataFrame: {} \\n\".format(df.shape))\n",
        "print(\"Nombre d'échantillons d'attaque\")\n",
        "display(df['label'].value_counts())\n",
        "print(\"\")\n",
        "print(\"Tracer l'équilibre de dataFrame\")\n",
        "df_plot = (df['label'].value_counts(normalize=True) *100)\n",
        "df_plot.plot(kind='pie',figsize=(10,10),title='Repartition du dataset (%)')"
      ],
      "metadata": {
        "colab": {
          "base_uri": "https://localhost:8080/",
          "height": 770
        },
        "id": "LVZCmxq8qhe7",
        "outputId": "a2e50eee-191e-45cf-b8db-2e9390f30bc6"
      },
      "execution_count": 12,
      "outputs": [
        {
          "output_type": "stream",
          "name": "stdout",
          "text": [
            "Forme de dataFrame: (186000, 43) \n",
            "\n",
            "Nombre d'échantillons d'attaque\n"
          ]
        },
        {
          "output_type": "display_data",
          "data": {
            "text/plain": [
              "0    93000\n",
              "1    93000\n",
              "Name: label, dtype: int64"
            ]
          },
          "metadata": {}
        },
        {
          "output_type": "stream",
          "name": "stdout",
          "text": [
            "\n",
            "Tracer l'équilibre de dataFrame\n"
          ]
        },
        {
          "output_type": "execute_result",
          "data": {
            "text/plain": [
              "<matplotlib.axes._subplots.AxesSubplot at 0x7fb5ea2f1d90>"
            ]
          },
          "metadata": {},
          "execution_count": 12
        },
        {
          "output_type": "display_data",
          "data": {
            "text/plain": [
              "<Figure size 720x720 with 1 Axes>"
            ],
            "image/png": "[encoded data removed]"
          },
          "metadata": {}
        }
      ]
    },
    {
      "cell_type": "code",
      "source": [
        "#Conversion de la chaîne de type de données en nombres entiers dans une plage comprise entre 0 et 255 (1 octet d'informations)\n",
        "def encode_string_byte (df,name):\n",
        "  df[name] = LabelEncoder().fit_transform(df[name])\n",
        "\n",
        "encode_string_byte (df,'proto')\n",
        "encode_string_byte (df,'state') \n",
        "encode_string_byte (df,'service') "
      ],
      "metadata": {
        "id": "B-10J00M0GAJ"
      },
      "execution_count": 13,
      "outputs": []
    },
    {
      "cell_type": "code",
      "source": [
        "#Normalisation des nombres entiers en valeurs décimales comprises entre 0 et 1\n",
        "def numerical_minmax_normalization (df, name):\n",
        "  x = df[name].values.reshape(-1,1)\n",
        "  min_max_scaler = preprocessing.MinMaxScaler()\n",
        "  x_scaled = min_max_scaler.fit_transform(x)\n",
        "  df[name] = x_scaled\n",
        "\n",
        "numerical_minmax_normalization(df,'dur')\n",
        "numerical_minmax_normalization(df,'spkts')\n",
        "numerical_minmax_normalization(df,'dpkts')\n",
        "numerical_minmax_normalization(df,'sbytes')\n",
        "numerical_minmax_normalization(df,'dbytes')\n",
        "numerical_minmax_normalization(df,'rate')\n",
        "numerical_minmax_normalization(df,'sttl')\n",
        "numerical_minmax_normalization(df,'dttl')\n",
        "numerical_minmax_normalization(df,'sload')\n",
        "numerical_minmax_normalization(df,'dload')\n",
        "numerical_minmax_normalization(df,'sloss')\n",
        "numerical_minmax_normalization(df,'dloss')\n",
        "numerical_minmax_normalization(df,'sinpkt')\n",
        "numerical_minmax_normalization(df,'dinpkt')\n",
        "numerical_minmax_normalization(df,'sjit')\n",
        "numerical_minmax_normalization(df,'djit')\n",
        "numerical_minmax_normalization(df,'swin')\n",
        "numerical_minmax_normalization(df,'stcpb')\n",
        "numerical_minmax_normalization(df,'dtcpb')\n",
        "numerical_minmax_normalization(df,'dwin')\n",
        "numerical_minmax_normalization(df,'tcprtt')\n",
        "numerical_minmax_normalization(df,'synack')\n",
        "numerical_minmax_normalization(df,'ackdat')\n",
        "numerical_minmax_normalization(df,'smean')\n",
        "numerical_minmax_normalization(df,'dmean')\n",
        "numerical_minmax_normalization(df,'trans_depth')\n",
        "numerical_minmax_normalization(df,'response_body_len')\n",
        "numerical_minmax_normalization(df,'ct_srv_src')\n",
        "numerical_minmax_normalization(df,'ct_state_ttl')\n",
        "numerical_minmax_normalization(df,'ct_dst_ltm')\n",
        "numerical_minmax_normalization(df,'ct_src_dport_ltm')\n",
        "numerical_minmax_normalization(df,'ct_dst_sport_ltm')\n",
        "numerical_minmax_normalization(df,'ct_dst_src_ltm')\n",
        "numerical_minmax_normalization(df,'is_ftp_login')\n",
        "numerical_minmax_normalization(df,'ct_ftp_cmd')\n",
        "numerical_minmax_normalization(df,'ct_flw_http_mthd')\n",
        "numerical_minmax_normalization(df,'ct_src_ltm')\n",
        "numerical_minmax_normalization(df,'ct_srv_dst')\n",
        "numerical_minmax_normalization(df,'is_sm_ips_ports')"
      ],
      "metadata": {
        "id": "E61P0fR40ITZ"
      },
      "execution_count": 14,
      "outputs": []
    },
    {
      "cell_type": "code",
      "source": [
        "#Mappage des valeurs normalisées de l'étape précédente sur des valeurs entières comprises entre 0 et 255 (1 Byte d'information)\n",
        "def numerical_split_ohe (df,name):\n",
        "  pd_to_np = df[name].tolist()\n",
        "  np_split = []\n",
        "  \n",
        "  categories = np.linspace(0, 1, num=256,endpoint=False)\n",
        "  quantization = range(0,256)\n",
        "\n",
        "  for value in pd_to_np:\n",
        "    for i in range(len(categories)-1):\n",
        "      if (categories[i] <= float(value) <= categories[i+1]):\n",
        "        np_split.append(quantization[i])\n",
        "        break\n",
        "      if (float(value) > categories[-1]):\n",
        "        np_split.append(quantization[-1])\n",
        "        break\n",
        "  \n",
        "  df[name] = np_split\n",
        "\n",
        "\n",
        "numerical_split_ohe(df,'dur')\n",
        "numerical_split_ohe(df,'spkts')\n",
        "numerical_split_ohe(df,'dpkts')\n",
        "numerical_split_ohe(df,'sbytes')\n",
        "numerical_split_ohe(df,'dbytes')\n",
        "numerical_split_ohe(df,'rate')\n",
        "numerical_split_ohe(df,'sttl')\n",
        "numerical_split_ohe(df,'dttl')\n",
        "numerical_split_ohe(df,'sload')\n",
        "numerical_split_ohe(df,'dload')\n",
        "numerical_split_ohe(df,'sloss')\n",
        "numerical_split_ohe(df,'dloss')\n",
        "numerical_split_ohe(df,'sinpkt')\n",
        "numerical_split_ohe(df,'dinpkt')\n",
        "numerical_split_ohe(df,'sjit')\n",
        "numerical_split_ohe(df,'djit')\n",
        "numerical_split_ohe(df,'swin')\n",
        "numerical_split_ohe(df,'stcpb')\n",
        "numerical_split_ohe(df,'dtcpb')\n",
        "numerical_split_ohe(df,'dwin')\n",
        "numerical_split_ohe(df,'tcprtt')\n",
        "numerical_split_ohe(df,'synack')\n",
        "numerical_split_ohe(df,'ackdat')\n",
        "numerical_split_ohe(df,'smean')\n",
        "numerical_split_ohe(df,'dmean')\n",
        "numerical_split_ohe(df,'trans_depth')\n",
        "numerical_split_ohe(df,'response_body_len')\n",
        "numerical_split_ohe(df,'ct_srv_src')\n",
        "numerical_split_ohe(df,'ct_state_ttl')\n",
        "numerical_split_ohe(df,'ct_dst_ltm')\n",
        "numerical_split_ohe(df,'ct_src_dport_ltm')\n",
        "numerical_split_ohe(df,'ct_dst_sport_ltm')\n",
        "numerical_split_ohe(df,'ct_dst_src_ltm')\n",
        "numerical_split_ohe(df,'is_ftp_login')\n",
        "numerical_split_ohe(df,'ct_ftp_cmd')\n",
        "numerical_split_ohe(df,'ct_flw_http_mthd')\n",
        "numerical_split_ohe(df,'ct_src_ltm')\n",
        "numerical_split_ohe(df,'ct_srv_dst')\n",
        "numerical_split_ohe(df,'is_sm_ips_ports')"
      ],
      "metadata": {
        "id": "tbMrB8oU0RS4"
      },
      "execution_count": 15,
      "outputs": []
    },
    {
      "cell_type": "code",
      "source": [
        "#Retirer la colonne attack_cat et l'enregistrer dans la variable y.\n",
        "y_column = df['label']\n",
        "df.drop('label',axis=1,inplace=True)\n",
        "dummies = pd.get_dummies(y_column) \n",
        "y = dummies.values"
      ],
      "metadata": {
        "id": "NaUz-0Do06PA"
      },
      "execution_count": 16,
      "outputs": []
    },
    {
      "cell_type": "code",
      "source": [
        "#Normalisation des valeurs entre -0.5 et 0.5\n",
        "x = []\n",
        "for image in np.array(df.to_numpy()):\n",
        "  x.append((image/255 - 0.5))\n",
        "x = np.array(x)"
      ],
      "metadata": {
        "id": "ppHZ3d9I0-FS"
      },
      "execution_count": 17,
      "outputs": []
    },
    {
      "cell_type": "code",
      "source": [
        "#Séparation du jeu de données en un ensemble d'apprentissage et un ensemble de validation.\n",
        "sss = StratifiedShuffleSplit(n_splits=1, test_size=0.25, random_state=42)\n",
        "\n",
        "for train_index, test_index in sss.split(x,y):\n",
        "  x_train, x_test = x[train_index], x[test_index]\n",
        "  y_train, y_test = y[train_index], y[test_index]"
      ],
      "metadata": {
        "id": "F82SKrUW1EK6"
      },
      "execution_count": 18,
      "outputs": []
    },
    {
      "cell_type": "code",
      "source": [
        "x_train.shape[1]"
      ],
      "metadata": {
        "colab": {
          "base_uri": "https://localhost:8080/"
        },
        "id": "leREUBmE1J22",
        "outputId": "ac4e2bf9-5883-49aa-8d45-059672ce3e7c"
      },
      "execution_count": 19,
      "outputs": [
        {
          "output_type": "execute_result",
          "data": {
            "text/plain": [
              "42"
            ]
          },
          "metadata": {},
          "execution_count": 19
        }
      ]
    },
    {
      "cell_type": "code",
      "source": [
        "# Modele LSTM\n",
        "#Mise en place du modele LSTM a 5 couches\n",
        "from keras.models import Sequential\n",
        "from keras.layers import Dense\n",
        "from keras.layers import LSTM\n",
        "from keras.layers import Dropout\n",
        "\n",
        "model_lstm = Sequential() \n",
        "model_lstm.add(LSTM(units = 64, return_sequences = True, input_shape = (x_train.shape[1],1), activation='tanh'))\n",
        "#model_lstm.add(LSTM(units = 512, return_sequences = True))\n",
        "model_lstm.add(Dense(128, activation='relu'))\n",
        "model_lstm.add(Dense(128, activation='relu'))\n",
        "#model_lstm.add(Dropout(0.2))\n",
        "#model_lstm.add(Dense(32, activation='relu'))\n",
        "#model_lstm.add(Dropout(0.2))\n",
        "#model_lstm.add(Dense(32, activation='relu'))\n",
        "model_lstm.add(Flatten())\n",
        "model_lstm.add(Dense(2, activation='softmax'))\n",
        "model_lstm.compile(optimizer = 'adam', loss ='binary_crossentropy', metrics=['accuracy'] )\n",
        "model_lstm.summary()"
      ],
      "metadata": {
        "colab": {
          "base_uri": "https://localhost:8080/"
        },
        "id": "-F3yKl7v1bvJ",
        "outputId": "bdc84222-24c1-4935-cfaa-5c3bf3f86323"
      },
      "execution_count": 77,
      "outputs": [
        {
          "output_type": "stream",
          "name": "stdout",
          "text": [
            "Model: \"sequential_22\"\n",
            "_________________________________________________________________\n",
            " Layer (type)                Output Shape              Param #   \n",
            "=================================================================\n",
            " lstm_33 (LSTM)              (None, 42, 64)            16896     \n",
            "                                                                 \n",
            " dense_82 (Dense)            (None, 42, 128)           8320      \n",
            "                                                                 \n",
            " dense_83 (Dense)            (None, 42, 128)           16512     \n",
            "                                                                 \n",
            " flatten_20 (Flatten)        (None, 5376)              0         \n",
            "                                                                 \n",
            " dense_84 (Dense)            (None, 2)                 10754     \n",
            "                                                                 \n",
            "=================================================================\n",
            "Total params: 52,482\n",
            "Trainable params: 52,482\n",
            "Non-trainable params: 0\n",
            "_________________________________________________________________\n"
          ]
        }
      ]
    },
    {
      "cell_type": "code",
      "source": [
        "#processus de formation du modele LSTM\n",
        "history = model_lstm.fit(\n",
        "    x_train,\n",
        "    y_train,\n",
        "    validation_split = 0.1,\n",
        "    epochs = 100,\n",
        "    batch_size = 256\n",
        ")"
      ],
      "metadata": {
        "colab": {
          "base_uri": "https://localhost:8080/"
        },
        "id": "JBct424_8TMf",
        "outputId": "a1baa3e4-2d87-42f1-b38f-61bc65c9df7e"
      },
      "execution_count": 78,
      "outputs": [
        {
          "output_type": "stream",
          "name": "stdout",
          "text": [
            "Epoch 1/100\n",
            "491/491 [==============================] - 6s 8ms/step - loss: 0.3260 - accuracy: 0.8340 - val_loss: 0.2738 - val_accuracy: 0.8640\n",
            "Epoch 2/100\n",
            "491/491 [==============================] - 3s 7ms/step - loss: 0.2595 - accuracy: 0.8752 - val_loss: 0.2523 - val_accuracy: 0.8848\n",
            "Epoch 3/100\n",
            "491/491 [==============================] - 4s 7ms/step - loss: 0.2425 - accuracy: 0.8841 - val_loss: 0.2300 - val_accuracy: 0.8897\n",
            "Epoch 4/100\n",
            "491/491 [==============================] - 3s 7ms/step - loss: 0.2284 - accuracy: 0.8915 - val_loss: 0.2270 - val_accuracy: 0.8900\n",
            "Epoch 5/100\n",
            "491/491 [==============================] - 4s 7ms/step - loss: 0.2157 - accuracy: 0.8969 - val_loss: 0.2057 - val_accuracy: 0.9060\n",
            "Epoch 6/100\n",
            "491/491 [==============================] - 4s 7ms/step - loss: 0.2048 - accuracy: 0.9036 - val_loss: 0.2036 - val_accuracy: 0.9070\n",
            "Epoch 7/100\n",
            "491/491 [==============================] - 3s 7ms/step - loss: 0.1981 - accuracy: 0.9069 - val_loss: 0.1933 - val_accuracy: 0.9061\n",
            "Epoch 8/100\n",
            "491/491 [==============================] - 4s 7ms/step - loss: 0.1890 - accuracy: 0.9114 - val_loss: 0.1843 - val_accuracy: 0.9110\n",
            "Epoch 9/100\n",
            "491/491 [==============================] - 3s 7ms/step - loss: 0.1838 - accuracy: 0.9132 - val_loss: 0.1791 - val_accuracy: 0.9156\n",
            "Epoch 10/100\n",
            "491/491 [==============================] - 3s 7ms/step - loss: 0.1819 - accuracy: 0.9148 - val_loss: 0.1802 - val_accuracy: 0.9123\n",
            "Epoch 11/100\n",
            "491/491 [==============================] - 3s 7ms/step - loss: 0.1769 - accuracy: 0.9167 - val_loss: 0.1867 - val_accuracy: 0.9107\n",
            "Epoch 12/100\n",
            "491/491 [==============================] - 3s 7ms/step - loss: 0.1739 - accuracy: 0.9180 - val_loss: 0.1823 - val_accuracy: 0.9108\n",
            "Epoch 13/100\n",
            "491/491 [==============================] - 3s 7ms/step - loss: 0.1721 - accuracy: 0.9184 - val_loss: 0.1675 - val_accuracy: 0.9200\n",
            "Epoch 14/100\n",
            "491/491 [==============================] - 4s 7ms/step - loss: 0.1690 - accuracy: 0.9204 - val_loss: 0.1650 - val_accuracy: 0.9232\n",
            "Epoch 15/100\n",
            "491/491 [==============================] - 3s 7ms/step - loss: 0.1687 - accuracy: 0.9207 - val_loss: 0.1618 - val_accuracy: 0.9259\n",
            "Epoch 16/100\n",
            "491/491 [==============================] - 3s 7ms/step - loss: 0.1666 - accuracy: 0.9218 - val_loss: 0.1751 - val_accuracy: 0.9147\n",
            "Epoch 17/100\n",
            "491/491 [==============================] - 4s 7ms/step - loss: 0.1647 - accuracy: 0.9231 - val_loss: 0.1592 - val_accuracy: 0.9263\n",
            "Epoch 18/100\n",
            "491/491 [==============================] - 3s 7ms/step - loss: 0.1631 - accuracy: 0.9236 - val_loss: 0.1667 - val_accuracy: 0.9215\n",
            "Epoch 19/100\n",
            "491/491 [==============================] - 3s 7ms/step - loss: 0.1627 - accuracy: 0.9239 - val_loss: 0.1562 - val_accuracy: 0.9296\n",
            "Epoch 20/100\n",
            "491/491 [==============================] - 4s 7ms/step - loss: 0.1622 - accuracy: 0.9243 - val_loss: 0.1581 - val_accuracy: 0.9264\n",
            "Epoch 21/100\n",
            "491/491 [==============================] - 3s 7ms/step - loss: 0.1609 - accuracy: 0.9249 - val_loss: 0.1601 - val_accuracy: 0.9259\n",
            "Epoch 22/100\n",
            "491/491 [==============================] - 3s 7ms/step - loss: 0.1601 - accuracy: 0.9251 - val_loss: 0.1580 - val_accuracy: 0.9221\n",
            "Epoch 23/100\n",
            "491/491 [==============================] - 3s 7ms/step - loss: 0.1593 - accuracy: 0.9258 - val_loss: 0.1555 - val_accuracy: 0.9272\n",
            "Epoch 24/100\n",
            "491/491 [==============================] - 3s 7ms/step - loss: 0.1596 - accuracy: 0.9259 - val_loss: 0.1553 - val_accuracy: 0.9275\n",
            "Epoch 25/100\n",
            "491/491 [==============================] - 4s 7ms/step - loss: 0.1578 - accuracy: 0.9268 - val_loss: 0.1579 - val_accuracy: 0.9249\n",
            "Epoch 26/100\n",
            "491/491 [==============================] - 3s 7ms/step - loss: 0.1585 - accuracy: 0.9265 - val_loss: 0.1569 - val_accuracy: 0.9272\n",
            "Epoch 27/100\n",
            "491/491 [==============================] - 3s 7ms/step - loss: 0.1568 - accuracy: 0.9274 - val_loss: 0.1512 - val_accuracy: 0.9299\n",
            "Epoch 28/100\n",
            "491/491 [==============================] - 3s 7ms/step - loss: 0.1560 - accuracy: 0.9274 - val_loss: 0.1578 - val_accuracy: 0.9289\n",
            "Epoch 29/100\n",
            "491/491 [==============================] - 4s 7ms/step - loss: 0.1561 - accuracy: 0.9274 - val_loss: 0.1543 - val_accuracy: 0.9264\n",
            "Epoch 30/100\n",
            "491/491 [==============================] - 4s 7ms/step - loss: 0.1562 - accuracy: 0.9267 - val_loss: 0.1515 - val_accuracy: 0.9296\n",
            "Epoch 31/100\n",
            "491/491 [==============================] - 4s 7ms/step - loss: 0.1551 - accuracy: 0.9277 - val_loss: 0.1533 - val_accuracy: 0.9282\n",
            "Epoch 32/100\n",
            "491/491 [==============================] - 4s 7ms/step - loss: 0.1542 - accuracy: 0.9279 - val_loss: 0.1493 - val_accuracy: 0.9326\n",
            "Epoch 33/100\n",
            "491/491 [==============================] - 4s 7ms/step - loss: 0.1546 - accuracy: 0.9280 - val_loss: 0.1537 - val_accuracy: 0.9295\n",
            "Epoch 34/100\n",
            "491/491 [==============================] - 3s 7ms/step - loss: 0.1537 - accuracy: 0.9287 - val_loss: 0.1532 - val_accuracy: 0.9298\n",
            "Epoch 35/100\n",
            "491/491 [==============================] - 3s 7ms/step - loss: 0.1549 - accuracy: 0.9278 - val_loss: 0.1529 - val_accuracy: 0.9304\n",
            "Epoch 36/100\n",
            "491/491 [==============================] - 3s 7ms/step - loss: 0.1531 - accuracy: 0.9288 - val_loss: 0.1683 - val_accuracy: 0.9152\n",
            "Epoch 37/100\n",
            "491/491 [==============================] - 4s 7ms/step - loss: 0.1534 - accuracy: 0.9285 - val_loss: 0.1531 - val_accuracy: 0.9308\n",
            "Epoch 38/100\n",
            "491/491 [==============================] - 3s 7ms/step - loss: 0.1535 - accuracy: 0.9288 - val_loss: 0.1511 - val_accuracy: 0.9315\n",
            "Epoch 39/100\n",
            "491/491 [==============================] - 4s 8ms/step - loss: 0.1526 - accuracy: 0.9298 - val_loss: 0.1519 - val_accuracy: 0.9306\n",
            "Epoch 40/100\n",
            "491/491 [==============================] - 4s 8ms/step - loss: 0.1521 - accuracy: 0.9301 - val_loss: 0.1505 - val_accuracy: 0.9293\n",
            "Epoch 41/100\n",
            "491/491 [==============================] - 4s 7ms/step - loss: 0.1519 - accuracy: 0.9297 - val_loss: 0.1549 - val_accuracy: 0.9282\n",
            "Epoch 42/100\n",
            "491/491 [==============================] - 4s 7ms/step - loss: 0.1512 - accuracy: 0.9303 - val_loss: 0.1454 - val_accuracy: 0.9342\n",
            "Epoch 43/100\n",
            "491/491 [==============================] - 4s 7ms/step - loss: 0.1501 - accuracy: 0.9305 - val_loss: 0.1516 - val_accuracy: 0.9275\n",
            "Epoch 44/100\n",
            "491/491 [==============================] - 4s 7ms/step - loss: 0.1509 - accuracy: 0.9303 - val_loss: 0.1457 - val_accuracy: 0.9348\n",
            "Epoch 45/100\n",
            "491/491 [==============================] - 4s 7ms/step - loss: 0.1505 - accuracy: 0.9303 - val_loss: 0.1500 - val_accuracy: 0.9315\n",
            "Epoch 46/100\n",
            "491/491 [==============================] - 4s 7ms/step - loss: 0.1494 - accuracy: 0.9304 - val_loss: 0.1486 - val_accuracy: 0.9356\n",
            "Epoch 47/100\n",
            "491/491 [==============================] - 4s 7ms/step - loss: 0.1494 - accuracy: 0.9305 - val_loss: 0.1457 - val_accuracy: 0.9334\n",
            "Epoch 48/100\n",
            "491/491 [==============================] - 3s 7ms/step - loss: 0.1497 - accuracy: 0.9300 - val_loss: 0.1511 - val_accuracy: 0.9327\n",
            "Epoch 49/100\n",
            "491/491 [==============================] - 4s 8ms/step - loss: 0.1498 - accuracy: 0.9308 - val_loss: 0.1471 - val_accuracy: 0.9313\n",
            "Epoch 50/100\n",
            "491/491 [==============================] - 4s 7ms/step - loss: 0.1484 - accuracy: 0.9312 - val_loss: 0.1479 - val_accuracy: 0.9335\n",
            "Epoch 51/100\n",
            "491/491 [==============================] - 4s 7ms/step - loss: 0.1491 - accuracy: 0.9310 - val_loss: 0.1484 - val_accuracy: 0.9320\n",
            "Epoch 52/100\n",
            "491/491 [==============================] - 4s 7ms/step - loss: 0.1481 - accuracy: 0.9316 - val_loss: 0.1506 - val_accuracy: 0.9325\n",
            "Epoch 53/100\n",
            "491/491 [==============================] - 3s 7ms/step - loss: 0.1479 - accuracy: 0.9316 - val_loss: 0.1513 - val_accuracy: 0.9281\n",
            "Epoch 54/100\n",
            "491/491 [==============================] - 4s 7ms/step - loss: 0.1478 - accuracy: 0.9318 - val_loss: 0.1533 - val_accuracy: 0.9327\n",
            "Epoch 55/100\n",
            "491/491 [==============================] - 4s 7ms/step - loss: 0.1471 - accuracy: 0.9320 - val_loss: 0.1455 - val_accuracy: 0.9340\n",
            "Epoch 56/100\n",
            "491/491 [==============================] - 3s 7ms/step - loss: 0.1469 - accuracy: 0.9315 - val_loss: 0.1446 - val_accuracy: 0.9349\n",
            "Epoch 57/100\n",
            "491/491 [==============================] - 3s 7ms/step - loss: 0.1472 - accuracy: 0.9321 - val_loss: 0.1460 - val_accuracy: 0.9319\n",
            "Epoch 58/100\n",
            "491/491 [==============================] - 4s 7ms/step - loss: 0.1469 - accuracy: 0.9317 - val_loss: 0.1468 - val_accuracy: 0.9315\n",
            "Epoch 59/100\n",
            "491/491 [==============================] - 4s 7ms/step - loss: 0.1464 - accuracy: 0.9324 - val_loss: 0.1438 - val_accuracy: 0.9335\n",
            "Epoch 60/100\n",
            "491/491 [==============================] - 3s 7ms/step - loss: 0.1461 - accuracy: 0.9323 - val_loss: 0.1437 - val_accuracy: 0.9366\n",
            "Epoch 61/100\n",
            "491/491 [==============================] - 3s 7ms/step - loss: 0.1456 - accuracy: 0.9329 - val_loss: 0.1438 - val_accuracy: 0.9332\n",
            "Epoch 62/100\n",
            "491/491 [==============================] - 3s 7ms/step - loss: 0.1451 - accuracy: 0.9331 - val_loss: 0.1463 - val_accuracy: 0.9323\n",
            "Epoch 63/100\n",
            "491/491 [==============================] - 3s 7ms/step - loss: 0.1451 - accuracy: 0.9326 - val_loss: 0.1449 - val_accuracy: 0.9328\n",
            "Epoch 64/100\n",
            "491/491 [==============================] - 4s 7ms/step - loss: 0.1451 - accuracy: 0.9326 - val_loss: 0.1471 - val_accuracy: 0.9318\n",
            "Epoch 65/100\n",
            "491/491 [==============================] - 4s 7ms/step - loss: 0.1449 - accuracy: 0.9330 - val_loss: 0.1455 - val_accuracy: 0.9356\n",
            "Epoch 66/100\n",
            "491/491 [==============================] - 3s 7ms/step - loss: 0.1447 - accuracy: 0.9335 - val_loss: 0.1422 - val_accuracy: 0.9360\n",
            "Epoch 67/100\n",
            "491/491 [==============================] - 4s 7ms/step - loss: 0.1441 - accuracy: 0.9333 - val_loss: 0.1459 - val_accuracy: 0.9325\n",
            "Epoch 68/100\n",
            "491/491 [==============================] - 3s 7ms/step - loss: 0.1442 - accuracy: 0.9335 - val_loss: 0.1441 - val_accuracy: 0.9363\n",
            "Epoch 69/100\n",
            "491/491 [==============================] - 3s 7ms/step - loss: 0.1440 - accuracy: 0.9335 - val_loss: 0.1455 - val_accuracy: 0.9348\n",
            "Epoch 70/100\n",
            "491/491 [==============================] - 4s 7ms/step - loss: 0.1434 - accuracy: 0.9335 - val_loss: 0.1422 - val_accuracy: 0.9355\n",
            "Epoch 71/100\n",
            "491/491 [==============================] - 4s 7ms/step - loss: 0.1442 - accuracy: 0.9328 - val_loss: 0.1430 - val_accuracy: 0.9351\n",
            "Epoch 72/100\n",
            "491/491 [==============================] - 4s 7ms/step - loss: 0.1438 - accuracy: 0.9331 - val_loss: 0.1422 - val_accuracy: 0.9350\n",
            "Epoch 73/100\n",
            "491/491 [==============================] - 4s 7ms/step - loss: 0.1433 - accuracy: 0.9338 - val_loss: 0.1444 - val_accuracy: 0.9353\n",
            "Epoch 74/100\n",
            "491/491 [==============================] - 4s 7ms/step - loss: 0.1432 - accuracy: 0.9340 - val_loss: 0.1424 - val_accuracy: 0.9343\n",
            "Epoch 75/100\n",
            "491/491 [==============================] - 4s 8ms/step - loss: 0.1425 - accuracy: 0.9339 - val_loss: 0.1398 - val_accuracy: 0.9368\n",
            "Epoch 76/100\n",
            "491/491 [==============================] - 4s 7ms/step - loss: 0.1424 - accuracy: 0.9338 - val_loss: 0.1453 - val_accuracy: 0.9338\n",
            "Epoch 77/100\n",
            "491/491 [==============================] - 4s 7ms/step - loss: 0.1430 - accuracy: 0.9337 - val_loss: 0.1417 - val_accuracy: 0.9340\n",
            "Epoch 78/100\n",
            "491/491 [==============================] - 4s 7ms/step - loss: 0.1419 - accuracy: 0.9340 - val_loss: 0.1429 - val_accuracy: 0.9359\n",
            "Epoch 79/100\n",
            "491/491 [==============================] - 4s 7ms/step - loss: 0.1418 - accuracy: 0.9340 - val_loss: 0.1418 - val_accuracy: 0.9361\n",
            "Epoch 80/100\n",
            "491/491 [==============================] - 4s 7ms/step - loss: 0.1416 - accuracy: 0.9345 - val_loss: 0.1409 - val_accuracy: 0.9373\n",
            "Epoch 81/100\n",
            "491/491 [==============================] - 4s 7ms/step - loss: 0.1420 - accuracy: 0.9341 - val_loss: 0.1423 - val_accuracy: 0.9355\n",
            "Epoch 82/100\n",
            "491/491 [==============================] - 4s 7ms/step - loss: 0.1418 - accuracy: 0.9344 - val_loss: 0.1422 - val_accuracy: 0.9358\n",
            "Epoch 83/100\n",
            "491/491 [==============================] - 3s 7ms/step - loss: 0.1411 - accuracy: 0.9348 - val_loss: 0.1456 - val_accuracy: 0.9367\n",
            "Epoch 84/100\n",
            "491/491 [==============================] - 4s 7ms/step - loss: 0.1412 - accuracy: 0.9351 - val_loss: 0.1438 - val_accuracy: 0.9341\n",
            "Epoch 85/100\n",
            "491/491 [==============================] - 3s 7ms/step - loss: 0.1409 - accuracy: 0.9351 - val_loss: 0.1429 - val_accuracy: 0.9360\n",
            "Epoch 86/100\n",
            "491/491 [==============================] - 3s 7ms/step - loss: 0.1406 - accuracy: 0.9350 - val_loss: 0.1444 - val_accuracy: 0.9336\n",
            "Epoch 87/100\n",
            "491/491 [==============================] - 4s 7ms/step - loss: 0.1407 - accuracy: 0.9350 - val_loss: 0.1486 - val_accuracy: 0.9351\n",
            "Epoch 88/100\n",
            "491/491 [==============================] - 4s 7ms/step - loss: 0.1411 - accuracy: 0.9343 - val_loss: 0.1444 - val_accuracy: 0.9336\n",
            "Epoch 89/100\n",
            "491/491 [==============================] - 4s 7ms/step - loss: 0.1400 - accuracy: 0.9351 - val_loss: 0.1390 - val_accuracy: 0.9360\n",
            "Epoch 90/100\n",
            "491/491 [==============================] - 3s 7ms/step - loss: 0.1395 - accuracy: 0.9354 - val_loss: 0.1413 - val_accuracy: 0.9368\n",
            "Epoch 91/100\n",
            "491/491 [==============================] - 3s 7ms/step - loss: 0.1405 - accuracy: 0.9346 - val_loss: 0.1394 - val_accuracy: 0.9357\n",
            "Epoch 92/100\n",
            "491/491 [==============================] - 4s 7ms/step - loss: 0.1398 - accuracy: 0.9353 - val_loss: 0.1411 - val_accuracy: 0.9360\n",
            "Epoch 93/100\n",
            "491/491 [==============================] - 4s 7ms/step - loss: 0.1394 - accuracy: 0.9353 - val_loss: 0.1433 - val_accuracy: 0.9355\n",
            "Epoch 94/100\n",
            "491/491 [==============================] - 4s 7ms/step - loss: 0.1386 - accuracy: 0.9360 - val_loss: 0.1416 - val_accuracy: 0.9353\n",
            "Epoch 95/100\n",
            "491/491 [==============================] - 3s 7ms/step - loss: 0.1388 - accuracy: 0.9360 - val_loss: 0.1378 - val_accuracy: 0.9374\n",
            "Epoch 96/100\n",
            "491/491 [==============================] - 4s 7ms/step - loss: 0.1388 - accuracy: 0.9355 - val_loss: 0.1426 - val_accuracy: 0.9340\n",
            "Epoch 97/100\n",
            "491/491 [==============================] - 3s 7ms/step - loss: 0.1381 - accuracy: 0.9362 - val_loss: 0.1373 - val_accuracy: 0.9378\n",
            "Epoch 98/100\n",
            "491/491 [==============================] - 4s 7ms/step - loss: 0.1384 - accuracy: 0.9359 - val_loss: 0.1404 - val_accuracy: 0.9361\n",
            "Epoch 99/100\n",
            "491/491 [==============================] - 3s 7ms/step - loss: 0.1385 - accuracy: 0.9357 - val_loss: 0.1410 - val_accuracy: 0.9345\n",
            "Epoch 100/100\n",
            "491/491 [==============================] - 3s 7ms/step - loss: 0.1379 - accuracy: 0.9362 - val_loss: 0.1476 - val_accuracy: 0.9311\n"
          ]
        }
      ]
    },
    {
      "cell_type": "code",
      "source": [
        "plt.clf()\n",
        "loss = history.history['loss']\n",
        "val_loss = history.history['val_loss']\n",
        "epochs = range(1, len(loss) + 1)\n",
        "plt.plot(epochs, loss, 'g', label='Training loss')\n",
        "plt.plot(epochs, val_loss, 'y', label='Validation loss')\n",
        "plt.title('Training and validation loss')\n",
        "plt.xlabel('Epochs')\n",
        "plt.ylabel('Loss')\n",
        "plt.legend()\n",
        "plt.show()"
      ],
      "metadata": {
        "colab": {
          "base_uri": "https://localhost:8080/",
          "height": 295
        },
        "id": "N5PTMJ1a9lNe",
        "outputId": "7498a7ad-5aeb-4ecd-de2c-0095ee7679bc"
      },
      "execution_count": 79,
      "outputs": [
        {
          "output_type": "display_data",
          "data": {
            "text/plain": [
              "<Figure size 432x288 with 1 Axes>"
            ],
            "image/png": "[encoded data removed]"
          },
          "metadata": {
            "needs_background": "light"
          }
        }
      ]
    },
    {
      "cell_type": "code",
      "source": [
        "plt.clf()\n",
        "acc = history.history['accuracy']\n",
        "val_acc = history.history['val_accuracy']\n",
        "plt.plot(epochs, acc, 'g', label='Training acc')\n",
        "plt.plot(epochs, val_acc, 'y', label='Validation acc')\n",
        "plt.title('Training and validation accuracy')\n",
        "plt.xlabel('Epochs')\n",
        "plt.ylabel('Accuracy')\n",
        "plt.legend()\n",
        "plt.show()"
      ],
      "metadata": {
        "colab": {
          "base_uri": "https://localhost:8080/",
          "height": 295
        },
        "id": "vXcpapVF9sZj",
        "outputId": "9c4f336c-3aa1-441c-c2d6-4445410e315a"
      },
      "execution_count": 80,
      "outputs": [
        {
          "output_type": "display_data",
          "data": {
            "text/plain": [
              "<Figure size 432x288 with 1 Axes>"
            ],
            "image/png": "[encoded data removed]"
          },
          "metadata": {
            "needs_background": "light"
          }
        }
      ]
    },
    {
      "cell_type": "code",
      "source": [
        "# Evaluation du model\n",
        "model_lstm.evaluate(x_test,y_test)"
      ],
      "metadata": {
        "colab": {
          "base_uri": "https://localhost:8080/"
        },
        "id": "K5E2cPEl96xh",
        "outputId": "b95f7af1-ea40-42da-bcfe-ca9a680856bd"
      },
      "execution_count": 81,
      "outputs": [
        {
          "output_type": "stream",
          "name": "stdout",
          "text": [
            "1454/1454 [==============================] - 7s 5ms/step - loss: 0.1432 - accuracy: 0.9324\n"
          ]
        },
        {
          "output_type": "execute_result",
          "data": {
            "text/plain": [
              "[0.14319343864917755, 0.93243008852005]"
            ]
          },
          "metadata": {},
          "execution_count": 81
        }
      ]
    },
    {
      "cell_type": "code",
      "source": [
        "# Prediction et affichage des performance du model\n",
        "y_pred = model_lstm.predict(x)\n",
        "y_pred = np.argmax(y_pred,axis=1) \n",
        "y_true = np.argmax(y,axis=1)\n",
        "\n",
        "print(\"Accuracy: {}\" .format(metrics.accuracy_score(y_true, y_pred)))\n",
        "print(\"Precision: {}\" .format(metrics.precision_score(y_true, y_pred, average='macro')))\n",
        "print(\"Recall: {}\" .format(metrics.recall_score(y_true, y_pred, average='macro')))\n",
        "print(\"F1: {}\" .format(metrics.f1_score(y_true, y_pred, average='macro')))\n"
      ],
      "metadata": {
        "colab": {
          "base_uri": "https://localhost:8080/"
        },
        "id": "2NNhgK2e-J33",
        "outputId": "2bdae9e6-d42b-4a64-e3bd-2ff5395deafc"
      },
      "execution_count": 82,
      "outputs": [
        {
          "output_type": "stream",
          "name": "stdout",
          "text": [
            "Accuracy: 0.9323010752688172\n",
            "Precision: 0.9323789376719782\n",
            "Recall: 0.9323010752688172\n",
            "F1: 0.9322980273415069\n"
          ]
        }
      ]
    },
    {
      "cell_type": "code",
      "source": [
        "y_test.shape"
      ],
      "metadata": {
        "colab": {
          "base_uri": "https://localhost:8080/"
        },
        "id": "GhTx7xMvEAHQ",
        "outputId": "39990b76-ac5e-4aa0-d212-fcf8dd031bda"
      },
      "execution_count": null,
      "outputs": [
        {
          "output_type": "execute_result",
          "data": {
            "text/plain": [
              "(46500, 2)"
            ]
          },
          "metadata": {},
          "execution_count": 26
        }
      ]
    },
    {
      "cell_type": "code",
      "source": [
        "y_pred.shape"
      ],
      "metadata": {
        "colab": {
          "base_uri": "https://localhost:8080/"
        },
        "id": "MWNbPmLmELfe",
        "outputId": "7f8dcea0-4ed0-4501-fa16-ce3b529d9697"
      },
      "execution_count": null,
      "outputs": [
        {
          "output_type": "execute_result",
          "data": {
            "text/plain": [
              "(186000,)"
            ]
          },
          "metadata": {},
          "execution_count": 27
        }
      ]
    },
    {
      "cell_type": "code",
      "source": [
        "def plot_confusing_matrix (y_compare,pred,n_categories):\n",
        "\n",
        "  cm = metrics.confusion_matrix(y_compare, pred)\n",
        "  plot_confusion_matrix(conf_mat=cm,figsize=(13,13),show_normed=True)\n",
        "  plt.title('Matrice de confusion')\n",
        "  plt.ylabel('Cible')\n",
        "  plt.xlabel('Prédite')\n",
        "  plt.show()"
      ],
      "metadata": {
        "id": "UQpY-8Kt-_z6"
      },
      "execution_count": 83,
      "outputs": []
    },
    {
      "cell_type": "code",
      "source": [
        "plot_confusing_matrix(y_true,y_pred,2)"
      ],
      "metadata": {
        "colab": {
          "base_uri": "https://localhost:8080/"
        },
        "id": "AI3-Jjrb_DZ9",
        "outputId": "e4066110-9c65-4c7c-8ac7-c31a9daff273"
      },
      "execution_count": null,
      "outputs": [
        {
          "output_type": "display_data",
          "data": {
            "text/plain": [
              "<Figure size 936x936 with 1 Axes>"
            ],
            "image/png": "[encoded data removed]"
          },
          "metadata": {
            "needs_background": "light"
          }
        }
      ]
    },
    {
      "cell_type": "markdown",
      "source": [
        "# Nouvelle section"
      ],
      "metadata": {
        "id": "fPKuqQzHcRK0"
      }
    }
  ],
  "metadata": {
    "colab": {
      "collapsed_sections": [],
      "name": "UNSW_LSTM_Classification_binaire.ipynb",
      "provenance": [],
      "authorship_tag": "ABX9TyM/9QiFHoEAXqpvV63y0aA4",
      "include_colab_link": true
    },
    "kernelspec": {
      "display_name": "Python 3",
      "name": "python3"
    },
    "language_info": {
      "name": "python"
    },
    "gpuClass": "standard",
    "accelerator": "GPU"
  },
  "nbformat": 4,
  "nbformat_minor": 0
}