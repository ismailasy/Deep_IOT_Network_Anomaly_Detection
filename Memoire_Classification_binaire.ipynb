{
  "cells": [
    {
      "cell_type": "markdown",
      "metadata": {
        "id": "view-in-github",
        "colab_type": "text"
      },
      "source": [
        "<a href=\"https://colab.research.google.com/github/ismailasy/Deep_IOT_Network_Anomaly_Detection/blob/main/Memoire_Classification_binaire.ipynb\" target=\"_parent\"><img src=\"https://colab.research.google.com/assets/colab-badge.svg\" alt=\"Open In Colab\"/></a>"
      ]
    },
    {
      "cell_type": "code",
      "execution_count": 1,
      "metadata": {
        "colab": {
          "base_uri": "https://localhost:8080/"
        },
        "id": "KGd1agPgOoQC",
        "outputId": "6b80c74e-e4ee-4cbc-c1f2-eaf5bdab81c4"
      },
      "outputs": [
        {
          "output_type": "stream",
          "name": "stdout",
          "text": [
            "Looking in indexes: https://pypi.org/simple, https://us-python.pkg.dev/colab-wheels/public/simple/\n",
            "Collecting bayesian-optimization\n",
            "  Downloading bayesian-optimization-1.2.0.tar.gz (14 kB)\n",
            "Requirement already satisfied: numpy>=1.9.0 in /usr/local/lib/python3.7/dist-packages (from bayesian-optimization) (1.21.6)\n",
            "Requirement already satisfied: scipy>=0.14.0 in /usr/local/lib/python3.7/dist-packages (from bayesian-optimization) (1.4.1)\n",
            "Requirement already satisfied: scikit-learn>=0.18.0 in /usr/local/lib/python3.7/dist-packages (from bayesian-optimization) (1.0.2)\n",
            "Requirement already satisfied: threadpoolctl>=2.0.0 in /usr/local/lib/python3.7/dist-packages (from scikit-learn>=0.18.0->bayesian-optimization) (3.1.0)\n",
            "Requirement already satisfied: joblib>=0.11 in /usr/local/lib/python3.7/dist-packages (from scikit-learn>=0.18.0->bayesian-optimization) (1.1.0)\n",
            "Building wheels for collected packages: bayesian-optimization\n",
            "  Building wheel for bayesian-optimization (setup.py) ... \u001b[?25l\u001b[?25hdone\n",
            "  Created wheel for bayesian-optimization: filename=bayesian_optimization-1.2.0-py3-none-any.whl size=11685 sha256=0e6b3f9247be4492cb1de2a9a8469981a37b042280a1b39e934a4640cc0e1fd9\n",
            "  Stored in directory: /root/.cache/pip/wheels/fd/9b/71/f127d694e02eb40bcf18c7ae9613b88a6be4470f57a8528c5b\n",
            "Successfully built bayesian-optimization\n",
            "Installing collected packages: bayesian-optimization\n",
            "Successfully installed bayesian-optimization-1.2.0\n"
          ]
        }
      ],
      "source": [
        "pip install  bayesian-optimization"
      ]
    },
    {
      "cell_type": "code",
      "execution_count": 2,
      "metadata": {
        "id": "vOhVarHFNXb3"
      },
      "outputs": [],
      "source": [
        "import pandas as pd\n",
        "import numpy as np\n",
        "import matplotlib.pyplot as plt\n",
        "from tensorflow.keras.utils import get_file\n",
        "from sklearn import preprocessing\n",
        "from sklearn.preprocessing import LabelEncoder\n",
        "from PIL import Image\n",
        "from sklearn.model_selection import StratifiedShuffleSplit\n",
        "from sklearn import metrics\n",
        "from keras import backend as K\n",
        "from keras.utils.generic_utils import get_custom_objects\n",
        "from bayes_opt import BayesianOptimization\n",
        "import pandas as pd\n",
        "import numpy as np\n",
        "import matplotlib.pyplot as plt\n",
        "from tensorflow.keras.utils import get_file\n",
        "from sklearn import preprocessing\n",
        "from sklearn.preprocessing import LabelEncoder\n",
        "from PIL import Image\n",
        "from sklearn.model_selection import StratifiedShuffleSplit\n",
        "from sklearn import metrics\n",
        "from keras import backend as K\n",
        "from keras.utils.generic_utils import get_custom_objects\n",
        "from bayes_opt import BayesianOptimization\n",
        "from sklearn.model_selection import StratifiedKFold\n",
        "from mlxtend.plotting import plot_confusion_matrix\n",
        "from sklearn.model_selection import train_test_split\n",
        "from imblearn.over_sampling import SMOTE\n",
        "\n",
        "\n",
        "from tensorflow.keras.models import Sequential,Model\n",
        "from tensorflow.keras.layers import Dense, Conv2D,LSTM, MaxPooling2D,UpSampling2D,Conv2DTranspose, Dropout, Flatten, Activation, LeakyReLU, ReLU, Input,concatenate,BatchNormalization\n",
        "from tensorflow.keras.optimizers import Adam\n",
        "from keras.regularizers import l1\n",
        "from tensorflow.keras.callbacks import EarlyStopping\n",
        "from sklearn.model_selection import StratifiedKFold\n",
        "from mlxtend.plotting import plot_confusion_matrix\n",
        "from sklearn.model_selection import train_test_split\n",
        "from imblearn.over_sampling import SMOTE\n",
        "\n",
        "\n",
        "from tensorflow.keras.models import Sequential,Model\n",
        "from tensorflow.keras.layers import Dense, Conv2D,LSTM, MaxPooling2D,UpSampling2D,Conv2DTranspose, Dropout, Flatten, Activation, LeakyReLU, ReLU, Input,concatenate,BatchNormalization\n",
        "from tensorflow.keras.optimizers import Adam\n",
        "from keras.regularizers import l1\n",
        "from tensorflow.keras.callbacks import EarlyStopping"
      ]
    },
    {
      "cell_type": "code",
      "execution_count": 3,
      "metadata": {
        "colab": {
          "base_uri": "https://localhost:8080/",
          "height": 120,
          "resources": {
            "http://localhost:8080/nbextensions/google.colab/files.js": {
              "data": "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",
              "headers": [
                [
                  "content-type",
                  "application/javascript"
                ]
              ],
              "ok": true,
              "status": 200,
              "status_text": ""
            }
          }
        },
        "id": "I95jtHI2OzPr",
        "outputId": "aea00680-35c1-4919-fe8d-b940cd0b6d18"
      },
      "outputs": [
        {
          "output_type": "display_data",
          "data": {
            "text/plain": [
              "<IPython.core.display.HTML object>"
            ],
            "text/html": [
              "\n",
              "     <input type=\"file\" id=\"files-fd76eea1-1ac4-42b2-9967-5fe4630808cc\" name=\"files[]\" multiple disabled\n",
              "        style=\"border:none\" />\n",
              "     <output id=\"result-fd76eea1-1ac4-42b2-9967-5fe4630808cc\">\n",
              "      Upload widget is only available when the cell has been executed in the\n",
              "      current browser session. Please rerun this cell to enable.\n",
              "      </output>\n",
              "      <script src=\"/nbextensions/google.colab/files.js\"></script> "
            ]
          },
          "metadata": {}
        },
        {
          "output_type": "stream",
          "name": "stdout",
          "text": [
            "Saving UNSW_NB15_testing.csv to UNSW_NB15_testing.csv\n",
            "Saving UNSW_NB15_training.csv to UNSW_NB15_training.csv\n"
          ]
        }
      ],
      "source": [
        "from google.colab import files \n",
        "  \n",
        "  \n",
        "uploaded = files.upload()"
      ]
    },
    {
      "cell_type": "code",
      "execution_count": 51,
      "metadata": {
        "id": "b06cG17FO-5J"
      },
      "outputs": [],
      "source": [
        "import pandas as pd \n",
        "import io \n",
        "  \n",
        "df_train = pd.read_csv(io.BytesIO(uploaded['UNSW_NB15_training.csv']))  \n",
        "df_test =  pd.read_csv(io.BytesIO(uploaded['UNSW_NB15_testing.csv']))  "
      ]
    },
    {
      "cell_type": "code",
      "source": [
        "#supprimer les colonnes inutiles\n",
        "df_train.drop('id', axis=1, inplace=True)\n",
        "df_train.drop('attack_cat', axis=1, inplace=True)\n",
        "df_test.drop('id', axis=1, inplace=True)\n",
        "df_test.drop('attack_cat', axis=1, inplace=True)"
      ],
      "metadata": {
        "id": "XWeR0IE3qAw8"
      },
      "execution_count": 52,
      "outputs": []
    },
    {
      "cell_type": "code",
      "source": [
        "#Nous concaténons l'ensemble d'apprentissage et l'ensemble de test pour manipuler directement l'ensemble.\n",
        "df = pd.concat([df_train,df_test],axis=0)"
      ],
      "metadata": {
        "id": "1HgpgRIVqHYY"
      },
      "execution_count": 53,
      "outputs": []
    },
    {
      "cell_type": "code",
      "source": [
        "df.head()"
      ],
      "metadata": {
        "colab": {
          "base_uri": "https://localhost:8080/",
          "height": 317
        },
        "id": "fM06JgfRqMCr",
        "outputId": "c4c80e29-5d7b-42d4-8a49-8bda0aff9b01"
      },
      "execution_count": 54,
      "outputs": [
        {
          "output_type": "execute_result",
          "data": {
            "text/plain": [
              "        dur proto service state  spkts  dpkts  sbytes  dbytes       rate  \\\n",
              "0  0.121478   tcp       -   FIN      6      4     258     172  74.087490   \n",
              "1  0.649902   tcp       -   FIN     14     38     734   42014  78.473372   \n",
              "2  1.623129   tcp       -   FIN      8     16     364   13186  14.170161   \n",
              "3  1.681642   tcp     ftp   FIN     12     12     628     770  13.677108   \n",
              "4  0.449454   tcp       -   FIN     10      6     534     268  33.373826   \n",
              "\n",
              "   sttl  ...  ct_src_dport_ltm  ct_dst_sport_ltm  ct_dst_src_ltm  \\\n",
              "0   252  ...                 1                 1               1   \n",
              "1    62  ...                 1                 1               2   \n",
              "2    62  ...                 1                 1               3   \n",
              "3    62  ...                 1                 1               3   \n",
              "4   254  ...                 2                 1              40   \n",
              "\n",
              "   is_ftp_login  ct_ftp_cmd  ct_flw_http_mthd  ct_src_ltm  ct_srv_dst  \\\n",
              "0             0           0                 0           1           1   \n",
              "1             0           0                 0           1           6   \n",
              "2             0           0                 0           2           6   \n",
              "3             1           1                 0           2           1   \n",
              "4             0           0                 0           2          39   \n",
              "\n",
              "   is_sm_ips_ports  label  \n",
              "0                0      0  \n",
              "1                0      0  \n",
              "2                0      0  \n",
              "3                0      0  \n",
              "4                0      0  \n",
              "\n",
              "[5 rows x 43 columns]"
            ],
            "text/html": [
              "\n",
              "  <div id=\"df-86f9ae2d-48a3-4ee7-85ac-560195efce8b\">\n",
              "    <div class=\"colab-df-container\">\n",
              "      <div>\n",
              "<style scoped>\n",
              "    .dataframe tbody tr th:only-of-type {\n",
              "        vertical-align: middle;\n",
              "    }\n",
              "\n",
              "    .dataframe tbody tr th {\n",
              "        vertical-align: top;\n",
              "    }\n",
              "\n",
              "    .dataframe thead th {\n",
              "        text-align: right;\n",
              "    }\n",
              "</style>\n",
              "<table border=\"1\" class=\"dataframe\">\n",
              "  <thead>\n",
              "    <tr style=\"text-align: right;\">\n",
              "      <th></th>\n",
              "      <th>dur</th>\n",
              "      <th>proto</th>\n",
              "      <th>service</th>\n",
              "      <th>state</th>\n",
              "      <th>spkts</th>\n",
              "      <th>dpkts</th>\n",
              "      <th>sbytes</th>\n",
              "      <th>dbytes</th>\n",
              "      <th>rate</th>\n",
              "      <th>sttl</th>\n",
              "      <th>...</th>\n",
              "      <th>ct_src_dport_ltm</th>\n",
              "      <th>ct_dst_sport_ltm</th>\n",
              "      <th>ct_dst_src_ltm</th>\n",
              "      <th>is_ftp_login</th>\n",
              "      <th>ct_ftp_cmd</th>\n",
              "      <th>ct_flw_http_mthd</th>\n",
              "      <th>ct_src_ltm</th>\n",
              "      <th>ct_srv_dst</th>\n",
              "      <th>is_sm_ips_ports</th>\n",
              "      <th>label</th>\n",
              "    </tr>\n",
              "  </thead>\n",
              "  <tbody>\n",
              "    <tr>\n",
              "      <th>0</th>\n",
              "      <td>0.121478</td>\n",
              "      <td>tcp</td>\n",
              "      <td>-</td>\n",
              "      <td>FIN</td>\n",
              "      <td>6</td>\n",
              "      <td>4</td>\n",
              "      <td>258</td>\n",
              "      <td>172</td>\n",
              "      <td>74.087490</td>\n",
              "      <td>252</td>\n",
              "      <td>...</td>\n",
              "      <td>1</td>\n",
              "      <td>1</td>\n",
              "      <td>1</td>\n",
              "      <td>0</td>\n",
              "      <td>0</td>\n",
              "      <td>0</td>\n",
              "      <td>1</td>\n",
              "      <td>1</td>\n",
              "      <td>0</td>\n",
              "      <td>0</td>\n",
              "    </tr>\n",
              "    <tr>\n",
              "      <th>1</th>\n",
              "      <td>0.649902</td>\n",
              "      <td>tcp</td>\n",
              "      <td>-</td>\n",
              "      <td>FIN</td>\n",
              "      <td>14</td>\n",
              "      <td>38</td>\n",
              "      <td>734</td>\n",
              "      <td>42014</td>\n",
              "      <td>78.473372</td>\n",
              "      <td>62</td>\n",
              "      <td>...</td>\n",
              "      <td>1</td>\n",
              "      <td>1</td>\n",
              "      <td>2</td>\n",
              "      <td>0</td>\n",
              "      <td>0</td>\n",
              "      <td>0</td>\n",
              "      <td>1</td>\n",
              "      <td>6</td>\n",
              "      <td>0</td>\n",
              "      <td>0</td>\n",
              "    </tr>\n",
              "    <tr>\n",
              "      <th>2</th>\n",
              "      <td>1.623129</td>\n",
              "      <td>tcp</td>\n",
              "      <td>-</td>\n",
              "      <td>FIN</td>\n",
              "      <td>8</td>\n",
              "      <td>16</td>\n",
              "      <td>364</td>\n",
              "      <td>13186</td>\n",
              "      <td>14.170161</td>\n",
              "      <td>62</td>\n",
              "      <td>...</td>\n",
              "      <td>1</td>\n",
              "      <td>1</td>\n",
              "      <td>3</td>\n",
              "      <td>0</td>\n",
              "      <td>0</td>\n",
              "      <td>0</td>\n",
              "      <td>2</td>\n",
              "      <td>6</td>\n",
              "      <td>0</td>\n",
              "      <td>0</td>\n",
              "    </tr>\n",
              "    <tr>\n",
              "      <th>3</th>\n",
              "      <td>1.681642</td>\n",
              "      <td>tcp</td>\n",
              "      <td>ftp</td>\n",
              "      <td>FIN</td>\n",
              "      <td>12</td>\n",
              "      <td>12</td>\n",
              "      <td>628</td>\n",
              "      <td>770</td>\n",
              "      <td>13.677108</td>\n",
              "      <td>62</td>\n",
              "      <td>...</td>\n",
              "      <td>1</td>\n",
              "      <td>1</td>\n",
              "      <td>3</td>\n",
              "      <td>1</td>\n",
              "      <td>1</td>\n",
              "      <td>0</td>\n",
              "      <td>2</td>\n",
              "      <td>1</td>\n",
              "      <td>0</td>\n",
              "      <td>0</td>\n",
              "    </tr>\n",
              "    <tr>\n",
              "      <th>4</th>\n",
              "      <td>0.449454</td>\n",
              "      <td>tcp</td>\n",
              "      <td>-</td>\n",
              "      <td>FIN</td>\n",
              "      <td>10</td>\n",
              "      <td>6</td>\n",
              "      <td>534</td>\n",
              "      <td>268</td>\n",
              "      <td>33.373826</td>\n",
              "      <td>254</td>\n",
              "      <td>...</td>\n",
              "      <td>2</td>\n",
              "      <td>1</td>\n",
              "      <td>40</td>\n",
              "      <td>0</td>\n",
              "      <td>0</td>\n",
              "      <td>0</td>\n",
              "      <td>2</td>\n",
              "      <td>39</td>\n",
              "      <td>0</td>\n",
              "      <td>0</td>\n",
              "    </tr>\n",
              "  </tbody>\n",
              "</table>\n",
              "<p>5 rows × 43 columns</p>\n",
              "</div>\n",
              "      <button class=\"colab-df-convert\" onclick=\"convertToInteractive('df-86f9ae2d-48a3-4ee7-85ac-560195efce8b')\"\n",
              "              title=\"Convert this dataframe to an interactive table.\"\n",
              "              style=\"display:none;\">\n",
              "        \n",
              "  <svg xmlns=\"http://www.w3.org/2000/svg\" height=\"24px\"viewBox=\"0 0 24 24\"\n",
              "       width=\"24px\">\n",
              "    <path d=\"M0 0h24v24H0V0z\" fill=\"none\"/>\n",
              "    <path d=\"M18.56 5.44l.94 2.06.94-2.06 2.06-.94-2.06-.94-.94-2.06-.94 2.06-2.06.94zm-11 1L8.5 8.5l.94-2.06 2.06-.94-2.06-.94L8.5 2.5l-.94 2.06-2.06.94zm10 10l.94 2.06.94-2.06 2.06-.94-2.06-.94-.94-2.06-.94 2.06-2.06.94z\"/><path d=\"M17.41 7.96l-1.37-1.37c-.4-.4-.92-.59-1.43-.59-.52 0-1.04.2-1.43.59L10.3 9.45l-7.72 7.72c-.78.78-.78 2.05 0 2.83L4 21.41c.39.39.9.59 1.41.59.51 0 1.02-.2 1.41-.59l7.78-7.78 2.81-2.81c.8-.78.8-2.07 0-2.86zM5.41 20L4 18.59l7.72-7.72 1.47 1.35L5.41 20z\"/>\n",
              "  </svg>\n",
              "      </button>\n",
              "      \n",
              "  <style>\n",
              "    .colab-df-container {\n",
              "      display:flex;\n",
              "      flex-wrap:wrap;\n",
              "      gap: 12px;\n",
              "    }\n",
              "\n",
              "    .colab-df-convert {\n",
              "      background-color: #E8F0FE;\n",
              "      border: none;\n",
              "      border-radius: 50%;\n",
              "      cursor: pointer;\n",
              "      display: none;\n",
              "      fill: #1967D2;\n",
              "      height: 32px;\n",
              "      padding: 0 0 0 0;\n",
              "      width: 32px;\n",
              "    }\n",
              "\n",
              "    .colab-df-convert:hover {\n",
              "      background-color: #E2EBFA;\n",
              "      box-shadow: 0px 1px 2px rgba(60, 64, 67, 0.3), 0px 1px 3px 1px rgba(60, 64, 67, 0.15);\n",
              "      fill: #174EA6;\n",
              "    }\n",
              "\n",
              "    [theme=dark] .colab-df-convert {\n",
              "      background-color: #3B4455;\n",
              "      fill: #D2E3FC;\n",
              "    }\n",
              "\n",
              "    [theme=dark] .colab-df-convert:hover {\n",
              "      background-color: #434B5C;\n",
              "      box-shadow: 0px 1px 3px 1px rgba(0, 0, 0, 0.15);\n",
              "      filter: drop-shadow(0px 1px 2px rgba(0, 0, 0, 0.3));\n",
              "      fill: #FFFFFF;\n",
              "    }\n",
              "  </style>\n",
              "\n",
              "      <script>\n",
              "        const buttonEl =\n",
              "          document.querySelector('#df-86f9ae2d-48a3-4ee7-85ac-560195efce8b button.colab-df-convert');\n",
              "        buttonEl.style.display =\n",
              "          google.colab.kernel.accessAllowed ? 'block' : 'none';\n",
              "\n",
              "        async function convertToInteractive(key) {\n",
              "          const element = document.querySelector('#df-86f9ae2d-48a3-4ee7-85ac-560195efce8b');\n",
              "          const dataTable =\n",
              "            await google.colab.kernel.invokeFunction('convertToInteractive',\n",
              "                                                     [key], {});\n",
              "          if (!dataTable) return;\n",
              "\n",
              "          const docLinkHtml = 'Like what you see? Visit the ' +\n",
              "            '<a target=\"_blank\" href=https://colab.research.google.com/notebooks/data_table.ipynb>data table notebook</a>'\n",
              "            + ' to learn more about interactive tables.';\n",
              "          element.innerHTML = '';\n",
              "          dataTable['output_type'] = 'display_data';\n",
              "          await google.colab.output.renderOutput(dataTable, element);\n",
              "          const docLink = document.createElement('div');\n",
              "          docLink.innerHTML = docLinkHtml;\n",
              "          element.appendChild(docLink);\n",
              "        }\n",
              "      </script>\n",
              "    </div>\n",
              "  </div>\n",
              "  "
            ]
          },
          "metadata": {},
          "execution_count": 54
        }
      ]
    },
    {
      "cell_type": "code",
      "source": [
        "df.shape"
      ],
      "metadata": {
        "colab": {
          "base_uri": "https://localhost:8080/"
        },
        "id": "etSduWggwGJQ",
        "outputId": "a96d8c5e-50fe-4912-bdb5-7faba76d0aac"
      },
      "execution_count": 55,
      "outputs": [
        {
          "output_type": "execute_result",
          "data": {
            "text/plain": [
              "(257673, 43)"
            ]
          },
          "metadata": {},
          "execution_count": 55
        }
      ]
    },
    {
      "cell_type": "code",
      "source": [
        "df_class_Normal = df[df['label'] == 0]\n",
        "df_class_Attack = df[df['label'] == 1]\n"
      ],
      "metadata": {
        "id": "0ZS5EBxAvH7I"
      },
      "execution_count": 56,
      "outputs": []
    },
    {
      "cell_type": "code",
      "source": [
        "#Sous-échantillonnage de la catégorie d'attaque jusqu'à atteindre la même valeur que la catégorie Normal\n",
        "df_class_Attack = df_class_Attack.sample(df_class_Normal.shape[0])\n",
        "#Concaténé\n",
        "df = pd.concat([df_class_Normal,df_class_Attack], axis=0)"
      ],
      "metadata": {
        "id": "bV7d_xuiqV9E"
      },
      "execution_count": 57,
      "outputs": []
    },
    {
      "cell_type": "code",
      "source": [
        "df.head()"
      ],
      "metadata": {
        "colab": {
          "base_uri": "https://localhost:8080/",
          "height": 317
        },
        "id": "4QmjhRhXrUub",
        "outputId": "8e7d25ae-1a6a-40cd-81f5-1d8be3ae0a61"
      },
      "execution_count": 58,
      "outputs": [
        {
          "output_type": "execute_result",
          "data": {
            "text/plain": [
              "        dur proto service state  spkts  dpkts  sbytes  dbytes       rate  \\\n",
              "0  0.121478   tcp       -   FIN      6      4     258     172  74.087490   \n",
              "1  0.649902   tcp       -   FIN     14     38     734   42014  78.473372   \n",
              "2  1.623129   tcp       -   FIN      8     16     364   13186  14.170161   \n",
              "3  1.681642   tcp     ftp   FIN     12     12     628     770  13.677108   \n",
              "4  0.449454   tcp       -   FIN     10      6     534     268  33.373826   \n",
              "\n",
              "   sttl  ...  ct_src_dport_ltm  ct_dst_sport_ltm  ct_dst_src_ltm  \\\n",
              "0   252  ...                 1                 1               1   \n",
              "1    62  ...                 1                 1               2   \n",
              "2    62  ...                 1                 1               3   \n",
              "3    62  ...                 1                 1               3   \n",
              "4   254  ...                 2                 1              40   \n",
              "\n",
              "   is_ftp_login  ct_ftp_cmd  ct_flw_http_mthd  ct_src_ltm  ct_srv_dst  \\\n",
              "0             0           0                 0           1           1   \n",
              "1             0           0                 0           1           6   \n",
              "2             0           0                 0           2           6   \n",
              "3             1           1                 0           2           1   \n",
              "4             0           0                 0           2          39   \n",
              "\n",
              "   is_sm_ips_ports  label  \n",
              "0                0      0  \n",
              "1                0      0  \n",
              "2                0      0  \n",
              "3                0      0  \n",
              "4                0      0  \n",
              "\n",
              "[5 rows x 43 columns]"
            ],
            "text/html": [
              "\n",
              "  <div id=\"df-d6419bc2-a194-4146-bead-aa61cce5255a\">\n",
              "    <div class=\"colab-df-container\">\n",
              "      <div>\n",
              "<style scoped>\n",
              "    .dataframe tbody tr th:only-of-type {\n",
              "        vertical-align: middle;\n",
              "    }\n",
              "\n",
              "    .dataframe tbody tr th {\n",
              "        vertical-align: top;\n",
              "    }\n",
              "\n",
              "    .dataframe thead th {\n",
              "        text-align: right;\n",
              "    }\n",
              "</style>\n",
              "<table border=\"1\" class=\"dataframe\">\n",
              "  <thead>\n",
              "    <tr style=\"text-align: right;\">\n",
              "      <th></th>\n",
              "      <th>dur</th>\n",
              "      <th>proto</th>\n",
              "      <th>service</th>\n",
              "      <th>state</th>\n",
              "      <th>spkts</th>\n",
              "      <th>dpkts</th>\n",
              "      <th>sbytes</th>\n",
              "      <th>dbytes</th>\n",
              "      <th>rate</th>\n",
              "      <th>sttl</th>\n",
              "      <th>...</th>\n",
              "      <th>ct_src_dport_ltm</th>\n",
              "      <th>ct_dst_sport_ltm</th>\n",
              "      <th>ct_dst_src_ltm</th>\n",
              "      <th>is_ftp_login</th>\n",
              "      <th>ct_ftp_cmd</th>\n",
              "      <th>ct_flw_http_mthd</th>\n",
              "      <th>ct_src_ltm</th>\n",
              "      <th>ct_srv_dst</th>\n",
              "      <th>is_sm_ips_ports</th>\n",
              "      <th>label</th>\n",
              "    </tr>\n",
              "  </thead>\n",
              "  <tbody>\n",
              "    <tr>\n",
              "      <th>0</th>\n",
              "      <td>0.121478</td>\n",
              "      <td>tcp</td>\n",
              "      <td>-</td>\n",
              "      <td>FIN</td>\n",
              "      <td>6</td>\n",
              "      <td>4</td>\n",
              "      <td>258</td>\n",
              "      <td>172</td>\n",
              "      <td>74.087490</td>\n",
              "      <td>252</td>\n",
              "      <td>...</td>\n",
              "      <td>1</td>\n",
              "      <td>1</td>\n",
              "      <td>1</td>\n",
              "      <td>0</td>\n",
              "      <td>0</td>\n",
              "      <td>0</td>\n",
              "      <td>1</td>\n",
              "      <td>1</td>\n",
              "      <td>0</td>\n",
              "      <td>0</td>\n",
              "    </tr>\n",
              "    <tr>\n",
              "      <th>1</th>\n",
              "      <td>0.649902</td>\n",
              "      <td>tcp</td>\n",
              "      <td>-</td>\n",
              "      <td>FIN</td>\n",
              "      <td>14</td>\n",
              "      <td>38</td>\n",
              "      <td>734</td>\n",
              "      <td>42014</td>\n",
              "      <td>78.473372</td>\n",
              "      <td>62</td>\n",
              "      <td>...</td>\n",
              "      <td>1</td>\n",
              "      <td>1</td>\n",
              "      <td>2</td>\n",
              "      <td>0</td>\n",
              "      <td>0</td>\n",
              "      <td>0</td>\n",
              "      <td>1</td>\n",
              "      <td>6</td>\n",
              "      <td>0</td>\n",
              "      <td>0</td>\n",
              "    </tr>\n",
              "    <tr>\n",
              "      <th>2</th>\n",
              "      <td>1.623129</td>\n",
              "      <td>tcp</td>\n",
              "      <td>-</td>\n",
              "      <td>FIN</td>\n",
              "      <td>8</td>\n",
              "      <td>16</td>\n",
              "      <td>364</td>\n",
              "      <td>13186</td>\n",
              "      <td>14.170161</td>\n",
              "      <td>62</td>\n",
              "      <td>...</td>\n",
              "      <td>1</td>\n",
              "      <td>1</td>\n",
              "      <td>3</td>\n",
              "      <td>0</td>\n",
              "      <td>0</td>\n",
              "      <td>0</td>\n",
              "      <td>2</td>\n",
              "      <td>6</td>\n",
              "      <td>0</td>\n",
              "      <td>0</td>\n",
              "    </tr>\n",
              "    <tr>\n",
              "      <th>3</th>\n",
              "      <td>1.681642</td>\n",
              "      <td>tcp</td>\n",
              "      <td>ftp</td>\n",
              "      <td>FIN</td>\n",
              "      <td>12</td>\n",
              "      <td>12</td>\n",
              "      <td>628</td>\n",
              "      <td>770</td>\n",
              "      <td>13.677108</td>\n",
              "      <td>62</td>\n",
              "      <td>...</td>\n",
              "      <td>1</td>\n",
              "      <td>1</td>\n",
              "      <td>3</td>\n",
              "      <td>1</td>\n",
              "      <td>1</td>\n",
              "      <td>0</td>\n",
              "      <td>2</td>\n",
              "      <td>1</td>\n",
              "      <td>0</td>\n",
              "      <td>0</td>\n",
              "    </tr>\n",
              "    <tr>\n",
              "      <th>4</th>\n",
              "      <td>0.449454</td>\n",
              "      <td>tcp</td>\n",
              "      <td>-</td>\n",
              "      <td>FIN</td>\n",
              "      <td>10</td>\n",
              "      <td>6</td>\n",
              "      <td>534</td>\n",
              "      <td>268</td>\n",
              "      <td>33.373826</td>\n",
              "      <td>254</td>\n",
              "      <td>...</td>\n",
              "      <td>2</td>\n",
              "      <td>1</td>\n",
              "      <td>40</td>\n",
              "      <td>0</td>\n",
              "      <td>0</td>\n",
              "      <td>0</td>\n",
              "      <td>2</td>\n",
              "      <td>39</td>\n",
              "      <td>0</td>\n",
              "      <td>0</td>\n",
              "    </tr>\n",
              "  </tbody>\n",
              "</table>\n",
              "<p>5 rows × 43 columns</p>\n",
              "</div>\n",
              "      <button class=\"colab-df-convert\" onclick=\"convertToInteractive('df-d6419bc2-a194-4146-bead-aa61cce5255a')\"\n",
              "              title=\"Convert this dataframe to an interactive table.\"\n",
              "              style=\"display:none;\">\n",
              "        \n",
              "  <svg xmlns=\"http://www.w3.org/2000/svg\" height=\"24px\"viewBox=\"0 0 24 24\"\n",
              "       width=\"24px\">\n",
              "    <path d=\"M0 0h24v24H0V0z\" fill=\"none\"/>\n",
              "    <path d=\"M18.56 5.44l.94 2.06.94-2.06 2.06-.94-2.06-.94-.94-2.06-.94 2.06-2.06.94zm-11 1L8.5 8.5l.94-2.06 2.06-.94-2.06-.94L8.5 2.5l-.94 2.06-2.06.94zm10 10l.94 2.06.94-2.06 2.06-.94-2.06-.94-.94-2.06-.94 2.06-2.06.94z\"/><path d=\"M17.41 7.96l-1.37-1.37c-.4-.4-.92-.59-1.43-.59-.52 0-1.04.2-1.43.59L10.3 9.45l-7.72 7.72c-.78.78-.78 2.05 0 2.83L4 21.41c.39.39.9.59 1.41.59.51 0 1.02-.2 1.41-.59l7.78-7.78 2.81-2.81c.8-.78.8-2.07 0-2.86zM5.41 20L4 18.59l7.72-7.72 1.47 1.35L5.41 20z\"/>\n",
              "  </svg>\n",
              "      </button>\n",
              "      \n",
              "  <style>\n",
              "    .colab-df-container {\n",
              "      display:flex;\n",
              "      flex-wrap:wrap;\n",
              "      gap: 12px;\n",
              "    }\n",
              "\n",
              "    .colab-df-convert {\n",
              "      background-color: #E8F0FE;\n",
              "      border: none;\n",
              "      border-radius: 50%;\n",
              "      cursor: pointer;\n",
              "      display: none;\n",
              "      fill: #1967D2;\n",
              "      height: 32px;\n",
              "      padding: 0 0 0 0;\n",
              "      width: 32px;\n",
              "    }\n",
              "\n",
              "    .colab-df-convert:hover {\n",
              "      background-color: #E2EBFA;\n",
              "      box-shadow: 0px 1px 2px rgba(60, 64, 67, 0.3), 0px 1px 3px 1px rgba(60, 64, 67, 0.15);\n",
              "      fill: #174EA6;\n",
              "    }\n",
              "\n",
              "    [theme=dark] .colab-df-convert {\n",
              "      background-color: #3B4455;\n",
              "      fill: #D2E3FC;\n",
              "    }\n",
              "\n",
              "    [theme=dark] .colab-df-convert:hover {\n",
              "      background-color: #434B5C;\n",
              "      box-shadow: 0px 1px 3px 1px rgba(0, 0, 0, 0.15);\n",
              "      filter: drop-shadow(0px 1px 2px rgba(0, 0, 0, 0.3));\n",
              "      fill: #FFFFFF;\n",
              "    }\n",
              "  </style>\n",
              "\n",
              "      <script>\n",
              "        const buttonEl =\n",
              "          document.querySelector('#df-d6419bc2-a194-4146-bead-aa61cce5255a button.colab-df-convert');\n",
              "        buttonEl.style.display =\n",
              "          google.colab.kernel.accessAllowed ? 'block' : 'none';\n",
              "\n",
              "        async function convertToInteractive(key) {\n",
              "          const element = document.querySelector('#df-d6419bc2-a194-4146-bead-aa61cce5255a');\n",
              "          const dataTable =\n",
              "            await google.colab.kernel.invokeFunction('convertToInteractive',\n",
              "                                                     [key], {});\n",
              "          if (!dataTable) return;\n",
              "\n",
              "          const docLinkHtml = 'Like what you see? Visit the ' +\n",
              "            '<a target=\"_blank\" href=https://colab.research.google.com/notebooks/data_table.ipynb>data table notebook</a>'\n",
              "            + ' to learn more about interactive tables.';\n",
              "          element.innerHTML = '';\n",
              "          dataTable['output_type'] = 'display_data';\n",
              "          await google.colab.output.renderOutput(dataTable, element);\n",
              "          const docLink = document.createElement('div');\n",
              "          docLink.innerHTML = docLinkHtml;\n",
              "          element.appendChild(docLink);\n",
              "        }\n",
              "      </script>\n",
              "    </div>\n",
              "  </div>\n",
              "  "
            ]
          },
          "metadata": {},
          "execution_count": 58
        }
      ]
    },
    {
      "cell_type": "code",
      "source": [
        "#Visualisation dans un graphique circulaire du poids de chaque classe\n",
        "print(\"Forme de dataFrame: {} \\n\".format(df.shape))\n",
        "print(\"Nombre d'échantillons d'attaque\")\n",
        "display(df['label'].value_counts())\n",
        "print(\"\")\n",
        "print(\"Tracer l'équilibre de dataFrame\")\n",
        "df_plot = (df['label'].value_counts(normalize=True) *100)\n",
        "df_plot.plot(kind='pie',figsize=(10,10),title='Repartition du dataset (%)')"
      ],
      "metadata": {
        "colab": {
          "base_uri": "https://localhost:8080/",
          "height": 770
        },
        "id": "LVZCmxq8qhe7",
        "outputId": "2ce7b865-914c-4822-cafc-4d3467ad3119"
      },
      "execution_count": 59,
      "outputs": [
        {
          "output_type": "stream",
          "name": "stdout",
          "text": [
            "Forme de dataFrame: (186000, 43) \n",
            "\n",
            "Nombre d'échantillons d'attaque\n"
          ]
        },
        {
          "output_type": "display_data",
          "data": {
            "text/plain": [
              "0    93000\n",
              "1    93000\n",
              "Name: label, dtype: int64"
            ]
          },
          "metadata": {}
        },
        {
          "output_type": "stream",
          "name": "stdout",
          "text": [
            "\n",
            "Tracer l'équilibre de dataFrame\n"
          ]
        },
        {
          "output_type": "execute_result",
          "data": {
            "text/plain": [
              "<matplotlib.axes._subplots.AxesSubplot at 0x7f48b67a7790>"
            ]
          },
          "metadata": {},
          "execution_count": 59
        },
        {
          "output_type": "display_data",
          "data": {
            "text/plain": [
              "<Figure size 720x720 with 1 Axes>"
            ],
            "image/png": "[encoded data removed]"
          },
          "metadata": {}
        }
      ]
    },
    {
      "cell_type": "code",
      "source": [
        "#Conversion de la chaîne de type de données en nombres entiers dans une plage comprise entre 0 et 255 (1 octet d'informations)\n",
        "def encode_string_byte (df,name):\n",
        "  df[name] = LabelEncoder().fit_transform(df[name])\n",
        "\n",
        "encode_string_byte (df,'proto')\n",
        "encode_string_byte (df,'state') \n",
        "encode_string_byte (df,'service') "
      ],
      "metadata": {
        "id": "B-10J00M0GAJ"
      },
      "execution_count": 60,
      "outputs": []
    },
    {
      "cell_type": "code",
      "source": [
        "#Normalisation des nombres entiers en valeurs décimales comprises entre 0 et 1\n",
        "def numerical_minmax_normalization (df, name):\n",
        "  x = df[name].values.reshape(-1,1)\n",
        "  min_max_scaler = preprocessing.MinMaxScaler()\n",
        "  x_scaled = min_max_scaler.fit_transform(x)\n",
        "  df[name] = x_scaled\n",
        "\n",
        "numerical_minmax_normalization(df,'dur')\n",
        "numerical_minmax_normalization(df,'spkts')\n",
        "numerical_minmax_normalization(df,'dpkts')\n",
        "numerical_minmax_normalization(df,'sbytes')\n",
        "numerical_minmax_normalization(df,'dbytes')\n",
        "numerical_minmax_normalization(df,'rate')\n",
        "numerical_minmax_normalization(df,'sttl')\n",
        "numerical_minmax_normalization(df,'dttl')\n",
        "numerical_minmax_normalization(df,'sload')\n",
        "numerical_minmax_normalization(df,'dload')\n",
        "numerical_minmax_normalization(df,'sloss')\n",
        "numerical_minmax_normalization(df,'dloss')\n",
        "numerical_minmax_normalization(df,'sinpkt')\n",
        "numerical_minmax_normalization(df,'dinpkt')\n",
        "numerical_minmax_normalization(df,'sjit')\n",
        "numerical_minmax_normalization(df,'djit')\n",
        "numerical_minmax_normalization(df,'swin')\n",
        "numerical_minmax_normalization(df,'stcpb')\n",
        "numerical_minmax_normalization(df,'dtcpb')\n",
        "numerical_minmax_normalization(df,'dwin')\n",
        "numerical_minmax_normalization(df,'tcprtt')\n",
        "numerical_minmax_normalization(df,'synack')\n",
        "numerical_minmax_normalization(df,'ackdat')\n",
        "numerical_minmax_normalization(df,'smean')\n",
        "numerical_minmax_normalization(df,'dmean')\n",
        "numerical_minmax_normalization(df,'trans_depth')\n",
        "numerical_minmax_normalization(df,'response_body_len')\n",
        "numerical_minmax_normalization(df,'ct_srv_src')\n",
        "numerical_minmax_normalization(df,'ct_state_ttl')\n",
        "numerical_minmax_normalization(df,'ct_dst_ltm')\n",
        "numerical_minmax_normalization(df,'ct_src_dport_ltm')\n",
        "numerical_minmax_normalization(df,'ct_dst_sport_ltm')\n",
        "numerical_minmax_normalization(df,'ct_dst_src_ltm')\n",
        "numerical_minmax_normalization(df,'is_ftp_login')\n",
        "numerical_minmax_normalization(df,'ct_ftp_cmd')\n",
        "numerical_minmax_normalization(df,'ct_flw_http_mthd')\n",
        "numerical_minmax_normalization(df,'ct_src_ltm')\n",
        "numerical_minmax_normalization(df,'ct_srv_dst')\n",
        "numerical_minmax_normalization(df,'is_sm_ips_ports')"
      ],
      "metadata": {
        "id": "E61P0fR40ITZ"
      },
      "execution_count": 61,
      "outputs": []
    },
    {
      "cell_type": "code",
      "source": [
        "#Mappage des valeurs normalisées de l'étape précédente sur des valeurs entières comprises entre 0 et 255 (1 Byte d'information)\n",
        "def numerical_split_ohe (df,name):\n",
        "  pd_to_np = df[name].tolist()\n",
        "  np_split = []\n",
        "  \n",
        "  categories = np.linspace(0, 1, num=256,endpoint=False)\n",
        "  quantization = range(0,256)\n",
        "\n",
        "  for value in pd_to_np:\n",
        "    for i in range(len(categories)-1):\n",
        "      if (categories[i] <= float(value) <= categories[i+1]):\n",
        "        np_split.append(quantization[i])\n",
        "        break\n",
        "      if (float(value) > categories[-1]):\n",
        "        np_split.append(quantization[-1])\n",
        "        break\n",
        "  \n",
        "  df[name] = np_split\n",
        "\n",
        "\n",
        "numerical_split_ohe(df,'dur')\n",
        "numerical_split_ohe(df,'spkts')\n",
        "numerical_split_ohe(df,'dpkts')\n",
        "numerical_split_ohe(df,'sbytes')\n",
        "numerical_split_ohe(df,'dbytes')\n",
        "numerical_split_ohe(df,'rate')\n",
        "numerical_split_ohe(df,'sttl')\n",
        "numerical_split_ohe(df,'dttl')\n",
        "numerical_split_ohe(df,'sload')\n",
        "numerical_split_ohe(df,'dload')\n",
        "numerical_split_ohe(df,'sloss')\n",
        "numerical_split_ohe(df,'dloss')\n",
        "numerical_split_ohe(df,'sinpkt')\n",
        "numerical_split_ohe(df,'dinpkt')\n",
        "numerical_split_ohe(df,'sjit')\n",
        "numerical_split_ohe(df,'djit')\n",
        "numerical_split_ohe(df,'swin')\n",
        "numerical_split_ohe(df,'stcpb')\n",
        "numerical_split_ohe(df,'dtcpb')\n",
        "numerical_split_ohe(df,'dwin')\n",
        "numerical_split_ohe(df,'tcprtt')\n",
        "numerical_split_ohe(df,'synack')\n",
        "numerical_split_ohe(df,'ackdat')\n",
        "numerical_split_ohe(df,'smean')\n",
        "numerical_split_ohe(df,'dmean')\n",
        "numerical_split_ohe(df,'trans_depth')\n",
        "numerical_split_ohe(df,'response_body_len')\n",
        "numerical_split_ohe(df,'ct_srv_src')\n",
        "numerical_split_ohe(df,'ct_state_ttl')\n",
        "numerical_split_ohe(df,'ct_dst_ltm')\n",
        "numerical_split_ohe(df,'ct_src_dport_ltm')\n",
        "numerical_split_ohe(df,'ct_dst_sport_ltm')\n",
        "numerical_split_ohe(df,'ct_dst_src_ltm')\n",
        "numerical_split_ohe(df,'is_ftp_login')\n",
        "numerical_split_ohe(df,'ct_ftp_cmd')\n",
        "numerical_split_ohe(df,'ct_flw_http_mthd')\n",
        "numerical_split_ohe(df,'ct_src_ltm')\n",
        "numerical_split_ohe(df,'ct_srv_dst')\n",
        "numerical_split_ohe(df,'is_sm_ips_ports')"
      ],
      "metadata": {
        "id": "tbMrB8oU0RS4"
      },
      "execution_count": 62,
      "outputs": []
    },
    {
      "cell_type": "code",
      "source": [
        "#Retirer la colonne attack_cat et l'enregistrer dans la variable y.\n",
        "y_column = df['label']\n",
        "df.drop('label',axis=1,inplace=True)\n",
        "dummies = pd.get_dummies(y_column) \n",
        "y = dummies.values"
      ],
      "metadata": {
        "id": "NaUz-0Do06PA"
      },
      "execution_count": 63,
      "outputs": []
    },
    {
      "cell_type": "code",
      "source": [
        "y"
      ],
      "metadata": {
        "colab": {
          "base_uri": "https://localhost:8080/"
        },
        "id": "6iO_d2nZohWm",
        "outputId": "ea257c19-4e13-409a-bc9b-259e72264197"
      },
      "execution_count": 64,
      "outputs": [
        {
          "output_type": "execute_result",
          "data": {
            "text/plain": [
              "array([[1, 0],\n",
              "       [1, 0],\n",
              "       [1, 0],\n",
              "       ...,\n",
              "       [0, 1],\n",
              "       [0, 1],\n",
              "       [0, 1]], dtype=uint8)"
            ]
          },
          "metadata": {},
          "execution_count": 64
        }
      ]
    },
    {
      "cell_type": "code",
      "source": [
        "#Normalisation des valeurs entre -0.5 et 0.5\n",
        "x = []\n",
        "for image in np.array(df.to_numpy()):\n",
        "  x.append((image/255 - 0.5))\n",
        "x = np.array(x)"
      ],
      "metadata": {
        "id": "ppHZ3d9I0-FS"
      },
      "execution_count": 65,
      "outputs": []
    },
    {
      "cell_type": "code",
      "source": [
        "x"
      ],
      "metadata": {
        "colab": {
          "base_uri": "https://localhost:8080/"
        },
        "id": "tiqITPpioqvR",
        "outputId": "8f309be3-0a56-43f0-a968-2ed2d6d0f93b"
      },
      "execution_count": 66,
      "outputs": [
        {
          "output_type": "execute_result",
          "data": {
            "text/plain": [
              "array([[-0.5       , -0.05686275, -0.5       , ..., -0.5       ,\n",
              "        -0.5       , -0.5       ],\n",
              "       [-0.49215686, -0.05686275, -0.5       , ..., -0.5       ,\n",
              "        -0.42156863, -0.5       ],\n",
              "       [-0.47647059, -0.05686275, -0.5       , ..., -0.48431373,\n",
              "        -0.42156863, -0.5       ],\n",
              "       ...,\n",
              "       [-0.49215686, -0.05686275, -0.5       , ..., -0.48431373,\n",
              "        -0.5       , -0.5       ],\n",
              "       [-0.5       , -0.05686275, -0.48039216, ..., -0.5       ,\n",
              "        -0.5       , -0.5       ],\n",
              "       [-0.5       , -0.02941176, -0.5       , ..., -0.46862745,\n",
              "        -0.46862745, -0.5       ]])"
            ]
          },
          "metadata": {},
          "execution_count": 66
        }
      ]
    },
    {
      "cell_type": "code",
      "source": [
        "x.shape"
      ],
      "metadata": {
        "colab": {
          "base_uri": "https://localhost:8080/"
        },
        "id": "FuUxvhk6oueG",
        "outputId": "f0fc5488-9de0-45d3-e85c-d4715a71965f"
      },
      "execution_count": 67,
      "outputs": [
        {
          "output_type": "execute_result",
          "data": {
            "text/plain": [
              "(186000, 42)"
            ]
          },
          "metadata": {},
          "execution_count": 67
        }
      ]
    },
    {
      "cell_type": "code",
      "source": [
        "#Séparation du jeu de données en un ensemble d'apprentissage et un ensemble de validation.\n",
        "sss = StratifiedShuffleSplit(n_splits=1, test_size=0.25, random_state=42)\n",
        "\n",
        "for train_index, test_index in sss.split(x,y):\n",
        "  x_train, x_test = x[train_index], x[test_index]\n",
        "  y_train, y_test = y[train_index], y[test_index]"
      ],
      "metadata": {
        "id": "F82SKrUW1EK6"
      },
      "execution_count": 68,
      "outputs": []
    },
    {
      "cell_type": "code",
      "source": [
        "y_train"
      ],
      "metadata": {
        "colab": {
          "base_uri": "https://localhost:8080/"
        },
        "id": "tCo2z71qo2BV",
        "outputId": "a85de80d-ac1c-4061-9ff4-ccc0ab802221"
      },
      "execution_count": 69,
      "outputs": [
        {
          "output_type": "execute_result",
          "data": {
            "text/plain": [
              "array([[0, 1],\n",
              "       [0, 1],\n",
              "       [0, 1],\n",
              "       ...,\n",
              "       [1, 0],\n",
              "       [1, 0],\n",
              "       [1, 0]], dtype=uint8)"
            ]
          },
          "metadata": {},
          "execution_count": 69
        }
      ]
    },
    {
      "cell_type": "code",
      "source": [
        "y_test"
      ],
      "metadata": {
        "colab": {
          "base_uri": "https://localhost:8080/"
        },
        "id": "w59xNunEo5l3",
        "outputId": "286690bf-4e96-4091-b709-b84b2ea4502f"
      },
      "execution_count": 70,
      "outputs": [
        {
          "output_type": "execute_result",
          "data": {
            "text/plain": [
              "array([[1, 0],\n",
              "       [0, 1],\n",
              "       [0, 1],\n",
              "       ...,\n",
              "       [0, 1],\n",
              "       [1, 0],\n",
              "       [0, 1]], dtype=uint8)"
            ]
          },
          "metadata": {},
          "execution_count": 70
        }
      ]
    },
    {
      "cell_type": "code",
      "source": [
        "x_train.shape[1]"
      ],
      "metadata": {
        "colab": {
          "base_uri": "https://localhost:8080/"
        },
        "id": "leREUBmE1J22",
        "outputId": "76c224d8-b2d1-4af0-d726-43fc721cb307"
      },
      "execution_count": 19,
      "outputs": [
        {
          "output_type": "execute_result",
          "data": {
            "text/plain": [
              "42"
            ]
          },
          "metadata": {},
          "execution_count": 19
        }
      ]
    },
    {
      "cell_type": "code",
      "source": [
        "# Modele LSTM\n",
        "#Mise en place du modele LSTM a 5 couches\n",
        "from keras.models import Sequential\n",
        "from keras.layers import Dense\n",
        "from keras.layers import LSTM\n",
        "from keras.layers import Dropout\n",
        "\n",
        "model_lstm = Sequential() \n",
        "model_lstm.add(LSTM(units = 512, return_sequences = True, input_shape = (x_train.shape[1],1), activation='tanh'))\n",
        "#model_lstm.add(LSTM(units = 512, return_sequences = True))\n",
        "model_lstm.add(Dense(128, activation='relu'))\n",
        "model_lstm.add(Dense(128, activation='relu'))\n",
        "#model_lstm.add(Dropout(0.2))\n",
        "#model_lstm.add(Dense(32, activation='relu'))\n",
        "#model_lstm.add(Dropout(0.2))\n",
        "#model_lstm.add(Dense(32, activation='relu'))\n",
        "model_lstm.add(Flatten())\n",
        "model_lstm.add(Dense(2, activation='softmax'))\n",
        "model_lstm.compile(optimizer = 'adam', loss ='binary_crossentropy', metrics=['accuracy'] )\n",
        "model_lstm.summary()"
      ],
      "metadata": {
        "colab": {
          "base_uri": "https://localhost:8080/"
        },
        "id": "-F3yKl7v1bvJ",
        "outputId": "8f14587b-d7fd-4c79-b123-07088856c817"
      },
      "execution_count": 71,
      "outputs": [
        {
          "output_type": "stream",
          "name": "stdout",
          "text": [
            "Model: \"sequential_3\"\n",
            "_________________________________________________________________\n",
            " Layer (type)                Output Shape              Param #   \n",
            "=================================================================\n",
            " lstm (LSTM)                 (None, 42, 512)           1052672   \n",
            "                                                                 \n",
            " dense_4 (Dense)             (None, 42, 128)           65664     \n",
            "                                                                 \n",
            " dense_5 (Dense)             (None, 42, 128)           16512     \n",
            "                                                                 \n",
            " flatten_2 (Flatten)         (None, 5376)              0         \n",
            "                                                                 \n",
            " dense_6 (Dense)             (None, 2)                 10754     \n",
            "                                                                 \n",
            "=================================================================\n",
            "Total params: 1,145,602\n",
            "Trainable params: 1,145,602\n",
            "Non-trainable params: 0\n",
            "_________________________________________________________________\n"
          ]
        }
      ]
    },
    {
      "cell_type": "code",
      "source": [
        "#processus de formation du modele LSTM\n",
        "history_lstm = model_lstm.fit(\n",
        "    x_train,\n",
        "    y_train,\n",
        "    validation_split = 0.1,\n",
        "    epochs = 100,\n",
        "    batch_size = 256\n",
        ")"
      ],
      "metadata": {
        "colab": {
          "base_uri": "https://localhost:8080/"
        },
        "id": "JBct424_8TMf",
        "outputId": "d2b749aa-37c5-4e84-de11-be8433848011"
      },
      "execution_count": 72,
      "outputs": [
        {
          "output_type": "stream",
          "name": "stdout",
          "text": [
            "Epoch 1/100\n",
            "491/491 [==============================] - 17s 29ms/step - loss: 0.3373 - accuracy: 0.8271 - val_loss: 0.3041 - val_accuracy: 0.8434\n",
            "Epoch 2/100\n",
            "491/491 [==============================] - 14s 29ms/step - loss: 0.2626 - accuracy: 0.8710 - val_loss: 0.2626 - val_accuracy: 0.8870\n",
            "Epoch 3/100\n",
            "491/491 [==============================] - 14s 29ms/step - loss: 0.2340 - accuracy: 0.8887 - val_loss: 0.2307 - val_accuracy: 0.8994\n",
            "Epoch 4/100\n",
            "491/491 [==============================] - 14s 29ms/step - loss: 0.2085 - accuracy: 0.9027 - val_loss: 0.2028 - val_accuracy: 0.9067\n",
            "Epoch 5/100\n",
            "491/491 [==============================] - 14s 29ms/step - loss: 0.1903 - accuracy: 0.9110 - val_loss: 0.1895 - val_accuracy: 0.9150\n",
            "Epoch 6/100\n",
            "491/491 [==============================] - 15s 30ms/step - loss: 0.1827 - accuracy: 0.9154 - val_loss: 0.1870 - val_accuracy: 0.9110\n",
            "Epoch 7/100\n",
            "491/491 [==============================] - 15s 30ms/step - loss: 0.1759 - accuracy: 0.9182 - val_loss: 0.1739 - val_accuracy: 0.9217\n",
            "Epoch 8/100\n",
            "491/491 [==============================] - 15s 30ms/step - loss: 0.1712 - accuracy: 0.9208 - val_loss: 0.1845 - val_accuracy: 0.9163\n",
            "Epoch 9/100\n",
            "491/491 [==============================] - 15s 30ms/step - loss: 0.1692 - accuracy: 0.9216 - val_loss: 0.1694 - val_accuracy: 0.9207\n",
            "Epoch 10/100\n",
            "491/491 [==============================] - 15s 31ms/step - loss: 0.1653 - accuracy: 0.9235 - val_loss: 0.1674 - val_accuracy: 0.9247\n",
            "Epoch 11/100\n",
            "491/491 [==============================] - 15s 30ms/step - loss: 0.1633 - accuracy: 0.9250 - val_loss: 0.1678 - val_accuracy: 0.9220\n",
            "Epoch 12/100\n",
            "491/491 [==============================] - 15s 30ms/step - loss: 0.1598 - accuracy: 0.9267 - val_loss: 0.1658 - val_accuracy: 0.9247\n",
            "Epoch 13/100\n",
            "491/491 [==============================] - 15s 31ms/step - loss: 0.1588 - accuracy: 0.9269 - val_loss: 0.1629 - val_accuracy: 0.9290\n",
            "Epoch 14/100\n",
            "491/491 [==============================] - 15s 31ms/step - loss: 0.1576 - accuracy: 0.9276 - val_loss: 0.1601 - val_accuracy: 0.9267\n",
            "Epoch 15/100\n",
            "491/491 [==============================] - 15s 31ms/step - loss: 0.1558 - accuracy: 0.9281 - val_loss: 0.1591 - val_accuracy: 0.9265\n",
            "Epoch 16/100\n",
            "491/491 [==============================] - 15s 31ms/step - loss: 0.1547 - accuracy: 0.9291 - val_loss: 0.1599 - val_accuracy: 0.9282\n",
            "Epoch 17/100\n",
            "491/491 [==============================] - 15s 31ms/step - loss: 0.1544 - accuracy: 0.9297 - val_loss: 0.1547 - val_accuracy: 0.9307\n",
            "Epoch 18/100\n",
            "491/491 [==============================] - 15s 31ms/step - loss: 0.1538 - accuracy: 0.9297 - val_loss: 0.1546 - val_accuracy: 0.9288\n",
            "Epoch 19/100\n",
            "491/491 [==============================] - 15s 31ms/step - loss: 0.1525 - accuracy: 0.9304 - val_loss: 0.1537 - val_accuracy: 0.9301\n",
            "Epoch 20/100\n",
            "491/491 [==============================] - 15s 31ms/step - loss: 0.1519 - accuracy: 0.9308 - val_loss: 0.1549 - val_accuracy: 0.9272\n",
            "Epoch 21/100\n",
            "491/491 [==============================] - 15s 31ms/step - loss: 0.1515 - accuracy: 0.9305 - val_loss: 0.1541 - val_accuracy: 0.9300\n",
            "Epoch 22/100\n",
            "491/491 [==============================] - 15s 31ms/step - loss: 0.1508 - accuracy: 0.9309 - val_loss: 0.1541 - val_accuracy: 0.9303\n",
            "Epoch 23/100\n",
            "491/491 [==============================] - 15s 31ms/step - loss: 0.1500 - accuracy: 0.9311 - val_loss: 0.1576 - val_accuracy: 0.9249\n",
            "Epoch 24/100\n",
            "491/491 [==============================] - 15s 31ms/step - loss: 0.1496 - accuracy: 0.9317 - val_loss: 0.1606 - val_accuracy: 0.9284\n",
            "Epoch 25/100\n",
            "491/491 [==============================] - 15s 31ms/step - loss: 0.1502 - accuracy: 0.9315 - val_loss: 0.1553 - val_accuracy: 0.9281\n",
            "Epoch 26/100\n",
            "491/491 [==============================] - 15s 31ms/step - loss: 0.1483 - accuracy: 0.9323 - val_loss: 0.1505 - val_accuracy: 0.9332\n",
            "Epoch 27/100\n",
            "491/491 [==============================] - 15s 31ms/step - loss: 0.1486 - accuracy: 0.9319 - val_loss: 0.1513 - val_accuracy: 0.9307\n",
            "Epoch 28/100\n",
            "491/491 [==============================] - 15s 31ms/step - loss: 0.1476 - accuracy: 0.9329 - val_loss: 0.1503 - val_accuracy: 0.9313\n",
            "Epoch 29/100\n",
            "491/491 [==============================] - 15s 32ms/step - loss: 0.1474 - accuracy: 0.9324 - val_loss: 0.1494 - val_accuracy: 0.9315\n",
            "Epoch 30/100\n",
            "491/491 [==============================] - 16s 32ms/step - loss: 0.1463 - accuracy: 0.9329 - val_loss: 0.1520 - val_accuracy: 0.9310\n",
            "Epoch 31/100\n",
            "491/491 [==============================] - 15s 31ms/step - loss: 0.1466 - accuracy: 0.9330 - val_loss: 0.1515 - val_accuracy: 0.9313\n",
            "Epoch 32/100\n",
            "491/491 [==============================] - 16s 32ms/step - loss: 0.1460 - accuracy: 0.9331 - val_loss: 0.1483 - val_accuracy: 0.9325\n",
            "Epoch 33/100\n",
            "491/491 [==============================] - 16s 32ms/step - loss: 0.1452 - accuracy: 0.9333 - val_loss: 0.1489 - val_accuracy: 0.9341\n",
            "Epoch 34/100\n",
            "491/491 [==============================] - 16s 32ms/step - loss: 0.1455 - accuracy: 0.9332 - val_loss: 0.1530 - val_accuracy: 0.9316\n",
            "Epoch 35/100\n",
            "491/491 [==============================] - 16s 32ms/step - loss: 0.1441 - accuracy: 0.9344 - val_loss: 0.1517 - val_accuracy: 0.9308\n",
            "Epoch 36/100\n",
            "491/491 [==============================] - 15s 32ms/step - loss: 0.1445 - accuracy: 0.9340 - val_loss: 0.1464 - val_accuracy: 0.9321\n",
            "Epoch 37/100\n",
            "491/491 [==============================] - 16s 32ms/step - loss: 0.1433 - accuracy: 0.9344 - val_loss: 0.1491 - val_accuracy: 0.9333\n",
            "Epoch 38/100\n",
            "491/491 [==============================] - 15s 32ms/step - loss: 0.1431 - accuracy: 0.9346 - val_loss: 0.1491 - val_accuracy: 0.9338\n",
            "Epoch 39/100\n",
            "491/491 [==============================] - 16s 32ms/step - loss: 0.1433 - accuracy: 0.9343 - val_loss: 0.1464 - val_accuracy: 0.9328\n",
            "Epoch 40/100\n",
            "491/491 [==============================] - 16s 32ms/step - loss: 0.1419 - accuracy: 0.9349 - val_loss: 0.1480 - val_accuracy: 0.9332\n",
            "Epoch 41/100\n",
            "491/491 [==============================] - 15s 32ms/step - loss: 0.1424 - accuracy: 0.9349 - val_loss: 0.1474 - val_accuracy: 0.9338\n",
            "Epoch 42/100\n",
            "491/491 [==============================] - 15s 32ms/step - loss: 0.1418 - accuracy: 0.9350 - val_loss: 0.1461 - val_accuracy: 0.9325\n",
            "Epoch 43/100\n",
            "491/491 [==============================] - 15s 32ms/step - loss: 0.1419 - accuracy: 0.9353 - val_loss: 0.1480 - val_accuracy: 0.9312\n",
            "Epoch 44/100\n",
            "491/491 [==============================] - 16s 32ms/step - loss: 0.1412 - accuracy: 0.9352 - val_loss: 0.1501 - val_accuracy: 0.9300\n",
            "Epoch 45/100\n",
            "491/491 [==============================] - 15s 32ms/step - loss: 0.1412 - accuracy: 0.9355 - val_loss: 0.1431 - val_accuracy: 0.9350\n",
            "Epoch 46/100\n",
            "491/491 [==============================] - 15s 31ms/step - loss: 0.1401 - accuracy: 0.9361 - val_loss: 0.1461 - val_accuracy: 0.9325\n",
            "Epoch 47/100\n",
            "491/491 [==============================] - 15s 32ms/step - loss: 0.1405 - accuracy: 0.9356 - val_loss: 0.1440 - val_accuracy: 0.9346\n",
            "Epoch 48/100\n",
            "491/491 [==============================] - 15s 32ms/step - loss: 0.1400 - accuracy: 0.9357 - val_loss: 0.1451 - val_accuracy: 0.9328\n",
            "Epoch 49/100\n",
            "491/491 [==============================] - 15s 32ms/step - loss: 0.1392 - accuracy: 0.9362 - val_loss: 0.1446 - val_accuracy: 0.9325\n",
            "Epoch 50/100\n",
            "491/491 [==============================] - 16s 32ms/step - loss: 0.1390 - accuracy: 0.9360 - val_loss: 0.1423 - val_accuracy: 0.9339\n",
            "Epoch 51/100\n",
            "491/491 [==============================] - 15s 31ms/step - loss: 0.1388 - accuracy: 0.9365 - val_loss: 0.1473 - val_accuracy: 0.9317\n",
            "Epoch 52/100\n",
            "491/491 [==============================] - 15s 31ms/step - loss: 0.1388 - accuracy: 0.9367 - val_loss: 0.1427 - val_accuracy: 0.9339\n",
            "Epoch 53/100\n",
            "491/491 [==============================] - 15s 31ms/step - loss: 0.1379 - accuracy: 0.9370 - val_loss: 0.1442 - val_accuracy: 0.9361\n",
            "Epoch 54/100\n",
            "491/491 [==============================] - 15s 32ms/step - loss: 0.1379 - accuracy: 0.9373 - val_loss: 0.1420 - val_accuracy: 0.9348\n",
            "Epoch 55/100\n",
            "491/491 [==============================] - 15s 32ms/step - loss: 0.1377 - accuracy: 0.9368 - val_loss: 0.1406 - val_accuracy: 0.9358\n",
            "Epoch 56/100\n",
            "491/491 [==============================] - 15s 32ms/step - loss: 0.1370 - accuracy: 0.9369 - val_loss: 0.1441 - val_accuracy: 0.9345\n",
            "Epoch 57/100\n",
            "491/491 [==============================] - 16s 32ms/step - loss: 0.1369 - accuracy: 0.9368 - val_loss: 0.1437 - val_accuracy: 0.9331\n",
            "Epoch 58/100\n",
            "491/491 [==============================] - 16s 32ms/step - loss: 0.1364 - accuracy: 0.9374 - val_loss: 0.1403 - val_accuracy: 0.9335\n",
            "Epoch 59/100\n",
            "491/491 [==============================] - 15s 32ms/step - loss: 0.1360 - accuracy: 0.9375 - val_loss: 0.1408 - val_accuracy: 0.9339\n",
            "Epoch 60/100\n",
            "491/491 [==============================] - 16s 32ms/step - loss: 0.1358 - accuracy: 0.9370 - val_loss: 0.1416 - val_accuracy: 0.9339\n",
            "Epoch 61/100\n",
            "491/491 [==============================] - 15s 32ms/step - loss: 0.1356 - accuracy: 0.9372 - val_loss: 0.1434 - val_accuracy: 0.9343\n",
            "Epoch 62/100\n",
            "491/491 [==============================] - 15s 31ms/step - loss: 0.1354 - accuracy: 0.9378 - val_loss: 0.1387 - val_accuracy: 0.9375\n",
            "Epoch 63/100\n",
            "491/491 [==============================] - 15s 32ms/step - loss: 0.1350 - accuracy: 0.9376 - val_loss: 0.1397 - val_accuracy: 0.9351\n",
            "Epoch 64/100\n",
            "491/491 [==============================] - 15s 31ms/step - loss: 0.1345 - accuracy: 0.9383 - val_loss: 0.1423 - val_accuracy: 0.9339\n",
            "Epoch 65/100\n",
            "491/491 [==============================] - 16s 32ms/step - loss: 0.1344 - accuracy: 0.9379 - val_loss: 0.1403 - val_accuracy: 0.9367\n",
            "Epoch 66/100\n",
            "491/491 [==============================] - 15s 32ms/step - loss: 0.1340 - accuracy: 0.9384 - val_loss: 0.1398 - val_accuracy: 0.9343\n",
            "Epoch 67/100\n",
            "491/491 [==============================] - 16s 32ms/step - loss: 0.1336 - accuracy: 0.9386 - val_loss: 0.1395 - val_accuracy: 0.9376\n",
            "Epoch 68/100\n",
            "491/491 [==============================] - 16s 33ms/step - loss: 0.1333 - accuracy: 0.9388 - val_loss: 0.1392 - val_accuracy: 0.9371\n",
            "Epoch 69/100\n",
            "491/491 [==============================] - 16s 33ms/step - loss: 0.1332 - accuracy: 0.9390 - val_loss: 0.1395 - val_accuracy: 0.9382\n",
            "Epoch 70/100\n",
            "491/491 [==============================] - 17s 34ms/step - loss: 0.1334 - accuracy: 0.9388 - val_loss: 0.1359 - val_accuracy: 0.9377\n",
            "Epoch 71/100\n",
            "491/491 [==============================] - 16s 32ms/step - loss: 0.1326 - accuracy: 0.9388 - val_loss: 0.1408 - val_accuracy: 0.9363\n",
            "Epoch 72/100\n",
            "491/491 [==============================] - 16s 32ms/step - loss: 0.1327 - accuracy: 0.9387 - val_loss: 0.1367 - val_accuracy: 0.9376\n",
            "Epoch 73/100\n",
            "491/491 [==============================] - 15s 31ms/step - loss: 0.1320 - accuracy: 0.9399 - val_loss: 0.1375 - val_accuracy: 0.9373\n",
            "Epoch 74/100\n",
            "491/491 [==============================] - 15s 31ms/step - loss: 0.1315 - accuracy: 0.9399 - val_loss: 0.1398 - val_accuracy: 0.9376\n",
            "Epoch 75/100\n",
            "491/491 [==============================] - 15s 32ms/step - loss: 0.1317 - accuracy: 0.9390 - val_loss: 0.1390 - val_accuracy: 0.9365\n",
            "Epoch 76/100\n",
            "491/491 [==============================] - 16s 32ms/step - loss: 0.1309 - accuracy: 0.9400 - val_loss: 0.1383 - val_accuracy: 0.9361\n",
            "Epoch 77/100\n",
            "491/491 [==============================] - 15s 31ms/step - loss: 0.1309 - accuracy: 0.9399 - val_loss: 0.1391 - val_accuracy: 0.9371\n",
            "Epoch 78/100\n",
            "491/491 [==============================] - 15s 31ms/step - loss: 0.1308 - accuracy: 0.9403 - val_loss: 0.1397 - val_accuracy: 0.9369\n",
            "Epoch 79/100\n",
            "491/491 [==============================] - 15s 31ms/step - loss: 0.1301 - accuracy: 0.9402 - val_loss: 0.1393 - val_accuracy: 0.9364\n",
            "Epoch 80/100\n",
            "491/491 [==============================] - 15s 31ms/step - loss: 0.1299 - accuracy: 0.9404 - val_loss: 0.1367 - val_accuracy: 0.9383\n",
            "Epoch 81/100\n",
            "491/491 [==============================] - 15s 31ms/step - loss: 0.1298 - accuracy: 0.9403 - val_loss: 0.1346 - val_accuracy: 0.9391\n",
            "Epoch 82/100\n",
            "491/491 [==============================] - 16s 32ms/step - loss: 0.1296 - accuracy: 0.9404 - val_loss: 0.1369 - val_accuracy: 0.9380\n",
            "Epoch 83/100\n",
            "491/491 [==============================] - 15s 32ms/step - loss: 0.1294 - accuracy: 0.9406 - val_loss: 0.1367 - val_accuracy: 0.9368\n",
            "Epoch 84/100\n",
            "491/491 [==============================] - 15s 31ms/step - loss: 0.1288 - accuracy: 0.9409 - val_loss: 0.1348 - val_accuracy: 0.9383\n",
            "Epoch 85/100\n",
            "491/491 [==============================] - 16s 32ms/step - loss: 0.1285 - accuracy: 0.9406 - val_loss: 0.1352 - val_accuracy: 0.9383\n",
            "Epoch 86/100\n",
            "491/491 [==============================] - 15s 32ms/step - loss: 0.1283 - accuracy: 0.9409 - val_loss: 0.1375 - val_accuracy: 0.9391\n",
            "Epoch 87/100\n",
            "491/491 [==============================] - 16s 32ms/step - loss: 0.1280 - accuracy: 0.9415 - val_loss: 0.1369 - val_accuracy: 0.9384\n",
            "Epoch 88/100\n",
            "491/491 [==============================] - 16s 32ms/step - loss: 0.1277 - accuracy: 0.9411 - val_loss: 0.1368 - val_accuracy: 0.9364\n",
            "Epoch 89/100\n",
            "491/491 [==============================] - 15s 31ms/step - loss: 0.1279 - accuracy: 0.9410 - val_loss: 0.1388 - val_accuracy: 0.9393\n",
            "Epoch 90/100\n",
            "491/491 [==============================] - 16s 32ms/step - loss: 0.1269 - accuracy: 0.9418 - val_loss: 0.1337 - val_accuracy: 0.9393\n",
            "Epoch 91/100\n",
            "491/491 [==============================] - 15s 31ms/step - loss: 0.1270 - accuracy: 0.9419 - val_loss: 0.1349 - val_accuracy: 0.9386\n",
            "Epoch 92/100\n",
            "491/491 [==============================] - 15s 31ms/step - loss: 0.1266 - accuracy: 0.9424 - val_loss: 0.1360 - val_accuracy: 0.9365\n",
            "Epoch 93/100\n",
            "491/491 [==============================] - 15s 31ms/step - loss: 0.1259 - accuracy: 0.9422 - val_loss: 0.1367 - val_accuracy: 0.9380\n",
            "Epoch 94/100\n",
            "491/491 [==============================] - 15s 32ms/step - loss: 0.1262 - accuracy: 0.9423 - val_loss: 0.1341 - val_accuracy: 0.9396\n",
            "Epoch 95/100\n",
            "491/491 [==============================] - 15s 32ms/step - loss: 0.1255 - accuracy: 0.9429 - val_loss: 0.1326 - val_accuracy: 0.9408\n",
            "Epoch 96/100\n",
            "491/491 [==============================] - 16s 32ms/step - loss: 0.1255 - accuracy: 0.9425 - val_loss: 0.1354 - val_accuracy: 0.9381\n",
            "Epoch 97/100\n",
            "491/491 [==============================] - 16s 32ms/step - loss: 0.1251 - accuracy: 0.9423 - val_loss: 0.1415 - val_accuracy: 0.9358\n",
            "Epoch 98/100\n",
            "491/491 [==============================] - 15s 31ms/step - loss: 0.1248 - accuracy: 0.9429 - val_loss: 0.1348 - val_accuracy: 0.9374\n",
            "Epoch 99/100\n",
            "491/491 [==============================] - 15s 31ms/step - loss: 0.1247 - accuracy: 0.9433 - val_loss: 0.1345 - val_accuracy: 0.9368\n",
            "Epoch 100/100\n",
            "491/491 [==============================] - 15s 31ms/step - loss: 0.1247 - accuracy: 0.9429 - val_loss: 0.1330 - val_accuracy: 0.9407\n"
          ]
        }
      ]
    },
    {
      "cell_type": "code",
      "source": [
        "plt.clf()\n",
        "loss = history_lstm.history['loss']\n",
        "val_loss = history_lstm.history['val_loss']\n",
        "epochs = range(1, len(loss) + 1)\n",
        "plt.plot(epochs, loss, 'g', label='Training loss')\n",
        "plt.plot(epochs, val_loss, 'y', label='Validation loss')\n",
        "plt.title('Training and validation loss')\n",
        "plt.xlabel('Epochs')\n",
        "plt.ylabel('Loss')\n",
        "plt.legend()\n",
        "plt.show()"
      ],
      "metadata": {
        "colab": {
          "base_uri": "https://localhost:8080/",
          "height": 295
        },
        "id": "N5PTMJ1a9lNe",
        "outputId": "2fe01580-5157-4a58-c8da-bab9c4279586"
      },
      "execution_count": 73,
      "outputs": [
        {
          "output_type": "display_data",
          "data": {
            "text/plain": [
              "<Figure size 432x288 with 1 Axes>"
            ],
            "image/png": "[encoded data removed]"
          },
          "metadata": {
            "needs_background": "light"
          }
        }
      ]
    },
    {
      "cell_type": "code",
      "source": [
        "plt.clf()\n",
        "acc = history_lstm.history['accuracy']\n",
        "val_acc = history_lstm.history['val_accuracy']\n",
        "plt.plot(epochs, acc, 'g', label='Training acc')\n",
        "plt.plot(epochs, val_acc, 'y', label='Validation acc')\n",
        "plt.title('Training and validation accuracy')\n",
        "plt.xlabel('Epochs')\n",
        "plt.ylabel('Accuracy')\n",
        "plt.legend()\n",
        "plt.show()"
      ],
      "metadata": {
        "colab": {
          "base_uri": "https://localhost:8080/",
          "height": 295
        },
        "id": "vXcpapVF9sZj",
        "outputId": "c7ae0ba0-7872-4c3f-bc13-b7c5f5bd235e"
      },
      "execution_count": 74,
      "outputs": [
        {
          "output_type": "display_data",
          "data": {
            "text/plain": [
              "<Figure size 432x288 with 1 Axes>"
            ],
            "image/png": "[encoded data removed]"
          },
          "metadata": {
            "needs_background": "light"
          }
        }
      ]
    },
    {
      "cell_type": "code",
      "source": [
        "# Evaluation du model\n",
        "model_lstm.evaluate(x_test,y_test)"
      ],
      "metadata": {
        "colab": {
          "base_uri": "https://localhost:8080/"
        },
        "id": "K5E2cPEl96xh",
        "outputId": "9e55f84b-8f35-4f30-de4b-92e1d87e2549"
      },
      "execution_count": 75,
      "outputs": [
        {
          "output_type": "stream",
          "name": "stdout",
          "text": [
            "1454/1454 [==============================] - 8s 5ms/step - loss: 0.1322 - accuracy: 0.9398\n"
          ]
        },
        {
          "output_type": "execute_result",
          "data": {
            "text/plain": [
              "[0.1321829855442047, 0.9398494362831116]"
            ]
          },
          "metadata": {},
          "execution_count": 75
        }
      ]
    },
    {
      "cell_type": "code",
      "source": [
        "# Prediction et affichage des performance du model\n",
        "y_pred = model_lstm.predict(x)\n",
        "y_pred = np.argmax(y_pred,axis=1) \n",
        "y_true = np.argmax(y,axis=1)\n",
        "\n",
        "print(\"Accuracy: {}\" .format(metrics.accuracy_score(y_true, y_pred)))\n",
        "print(\"Precision: {}\" .format(metrics.precision_score(y_true, y_pred, average='macro')))\n",
        "print(\"Recall: {}\" .format(metrics.recall_score(y_true, y_pred, average='macro')))\n",
        "print(\"F1: {}\" .format(metrics.f1_score(y_true, y_pred, average='macro')))\n"
      ],
      "metadata": {
        "colab": {
          "base_uri": "https://localhost:8080/"
        },
        "id": "2NNhgK2e-J33",
        "outputId": "f4be42c8-4bba-41ea-cc8a-92dd0a280056"
      },
      "execution_count": 77,
      "outputs": [
        {
          "output_type": "stream",
          "name": "stdout",
          "text": [
            "Accuracy: 0.943231182795699\n",
            "Precision: 0.9437431769979299\n",
            "Recall: 0.943231182795699\n",
            "F1: 0.9432148029992626\n"
          ]
        }
      ]
    },
    {
      "cell_type": "code",
      "source": [
        "y_test.shape"
      ],
      "metadata": {
        "colab": {
          "base_uri": "https://localhost:8080/"
        },
        "id": "GhTx7xMvEAHQ",
        "outputId": "39990b76-ac5e-4aa0-d212-fcf8dd031bda"
      },
      "execution_count": null,
      "outputs": [
        {
          "output_type": "execute_result",
          "data": {
            "text/plain": [
              "(46500, 2)"
            ]
          },
          "metadata": {},
          "execution_count": 26
        }
      ]
    },
    {
      "cell_type": "code",
      "source": [
        "y_pred.shape"
      ],
      "metadata": {
        "colab": {
          "base_uri": "https://localhost:8080/"
        },
        "id": "MWNbPmLmELfe",
        "outputId": "7f8dcea0-4ed0-4501-fa16-ce3b529d9697"
      },
      "execution_count": null,
      "outputs": [
        {
          "output_type": "execute_result",
          "data": {
            "text/plain": [
              "(186000,)"
            ]
          },
          "metadata": {},
          "execution_count": 27
        }
      ]
    },
    {
      "cell_type": "code",
      "source": [
        "def plot_confusing_matrix (y_compare,pred,n_categories):\n",
        "\n",
        "  cm = metrics.confusion_matrix(y_compare, pred)\n",
        "  plot_confusion_matrix(conf_mat=cm,figsize=(13,13),show_normed=True)\n",
        "  plt.title('Matrice de confusion')\n",
        "  plt.ylabel('Cible')\n",
        "  plt.xlabel('Prédite')\n",
        "  plt.show()"
      ],
      "metadata": {
        "id": "UQpY-8Kt-_z6"
      },
      "execution_count": 79,
      "outputs": []
    },
    {
      "cell_type": "code",
      "source": [
        "plot_confusing_matrix(y_true,y_pred,2)"
      ],
      "metadata": {
        "colab": {
          "base_uri": "https://localhost:8080/",
          "height": 820
        },
        "id": "AI3-Jjrb_DZ9",
        "outputId": "7d5dac0b-ffcb-4387-d8bf-1a9114a01ae3"
      },
      "execution_count": 80,
      "outputs": [
        {
          "output_type": "display_data",
          "data": {
            "text/plain": [
              "<Figure size 936x936 with 1 Axes>"
            ],
            "image/png": "[encoded data removed]"
          },
          "metadata": {
            "needs_background": "light"
          }
        }
      ]
    },
    {
      "cell_type": "markdown",
      "source": [
        "Application d'un reseau de neuronnes convolutif\n"
      ],
      "metadata": {
        "id": "fPKuqQzHcRK0"
      }
    },
    {
      "cell_type": "code",
      "source": [
        "\n",
        "X_train = x_train.reshape(x_train.shape[0], 1, 42, 1)   \n",
        "X_test= x_test.reshape(x_test.shape[0], 1, 42, 1)"
      ],
      "metadata": {
        "id": "9mxqS1mCQ0Ew"
      },
      "execution_count": 81,
      "outputs": []
    },
    {
      "cell_type": "code",
      "source": [
        "X_test.shape"
      ],
      "metadata": {
        "colab": {
          "base_uri": "https://localhost:8080/"
        },
        "id": "mY-xgeWmRYd7",
        "outputId": "fe313fec-095c-4d52-8b85-0aab03de4023"
      },
      "execution_count": 35,
      "outputs": [
        {
          "output_type": "execute_result",
          "data": {
            "text/plain": [
              "(46500, 1, 42, 1)"
            ]
          },
          "metadata": {},
          "execution_count": 35
        }
      ]
    },
    {
      "cell_type": "code",
      "source": [
        "X_train.shape"
      ],
      "metadata": {
        "colab": {
          "base_uri": "https://localhost:8080/"
        },
        "id": "buifPq3ZRfEt",
        "outputId": "f1cb3190-2175-452f-df6c-07658f772eb7"
      },
      "execution_count": 36,
      "outputs": [
        {
          "output_type": "execute_result",
          "data": {
            "text/plain": [
              "(139500, 1, 42, 1)"
            ]
          },
          "metadata": {},
          "execution_count": 36
        }
      ]
    },
    {
      "cell_type": "code",
      "source": [
        "y_train.shape"
      ],
      "metadata": {
        "colab": {
          "base_uri": "https://localhost:8080/"
        },
        "id": "xdH0KZ1sZSIj",
        "outputId": "54ba1134-4361-4ab3-d244-663f6e31c305"
      },
      "execution_count": 38,
      "outputs": [
        {
          "output_type": "execute_result",
          "data": {
            "text/plain": [
              "(139500, 2)"
            ]
          },
          "metadata": {},
          "execution_count": 38
        }
      ]
    },
    {
      "cell_type": "code",
      "source": [
        "y_test.shape"
      ],
      "metadata": {
        "colab": {
          "base_uri": "https://localhost:8080/"
        },
        "id": "C5Ojaf8jZhAC",
        "outputId": "d14bafc0-1295-48bf-e097-40775449b1be"
      },
      "execution_count": 39,
      "outputs": [
        {
          "output_type": "execute_result",
          "data": {
            "text/plain": [
              "(46500, 2)"
            ]
          },
          "metadata": {},
          "execution_count": 39
        }
      ]
    },
    {
      "cell_type": "code",
      "source": [
        ""
      ],
      "metadata": {
        "colab": {
          "base_uri": "https://localhost:8080/"
        },
        "id": "L64cWu1uZqKB",
        "outputId": "d8bf4db4-5856-47ea-b5b7-d676f1a01589"
      },
      "execution_count": 42,
      "outputs": [
        {
          "output_type": "execute_result",
          "data": {
            "text/plain": [
              "46500"
            ]
          },
          "metadata": {},
          "execution_count": 42
        }
      ]
    },
    {
      "cell_type": "code",
      "source": [
        "# Model CNN\n",
        "from tensorflow import keras\n",
        "from sklearn.model_selection import train_test_split\n",
        "import numpy as np\n",
        "from keras.utils import np_utils\n",
        "from sklearn.model_selection import GridSearchCV\n",
        "from keras.wrappers.scikit_learn import KerasClassifier\n",
        "from keras.models import Sequential\n",
        "from keras.layers import Dense, Activation, Dropout, Conv2D, Flatten, MaxPooling2D,BatchNormalization\n",
        "from keras.layers import LSTM,TimeDistributed,Conv1D,MaxPooling1D\n",
        "from keras.layers import Dense, Dropout, Flatten\n",
        "from keras import models\n",
        "from keras import layers\n",
        "from keras.models import Model\n",
        "\n",
        "CNN_model = Sequential()\n",
        "CNN_model.add(Conv2D(512, kernel_size=(3, 3),activation='tanh',padding='same',input_shape=(1,42,1)))\n",
        "CNN_model.add(BatchNormalization())\n",
        "CNN_model.add(MaxPooling2D(pool_size=(2, 2),padding='same'))\n",
        "CNN_model.add(Conv2D(256, (3, 3), activation='tanh',padding='same'))\n",
        "CNN_model.add(BatchNormalization())\n",
        "CNN_model.add(MaxPooling2D(pool_size=(2, 2),padding='same'))\n",
        "CNN_model.add(Conv2D(128, (3, 3), activation='tanh',padding='same'))\n",
        "CNN_model.add(Conv2D(128, (3, 3), activation='tanh',padding='same'))\n",
        "CNN_model.add(BatchNormalization())\n",
        "CNN_model.add(MaxPooling2D(pool_size=(2, 2),padding='same'))\n",
        "CNN_model.add(Conv2D(64, (3, 3), activation='tanh',padding='same'))\n",
        "CNN_model.add(Conv2D(64, (3, 3), activation='tanh',padding='same')) \n",
        "CNN_model.add(Conv2D(64, (3, 3), activation='tanh',padding='same'))\n",
        "CNN_model.add(BatchNormalization())\n",
        "CNN_model.add(MaxPooling2D(pool_size=(2, 2),padding='same'))\n",
        "CNN_model.add(Flatten())\n",
        "CNN_model.add(Dense(2, activation='softmax'))\n",
        "CNN_model.compile(loss='binary_crossentropy',optimizer='Adamax',metrics=['accuracy'])\n",
        "CNN_model.summary()\n"
      ],
      "metadata": {
        "colab": {
          "base_uri": "https://localhost:8080/"
        },
        "id": "fzMcXaSfRl0H",
        "outputId": "2c225a53-ece3-463d-fc41-814e1af552ab"
      },
      "execution_count": 43,
      "outputs": [
        {
          "output_type": "stream",
          "name": "stdout",
          "text": [
            "Model: \"sequential_2\"\n",
            "_________________________________________________________________\n",
            " Layer (type)                Output Shape              Param #   \n",
            "=================================================================\n",
            " conv2d_8 (Conv2D)           (None, 1, 42, 512)        5120      \n",
            "                                                                 \n",
            " batch_normalization_7 (Batc  (None, 1, 42, 512)       2048      \n",
            " hNormalization)                                                 \n",
            "                                                                 \n",
            " max_pooling2d (MaxPooling2D  (None, 1, 21, 512)       0         \n",
            " )                                                               \n",
            "                                                                 \n",
            " conv2d_9 (Conv2D)           (None, 1, 21, 256)        1179904   \n",
            "                                                                 \n",
            " batch_normalization_8 (Batc  (None, 1, 21, 256)       1024      \n",
            " hNormalization)                                                 \n",
            "                                                                 \n",
            " max_pooling2d_1 (MaxPooling  (None, 1, 11, 256)       0         \n",
            " 2D)                                                             \n",
            "                                                                 \n",
            " conv2d_10 (Conv2D)          (None, 1, 11, 128)        295040    \n",
            "                                                                 \n",
            " conv2d_11 (Conv2D)          (None, 1, 11, 128)        147584    \n",
            "                                                                 \n",
            " batch_normalization_9 (Batc  (None, 1, 11, 128)       512       \n",
            " hNormalization)                                                 \n",
            "                                                                 \n",
            " max_pooling2d_2 (MaxPooling  (None, 1, 6, 128)        0         \n",
            " 2D)                                                             \n",
            "                                                                 \n",
            " conv2d_12 (Conv2D)          (None, 1, 6, 64)          73792     \n",
            "                                                                 \n",
            " conv2d_13 (Conv2D)          (None, 1, 6, 64)          36928     \n",
            "                                                                 \n",
            " conv2d_14 (Conv2D)          (None, 1, 6, 64)          36928     \n",
            "                                                                 \n",
            " batch_normalization_10 (Bat  (None, 1, 6, 64)         256       \n",
            " chNormalization)                                                \n",
            "                                                                 \n",
            " max_pooling2d_3 (MaxPooling  (None, 1, 3, 64)         0         \n",
            " 2D)                                                             \n",
            "                                                                 \n",
            " flatten_1 (Flatten)         (None, 192)               0         \n",
            "                                                                 \n",
            " dense_3 (Dense)             (None, 2)                 386       \n",
            "                                                                 \n",
            "=================================================================\n",
            "Total params: 1,779,522\n",
            "Trainable params: 1,777,602\n",
            "Non-trainable params: 1,920\n",
            "_________________________________________________________________\n"
          ]
        }
      ]
    },
    {
      "cell_type": "code",
      "source": [
        "history = CNN_model.fit(X_train,y_train,validation_data=(X_test,y_test),verbose=1,batch_size=512,epochs=200)"
      ],
      "metadata": {
        "colab": {
          "base_uri": "https://localhost:8080/"
        },
        "id": "xzgRE7mrW5Rf",
        "outputId": "e90f671a-f304-4d01-9aeb-3012d5df78c6"
      },
      "execution_count": 44,
      "outputs": [
        {
          "output_type": "stream",
          "name": "stdout",
          "text": [
            "Epoch 1/200\n",
            "273/273 [==============================] - 30s 55ms/step - loss: 0.2319 - accuracy: 0.8918 - val_loss: 0.5300 - val_accuracy: 0.7838\n",
            "Epoch 2/200\n",
            "273/273 [==============================] - 13s 49ms/step - loss: 0.1805 - accuracy: 0.9162 - val_loss: 0.2388 - val_accuracy: 0.8739\n",
            "Epoch 3/200\n",
            "273/273 [==============================] - 14s 50ms/step - loss: 0.1706 - accuracy: 0.9206 - val_loss: 0.1847 - val_accuracy: 0.9098\n",
            "Epoch 4/200\n",
            "273/273 [==============================] - 14s 50ms/step - loss: 0.1632 - accuracy: 0.9240 - val_loss: 0.1632 - val_accuracy: 0.9221\n",
            "Epoch 5/200\n",
            "273/273 [==============================] - 14s 50ms/step - loss: 0.1578 - accuracy: 0.9271 - val_loss: 0.1518 - val_accuracy: 0.9309\n",
            "Epoch 6/200\n",
            "273/273 [==============================] - 14s 51ms/step - loss: 0.1544 - accuracy: 0.9292 - val_loss: 0.1817 - val_accuracy: 0.9101\n",
            "Epoch 7/200\n",
            "273/273 [==============================] - 14s 51ms/step - loss: 0.1513 - accuracy: 0.9299 - val_loss: 0.1559 - val_accuracy: 0.9289\n",
            "Epoch 8/200\n",
            "273/273 [==============================] - 14s 52ms/step - loss: 0.1499 - accuracy: 0.9302 - val_loss: 0.1498 - val_accuracy: 0.9309\n",
            "Epoch 9/200\n",
            "273/273 [==============================] - 14s 51ms/step - loss: 0.1471 - accuracy: 0.9319 - val_loss: 0.1557 - val_accuracy: 0.9283\n",
            "Epoch 10/200\n",
            "273/273 [==============================] - 14s 51ms/step - loss: 0.1455 - accuracy: 0.9322 - val_loss: 0.1870 - val_accuracy: 0.9079\n",
            "Epoch 11/200\n",
            "273/273 [==============================] - 14s 52ms/step - loss: 0.1433 - accuracy: 0.9333 - val_loss: 0.1592 - val_accuracy: 0.9279\n",
            "Epoch 12/200\n",
            "273/273 [==============================] - 15s 55ms/step - loss: 0.1422 - accuracy: 0.9342 - val_loss: 0.1510 - val_accuracy: 0.9293\n",
            "Epoch 13/200\n",
            "273/273 [==============================] - 14s 52ms/step - loss: 0.1404 - accuracy: 0.9346 - val_loss: 0.1470 - val_accuracy: 0.9309\n",
            "Epoch 14/200\n",
            "273/273 [==============================] - 14s 52ms/step - loss: 0.1390 - accuracy: 0.9355 - val_loss: 0.1456 - val_accuracy: 0.9308\n",
            "Epoch 15/200\n",
            "273/273 [==============================] - 14s 52ms/step - loss: 0.1381 - accuracy: 0.9365 - val_loss: 0.1508 - val_accuracy: 0.9286\n",
            "Epoch 16/200\n",
            "273/273 [==============================] - 14s 52ms/step - loss: 0.1363 - accuracy: 0.9366 - val_loss: 0.1714 - val_accuracy: 0.9137\n",
            "Epoch 17/200\n",
            "273/273 [==============================] - 15s 56ms/step - loss: 0.1357 - accuracy: 0.9370 - val_loss: 0.1440 - val_accuracy: 0.9337\n",
            "Epoch 18/200\n",
            "273/273 [==============================] - 14s 52ms/step - loss: 0.1342 - accuracy: 0.9382 - val_loss: 0.1955 - val_accuracy: 0.9001\n",
            "Epoch 19/200\n",
            "273/273 [==============================] - 14s 53ms/step - loss: 0.1335 - accuracy: 0.9380 - val_loss: 0.1406 - val_accuracy: 0.9344\n",
            "Epoch 20/200\n",
            "273/273 [==============================] - 14s 53ms/step - loss: 0.1324 - accuracy: 0.9385 - val_loss: 0.2524 - val_accuracy: 0.8824\n",
            "Epoch 21/200\n",
            "273/273 [==============================] - 14s 53ms/step - loss: 0.1315 - accuracy: 0.9395 - val_loss: 0.3779 - val_accuracy: 0.8620\n",
            "Epoch 22/200\n",
            "273/273 [==============================] - 14s 53ms/step - loss: 0.1307 - accuracy: 0.9399 - val_loss: 0.4062 - val_accuracy: 0.8502\n",
            "Epoch 23/200\n",
            "273/273 [==============================] - 14s 53ms/step - loss: 0.1291 - accuracy: 0.9399 - val_loss: 0.1503 - val_accuracy: 0.9274\n",
            "Epoch 24/200\n",
            "273/273 [==============================] - 15s 53ms/step - loss: 0.1289 - accuracy: 0.9404 - val_loss: 0.1387 - val_accuracy: 0.9380\n",
            "Epoch 25/200\n",
            "273/273 [==============================] - 14s 53ms/step - loss: 0.1277 - accuracy: 0.9413 - val_loss: 0.1439 - val_accuracy: 0.9351\n",
            "Epoch 26/200\n",
            "273/273 [==============================] - 14s 53ms/step - loss: 0.1265 - accuracy: 0.9417 - val_loss: 0.3923 - val_accuracy: 0.8597\n",
            "Epoch 27/200\n",
            "273/273 [==============================] - 15s 56ms/step - loss: 0.1265 - accuracy: 0.9418 - val_loss: 0.1410 - val_accuracy: 0.9343\n",
            "Epoch 28/200\n",
            "273/273 [==============================] - 14s 53ms/step - loss: 0.1247 - accuracy: 0.9429 - val_loss: 0.5543 - val_accuracy: 0.8543\n",
            "Epoch 29/200\n",
            "273/273 [==============================] - 15s 56ms/step - loss: 0.1237 - accuracy: 0.9431 - val_loss: 0.1445 - val_accuracy: 0.9299\n",
            "Epoch 30/200\n",
            "273/273 [==============================] - 15s 57ms/step - loss: 0.1223 - accuracy: 0.9436 - val_loss: 0.1424 - val_accuracy: 0.9328\n",
            "Epoch 31/200\n",
            "273/273 [==============================] - 14s 53ms/step - loss: 0.1213 - accuracy: 0.9440 - val_loss: 0.1585 - val_accuracy: 0.9260\n",
            "Epoch 32/200\n",
            "273/273 [==============================] - 14s 53ms/step - loss: 0.1208 - accuracy: 0.9444 - val_loss: 0.1417 - val_accuracy: 0.9333\n",
            "Epoch 33/200\n",
            "273/273 [==============================] - 15s 53ms/step - loss: 0.1198 - accuracy: 0.9448 - val_loss: 0.1428 - val_accuracy: 0.9318\n",
            "Epoch 34/200\n",
            "273/273 [==============================] - 14s 53ms/step - loss: 0.1182 - accuracy: 0.9458 - val_loss: 0.1539 - val_accuracy: 0.9242\n",
            "Epoch 35/200\n",
            "273/273 [==============================] - 15s 53ms/step - loss: 0.1175 - accuracy: 0.9459 - val_loss: 0.3769 - val_accuracy: 0.8645\n",
            "Epoch 36/200\n",
            "273/273 [==============================] - 14s 53ms/step - loss: 0.1159 - accuracy: 0.9466 - val_loss: 0.1469 - val_accuracy: 0.9296\n",
            "Epoch 37/200\n",
            "273/273 [==============================] - 14s 53ms/step - loss: 0.1152 - accuracy: 0.9469 - val_loss: 0.1452 - val_accuracy: 0.9356\n",
            "Epoch 38/200\n",
            "273/273 [==============================] - 14s 53ms/step - loss: 0.1141 - accuracy: 0.9479 - val_loss: 0.4557 - val_accuracy: 0.8649\n",
            "Epoch 39/200\n",
            "273/273 [==============================] - 14s 53ms/step - loss: 0.1127 - accuracy: 0.9483 - val_loss: 0.1697 - val_accuracy: 0.9192\n",
            "Epoch 40/200\n",
            "273/273 [==============================] - 15s 53ms/step - loss: 0.1115 - accuracy: 0.9492 - val_loss: 0.2561 - val_accuracy: 0.8945\n",
            "Epoch 41/200\n",
            "273/273 [==============================] - 15s 54ms/step - loss: 0.1104 - accuracy: 0.9495 - val_loss: 0.1609 - val_accuracy: 0.9310\n",
            "Epoch 42/200\n",
            "273/273 [==============================] - 15s 53ms/step - loss: 0.1093 - accuracy: 0.9501 - val_loss: 0.5010 - val_accuracy: 0.8608\n",
            "Epoch 43/200\n",
            "273/273 [==============================] - 15s 53ms/step - loss: 0.1072 - accuracy: 0.9511 - val_loss: 0.1597 - val_accuracy: 0.9272\n",
            "Epoch 44/200\n",
            "273/273 [==============================] - 15s 53ms/step - loss: 0.1068 - accuracy: 0.9513 - val_loss: 0.2154 - val_accuracy: 0.9087\n",
            "Epoch 45/200\n",
            "273/273 [==============================] - 14s 53ms/step - loss: 0.1052 - accuracy: 0.9518 - val_loss: 0.2256 - val_accuracy: 0.9006\n",
            "Epoch 46/200\n",
            "273/273 [==============================] - 15s 53ms/step - loss: 0.1038 - accuracy: 0.9532 - val_loss: 0.2294 - val_accuracy: 0.8953\n",
            "Epoch 47/200\n",
            "273/273 [==============================] - 15s 53ms/step - loss: 0.1032 - accuracy: 0.9531 - val_loss: 0.1766 - val_accuracy: 0.9203\n",
            "Epoch 48/200\n",
            "273/273 [==============================] - 15s 57ms/step - loss: 0.1012 - accuracy: 0.9541 - val_loss: 0.1355 - val_accuracy: 0.9402\n",
            "Epoch 49/200\n",
            "273/273 [==============================] - 15s 53ms/step - loss: 0.0996 - accuracy: 0.9553 - val_loss: 0.1548 - val_accuracy: 0.9324\n",
            "Epoch 50/200\n",
            "273/273 [==============================] - 15s 53ms/step - loss: 0.0987 - accuracy: 0.9555 - val_loss: 0.2694 - val_accuracy: 0.8943\n",
            "Epoch 51/200\n",
            "273/273 [==============================] - 16s 57ms/step - loss: 0.0971 - accuracy: 0.9560 - val_loss: 0.2354 - val_accuracy: 0.9102\n",
            "Epoch 52/200\n",
            "273/273 [==============================] - 15s 54ms/step - loss: 0.0955 - accuracy: 0.9569 - val_loss: 0.1733 - val_accuracy: 0.9280\n",
            "Epoch 53/200\n",
            "273/273 [==============================] - 15s 54ms/step - loss: 0.0947 - accuracy: 0.9573 - val_loss: 0.1542 - val_accuracy: 0.9382\n",
            "Epoch 54/200\n",
            "273/273 [==============================] - 15s 54ms/step - loss: 0.0925 - accuracy: 0.9587 - val_loss: 0.1944 - val_accuracy: 0.9185\n",
            "Epoch 55/200\n",
            "273/273 [==============================] - 15s 54ms/step - loss: 0.0909 - accuracy: 0.9588 - val_loss: 0.1503 - val_accuracy: 0.9390\n",
            "Epoch 56/200\n",
            "273/273 [==============================] - 15s 53ms/step - loss: 0.0897 - accuracy: 0.9592 - val_loss: 0.1515 - val_accuracy: 0.9374\n",
            "Epoch 57/200\n",
            "273/273 [==============================] - 15s 53ms/step - loss: 0.0891 - accuracy: 0.9599 - val_loss: 0.1782 - val_accuracy: 0.9303\n",
            "Epoch 58/200\n",
            "273/273 [==============================] - 15s 53ms/step - loss: 0.0861 - accuracy: 0.9615 - val_loss: 0.1667 - val_accuracy: 0.9366\n",
            "Epoch 59/200\n",
            "273/273 [==============================] - 15s 53ms/step - loss: 0.0857 - accuracy: 0.9616 - val_loss: 0.4277 - val_accuracy: 0.8917\n",
            "Epoch 60/200\n",
            "273/273 [==============================] - 15s 53ms/step - loss: 0.0844 - accuracy: 0.9620 - val_loss: 0.2011 - val_accuracy: 0.9284\n",
            "Epoch 61/200\n",
            "273/273 [==============================] - 15s 53ms/step - loss: 0.0826 - accuracy: 0.9633 - val_loss: 0.1637 - val_accuracy: 0.9345\n",
            "Epoch 62/200\n",
            "273/273 [==============================] - 15s 53ms/step - loss: 0.0826 - accuracy: 0.9628 - val_loss: 0.1789 - val_accuracy: 0.9311\n",
            "Epoch 63/200\n",
            "273/273 [==============================] - 15s 53ms/step - loss: 0.0799 - accuracy: 0.9642 - val_loss: 0.1643 - val_accuracy: 0.9390\n",
            "Epoch 64/200\n",
            "273/273 [==============================] - 15s 53ms/step - loss: 0.0783 - accuracy: 0.9648 - val_loss: 0.1651 - val_accuracy: 0.9362\n",
            "Epoch 65/200\n",
            "273/273 [==============================] - 16s 57ms/step - loss: 0.0768 - accuracy: 0.9657 - val_loss: 0.1841 - val_accuracy: 0.9279\n",
            "Epoch 66/200\n",
            "273/273 [==============================] - 15s 53ms/step - loss: 0.0751 - accuracy: 0.9666 - val_loss: 0.2804 - val_accuracy: 0.9176\n",
            "Epoch 67/200\n",
            "273/273 [==============================] - 15s 53ms/step - loss: 0.0743 - accuracy: 0.9669 - val_loss: 0.2182 - val_accuracy: 0.9279\n",
            "Epoch 68/200\n",
            "273/273 [==============================] - 15s 57ms/step - loss: 0.0723 - accuracy: 0.9678 - val_loss: 0.1799 - val_accuracy: 0.9346\n",
            "Epoch 69/200\n",
            "273/273 [==============================] - 15s 57ms/step - loss: 0.0715 - accuracy: 0.9681 - val_loss: 0.6366 - val_accuracy: 0.8620\n",
            "Epoch 70/200\n",
            "273/273 [==============================] - 15s 53ms/step - loss: 0.0703 - accuracy: 0.9689 - val_loss: 0.3293 - val_accuracy: 0.9086\n",
            "Epoch 71/200\n",
            "273/273 [==============================] - 16s 57ms/step - loss: 0.0691 - accuracy: 0.9694 - val_loss: 0.2227 - val_accuracy: 0.9294\n",
            "Epoch 72/200\n",
            "273/273 [==============================] - 16s 57ms/step - loss: 0.0675 - accuracy: 0.9699 - val_loss: 0.2472 - val_accuracy: 0.9278\n",
            "Epoch 73/200\n",
            "273/273 [==============================] - 15s 53ms/step - loss: 0.0669 - accuracy: 0.9704 - val_loss: 0.1803 - val_accuracy: 0.9372\n",
            "Epoch 74/200\n",
            "273/273 [==============================] - 15s 53ms/step - loss: 0.0643 - accuracy: 0.9718 - val_loss: 0.2429 - val_accuracy: 0.9238\n",
            "Epoch 75/200\n",
            "273/273 [==============================] - 15s 53ms/step - loss: 0.0632 - accuracy: 0.9716 - val_loss: 0.2323 - val_accuracy: 0.9247\n",
            "Epoch 76/200\n",
            "273/273 [==============================] - 15s 53ms/step - loss: 0.0628 - accuracy: 0.9722 - val_loss: 0.2045 - val_accuracy: 0.9348\n",
            "Epoch 77/200\n",
            "273/273 [==============================] - 15s 53ms/step - loss: 0.0610 - accuracy: 0.9731 - val_loss: 0.3186 - val_accuracy: 0.9184\n",
            "Epoch 78/200\n",
            "273/273 [==============================] - 15s 53ms/step - loss: 0.0597 - accuracy: 0.9740 - val_loss: 0.3628 - val_accuracy: 0.9150\n",
            "Epoch 79/200\n",
            "273/273 [==============================] - 15s 53ms/step - loss: 0.0589 - accuracy: 0.9740 - val_loss: 0.2101 - val_accuracy: 0.9361\n",
            "Epoch 80/200\n",
            "273/273 [==============================] - 15s 53ms/step - loss: 0.0582 - accuracy: 0.9743 - val_loss: 0.2880 - val_accuracy: 0.9297\n",
            "Epoch 81/200\n",
            "273/273 [==============================] - 15s 53ms/step - loss: 0.0564 - accuracy: 0.9752 - val_loss: 0.2510 - val_accuracy: 0.9312\n",
            "Epoch 82/200\n",
            "273/273 [==============================] - 15s 54ms/step - loss: 0.0558 - accuracy: 0.9757 - val_loss: 0.4113 - val_accuracy: 0.9016\n",
            "Epoch 83/200\n",
            "273/273 [==============================] - 16s 57ms/step - loss: 0.0550 - accuracy: 0.9760 - val_loss: 0.2494 - val_accuracy: 0.9265\n",
            "Epoch 84/200\n",
            "273/273 [==============================] - 16s 57ms/step - loss: 0.0542 - accuracy: 0.9761 - val_loss: 0.3397 - val_accuracy: 0.9200\n",
            "Epoch 85/200\n",
            "273/273 [==============================] - 15s 57ms/step - loss: 0.0520 - accuracy: 0.9774 - val_loss: 0.2446 - val_accuracy: 0.9337\n",
            "Epoch 86/200\n",
            "273/273 [==============================] - 15s 53ms/step - loss: 0.0516 - accuracy: 0.9774 - val_loss: 0.3246 - val_accuracy: 0.9212\n",
            "Epoch 87/200\n",
            "273/273 [==============================] - 15s 53ms/step - loss: 0.0514 - accuracy: 0.9772 - val_loss: 0.3197 - val_accuracy: 0.9273\n",
            "Epoch 88/200\n",
            "273/273 [==============================] - 15s 53ms/step - loss: 0.0497 - accuracy: 0.9781 - val_loss: 0.2752 - val_accuracy: 0.9329\n",
            "Epoch 89/200\n",
            "273/273 [==============================] - 15s 54ms/step - loss: 0.0482 - accuracy: 0.9788 - val_loss: 0.4622 - val_accuracy: 0.9060\n",
            "Epoch 90/200\n",
            "273/273 [==============================] - 15s 53ms/step - loss: 0.0480 - accuracy: 0.9794 - val_loss: 0.2785 - val_accuracy: 0.9340\n",
            "Epoch 91/200\n",
            "273/273 [==============================] - 15s 54ms/step - loss: 0.0466 - accuracy: 0.9799 - val_loss: 0.6587 - val_accuracy: 0.8990\n",
            "Epoch 92/200\n",
            "273/273 [==============================] - 15s 54ms/step - loss: 0.0461 - accuracy: 0.9803 - val_loss: 0.3925 - val_accuracy: 0.9075\n",
            "Epoch 93/200\n",
            "273/273 [==============================] - 15s 54ms/step - loss: 0.0450 - accuracy: 0.9806 - val_loss: 0.5012 - val_accuracy: 0.8923\n",
            "Epoch 94/200\n",
            "273/273 [==============================] - 15s 53ms/step - loss: 0.0437 - accuracy: 0.9807 - val_loss: 0.3713 - val_accuracy: 0.9196\n",
            "Epoch 95/200\n",
            "273/273 [==============================] - 15s 54ms/step - loss: 0.0424 - accuracy: 0.9810 - val_loss: 0.2901 - val_accuracy: 0.9321\n",
            "Epoch 96/200\n",
            "273/273 [==============================] - 16s 57ms/step - loss: 0.0423 - accuracy: 0.9816 - val_loss: 0.2826 - val_accuracy: 0.9360\n",
            "Epoch 97/200\n",
            "273/273 [==============================] - 15s 53ms/step - loss: 0.0428 - accuracy: 0.9812 - val_loss: 0.4961 - val_accuracy: 0.8822\n",
            "Epoch 98/200\n",
            "273/273 [==============================] - 15s 57ms/step - loss: 0.0419 - accuracy: 0.9821 - val_loss: 0.2797 - val_accuracy: 0.9305\n",
            "Epoch 99/200\n",
            "273/273 [==============================] - 15s 54ms/step - loss: 0.0394 - accuracy: 0.9831 - val_loss: 0.3032 - val_accuracy: 0.9322\n",
            "Epoch 100/200\n",
            "273/273 [==============================] - 15s 53ms/step - loss: 0.0403 - accuracy: 0.9825 - val_loss: 0.4438 - val_accuracy: 0.9163\n",
            "Epoch 101/200\n",
            "273/273 [==============================] - 15s 53ms/step - loss: 0.0394 - accuracy: 0.9831 - val_loss: 0.3515 - val_accuracy: 0.9262\n",
            "Epoch 102/200\n",
            "273/273 [==============================] - 15s 53ms/step - loss: 0.0379 - accuracy: 0.9835 - val_loss: 0.3462 - val_accuracy: 0.9244\n",
            "Epoch 103/200\n",
            "273/273 [==============================] - 15s 54ms/step - loss: 0.0387 - accuracy: 0.9833 - val_loss: 0.3396 - val_accuracy: 0.9246\n",
            "Epoch 104/200\n",
            "273/273 [==============================] - 15s 54ms/step - loss: 0.0362 - accuracy: 0.9843 - val_loss: 0.3290 - val_accuracy: 0.9282\n",
            "Epoch 105/200\n",
            "273/273 [==============================] - 15s 54ms/step - loss: 0.0361 - accuracy: 0.9841 - val_loss: 0.3156 - val_accuracy: 0.9334\n",
            "Epoch 106/200\n",
            "273/273 [==============================] - 15s 53ms/step - loss: 0.0359 - accuracy: 0.9843 - val_loss: 0.3283 - val_accuracy: 0.9278\n",
            "Epoch 107/200\n",
            "273/273 [==============================] - 14s 53ms/step - loss: 0.0355 - accuracy: 0.9846 - val_loss: 0.6057 - val_accuracy: 0.9079\n",
            "Epoch 108/200\n",
            "273/273 [==============================] - 15s 53ms/step - loss: 0.0339 - accuracy: 0.9855 - val_loss: 0.4062 - val_accuracy: 0.9168\n",
            "Epoch 109/200\n",
            "273/273 [==============================] - 15s 54ms/step - loss: 0.0349 - accuracy: 0.9851 - val_loss: 0.4084 - val_accuracy: 0.9107\n",
            "Epoch 110/200\n",
            "273/273 [==============================] - 16s 57ms/step - loss: 0.0350 - accuracy: 0.9849 - val_loss: 0.5475 - val_accuracy: 0.9105\n",
            "Epoch 111/200\n",
            "273/273 [==============================] - 15s 54ms/step - loss: 0.0347 - accuracy: 0.9850 - val_loss: 0.3648 - val_accuracy: 0.9299\n",
            "Epoch 112/200\n",
            "273/273 [==============================] - 15s 54ms/step - loss: 0.0319 - accuracy: 0.9864 - val_loss: 0.3701 - val_accuracy: 0.9303\n",
            "Epoch 113/200\n",
            "273/273 [==============================] - 15s 53ms/step - loss: 0.0334 - accuracy: 0.9856 - val_loss: 0.3137 - val_accuracy: 0.9334\n",
            "Epoch 114/200\n",
            "273/273 [==============================] - 15s 53ms/step - loss: 0.0320 - accuracy: 0.9861 - val_loss: 0.5185 - val_accuracy: 0.9146\n",
            "Epoch 115/200\n",
            "273/273 [==============================] - 15s 57ms/step - loss: 0.0318 - accuracy: 0.9862 - val_loss: 0.5590 - val_accuracy: 0.9043\n",
            "Epoch 116/200\n",
            "273/273 [==============================] - 15s 53ms/step - loss: 0.0311 - accuracy: 0.9867 - val_loss: 0.4519 - val_accuracy: 0.9173\n",
            "Epoch 117/200\n",
            "273/273 [==============================] - 15s 53ms/step - loss: 0.0292 - accuracy: 0.9876 - val_loss: 0.3601 - val_accuracy: 0.9340\n",
            "Epoch 118/200\n",
            "273/273 [==============================] - 15s 54ms/step - loss: 0.0308 - accuracy: 0.9870 - val_loss: 0.5343 - val_accuracy: 0.9108\n",
            "Epoch 119/200\n",
            "273/273 [==============================] - 15s 54ms/step - loss: 0.0299 - accuracy: 0.9872 - val_loss: 0.3803 - val_accuracy: 0.9263\n",
            "Epoch 120/200\n",
            "273/273 [==============================] - 15s 54ms/step - loss: 0.0298 - accuracy: 0.9872 - val_loss: 0.3614 - val_accuracy: 0.9309\n",
            "Epoch 121/200\n",
            "273/273 [==============================] - 15s 53ms/step - loss: 0.0303 - accuracy: 0.9868 - val_loss: 0.4249 - val_accuracy: 0.9245\n",
            "Epoch 122/200\n",
            "273/273 [==============================] - 15s 57ms/step - loss: 0.0280 - accuracy: 0.9880 - val_loss: 0.3811 - val_accuracy: 0.9318\n",
            "Epoch 123/200\n",
            "273/273 [==============================] - 15s 53ms/step - loss: 0.0294 - accuracy: 0.9874 - val_loss: 0.3667 - val_accuracy: 0.9323\n",
            "Epoch 124/200\n",
            "273/273 [==============================] - 15s 53ms/step - loss: 0.0288 - accuracy: 0.9875 - val_loss: 0.4027 - val_accuracy: 0.9283\n",
            "Epoch 125/200\n",
            "273/273 [==============================] - 15s 53ms/step - loss: 0.0291 - accuracy: 0.9873 - val_loss: 0.3710 - val_accuracy: 0.9347\n",
            "Epoch 126/200\n",
            "273/273 [==============================] - 16s 57ms/step - loss: 0.0281 - accuracy: 0.9878 - val_loss: 0.4599 - val_accuracy: 0.9231\n",
            "Epoch 127/200\n",
            "273/273 [==============================] - 15s 54ms/step - loss: 0.0265 - accuracy: 0.9884 - val_loss: 0.3645 - val_accuracy: 0.9365\n",
            "Epoch 128/200\n",
            "273/273 [==============================] - 15s 53ms/step - loss: 0.0280 - accuracy: 0.9879 - val_loss: 0.6760 - val_accuracy: 0.8998\n",
            "Epoch 129/200\n",
            "273/273 [==============================] - 15s 54ms/step - loss: 0.0272 - accuracy: 0.9885 - val_loss: 0.3522 - val_accuracy: 0.9319\n",
            "Epoch 130/200\n",
            "273/273 [==============================] - 15s 53ms/step - loss: 0.0254 - accuracy: 0.9893 - val_loss: 0.3817 - val_accuracy: 0.9285\n",
            "Epoch 131/200\n",
            "273/273 [==============================] - 15s 53ms/step - loss: 0.0244 - accuracy: 0.9895 - val_loss: 0.5376 - val_accuracy: 0.9176\n",
            "Epoch 132/200\n",
            "273/273 [==============================] - 15s 53ms/step - loss: 0.0264 - accuracy: 0.9888 - val_loss: 0.5949 - val_accuracy: 0.9111\n",
            "Epoch 133/200\n",
            "273/273 [==============================] - 15s 53ms/step - loss: 0.0252 - accuracy: 0.9893 - val_loss: 0.4168 - val_accuracy: 0.9333\n",
            "Epoch 134/200\n",
            "273/273 [==============================] - 15s 54ms/step - loss: 0.0258 - accuracy: 0.9888 - val_loss: 0.5029 - val_accuracy: 0.9126\n",
            "Epoch 135/200\n",
            "273/273 [==============================] - 15s 53ms/step - loss: 0.0237 - accuracy: 0.9899 - val_loss: 0.3679 - val_accuracy: 0.9363\n",
            "Epoch 136/200\n",
            "273/273 [==============================] - 15s 54ms/step - loss: 0.0232 - accuracy: 0.9901 - val_loss: 0.4937 - val_accuracy: 0.9265\n",
            "Epoch 137/200\n",
            "273/273 [==============================] - 15s 53ms/step - loss: 0.0249 - accuracy: 0.9894 - val_loss: 0.4847 - val_accuracy: 0.9262\n",
            "Epoch 138/200\n",
            "273/273 [==============================] - 15s 53ms/step - loss: 0.0244 - accuracy: 0.9898 - val_loss: 0.4487 - val_accuracy: 0.9213\n",
            "Epoch 139/200\n",
            "273/273 [==============================] - 15s 54ms/step - loss: 0.0247 - accuracy: 0.9895 - val_loss: 0.4275 - val_accuracy: 0.9359\n",
            "Epoch 140/200\n",
            "273/273 [==============================] - 16s 57ms/step - loss: 0.0234 - accuracy: 0.9901 - val_loss: 0.4482 - val_accuracy: 0.9237\n",
            "Epoch 141/200\n",
            "273/273 [==============================] - 15s 54ms/step - loss: 0.0230 - accuracy: 0.9902 - val_loss: 0.4125 - val_accuracy: 0.9366\n",
            "Epoch 142/200\n",
            "273/273 [==============================] - 15s 53ms/step - loss: 0.0233 - accuracy: 0.9901 - val_loss: 0.4148 - val_accuracy: 0.9317\n",
            "Epoch 143/200\n",
            "273/273 [==============================] - 15s 53ms/step - loss: 0.0231 - accuracy: 0.9901 - val_loss: 0.4345 - val_accuracy: 0.9329\n",
            "Epoch 144/200\n",
            "273/273 [==============================] - 16s 57ms/step - loss: 0.0228 - accuracy: 0.9902 - val_loss: 0.4987 - val_accuracy: 0.9225\n",
            "Epoch 145/200\n",
            "273/273 [==============================] - 15s 53ms/step - loss: 0.0212 - accuracy: 0.9909 - val_loss: 0.5093 - val_accuracy: 0.9194\n",
            "Epoch 146/200\n",
            "273/273 [==============================] - 16s 57ms/step - loss: 0.0220 - accuracy: 0.9903 - val_loss: 0.4676 - val_accuracy: 0.9216\n",
            "Epoch 147/200\n",
            "273/273 [==============================] - 15s 54ms/step - loss: 0.0228 - accuracy: 0.9902 - val_loss: 0.9598 - val_accuracy: 0.8886\n",
            "Epoch 148/200\n",
            "273/273 [==============================] - 16s 57ms/step - loss: 0.0229 - accuracy: 0.9904 - val_loss: 0.6545 - val_accuracy: 0.9124\n",
            "Epoch 149/200\n",
            "273/273 [==============================] - 15s 53ms/step - loss: 0.0197 - accuracy: 0.9915 - val_loss: 0.4628 - val_accuracy: 0.9328\n",
            "Epoch 150/200\n",
            "273/273 [==============================] - 15s 53ms/step - loss: 0.0198 - accuracy: 0.9914 - val_loss: 0.4855 - val_accuracy: 0.9259\n",
            "Epoch 151/200\n",
            "273/273 [==============================] - 15s 54ms/step - loss: 0.0209 - accuracy: 0.9909 - val_loss: 0.4800 - val_accuracy: 0.9267\n",
            "Epoch 152/200\n",
            "273/273 [==============================] - 15s 53ms/step - loss: 0.0213 - accuracy: 0.9909 - val_loss: 0.7612 - val_accuracy: 0.9047\n",
            "Epoch 153/200\n",
            "273/273 [==============================] - 15s 54ms/step - loss: 0.0201 - accuracy: 0.9914 - val_loss: 0.4512 - val_accuracy: 0.9265\n",
            "Epoch 154/200\n",
            "273/273 [==============================] - 15s 53ms/step - loss: 0.0214 - accuracy: 0.9908 - val_loss: 0.4296 - val_accuracy: 0.9348\n",
            "Epoch 155/200\n",
            "273/273 [==============================] - 15s 54ms/step - loss: 0.0200 - accuracy: 0.9915 - val_loss: 0.4495 - val_accuracy: 0.9345\n",
            "Epoch 156/200\n",
            "273/273 [==============================] - 15s 53ms/step - loss: 0.0218 - accuracy: 0.9907 - val_loss: 0.4687 - val_accuracy: 0.9220\n",
            "Epoch 157/200\n",
            "273/273 [==============================] - 15s 53ms/step - loss: 0.0195 - accuracy: 0.9917 - val_loss: 0.7981 - val_accuracy: 0.8982\n",
            "Epoch 158/200\n",
            "273/273 [==============================] - 15s 54ms/step - loss: 0.0197 - accuracy: 0.9917 - val_loss: 0.4468 - val_accuracy: 0.9260\n",
            "Epoch 159/200\n",
            "273/273 [==============================] - 15s 53ms/step - loss: 0.0205 - accuracy: 0.9911 - val_loss: 0.4588 - val_accuracy: 0.9308\n",
            "Epoch 160/200\n",
            "273/273 [==============================] - 15s 53ms/step - loss: 0.0215 - accuracy: 0.9908 - val_loss: 0.4551 - val_accuracy: 0.9313\n",
            "Epoch 161/200\n",
            "273/273 [==============================] - 15s 54ms/step - loss: 0.0183 - accuracy: 0.9922 - val_loss: 0.7117 - val_accuracy: 0.9084\n",
            "Epoch 162/200\n",
            "273/273 [==============================] - 15s 57ms/step - loss: 0.0181 - accuracy: 0.9922 - val_loss: 0.4684 - val_accuracy: 0.9292\n",
            "Epoch 163/200\n",
            "273/273 [==============================] - 15s 57ms/step - loss: 0.0195 - accuracy: 0.9916 - val_loss: 0.5917 - val_accuracy: 0.9271\n",
            "Epoch 164/200\n",
            "273/273 [==============================] - 15s 57ms/step - loss: 0.0192 - accuracy: 0.9917 - val_loss: 0.6484 - val_accuracy: 0.9228\n",
            "Epoch 165/200\n",
            "273/273 [==============================] - 15s 53ms/step - loss: 0.0183 - accuracy: 0.9921 - val_loss: 0.4828 - val_accuracy: 0.9324\n",
            "Epoch 166/200\n",
            "273/273 [==============================] - 15s 53ms/step - loss: 0.0198 - accuracy: 0.9915 - val_loss: 0.5013 - val_accuracy: 0.9290\n",
            "Epoch 167/200\n",
            "273/273 [==============================] - 15s 54ms/step - loss: 0.0188 - accuracy: 0.9922 - val_loss: 0.5133 - val_accuracy: 0.9270\n",
            "Epoch 168/200\n",
            "273/273 [==============================] - 15s 53ms/step - loss: 0.0182 - accuracy: 0.9922 - val_loss: 0.4943 - val_accuracy: 0.9298\n",
            "Epoch 169/200\n",
            "273/273 [==============================] - 15s 54ms/step - loss: 0.0199 - accuracy: 0.9915 - val_loss: 0.4391 - val_accuracy: 0.9339\n",
            "Epoch 170/200\n",
            "273/273 [==============================] - 15s 54ms/step - loss: 0.0177 - accuracy: 0.9924 - val_loss: 0.5908 - val_accuracy: 0.9220\n",
            "Epoch 171/200\n",
            "273/273 [==============================] - 15s 54ms/step - loss: 0.0189 - accuracy: 0.9920 - val_loss: 0.5448 - val_accuracy: 0.9252\n",
            "Epoch 172/200\n",
            "273/273 [==============================] - 15s 54ms/step - loss: 0.0197 - accuracy: 0.9916 - val_loss: 0.4573 - val_accuracy: 0.9314\n",
            "Epoch 173/200\n",
            "273/273 [==============================] - 15s 54ms/step - loss: 0.0186 - accuracy: 0.9920 - val_loss: 0.5257 - val_accuracy: 0.9212\n",
            "Epoch 174/200\n",
            "273/273 [==============================] - 16s 57ms/step - loss: 0.0186 - accuracy: 0.9921 - val_loss: 0.4734 - val_accuracy: 0.9306\n",
            "Epoch 175/200\n",
            "273/273 [==============================] - 15s 57ms/step - loss: 0.0175 - accuracy: 0.9927 - val_loss: 0.6404 - val_accuracy: 0.9145\n",
            "Epoch 176/200\n",
            "273/273 [==============================] - 15s 53ms/step - loss: 0.0169 - accuracy: 0.9928 - val_loss: 0.4401 - val_accuracy: 0.9333\n",
            "Epoch 177/200\n",
            "273/273 [==============================] - 15s 54ms/step - loss: 0.0170 - accuracy: 0.9927 - val_loss: 0.6171 - val_accuracy: 0.9232\n",
            "Epoch 178/200\n",
            "273/273 [==============================] - 15s 54ms/step - loss: 0.0189 - accuracy: 0.9919 - val_loss: 0.4968 - val_accuracy: 0.9302\n",
            "Epoch 179/200\n",
            "273/273 [==============================] - 15s 53ms/step - loss: 0.0186 - accuracy: 0.9920 - val_loss: 0.5585 - val_accuracy: 0.9191\n",
            "Epoch 180/200\n",
            "273/273 [==============================] - 15s 53ms/step - loss: 0.0177 - accuracy: 0.9925 - val_loss: 0.9400 - val_accuracy: 0.8928\n",
            "Epoch 181/200\n",
            "273/273 [==============================] - 15s 53ms/step - loss: 0.0186 - accuracy: 0.9920 - val_loss: 0.4892 - val_accuracy: 0.9340\n",
            "Epoch 182/200\n",
            "273/273 [==============================] - 15s 54ms/step - loss: 0.0171 - accuracy: 0.9924 - val_loss: 0.7981 - val_accuracy: 0.9111\n",
            "Epoch 183/200\n",
            "273/273 [==============================] - 15s 54ms/step - loss: 0.0175 - accuracy: 0.9924 - val_loss: 0.5349 - val_accuracy: 0.9249\n",
            "Epoch 184/200\n",
            "273/273 [==============================] - 15s 54ms/step - loss: 0.0181 - accuracy: 0.9922 - val_loss: 0.5763 - val_accuracy: 0.9281\n",
            "Epoch 185/200\n",
            "273/273 [==============================] - 15s 53ms/step - loss: 0.0177 - accuracy: 0.9925 - val_loss: 0.5413 - val_accuracy: 0.9265\n",
            "Epoch 186/200\n",
            "273/273 [==============================] - 15s 53ms/step - loss: 0.0164 - accuracy: 0.9929 - val_loss: 0.4722 - val_accuracy: 0.9324\n",
            "Epoch 187/200\n",
            "273/273 [==============================] - 15s 54ms/step - loss: 0.0170 - accuracy: 0.9926 - val_loss: 0.4916 - val_accuracy: 0.9331\n",
            "Epoch 188/200\n",
            "273/273 [==============================] - 15s 54ms/step - loss: 0.0173 - accuracy: 0.9925 - val_loss: 0.4881 - val_accuracy: 0.9348\n",
            "Epoch 189/200\n",
            "273/273 [==============================] - 15s 54ms/step - loss: 0.0173 - accuracy: 0.9926 - val_loss: 0.6860 - val_accuracy: 0.9160\n",
            "Epoch 190/200\n",
            "273/273 [==============================] - 16s 57ms/step - loss: 0.0175 - accuracy: 0.9924 - val_loss: 0.5658 - val_accuracy: 0.9223\n",
            "Epoch 191/200\n",
            "273/273 [==============================] - 16s 57ms/step - loss: 0.0157 - accuracy: 0.9933 - val_loss: 0.6453 - val_accuracy: 0.9174\n",
            "Epoch 192/200\n",
            "273/273 [==============================] - 15s 54ms/step - loss: 0.0165 - accuracy: 0.9930 - val_loss: 0.5597 - val_accuracy: 0.9228\n",
            "Epoch 193/200\n",
            "273/273 [==============================] - 16s 57ms/step - loss: 0.0152 - accuracy: 0.9933 - val_loss: 0.4904 - val_accuracy: 0.9308\n",
            "Epoch 194/200\n",
            "273/273 [==============================] - 16s 57ms/step - loss: 0.0164 - accuracy: 0.9930 - val_loss: 0.5398 - val_accuracy: 0.9254\n",
            "Epoch 195/200\n",
            "273/273 [==============================] - 15s 53ms/step - loss: 0.0167 - accuracy: 0.9928 - val_loss: 0.4995 - val_accuracy: 0.9335\n",
            "Epoch 196/200\n",
            "273/273 [==============================] - 15s 54ms/step - loss: 0.0166 - accuracy: 0.9928 - val_loss: 0.5160 - val_accuracy: 0.9336\n",
            "Epoch 197/200\n",
            "273/273 [==============================] - 15s 53ms/step - loss: 0.0150 - accuracy: 0.9935 - val_loss: 0.5573 - val_accuracy: 0.9260\n",
            "Epoch 198/200\n",
            "273/273 [==============================] - 15s 54ms/step - loss: 0.0168 - accuracy: 0.9928 - val_loss: 0.6569 - val_accuracy: 0.9142\n",
            "Epoch 199/200\n",
            "273/273 [==============================] - 15s 54ms/step - loss: 0.0157 - accuracy: 0.9933 - val_loss: 0.5326 - val_accuracy: 0.9304\n",
            "Epoch 200/200\n",
            "273/273 [==============================] - 16s 57ms/step - loss: 0.0161 - accuracy: 0.9929 - val_loss: 0.5961 - val_accuracy: 0.9167\n"
          ]
        }
      ]
    },
    {
      "cell_type": "code",
      "source": [
        "# Evaluation du model\n",
        "CNN_model.evaluate(X_test,y_test)"
      ],
      "metadata": {
        "colab": {
          "base_uri": "https://localhost:8080/"
        },
        "id": "V87YDUovWZxI",
        "outputId": "b3d50aea-dc49-4cba-fcb4-da4c85b4c6eb"
      },
      "execution_count": 45,
      "outputs": [
        {
          "output_type": "stream",
          "name": "stdout",
          "text": [
            "1454/1454 [==============================] - 5s 4ms/step - loss: 0.5961 - accuracy: 0.9167\n"
          ]
        },
        {
          "output_type": "execute_result",
          "data": {
            "text/plain": [
              "[0.596148669719696, 0.9167311787605286]"
            ]
          },
          "metadata": {},
          "execution_count": 45
        }
      ]
    },
    {
      "cell_type": "code",
      "source": [
        "predict_prob=CNN_model.predict(X_test)\n",
        "y_pred_cnn=np.argmax(predict_prob,axis=1)\n",
        "\n",
        "\n",
        "##print (y_pred)\n",
        "y_true_cnn=np.argmax(y_test, axis=1)\n",
        "from sklearn.metrics import precision_recall_fscore_support as score, precision_score, recall_score, f1_score\n",
        "from sklearn.metrics import classification_report, confusion_matrix\n",
        "CM = confusion_matrix(y_true_cnn, y_pred_cnn)\n",
        "print (CM)\n",
        "print(classification_report(y_true, y_pred))"
      ],
      "metadata": {
        "colab": {
          "base_uri": "https://localhost:8080/"
        },
        "id": "SSEYzKIHmw8v",
        "outputId": "12daa6ad-f055-40f3-9f11-10bc59ed6aae"
      },
      "execution_count": 82,
      "outputs": [
        {
          "output_type": "stream",
          "name": "stdout",
          "text": [
            "[[21494  1756]\n",
            " [ 1834 21416]]\n",
            "              precision    recall  f1-score   support\n",
            "\n",
            "           0       0.93      0.96      0.94     93000\n",
            "           1       0.96      0.93      0.94     93000\n",
            "\n",
            "    accuracy                           0.94    186000\n",
            "   macro avg       0.94      0.94      0.94    186000\n",
            "weighted avg       0.94      0.94      0.94    186000\n",
            "\n"
          ]
        }
      ]
    },
    {
      "cell_type": "code",
      "source": [
        "TN = CM[0][0]\n",
        "FN = CM[1][0]\n",
        "TP = CM[1][1]\n",
        "FP = CM[0][1]\n"
      ],
      "metadata": {
        "id": "50Tjf0IdnZvd"
      },
      "execution_count": 83,
      "outputs": []
    },
    {
      "cell_type": "code",
      "source": [
        "#Sensibilité, taux de réussite, rappel ou taux de vrais positifs\n",
        "TPR = TP/(TP+FN)\n",
        "print ('TPR',TPR)"
      ],
      "metadata": {
        "colab": {
          "base_uri": "https://localhost:8080/"
        },
        "id": "7sTO6LUsnjUD",
        "outputId": "eb406a3d-7feb-4f6b-99ab-bb6d3cce45d5"
      },
      "execution_count": 85,
      "outputs": [
        {
          "output_type": "stream",
          "name": "stdout",
          "text": [
            "TPR 0.9211182795698925\n"
          ]
        }
      ]
    },
    {
      "cell_type": "code",
      "source": [
        "# Spécificité ou taux de vrais négatifs\n",
        "TNR = TN/(TN+FP) \n",
        "print('TNR',TNR)"
      ],
      "metadata": {
        "id": "k4QUPr-88wWy"
      },
      "execution_count": 1,
      "outputs": []
    },
    {
      "cell_type": "code",
      "source": [
        "#Chute ou taux de faux positifs\n",
        "FPR = FP/(FP+TN)\n",
        "print('FPR',FPR)"
      ],
      "metadata": {
        "id": "wn-VjLp59DTw"
      },
      "execution_count": null,
      "outputs": []
    },
    {
      "cell_type": "code",
      "source": [
        "# Taux de faux négatifs\n",
        "FNR = FN/(TP+FN)\n",
        "print ('FNR',FNR) "
      ],
      "metadata": {
        "id": "nctRX6U79XjJ"
      },
      "execution_count": null,
      "outputs": []
    }
  ],
  "metadata": {
    "colab": {
      "collapsed_sections": [],
      "name": "Memoire_Classification_binaire.ipynb",
      "provenance": [],
      "authorship_tag": "ABX9TyM1HzbZ0Is8403EDwzRxo0S",
      "include_colab_link": true
    },
    "kernelspec": {
      "display_name": "Python 3",
      "name": "python3"
    },
    "language_info": {
      "name": "python"
    },
    "gpuClass": "standard",
    "accelerator": "GPU"
  },
  "nbformat": 4,
  "nbformat_minor": 0
}