{
  "cells": [
    {
      "cell_type": "markdown",
      "metadata": {
        "id": "view-in-github",
        "colab_type": "text"
      },
      "source": [
        "<a href=\"https://colab.research.google.com/github/ismailasy/Deep_IOT_Network_Anomaly_Detection/blob/main/Memoire_Classification_binaire.ipynb\" target=\"_parent\"><img src=\"https://colab.research.google.com/assets/colab-badge.svg\" alt=\"Open In Colab\"/></a>"
      ]
    },
    {
      "cell_type": "code",
      "execution_count": 41,
      "metadata": {
        "colab": {
          "base_uri": "https://localhost:8080/"
        },
        "id": "KGd1agPgOoQC",
        "outputId": "521c86b3-1662-48f7-e125-6f68d16df7d2"
      },
      "outputs": [
        {
          "output_type": "stream",
          "name": "stdout",
          "text": [
            "Looking in indexes: https://pypi.org/simple, https://us-python.pkg.dev/colab-wheels/public/simple/\n",
            "Requirement already satisfied: bayesian-optimization in /usr/local/lib/python3.7/dist-packages (1.2.0)\n",
            "Requirement already satisfied: numpy>=1.9.0 in /usr/local/lib/python3.7/dist-packages (from bayesian-optimization) (1.21.6)\n",
            "Requirement already satisfied: scikit-learn>=0.18.0 in /usr/local/lib/python3.7/dist-packages (from bayesian-optimization) (1.0.2)\n",
            "Requirement already satisfied: scipy>=0.14.0 in /usr/local/lib/python3.7/dist-packages (from bayesian-optimization) (1.7.3)\n",
            "Requirement already satisfied: joblib>=0.11 in /usr/local/lib/python3.7/dist-packages (from scikit-learn>=0.18.0->bayesian-optimization) (1.1.0)\n",
            "Requirement already satisfied: threadpoolctl>=2.0.0 in /usr/local/lib/python3.7/dist-packages (from scikit-learn>=0.18.0->bayesian-optimization) (3.1.0)\n"
          ]
        }
      ],
      "source": [
        "pip install  bayesian-optimization"
      ]
    },
    {
      "cell_type": "markdown",
      "source": [
        "# Nouvelle section"
      ],
      "metadata": {
        "id": "YZ31w6Aq8YdB"
      }
    },
    {
      "cell_type": "code",
      "execution_count": 42,
      "metadata": {
        "id": "vOhVarHFNXb3"
      },
      "outputs": [],
      "source": [
        "import pandas as pd\n",
        "import numpy as np\n",
        "import matplotlib.pyplot as plt\n",
        "from tensorflow.keras.utils import get_file\n",
        "from sklearn import preprocessing\n",
        "from sklearn.preprocessing import LabelEncoder\n",
        "from PIL import Image\n",
        "from sklearn.model_selection import StratifiedShuffleSplit\n",
        "from sklearn import metrics\n",
        "from keras import backend as K\n",
        "from keras.utils.generic_utils import get_custom_objects\n",
        "from bayes_opt import BayesianOptimization\n",
        "import pandas as pd\n",
        "import numpy as np\n",
        "import matplotlib.pyplot as plt\n",
        "from tensorflow.keras.utils import get_file\n",
        "from sklearn import preprocessing\n",
        "from sklearn.preprocessing import LabelEncoder\n",
        "from PIL import Image\n",
        "from sklearn.model_selection import StratifiedShuffleSplit\n",
        "from sklearn import metrics\n",
        "from keras import backend as K\n",
        "from keras.utils.generic_utils import get_custom_objects\n",
        "from bayes_opt import BayesianOptimization\n",
        "from sklearn.model_selection import StratifiedKFold\n",
        "from mlxtend.plotting import plot_confusion_matrix\n",
        "from sklearn.model_selection import train_test_split\n",
        "from imblearn.over_sampling import SMOTE\n",
        "\n",
        "\n",
        "from tensorflow.keras.models import Sequential,Model\n",
        "from tensorflow.keras.layers import Dense, Conv2D,LSTM, MaxPooling2D,UpSampling2D,Conv2DTranspose, Dropout, Flatten, Activation, LeakyReLU, ReLU, Input,concatenate,BatchNormalization\n",
        "from tensorflow.keras.optimizers import Adam\n",
        "from keras.regularizers import l1\n",
        "from tensorflow.keras.callbacks import EarlyStopping\n",
        "from sklearn.model_selection import StratifiedKFold\n",
        "from mlxtend.plotting import plot_confusion_matrix\n",
        "from sklearn.model_selection import train_test_split\n",
        "from imblearn.over_sampling import SMOTE\n",
        "\n",
        "\n"
      ]
    },
    {
      "cell_type": "code",
      "execution_count": null,
      "metadata": {
        "id": "I95jtHI2OzPr"
      },
      "outputs": [],
      "source": []
    },
    {
      "cell_type": "code",
      "execution_count": 43,
      "metadata": {
        "id": "b06cG17FO-5J"
      },
      "outputs": [],
      "source": [
        "import pandas as pd\n",
        "import numpy as np\n",
        "  \n",
        "df_train = pd.read_csv('/content/drive/MyDrive/Datasets/Selected dataset for ML and DL/UNSW_NB15_training.csv', low_memory=False)\n",
        "df_test =  pd.read_csv('/content/drive/MyDrive/Datasets/Selected dataset for ML and DL/UNSW_NB15_testing.csv', low_memory=False)"
      ]
    },
    {
      "cell_type": "code",
      "source": [
        "data = pd.concat([df_train,df_test],axis=0)"
      ],
      "metadata": {
        "id": "ATtzWvNvowWE"
      },
      "execution_count": 44,
      "outputs": []
    },
    {
      "cell_type": "code",
      "source": [
        "data"
      ],
      "metadata": {
        "colab": {
          "base_uri": "https://localhost:8080/",
          "height": 520
        },
        "id": "qofOLvaRo3Mk",
        "outputId": "fb19b48e-8430-4af6-971b-37a95c0a45d9"
      },
      "execution_count": 45,
      "outputs": [
        {
          "output_type": "execute_result",
          "data": {
            "text/plain": [
              "          id       dur proto service state  spkts  dpkts  sbytes  dbytes  \\\n",
              "0          1  0.121478   tcp       -   FIN      6      4     258     172   \n",
              "1          2  0.649902   tcp       -   FIN     14     38     734   42014   \n",
              "2          3  1.623129   tcp       -   FIN      8     16     364   13186   \n",
              "3          4  1.681642   tcp     ftp   FIN     12     12     628     770   \n",
              "4          5  0.449454   tcp       -   FIN     10      6     534     268   \n",
              "...      ...       ...   ...     ...   ...    ...    ...     ...     ...   \n",
              "82327  82328  0.000005   udp       -   INT      2      0     104       0   \n",
              "82328  82329  1.106101   tcp       -   FIN     20      8   18062     354   \n",
              "82329  82330  0.000000   arp       -   INT      1      0      46       0   \n",
              "82330  82331  0.000000   arp       -   INT      1      0      46       0   \n",
              "82331  82332  0.000009   udp       -   INT      2      0     104       0   \n",
              "\n",
              "                rate  ...  ct_dst_sport_ltm  ct_dst_src_ltm  is_ftp_login  \\\n",
              "0          74.087490  ...                 1               1             0   \n",
              "1          78.473372  ...                 1               2             0   \n",
              "2          14.170161  ...                 1               3             0   \n",
              "3          13.677108  ...                 1               3             1   \n",
              "4          33.373826  ...                 1              40             0   \n",
              "...              ...  ...               ...             ...           ...   \n",
              "82327  200000.005100  ...                 1               2             0   \n",
              "82328      24.410067  ...                 1               1             0   \n",
              "82329       0.000000  ...                 1               1             0   \n",
              "82330       0.000000  ...                 1               1             0   \n",
              "82331  111111.107200  ...                 1               1             0   \n",
              "\n",
              "       ct_ftp_cmd  ct_flw_http_mthd  ct_src_ltm  ct_srv_dst  is_sm_ips_ports  \\\n",
              "0               0                 0           1           1                0   \n",
              "1               0                 0           1           6                0   \n",
              "2               0                 0           2           6                0   \n",
              "3               1                 0           2           1                0   \n",
              "4               0                 0           2          39                0   \n",
              "...           ...               ...         ...         ...              ...   \n",
              "82327           0                 0           2           1                0   \n",
              "82328           0                 0           3           2                0   \n",
              "82329           0                 0           1           1                1   \n",
              "82330           0                 0           1           1                1   \n",
              "82331           0                 0           1           1                0   \n",
              "\n",
              "       attack_cat  label  \n",
              "0          Normal      0  \n",
              "1          Normal      0  \n",
              "2          Normal      0  \n",
              "3          Normal      0  \n",
              "4          Normal      0  \n",
              "...           ...    ...  \n",
              "82327      Normal      0  \n",
              "82328      Normal      0  \n",
              "82329      Normal      0  \n",
              "82330      Normal      0  \n",
              "82331      Normal      0  \n",
              "\n",
              "[257673 rows x 45 columns]"
            ],
            "text/html": [
              "\n",
              "  <div id=\"df-becf9875-de01-4100-8470-7e437fe94547\">\n",
              "    <div class=\"colab-df-container\">\n",
              "      <div>\n",
              "<style scoped>\n",
              "    .dataframe tbody tr th:only-of-type {\n",
              "        vertical-align: middle;\n",
              "    }\n",
              "\n",
              "    .dataframe tbody tr th {\n",
              "        vertical-align: top;\n",
              "    }\n",
              "\n",
              "    .dataframe thead th {\n",
              "        text-align: right;\n",
              "    }\n",
              "</style>\n",
              "<table border=\"1\" class=\"dataframe\">\n",
              "  <thead>\n",
              "    <tr style=\"text-align: right;\">\n",
              "      <th></th>\n",
              "      <th>id</th>\n",
              "      <th>dur</th>\n",
              "      <th>proto</th>\n",
              "      <th>service</th>\n",
              "      <th>state</th>\n",
              "      <th>spkts</th>\n",
              "      <th>dpkts</th>\n",
              "      <th>sbytes</th>\n",
              "      <th>dbytes</th>\n",
              "      <th>rate</th>\n",
              "      <th>...</th>\n",
              "      <th>ct_dst_sport_ltm</th>\n",
              "      <th>ct_dst_src_ltm</th>\n",
              "      <th>is_ftp_login</th>\n",
              "      <th>ct_ftp_cmd</th>\n",
              "      <th>ct_flw_http_mthd</th>\n",
              "      <th>ct_src_ltm</th>\n",
              "      <th>ct_srv_dst</th>\n",
              "      <th>is_sm_ips_ports</th>\n",
              "      <th>attack_cat</th>\n",
              "      <th>label</th>\n",
              "    </tr>\n",
              "  </thead>\n",
              "  <tbody>\n",
              "    <tr>\n",
              "      <th>0</th>\n",
              "      <td>1</td>\n",
              "      <td>0.121478</td>\n",
              "      <td>tcp</td>\n",
              "      <td>-</td>\n",
              "      <td>FIN</td>\n",
              "      <td>6</td>\n",
              "      <td>4</td>\n",
              "      <td>258</td>\n",
              "      <td>172</td>\n",
              "      <td>74.087490</td>\n",
              "      <td>...</td>\n",
              "      <td>1</td>\n",
              "      <td>1</td>\n",
              "      <td>0</td>\n",
              "      <td>0</td>\n",
              "      <td>0</td>\n",
              "      <td>1</td>\n",
              "      <td>1</td>\n",
              "      <td>0</td>\n",
              "      <td>Normal</td>\n",
              "      <td>0</td>\n",
              "    </tr>\n",
              "    <tr>\n",
              "      <th>1</th>\n",
              "      <td>2</td>\n",
              "      <td>0.649902</td>\n",
              "      <td>tcp</td>\n",
              "      <td>-</td>\n",
              "      <td>FIN</td>\n",
              "      <td>14</td>\n",
              "      <td>38</td>\n",
              "      <td>734</td>\n",
              "      <td>42014</td>\n",
              "      <td>78.473372</td>\n",
              "      <td>...</td>\n",
              "      <td>1</td>\n",
              "      <td>2</td>\n",
              "      <td>0</td>\n",
              "      <td>0</td>\n",
              "      <td>0</td>\n",
              "      <td>1</td>\n",
              "      <td>6</td>\n",
              "      <td>0</td>\n",
              "      <td>Normal</td>\n",
              "      <td>0</td>\n",
              "    </tr>\n",
              "    <tr>\n",
              "      <th>2</th>\n",
              "      <td>3</td>\n",
              "      <td>1.623129</td>\n",
              "      <td>tcp</td>\n",
              "      <td>-</td>\n",
              "      <td>FIN</td>\n",
              "      <td>8</td>\n",
              "      <td>16</td>\n",
              "      <td>364</td>\n",
              "      <td>13186</td>\n",
              "      <td>14.170161</td>\n",
              "      <td>...</td>\n",
              "      <td>1</td>\n",
              "      <td>3</td>\n",
              "      <td>0</td>\n",
              "      <td>0</td>\n",
              "      <td>0</td>\n",
              "      <td>2</td>\n",
              "      <td>6</td>\n",
              "      <td>0</td>\n",
              "      <td>Normal</td>\n",
              "      <td>0</td>\n",
              "    </tr>\n",
              "    <tr>\n",
              "      <th>3</th>\n",
              "      <td>4</td>\n",
              "      <td>1.681642</td>\n",
              "      <td>tcp</td>\n",
              "      <td>ftp</td>\n",
              "      <td>FIN</td>\n",
              "      <td>12</td>\n",
              "      <td>12</td>\n",
              "      <td>628</td>\n",
              "      <td>770</td>\n",
              "      <td>13.677108</td>\n",
              "      <td>...</td>\n",
              "      <td>1</td>\n",
              "      <td>3</td>\n",
              "      <td>1</td>\n",
              "      <td>1</td>\n",
              "      <td>0</td>\n",
              "      <td>2</td>\n",
              "      <td>1</td>\n",
              "      <td>0</td>\n",
              "      <td>Normal</td>\n",
              "      <td>0</td>\n",
              "    </tr>\n",
              "    <tr>\n",
              "      <th>4</th>\n",
              "      <td>5</td>\n",
              "      <td>0.449454</td>\n",
              "      <td>tcp</td>\n",
              "      <td>-</td>\n",
              "      <td>FIN</td>\n",
              "      <td>10</td>\n",
              "      <td>6</td>\n",
              "      <td>534</td>\n",
              "      <td>268</td>\n",
              "      <td>33.373826</td>\n",
              "      <td>...</td>\n",
              "      <td>1</td>\n",
              "      <td>40</td>\n",
              "      <td>0</td>\n",
              "      <td>0</td>\n",
              "      <td>0</td>\n",
              "      <td>2</td>\n",
              "      <td>39</td>\n",
              "      <td>0</td>\n",
              "      <td>Normal</td>\n",
              "      <td>0</td>\n",
              "    </tr>\n",
              "    <tr>\n",
              "      <th>...</th>\n",
              "      <td>...</td>\n",
              "      <td>...</td>\n",
              "      <td>...</td>\n",
              "      <td>...</td>\n",
              "      <td>...</td>\n",
              "      <td>...</td>\n",
              "      <td>...</td>\n",
              "      <td>...</td>\n",
              "      <td>...</td>\n",
              "      <td>...</td>\n",
              "      <td>...</td>\n",
              "      <td>...</td>\n",
              "      <td>...</td>\n",
              "      <td>...</td>\n",
              "      <td>...</td>\n",
              "      <td>...</td>\n",
              "      <td>...</td>\n",
              "      <td>...</td>\n",
              "      <td>...</td>\n",
              "      <td>...</td>\n",
              "      <td>...</td>\n",
              "    </tr>\n",
              "    <tr>\n",
              "      <th>82327</th>\n",
              "      <td>82328</td>\n",
              "      <td>0.000005</td>\n",
              "      <td>udp</td>\n",
              "      <td>-</td>\n",
              "      <td>INT</td>\n",
              "      <td>2</td>\n",
              "      <td>0</td>\n",
              "      <td>104</td>\n",
              "      <td>0</td>\n",
              "      <td>200000.005100</td>\n",
              "      <td>...</td>\n",
              "      <td>1</td>\n",
              "      <td>2</td>\n",
              "      <td>0</td>\n",
              "      <td>0</td>\n",
              "      <td>0</td>\n",
              "      <td>2</td>\n",
              "      <td>1</td>\n",
              "      <td>0</td>\n",
              "      <td>Normal</td>\n",
              "      <td>0</td>\n",
              "    </tr>\n",
              "    <tr>\n",
              "      <th>82328</th>\n",
              "      <td>82329</td>\n",
              "      <td>1.106101</td>\n",
              "      <td>tcp</td>\n",
              "      <td>-</td>\n",
              "      <td>FIN</td>\n",
              "      <td>20</td>\n",
              "      <td>8</td>\n",
              "      <td>18062</td>\n",
              "      <td>354</td>\n",
              "      <td>24.410067</td>\n",
              "      <td>...</td>\n",
              "      <td>1</td>\n",
              "      <td>1</td>\n",
              "      <td>0</td>\n",
              "      <td>0</td>\n",
              "      <td>0</td>\n",
              "      <td>3</td>\n",
              "      <td>2</td>\n",
              "      <td>0</td>\n",
              "      <td>Normal</td>\n",
              "      <td>0</td>\n",
              "    </tr>\n",
              "    <tr>\n",
              "      <th>82329</th>\n",
              "      <td>82330</td>\n",
              "      <td>0.000000</td>\n",
              "      <td>arp</td>\n",
              "      <td>-</td>\n",
              "      <td>INT</td>\n",
              "      <td>1</td>\n",
              "      <td>0</td>\n",
              "      <td>46</td>\n",
              "      <td>0</td>\n",
              "      <td>0.000000</td>\n",
              "      <td>...</td>\n",
              "      <td>1</td>\n",
              "      <td>1</td>\n",
              "      <td>0</td>\n",
              "      <td>0</td>\n",
              "      <td>0</td>\n",
              "      <td>1</td>\n",
              "      <td>1</td>\n",
              "      <td>1</td>\n",
              "      <td>Normal</td>\n",
              "      <td>0</td>\n",
              "    </tr>\n",
              "    <tr>\n",
              "      <th>82330</th>\n",
              "      <td>82331</td>\n",
              "      <td>0.000000</td>\n",
              "      <td>arp</td>\n",
              "      <td>-</td>\n",
              "      <td>INT</td>\n",
              "      <td>1</td>\n",
              "      <td>0</td>\n",
              "      <td>46</td>\n",
              "      <td>0</td>\n",
              "      <td>0.000000</td>\n",
              "      <td>...</td>\n",
              "      <td>1</td>\n",
              "      <td>1</td>\n",
              "      <td>0</td>\n",
              "      <td>0</td>\n",
              "      <td>0</td>\n",
              "      <td>1</td>\n",
              "      <td>1</td>\n",
              "      <td>1</td>\n",
              "      <td>Normal</td>\n",
              "      <td>0</td>\n",
              "    </tr>\n",
              "    <tr>\n",
              "      <th>82331</th>\n",
              "      <td>82332</td>\n",
              "      <td>0.000009</td>\n",
              "      <td>udp</td>\n",
              "      <td>-</td>\n",
              "      <td>INT</td>\n",
              "      <td>2</td>\n",
              "      <td>0</td>\n",
              "      <td>104</td>\n",
              "      <td>0</td>\n",
              "      <td>111111.107200</td>\n",
              "      <td>...</td>\n",
              "      <td>1</td>\n",
              "      <td>1</td>\n",
              "      <td>0</td>\n",
              "      <td>0</td>\n",
              "      <td>0</td>\n",
              "      <td>1</td>\n",
              "      <td>1</td>\n",
              "      <td>0</td>\n",
              "      <td>Normal</td>\n",
              "      <td>0</td>\n",
              "    </tr>\n",
              "  </tbody>\n",
              "</table>\n",
              "<p>257673 rows × 45 columns</p>\n",
              "</div>\n",
              "      <button class=\"colab-df-convert\" onclick=\"convertToInteractive('df-becf9875-de01-4100-8470-7e437fe94547')\"\n",
              "              title=\"Convert this dataframe to an interactive table.\"\n",
              "              style=\"display:none;\">\n",
              "        \n",
              "  <svg xmlns=\"http://www.w3.org/2000/svg\" height=\"24px\"viewBox=\"0 0 24 24\"\n",
              "       width=\"24px\">\n",
              "    <path d=\"M0 0h24v24H0V0z\" fill=\"none\"/>\n",
              "    <path d=\"M18.56 5.44l.94 2.06.94-2.06 2.06-.94-2.06-.94-.94-2.06-.94 2.06-2.06.94zm-11 1L8.5 8.5l.94-2.06 2.06-.94-2.06-.94L8.5 2.5l-.94 2.06-2.06.94zm10 10l.94 2.06.94-2.06 2.06-.94-2.06-.94-.94-2.06-.94 2.06-2.06.94z\"/><path d=\"M17.41 7.96l-1.37-1.37c-.4-.4-.92-.59-1.43-.59-.52 0-1.04.2-1.43.59L10.3 9.45l-7.72 7.72c-.78.78-.78 2.05 0 2.83L4 21.41c.39.39.9.59 1.41.59.51 0 1.02-.2 1.41-.59l7.78-7.78 2.81-2.81c.8-.78.8-2.07 0-2.86zM5.41 20L4 18.59l7.72-7.72 1.47 1.35L5.41 20z\"/>\n",
              "  </svg>\n",
              "      </button>\n",
              "      \n",
              "  <style>\n",
              "    .colab-df-container {\n",
              "      display:flex;\n",
              "      flex-wrap:wrap;\n",
              "      gap: 12px;\n",
              "    }\n",
              "\n",
              "    .colab-df-convert {\n",
              "      background-color: #E8F0FE;\n",
              "      border: none;\n",
              "      border-radius: 50%;\n",
              "      cursor: pointer;\n",
              "      display: none;\n",
              "      fill: #1967D2;\n",
              "      height: 32px;\n",
              "      padding: 0 0 0 0;\n",
              "      width: 32px;\n",
              "    }\n",
              "\n",
              "    .colab-df-convert:hover {\n",
              "      background-color: #E2EBFA;\n",
              "      box-shadow: 0px 1px 2px rgba(60, 64, 67, 0.3), 0px 1px 3px 1px rgba(60, 64, 67, 0.15);\n",
              "      fill: #174EA6;\n",
              "    }\n",
              "\n",
              "    [theme=dark] .colab-df-convert {\n",
              "      background-color: #3B4455;\n",
              "      fill: #D2E3FC;\n",
              "    }\n",
              "\n",
              "    [theme=dark] .colab-df-convert:hover {\n",
              "      background-color: #434B5C;\n",
              "      box-shadow: 0px 1px 3px 1px rgba(0, 0, 0, 0.15);\n",
              "      filter: drop-shadow(0px 1px 2px rgba(0, 0, 0, 0.3));\n",
              "      fill: #FFFFFF;\n",
              "    }\n",
              "  </style>\n",
              "\n",
              "      <script>\n",
              "        const buttonEl =\n",
              "          document.querySelector('#df-becf9875-de01-4100-8470-7e437fe94547 button.colab-df-convert');\n",
              "        buttonEl.style.display =\n",
              "          google.colab.kernel.accessAllowed ? 'block' : 'none';\n",
              "\n",
              "        async function convertToInteractive(key) {\n",
              "          const element = document.querySelector('#df-becf9875-de01-4100-8470-7e437fe94547');\n",
              "          const dataTable =\n",
              "            await google.colab.kernel.invokeFunction('convertToInteractive',\n",
              "                                                     [key], {});\n",
              "          if (!dataTable) return;\n",
              "\n",
              "          const docLinkHtml = 'Like what you see? Visit the ' +\n",
              "            '<a target=\"_blank\" href=https://colab.research.google.com/notebooks/data_table.ipynb>data table notebook</a>'\n",
              "            + ' to learn more about interactive tables.';\n",
              "          element.innerHTML = '';\n",
              "          dataTable['output_type'] = 'display_data';\n",
              "          await google.colab.output.renderOutput(dataTable, element);\n",
              "          const docLink = document.createElement('div');\n",
              "          docLink.innerHTML = docLinkHtml;\n",
              "          element.appendChild(docLink);\n",
              "        }\n",
              "      </script>\n",
              "    </div>\n",
              "  </div>\n",
              "  "
            ]
          },
          "metadata": {},
          "execution_count": 45
        }
      ]
    },
    {
      "cell_type": "code",
      "source": [
        "data.info()"
      ],
      "metadata": {
        "colab": {
          "base_uri": "https://localhost:8080/"
        },
        "id": "l6Ckj1yopI_t",
        "outputId": "9f3bd5b5-d43f-4203-e46a-111aba20ee13"
      },
      "execution_count": 46,
      "outputs": [
        {
          "output_type": "stream",
          "name": "stdout",
          "text": [
            "<class 'pandas.core.frame.DataFrame'>\n",
            "Int64Index: 257673 entries, 0 to 82331\n",
            "Data columns (total 45 columns):\n",
            " #   Column             Non-Null Count   Dtype  \n",
            "---  ------             --------------   -----  \n",
            " 0   id                 257673 non-null  int64  \n",
            " 1   dur                257673 non-null  float64\n",
            " 2   proto              257673 non-null  object \n",
            " 3   service            257673 non-null  object \n",
            " 4   state              257673 non-null  object \n",
            " 5   spkts              257673 non-null  int64  \n",
            " 6   dpkts              257673 non-null  int64  \n",
            " 7   sbytes             257673 non-null  int64  \n",
            " 8   dbytes             257673 non-null  int64  \n",
            " 9   rate               257673 non-null  float64\n",
            " 10  sttl               257673 non-null  int64  \n",
            " 11  dttl               257673 non-null  int64  \n",
            " 12  sload              257673 non-null  float64\n",
            " 13  dload              257673 non-null  float64\n",
            " 14  sloss              257673 non-null  int64  \n",
            " 15  dloss              257673 non-null  int64  \n",
            " 16  sinpkt             257673 non-null  float64\n",
            " 17  dinpkt             257673 non-null  float64\n",
            " 18  sjit               257673 non-null  float64\n",
            " 19  djit               257673 non-null  float64\n",
            " 20  swin               257673 non-null  int64  \n",
            " 21  stcpb              257673 non-null  int64  \n",
            " 22  dtcpb              257673 non-null  int64  \n",
            " 23  dwin               257673 non-null  int64  \n",
            " 24  tcprtt             257673 non-null  float64\n",
            " 25  synack             257673 non-null  float64\n",
            " 26  ackdat             257673 non-null  float64\n",
            " 27  smean              257673 non-null  int64  \n",
            " 28  dmean              257673 non-null  int64  \n",
            " 29  trans_depth        257673 non-null  int64  \n",
            " 30  response_body_len  257673 non-null  int64  \n",
            " 31  ct_srv_src         257673 non-null  int64  \n",
            " 32  ct_state_ttl       257673 non-null  int64  \n",
            " 33  ct_dst_ltm         257673 non-null  int64  \n",
            " 34  ct_src_dport_ltm   257673 non-null  int64  \n",
            " 35  ct_dst_sport_ltm   257673 non-null  int64  \n",
            " 36  ct_dst_src_ltm     257673 non-null  int64  \n",
            " 37  is_ftp_login       257673 non-null  int64  \n",
            " 38  ct_ftp_cmd         257673 non-null  int64  \n",
            " 39  ct_flw_http_mthd   257673 non-null  int64  \n",
            " 40  ct_src_ltm         257673 non-null  int64  \n",
            " 41  ct_srv_dst         257673 non-null  int64  \n",
            " 42  is_sm_ips_ports    257673 non-null  int64  \n",
            " 43  attack_cat         257673 non-null  object \n",
            " 44  label              257673 non-null  int64  \n",
            "dtypes: float64(11), int64(30), object(4)\n",
            "memory usage: 90.4+ MB\n"
          ]
        }
      ]
    },
    {
      "cell_type": "code",
      "source": [
        "print(data['attack_cat'].value_counts())"
      ],
      "metadata": {
        "colab": {
          "base_uri": "https://localhost:8080/"
        },
        "id": "LvMaVq1npWYl",
        "outputId": "f4d25150-3501-4b46-97e5-f8e5ff664f92"
      },
      "execution_count": 47,
      "outputs": [
        {
          "output_type": "stream",
          "name": "stdout",
          "text": [
            "Normal            93000\n",
            "Generic           58871\n",
            "Exploits          44525\n",
            "Fuzzers           24246\n",
            "DoS               16353\n",
            "Reconnaissance    13987\n",
            "Analysis           2677\n",
            "Backdoor           2329\n",
            "Shellcode          1511\n",
            "Worms               174\n",
            "Name: attack_cat, dtype: int64\n"
          ]
        }
      ]
    },
    {
      "cell_type": "code",
      "source": [
        "#supprimer les colonnes inutiles\n",
        "df_train.drop('id', axis=1, inplace=True)\n",
        "df_train.drop('attack_cat', axis=1, inplace=True)\n",
        "df_test.drop('id', axis=1, inplace=True)\n",
        "df_test.drop('attack_cat', axis=1, inplace=True)"
      ],
      "metadata": {
        "id": "XWeR0IE3qAw8"
      },
      "execution_count": 48,
      "outputs": []
    },
    {
      "cell_type": "code",
      "source": [
        "#Nous concaténons l'ensemble d'apprentissage et l'ensemble de test pour manipuler directement l'ensemble.\n",
        "df = pd.concat([df_train,df_test],axis=0)"
      ],
      "metadata": {
        "id": "1HgpgRIVqHYY"
      },
      "execution_count": 49,
      "outputs": []
    },
    {
      "cell_type": "code",
      "source": [
        "df.head()"
      ],
      "metadata": {
        "colab": {
          "base_uri": "https://localhost:8080/",
          "height": 317
        },
        "id": "fM06JgfRqMCr",
        "outputId": "6061e15d-7375-4bd1-fae2-49e2c6a3db12"
      },
      "execution_count": 50,
      "outputs": [
        {
          "output_type": "execute_result",
          "data": {
            "text/plain": [
              "        dur proto service state  spkts  dpkts  sbytes  dbytes       rate  \\\n",
              "0  0.121478   tcp       -   FIN      6      4     258     172  74.087490   \n",
              "1  0.649902   tcp       -   FIN     14     38     734   42014  78.473372   \n",
              "2  1.623129   tcp       -   FIN      8     16     364   13186  14.170161   \n",
              "3  1.681642   tcp     ftp   FIN     12     12     628     770  13.677108   \n",
              "4  0.449454   tcp       -   FIN     10      6     534     268  33.373826   \n",
              "\n",
              "   sttl  ...  ct_src_dport_ltm  ct_dst_sport_ltm  ct_dst_src_ltm  \\\n",
              "0   252  ...                 1                 1               1   \n",
              "1    62  ...                 1                 1               2   \n",
              "2    62  ...                 1                 1               3   \n",
              "3    62  ...                 1                 1               3   \n",
              "4   254  ...                 2                 1              40   \n",
              "\n",
              "   is_ftp_login  ct_ftp_cmd  ct_flw_http_mthd  ct_src_ltm  ct_srv_dst  \\\n",
              "0             0           0                 0           1           1   \n",
              "1             0           0                 0           1           6   \n",
              "2             0           0                 0           2           6   \n",
              "3             1           1                 0           2           1   \n",
              "4             0           0                 0           2          39   \n",
              "\n",
              "   is_sm_ips_ports  label  \n",
              "0                0      0  \n",
              "1                0      0  \n",
              "2                0      0  \n",
              "3                0      0  \n",
              "4                0      0  \n",
              "\n",
              "[5 rows x 43 columns]"
            ],
            "text/html": [
              "\n",
              "  <div id=\"df-7fd42f12-aa94-49ba-b7cb-633412c8a285\">\n",
              "    <div class=\"colab-df-container\">\n",
              "      <div>\n",
              "<style scoped>\n",
              "    .dataframe tbody tr th:only-of-type {\n",
              "        vertical-align: middle;\n",
              "    }\n",
              "\n",
              "    .dataframe tbody tr th {\n",
              "        vertical-align: top;\n",
              "    }\n",
              "\n",
              "    .dataframe thead th {\n",
              "        text-align: right;\n",
              "    }\n",
              "</style>\n",
              "<table border=\"1\" class=\"dataframe\">\n",
              "  <thead>\n",
              "    <tr style=\"text-align: right;\">\n",
              "      <th></th>\n",
              "      <th>dur</th>\n",
              "      <th>proto</th>\n",
              "      <th>service</th>\n",
              "      <th>state</th>\n",
              "      <th>spkts</th>\n",
              "      <th>dpkts</th>\n",
              "      <th>sbytes</th>\n",
              "      <th>dbytes</th>\n",
              "      <th>rate</th>\n",
              "      <th>sttl</th>\n",
              "      <th>...</th>\n",
              "      <th>ct_src_dport_ltm</th>\n",
              "      <th>ct_dst_sport_ltm</th>\n",
              "      <th>ct_dst_src_ltm</th>\n",
              "      <th>is_ftp_login</th>\n",
              "      <th>ct_ftp_cmd</th>\n",
              "      <th>ct_flw_http_mthd</th>\n",
              "      <th>ct_src_ltm</th>\n",
              "      <th>ct_srv_dst</th>\n",
              "      <th>is_sm_ips_ports</th>\n",
              "      <th>label</th>\n",
              "    </tr>\n",
              "  </thead>\n",
              "  <tbody>\n",
              "    <tr>\n",
              "      <th>0</th>\n",
              "      <td>0.121478</td>\n",
              "      <td>tcp</td>\n",
              "      <td>-</td>\n",
              "      <td>FIN</td>\n",
              "      <td>6</td>\n",
              "      <td>4</td>\n",
              "      <td>258</td>\n",
              "      <td>172</td>\n",
              "      <td>74.087490</td>\n",
              "      <td>252</td>\n",
              "      <td>...</td>\n",
              "      <td>1</td>\n",
              "      <td>1</td>\n",
              "      <td>1</td>\n",
              "      <td>0</td>\n",
              "      <td>0</td>\n",
              "      <td>0</td>\n",
              "      <td>1</td>\n",
              "      <td>1</td>\n",
              "      <td>0</td>\n",
              "      <td>0</td>\n",
              "    </tr>\n",
              "    <tr>\n",
              "      <th>1</th>\n",
              "      <td>0.649902</td>\n",
              "      <td>tcp</td>\n",
              "      <td>-</td>\n",
              "      <td>FIN</td>\n",
              "      <td>14</td>\n",
              "      <td>38</td>\n",
              "      <td>734</td>\n",
              "      <td>42014</td>\n",
              "      <td>78.473372</td>\n",
              "      <td>62</td>\n",
              "      <td>...</td>\n",
              "      <td>1</td>\n",
              "      <td>1</td>\n",
              "      <td>2</td>\n",
              "      <td>0</td>\n",
              "      <td>0</td>\n",
              "      <td>0</td>\n",
              "      <td>1</td>\n",
              "      <td>6</td>\n",
              "      <td>0</td>\n",
              "      <td>0</td>\n",
              "    </tr>\n",
              "    <tr>\n",
              "      <th>2</th>\n",
              "      <td>1.623129</td>\n",
              "      <td>tcp</td>\n",
              "      <td>-</td>\n",
              "      <td>FIN</td>\n",
              "      <td>8</td>\n",
              "      <td>16</td>\n",
              "      <td>364</td>\n",
              "      <td>13186</td>\n",
              "      <td>14.170161</td>\n",
              "      <td>62</td>\n",
              "      <td>...</td>\n",
              "      <td>1</td>\n",
              "      <td>1</td>\n",
              "      <td>3</td>\n",
              "      <td>0</td>\n",
              "      <td>0</td>\n",
              "      <td>0</td>\n",
              "      <td>2</td>\n",
              "      <td>6</td>\n",
              "      <td>0</td>\n",
              "      <td>0</td>\n",
              "    </tr>\n",
              "    <tr>\n",
              "      <th>3</th>\n",
              "      <td>1.681642</td>\n",
              "      <td>tcp</td>\n",
              "      <td>ftp</td>\n",
              "      <td>FIN</td>\n",
              "      <td>12</td>\n",
              "      <td>12</td>\n",
              "      <td>628</td>\n",
              "      <td>770</td>\n",
              "      <td>13.677108</td>\n",
              "      <td>62</td>\n",
              "      <td>...</td>\n",
              "      <td>1</td>\n",
              "      <td>1</td>\n",
              "      <td>3</td>\n",
              "      <td>1</td>\n",
              "      <td>1</td>\n",
              "      <td>0</td>\n",
              "      <td>2</td>\n",
              "      <td>1</td>\n",
              "      <td>0</td>\n",
              "      <td>0</td>\n",
              "    </tr>\n",
              "    <tr>\n",
              "      <th>4</th>\n",
              "      <td>0.449454</td>\n",
              "      <td>tcp</td>\n",
              "      <td>-</td>\n",
              "      <td>FIN</td>\n",
              "      <td>10</td>\n",
              "      <td>6</td>\n",
              "      <td>534</td>\n",
              "      <td>268</td>\n",
              "      <td>33.373826</td>\n",
              "      <td>254</td>\n",
              "      <td>...</td>\n",
              "      <td>2</td>\n",
              "      <td>1</td>\n",
              "      <td>40</td>\n",
              "      <td>0</td>\n",
              "      <td>0</td>\n",
              "      <td>0</td>\n",
              "      <td>2</td>\n",
              "      <td>39</td>\n",
              "      <td>0</td>\n",
              "      <td>0</td>\n",
              "    </tr>\n",
              "  </tbody>\n",
              "</table>\n",
              "<p>5 rows × 43 columns</p>\n",
              "</div>\n",
              "      <button class=\"colab-df-convert\" onclick=\"convertToInteractive('df-7fd42f12-aa94-49ba-b7cb-633412c8a285')\"\n",
              "              title=\"Convert this dataframe to an interactive table.\"\n",
              "              style=\"display:none;\">\n",
              "        \n",
              "  <svg xmlns=\"http://www.w3.org/2000/svg\" height=\"24px\"viewBox=\"0 0 24 24\"\n",
              "       width=\"24px\">\n",
              "    <path d=\"M0 0h24v24H0V0z\" fill=\"none\"/>\n",
              "    <path d=\"M18.56 5.44l.94 2.06.94-2.06 2.06-.94-2.06-.94-.94-2.06-.94 2.06-2.06.94zm-11 1L8.5 8.5l.94-2.06 2.06-.94-2.06-.94L8.5 2.5l-.94 2.06-2.06.94zm10 10l.94 2.06.94-2.06 2.06-.94-2.06-.94-.94-2.06-.94 2.06-2.06.94z\"/><path d=\"M17.41 7.96l-1.37-1.37c-.4-.4-.92-.59-1.43-.59-.52 0-1.04.2-1.43.59L10.3 9.45l-7.72 7.72c-.78.78-.78 2.05 0 2.83L4 21.41c.39.39.9.59 1.41.59.51 0 1.02-.2 1.41-.59l7.78-7.78 2.81-2.81c.8-.78.8-2.07 0-2.86zM5.41 20L4 18.59l7.72-7.72 1.47 1.35L5.41 20z\"/>\n",
              "  </svg>\n",
              "      </button>\n",
              "      \n",
              "  <style>\n",
              "    .colab-df-container {\n",
              "      display:flex;\n",
              "      flex-wrap:wrap;\n",
              "      gap: 12px;\n",
              "    }\n",
              "\n",
              "    .colab-df-convert {\n",
              "      background-color: #E8F0FE;\n",
              "      border: none;\n",
              "      border-radius: 50%;\n",
              "      cursor: pointer;\n",
              "      display: none;\n",
              "      fill: #1967D2;\n",
              "      height: 32px;\n",
              "      padding: 0 0 0 0;\n",
              "      width: 32px;\n",
              "    }\n",
              "\n",
              "    .colab-df-convert:hover {\n",
              "      background-color: #E2EBFA;\n",
              "      box-shadow: 0px 1px 2px rgba(60, 64, 67, 0.3), 0px 1px 3px 1px rgba(60, 64, 67, 0.15);\n",
              "      fill: #174EA6;\n",
              "    }\n",
              "\n",
              "    [theme=dark] .colab-df-convert {\n",
              "      background-color: #3B4455;\n",
              "      fill: #D2E3FC;\n",
              "    }\n",
              "\n",
              "    [theme=dark] .colab-df-convert:hover {\n",
              "      background-color: #434B5C;\n",
              "      box-shadow: 0px 1px 3px 1px rgba(0, 0, 0, 0.15);\n",
              "      filter: drop-shadow(0px 1px 2px rgba(0, 0, 0, 0.3));\n",
              "      fill: #FFFFFF;\n",
              "    }\n",
              "  </style>\n",
              "\n",
              "      <script>\n",
              "        const buttonEl =\n",
              "          document.querySelector('#df-7fd42f12-aa94-49ba-b7cb-633412c8a285 button.colab-df-convert');\n",
              "        buttonEl.style.display =\n",
              "          google.colab.kernel.accessAllowed ? 'block' : 'none';\n",
              "\n",
              "        async function convertToInteractive(key) {\n",
              "          const element = document.querySelector('#df-7fd42f12-aa94-49ba-b7cb-633412c8a285');\n",
              "          const dataTable =\n",
              "            await google.colab.kernel.invokeFunction('convertToInteractive',\n",
              "                                                     [key], {});\n",
              "          if (!dataTable) return;\n",
              "\n",
              "          const docLinkHtml = 'Like what you see? Visit the ' +\n",
              "            '<a target=\"_blank\" href=https://colab.research.google.com/notebooks/data_table.ipynb>data table notebook</a>'\n",
              "            + ' to learn more about interactive tables.';\n",
              "          element.innerHTML = '';\n",
              "          dataTable['output_type'] = 'display_data';\n",
              "          await google.colab.output.renderOutput(dataTable, element);\n",
              "          const docLink = document.createElement('div');\n",
              "          docLink.innerHTML = docLinkHtml;\n",
              "          element.appendChild(docLink);\n",
              "        }\n",
              "      </script>\n",
              "    </div>\n",
              "  </div>\n",
              "  "
            ]
          },
          "metadata": {},
          "execution_count": 50
        }
      ]
    },
    {
      "cell_type": "code",
      "source": [
        "df.shape"
      ],
      "metadata": {
        "colab": {
          "base_uri": "https://localhost:8080/"
        },
        "id": "etSduWggwGJQ",
        "outputId": "2d4dacea-c84a-45c8-d6f3-23ad03ab91b3"
      },
      "execution_count": 51,
      "outputs": [
        {
          "output_type": "execute_result",
          "data": {
            "text/plain": [
              "(257673, 43)"
            ]
          },
          "metadata": {},
          "execution_count": 51
        }
      ]
    },
    {
      "cell_type": "code",
      "source": [
        "df_class_Normal = df[df['label'] == 0]\n",
        "df_class_Attack = df[df['label'] == 1]\n"
      ],
      "metadata": {
        "id": "0ZS5EBxAvH7I"
      },
      "execution_count": 52,
      "outputs": []
    },
    {
      "cell_type": "code",
      "source": [
        "#Sous-échantillonnage de la catégorie d'attaque jusqu'à atteindre la même valeur que la catégorie Normal\n",
        "df_class_Attack = df_class_Attack.sample(df_class_Normal.shape[0])\n",
        "#Concaténé\n",
        "df = pd.concat([df_class_Normal,df_class_Attack], axis=0)"
      ],
      "metadata": {
        "id": "bV7d_xuiqV9E"
      },
      "execution_count": 53,
      "outputs": []
    },
    {
      "cell_type": "code",
      "source": [
        "df.head()"
      ],
      "metadata": {
        "colab": {
          "base_uri": "https://localhost:8080/",
          "height": 317
        },
        "id": "4QmjhRhXrUub",
        "outputId": "3e855dba-2e1a-45db-94b4-e57a4c991235"
      },
      "execution_count": 54,
      "outputs": [
        {
          "output_type": "execute_result",
          "data": {
            "text/plain": [
              "        dur proto service state  spkts  dpkts  sbytes  dbytes       rate  \\\n",
              "0  0.121478   tcp       -   FIN      6      4     258     172  74.087490   \n",
              "1  0.649902   tcp       -   FIN     14     38     734   42014  78.473372   \n",
              "2  1.623129   tcp       -   FIN      8     16     364   13186  14.170161   \n",
              "3  1.681642   tcp     ftp   FIN     12     12     628     770  13.677108   \n",
              "4  0.449454   tcp       -   FIN     10      6     534     268  33.373826   \n",
              "\n",
              "   sttl  ...  ct_src_dport_ltm  ct_dst_sport_ltm  ct_dst_src_ltm  \\\n",
              "0   252  ...                 1                 1               1   \n",
              "1    62  ...                 1                 1               2   \n",
              "2    62  ...                 1                 1               3   \n",
              "3    62  ...                 1                 1               3   \n",
              "4   254  ...                 2                 1              40   \n",
              "\n",
              "   is_ftp_login  ct_ftp_cmd  ct_flw_http_mthd  ct_src_ltm  ct_srv_dst  \\\n",
              "0             0           0                 0           1           1   \n",
              "1             0           0                 0           1           6   \n",
              "2             0           0                 0           2           6   \n",
              "3             1           1                 0           2           1   \n",
              "4             0           0                 0           2          39   \n",
              "\n",
              "   is_sm_ips_ports  label  \n",
              "0                0      0  \n",
              "1                0      0  \n",
              "2                0      0  \n",
              "3                0      0  \n",
              "4                0      0  \n",
              "\n",
              "[5 rows x 43 columns]"
            ],
            "text/html": [
              "\n",
              "  <div id=\"df-86134f37-bf59-45a4-9469-464049f9713e\">\n",
              "    <div class=\"colab-df-container\">\n",
              "      <div>\n",
              "<style scoped>\n",
              "    .dataframe tbody tr th:only-of-type {\n",
              "        vertical-align: middle;\n",
              "    }\n",
              "\n",
              "    .dataframe tbody tr th {\n",
              "        vertical-align: top;\n",
              "    }\n",
              "\n",
              "    .dataframe thead th {\n",
              "        text-align: right;\n",
              "    }\n",
              "</style>\n",
              "<table border=\"1\" class=\"dataframe\">\n",
              "  <thead>\n",
              "    <tr style=\"text-align: right;\">\n",
              "      <th></th>\n",
              "      <th>dur</th>\n",
              "      <th>proto</th>\n",
              "      <th>service</th>\n",
              "      <th>state</th>\n",
              "      <th>spkts</th>\n",
              "      <th>dpkts</th>\n",
              "      <th>sbytes</th>\n",
              "      <th>dbytes</th>\n",
              "      <th>rate</th>\n",
              "      <th>sttl</th>\n",
              "      <th>...</th>\n",
              "      <th>ct_src_dport_ltm</th>\n",
              "      <th>ct_dst_sport_ltm</th>\n",
              "      <th>ct_dst_src_ltm</th>\n",
              "      <th>is_ftp_login</th>\n",
              "      <th>ct_ftp_cmd</th>\n",
              "      <th>ct_flw_http_mthd</th>\n",
              "      <th>ct_src_ltm</th>\n",
              "      <th>ct_srv_dst</th>\n",
              "      <th>is_sm_ips_ports</th>\n",
              "      <th>label</th>\n",
              "    </tr>\n",
              "  </thead>\n",
              "  <tbody>\n",
              "    <tr>\n",
              "      <th>0</th>\n",
              "      <td>0.121478</td>\n",
              "      <td>tcp</td>\n",
              "      <td>-</td>\n",
              "      <td>FIN</td>\n",
              "      <td>6</td>\n",
              "      <td>4</td>\n",
              "      <td>258</td>\n",
              "      <td>172</td>\n",
              "      <td>74.087490</td>\n",
              "      <td>252</td>\n",
              "      <td>...</td>\n",
              "      <td>1</td>\n",
              "      <td>1</td>\n",
              "      <td>1</td>\n",
              "      <td>0</td>\n",
              "      <td>0</td>\n",
              "      <td>0</td>\n",
              "      <td>1</td>\n",
              "      <td>1</td>\n",
              "      <td>0</td>\n",
              "      <td>0</td>\n",
              "    </tr>\n",
              "    <tr>\n",
              "      <th>1</th>\n",
              "      <td>0.649902</td>\n",
              "      <td>tcp</td>\n",
              "      <td>-</td>\n",
              "      <td>FIN</td>\n",
              "      <td>14</td>\n",
              "      <td>38</td>\n",
              "      <td>734</td>\n",
              "      <td>42014</td>\n",
              "      <td>78.473372</td>\n",
              "      <td>62</td>\n",
              "      <td>...</td>\n",
              "      <td>1</td>\n",
              "      <td>1</td>\n",
              "      <td>2</td>\n",
              "      <td>0</td>\n",
              "      <td>0</td>\n",
              "      <td>0</td>\n",
              "      <td>1</td>\n",
              "      <td>6</td>\n",
              "      <td>0</td>\n",
              "      <td>0</td>\n",
              "    </tr>\n",
              "    <tr>\n",
              "      <th>2</th>\n",
              "      <td>1.623129</td>\n",
              "      <td>tcp</td>\n",
              "      <td>-</td>\n",
              "      <td>FIN</td>\n",
              "      <td>8</td>\n",
              "      <td>16</td>\n",
              "      <td>364</td>\n",
              "      <td>13186</td>\n",
              "      <td>14.170161</td>\n",
              "      <td>62</td>\n",
              "      <td>...</td>\n",
              "      <td>1</td>\n",
              "      <td>1</td>\n",
              "      <td>3</td>\n",
              "      <td>0</td>\n",
              "      <td>0</td>\n",
              "      <td>0</td>\n",
              "      <td>2</td>\n",
              "      <td>6</td>\n",
              "      <td>0</td>\n",
              "      <td>0</td>\n",
              "    </tr>\n",
              "    <tr>\n",
              "      <th>3</th>\n",
              "      <td>1.681642</td>\n",
              "      <td>tcp</td>\n",
              "      <td>ftp</td>\n",
              "      <td>FIN</td>\n",
              "      <td>12</td>\n",
              "      <td>12</td>\n",
              "      <td>628</td>\n",
              "      <td>770</td>\n",
              "      <td>13.677108</td>\n",
              "      <td>62</td>\n",
              "      <td>...</td>\n",
              "      <td>1</td>\n",
              "      <td>1</td>\n",
              "      <td>3</td>\n",
              "      <td>1</td>\n",
              "      <td>1</td>\n",
              "      <td>0</td>\n",
              "      <td>2</td>\n",
              "      <td>1</td>\n",
              "      <td>0</td>\n",
              "      <td>0</td>\n",
              "    </tr>\n",
              "    <tr>\n",
              "      <th>4</th>\n",
              "      <td>0.449454</td>\n",
              "      <td>tcp</td>\n",
              "      <td>-</td>\n",
              "      <td>FIN</td>\n",
              "      <td>10</td>\n",
              "      <td>6</td>\n",
              "      <td>534</td>\n",
              "      <td>268</td>\n",
              "      <td>33.373826</td>\n",
              "      <td>254</td>\n",
              "      <td>...</td>\n",
              "      <td>2</td>\n",
              "      <td>1</td>\n",
              "      <td>40</td>\n",
              "      <td>0</td>\n",
              "      <td>0</td>\n",
              "      <td>0</td>\n",
              "      <td>2</td>\n",
              "      <td>39</td>\n",
              "      <td>0</td>\n",
              "      <td>0</td>\n",
              "    </tr>\n",
              "  </tbody>\n",
              "</table>\n",
              "<p>5 rows × 43 columns</p>\n",
              "</div>\n",
              "      <button class=\"colab-df-convert\" onclick=\"convertToInteractive('df-86134f37-bf59-45a4-9469-464049f9713e')\"\n",
              "              title=\"Convert this dataframe to an interactive table.\"\n",
              "              style=\"display:none;\">\n",
              "        \n",
              "  <svg xmlns=\"http://www.w3.org/2000/svg\" height=\"24px\"viewBox=\"0 0 24 24\"\n",
              "       width=\"24px\">\n",
              "    <path d=\"M0 0h24v24H0V0z\" fill=\"none\"/>\n",
              "    <path d=\"M18.56 5.44l.94 2.06.94-2.06 2.06-.94-2.06-.94-.94-2.06-.94 2.06-2.06.94zm-11 1L8.5 8.5l.94-2.06 2.06-.94-2.06-.94L8.5 2.5l-.94 2.06-2.06.94zm10 10l.94 2.06.94-2.06 2.06-.94-2.06-.94-.94-2.06-.94 2.06-2.06.94z\"/><path d=\"M17.41 7.96l-1.37-1.37c-.4-.4-.92-.59-1.43-.59-.52 0-1.04.2-1.43.59L10.3 9.45l-7.72 7.72c-.78.78-.78 2.05 0 2.83L4 21.41c.39.39.9.59 1.41.59.51 0 1.02-.2 1.41-.59l7.78-7.78 2.81-2.81c.8-.78.8-2.07 0-2.86zM5.41 20L4 18.59l7.72-7.72 1.47 1.35L5.41 20z\"/>\n",
              "  </svg>\n",
              "      </button>\n",
              "      \n",
              "  <style>\n",
              "    .colab-df-container {\n",
              "      display:flex;\n",
              "      flex-wrap:wrap;\n",
              "      gap: 12px;\n",
              "    }\n",
              "\n",
              "    .colab-df-convert {\n",
              "      background-color: #E8F0FE;\n",
              "      border: none;\n",
              "      border-radius: 50%;\n",
              "      cursor: pointer;\n",
              "      display: none;\n",
              "      fill: #1967D2;\n",
              "      height: 32px;\n",
              "      padding: 0 0 0 0;\n",
              "      width: 32px;\n",
              "    }\n",
              "\n",
              "    .colab-df-convert:hover {\n",
              "      background-color: #E2EBFA;\n",
              "      box-shadow: 0px 1px 2px rgba(60, 64, 67, 0.3), 0px 1px 3px 1px rgba(60, 64, 67, 0.15);\n",
              "      fill: #174EA6;\n",
              "    }\n",
              "\n",
              "    [theme=dark] .colab-df-convert {\n",
              "      background-color: #3B4455;\n",
              "      fill: #D2E3FC;\n",
              "    }\n",
              "\n",
              "    [theme=dark] .colab-df-convert:hover {\n",
              "      background-color: #434B5C;\n",
              "      box-shadow: 0px 1px 3px 1px rgba(0, 0, 0, 0.15);\n",
              "      filter: drop-shadow(0px 1px 2px rgba(0, 0, 0, 0.3));\n",
              "      fill: #FFFFFF;\n",
              "    }\n",
              "  </style>\n",
              "\n",
              "      <script>\n",
              "        const buttonEl =\n",
              "          document.querySelector('#df-86134f37-bf59-45a4-9469-464049f9713e button.colab-df-convert');\n",
              "        buttonEl.style.display =\n",
              "          google.colab.kernel.accessAllowed ? 'block' : 'none';\n",
              "\n",
              "        async function convertToInteractive(key) {\n",
              "          const element = document.querySelector('#df-86134f37-bf59-45a4-9469-464049f9713e');\n",
              "          const dataTable =\n",
              "            await google.colab.kernel.invokeFunction('convertToInteractive',\n",
              "                                                     [key], {});\n",
              "          if (!dataTable) return;\n",
              "\n",
              "          const docLinkHtml = 'Like what you see? Visit the ' +\n",
              "            '<a target=\"_blank\" href=https://colab.research.google.com/notebooks/data_table.ipynb>data table notebook</a>'\n",
              "            + ' to learn more about interactive tables.';\n",
              "          element.innerHTML = '';\n",
              "          dataTable['output_type'] = 'display_data';\n",
              "          await google.colab.output.renderOutput(dataTable, element);\n",
              "          const docLink = document.createElement('div');\n",
              "          docLink.innerHTML = docLinkHtml;\n",
              "          element.appendChild(docLink);\n",
              "        }\n",
              "      </script>\n",
              "    </div>\n",
              "  </div>\n",
              "  "
            ]
          },
          "metadata": {},
          "execution_count": 54
        }
      ]
    },
    {
      "cell_type": "code",
      "source": [
        "#Visualisation dans un graphique circulaire du poids de chaque classe\n",
        "print(\"Forme de dataFrame: {} \\n\".format(df.shape))\n",
        "print(\"Nombre d'échantillons d'attaque\")\n",
        "display(df['label'].value_counts())\n",
        "print(\"\")\n",
        "print(\"Tracer l'équilibre de dataFrame\")\n",
        "df_plot = (df['label'].value_counts(normalize=True) *100)\n",
        "df_plot.plot(kind='pie',figsize=(10,10),title='Repartition du dataset (%)')"
      ],
      "metadata": {
        "colab": {
          "base_uri": "https://localhost:8080/",
          "height": 769
        },
        "id": "LVZCmxq8qhe7",
        "outputId": "25869c5c-a464-4e2c-e8e1-2a1b9d1dc0ff"
      },
      "execution_count": 55,
      "outputs": [
        {
          "output_type": "stream",
          "name": "stdout",
          "text": [
            "Forme de dataFrame: (186000, 43) \n",
            "\n",
            "Nombre d'échantillons d'attaque\n"
          ]
        },
        {
          "output_type": "display_data",
          "data": {
            "text/plain": [
              "0    93000\n",
              "1    93000\n",
              "Name: label, dtype: int64"
            ]
          },
          "metadata": {}
        },
        {
          "output_type": "stream",
          "name": "stdout",
          "text": [
            "\n",
            "Tracer l'équilibre de dataFrame\n"
          ]
        },
        {
          "output_type": "execute_result",
          "data": {
            "text/plain": [
              "<matplotlib.axes._subplots.AxesSubplot at 0x7fb3206d1850>"
            ]
          },
          "metadata": {},
          "execution_count": 55
        },
        {
          "output_type": "display_data",
          "data": {
            "text/plain": [
              "<Figure size 720x720 with 1 Axes>"
            ],
            "image/png": "[encoded data removed]"
          },
          "metadata": {}
        }
      ]
    },
    {
      "cell_type": "code",
      "source": [
        "#Conversion de la chaîne de type de données en nombres entiers dans une plage comprise entre 0 et 255 (1 octet d'informations)\n",
        "def encode_string_byte (df,name):\n",
        "  df[name] = LabelEncoder().fit_transform(df[name])\n",
        "\n",
        "encode_string_byte (df,'proto')\n",
        "encode_string_byte (df,'state') \n",
        "encode_string_byte (df,'service') "
      ],
      "metadata": {
        "id": "B-10J00M0GAJ"
      },
      "execution_count": 56,
      "outputs": []
    },
    {
      "cell_type": "code",
      "source": [
        "#Normalisation des nombres entiers en valeurs décimales comprises entre 0 et 1\n",
        "def numerical_minmax_normalization (df, name):\n",
        "  x = df[name].values.reshape(-1,1)\n",
        "  min_max_scaler = preprocessing.MinMaxScaler()\n",
        "  x_scaled = min_max_scaler.fit_transform(x)\n",
        "  df[name] = x_scaled\n",
        "\n",
        "numerical_minmax_normalization(df,'dur')\n",
        "numerical_minmax_normalization(df,'spkts')\n",
        "numerical_minmax_normalization(df,'dpkts')\n",
        "numerical_minmax_normalization(df,'sbytes')\n",
        "numerical_minmax_normalization(df,'dbytes')\n",
        "numerical_minmax_normalization(df,'rate')\n",
        "numerical_minmax_normalization(df,'sttl')\n",
        "numerical_minmax_normalization(df,'dttl')\n",
        "numerical_minmax_normalization(df,'sload')\n",
        "numerical_minmax_normalization(df,'dload')\n",
        "numerical_minmax_normalization(df,'sloss')\n",
        "numerical_minmax_normalization(df,'dloss')\n",
        "numerical_minmax_normalization(df,'sinpkt')\n",
        "numerical_minmax_normalization(df,'dinpkt')\n",
        "numerical_minmax_normalization(df,'sjit')\n",
        "numerical_minmax_normalization(df,'djit')\n",
        "numerical_minmax_normalization(df,'swin')\n",
        "numerical_minmax_normalization(df,'stcpb')\n",
        "numerical_minmax_normalization(df,'dtcpb')\n",
        "numerical_minmax_normalization(df,'dwin')\n",
        "numerical_minmax_normalization(df,'tcprtt')\n",
        "numerical_minmax_normalization(df,'synack')\n",
        "numerical_minmax_normalization(df,'ackdat')\n",
        "numerical_minmax_normalization(df,'smean')\n",
        "numerical_minmax_normalization(df,'dmean')\n",
        "numerical_minmax_normalization(df,'trans_depth')\n",
        "numerical_minmax_normalization(df,'response_body_len')\n",
        "numerical_minmax_normalization(df,'ct_srv_src')\n",
        "numerical_minmax_normalization(df,'ct_state_ttl')\n",
        "numerical_minmax_normalization(df,'ct_dst_ltm')\n",
        "numerical_minmax_normalization(df,'ct_src_dport_ltm')\n",
        "numerical_minmax_normalization(df,'ct_dst_sport_ltm')\n",
        "numerical_minmax_normalization(df,'ct_dst_src_ltm')\n",
        "numerical_minmax_normalization(df,'is_ftp_login')\n",
        "numerical_minmax_normalization(df,'ct_ftp_cmd')\n",
        "numerical_minmax_normalization(df,'ct_flw_http_mthd')\n",
        "numerical_minmax_normalization(df,'ct_src_ltm')\n",
        "numerical_minmax_normalization(df,'ct_srv_dst')\n",
        "numerical_minmax_normalization(df,'is_sm_ips_ports')"
      ],
      "metadata": {
        "id": "E61P0fR40ITZ"
      },
      "execution_count": 57,
      "outputs": []
    },
    {
      "cell_type": "code",
      "source": [
        "#Mappage des valeurs normalisées de l'étape précédente sur des valeurs entières comprises entre 0 et 255 (1 Byte d'information)\n",
        "def numerical_split_ohe (df,name):\n",
        "  pd_to_np = df[name].tolist()\n",
        "  np_split = []\n",
        "  \n",
        "  categories = np.linspace(0, 1, num=256,endpoint=False)\n",
        "  quantization = range(0,256)\n",
        "\n",
        "  for value in pd_to_np:\n",
        "    for i in range(len(categories)-1):\n",
        "      if (categories[i] <= float(value) <= categories[i+1]):\n",
        "        np_split.append(quantization[i])\n",
        "        break\n",
        "      if (float(value) > categories[-1]):\n",
        "        np_split.append(quantization[-1])\n",
        "        break\n",
        "  \n",
        "  df[name] = np_split\n",
        "\n",
        "\n",
        "numerical_split_ohe(df,'dur')\n",
        "numerical_split_ohe(df,'spkts')\n",
        "numerical_split_ohe(df,'dpkts')\n",
        "numerical_split_ohe(df,'sbytes')\n",
        "numerical_split_ohe(df,'dbytes')\n",
        "numerical_split_ohe(df,'rate')\n",
        "numerical_split_ohe(df,'sttl')\n",
        "numerical_split_ohe(df,'dttl')\n",
        "numerical_split_ohe(df,'sload')\n",
        "numerical_split_ohe(df,'dload')\n",
        "numerical_split_ohe(df,'sloss')\n",
        "numerical_split_ohe(df,'dloss')\n",
        "numerical_split_ohe(df,'sinpkt')\n",
        "numerical_split_ohe(df,'dinpkt')\n",
        "numerical_split_ohe(df,'sjit')\n",
        "numerical_split_ohe(df,'djit')\n",
        "numerical_split_ohe(df,'swin')\n",
        "numerical_split_ohe(df,'stcpb')\n",
        "numerical_split_ohe(df,'dtcpb')\n",
        "numerical_split_ohe(df,'dwin')\n",
        "numerical_split_ohe(df,'tcprtt')\n",
        "numerical_split_ohe(df,'synack')\n",
        "numerical_split_ohe(df,'ackdat')\n",
        "numerical_split_ohe(df,'smean')\n",
        "numerical_split_ohe(df,'dmean')\n",
        "numerical_split_ohe(df,'trans_depth')\n",
        "numerical_split_ohe(df,'response_body_len')\n",
        "numerical_split_ohe(df,'ct_srv_src')\n",
        "numerical_split_ohe(df,'ct_state_ttl')\n",
        "numerical_split_ohe(df,'ct_dst_ltm')\n",
        "numerical_split_ohe(df,'ct_src_dport_ltm')\n",
        "numerical_split_ohe(df,'ct_dst_sport_ltm')\n",
        "numerical_split_ohe(df,'ct_dst_src_ltm')\n",
        "numerical_split_ohe(df,'is_ftp_login')\n",
        "numerical_split_ohe(df,'ct_ftp_cmd')\n",
        "numerical_split_ohe(df,'ct_flw_http_mthd')\n",
        "numerical_split_ohe(df,'ct_src_ltm')\n",
        "numerical_split_ohe(df,'ct_srv_dst')\n",
        "numerical_split_ohe(df,'is_sm_ips_ports')"
      ],
      "metadata": {
        "id": "tbMrB8oU0RS4"
      },
      "execution_count": 58,
      "outputs": []
    },
    {
      "cell_type": "code",
      "source": [
        "#Retirer la colonne attack_cat et l'enregistrer dans la variable y.\n",
        "y_column = df['label']\n",
        "df.drop('label',axis=1,inplace=True)\n",
        "dummies = pd.get_dummies(y_column) \n",
        "y = dummies.values"
      ],
      "metadata": {
        "id": "NaUz-0Do06PA"
      },
      "execution_count": 59,
      "outputs": []
    },
    {
      "cell_type": "code",
      "source": [
        "y"
      ],
      "metadata": {
        "colab": {
          "base_uri": "https://localhost:8080/"
        },
        "id": "6iO_d2nZohWm",
        "outputId": "0567c154-b2cd-4033-b7ab-78cd56758e6f"
      },
      "execution_count": 60,
      "outputs": [
        {
          "output_type": "execute_result",
          "data": {
            "text/plain": [
              "array([[1, 0],\n",
              "       [1, 0],\n",
              "       [1, 0],\n",
              "       ...,\n",
              "       [0, 1],\n",
              "       [0, 1],\n",
              "       [0, 1]], dtype=uint8)"
            ]
          },
          "metadata": {},
          "execution_count": 60
        }
      ]
    },
    {
      "cell_type": "code",
      "source": [
        "#Normalisation des valeurs entre -0.5 et 0.5\n",
        "x = []\n",
        "for image in np.array(df.to_numpy()):\n",
        "  x.append((image/255 - 0.5))\n",
        "x = np.array(x)"
      ],
      "metadata": {
        "id": "ppHZ3d9I0-FS"
      },
      "execution_count": 61,
      "outputs": []
    },
    {
      "cell_type": "code",
      "source": [
        "x"
      ],
      "metadata": {
        "colab": {
          "base_uri": "https://localhost:8080/"
        },
        "id": "tiqITPpioqvR",
        "outputId": "bbf07b15-0444-4ee0-98bf-0904ae062da3"
      },
      "execution_count": 62,
      "outputs": [
        {
          "output_type": "execute_result",
          "data": {
            "text/plain": [
              "array([[-0.5       , -0.05686275, -0.5       , ..., -0.5       ,\n",
              "        -0.5       , -0.5       ],\n",
              "       [-0.49215686, -0.05686275, -0.5       , ..., -0.5       ,\n",
              "        -0.42156863, -0.5       ],\n",
              "       [-0.47647059, -0.05686275, -0.5       , ..., -0.48431373,\n",
              "        -0.42156863, -0.5       ],\n",
              "       ...,\n",
              "       [-0.5       , -0.03333333, -0.5       , ..., -0.48431373,\n",
              "        -0.45294118, -0.5       ],\n",
              "       [-0.5       , -0.03333333, -0.5       , ..., -0.48431373,\n",
              "        -0.48431373, -0.5       ],\n",
              "       [-0.5       , -0.02941176, -0.5       , ..., -0.48431373,\n",
              "        -0.46862745, -0.5       ]])"
            ]
          },
          "metadata": {},
          "execution_count": 62
        }
      ]
    },
    {
      "cell_type": "code",
      "source": [
        "x.shape"
      ],
      "metadata": {
        "colab": {
          "base_uri": "https://localhost:8080/"
        },
        "id": "FuUxvhk6oueG",
        "outputId": "67ab8da9-085d-499e-dde2-d6fe896f8304"
      },
      "execution_count": 63,
      "outputs": [
        {
          "output_type": "execute_result",
          "data": {
            "text/plain": [
              "(186000, 42)"
            ]
          },
          "metadata": {},
          "execution_count": 63
        }
      ]
    },
    {
      "cell_type": "code",
      "source": [
        "#Séparation du jeu de données en un ensemble d'apprentissage et un ensemble de validation.\n",
        "sss = StratifiedShuffleSplit(n_splits=1, test_size=0.25, random_state=42)\n",
        "\n",
        "for train_index, test_index in sss.split(x,y):\n",
        "  x_train, x_test = x[train_index], x[test_index]\n",
        "  y_train, y_test = y[train_index], y[test_index]"
      ],
      "metadata": {
        "id": "F82SKrUW1EK6"
      },
      "execution_count": 64,
      "outputs": []
    },
    {
      "cell_type": "code",
      "source": [
        "y_train"
      ],
      "metadata": {
        "colab": {
          "base_uri": "https://localhost:8080/"
        },
        "id": "tCo2z71qo2BV",
        "outputId": "3ab76347-9bc4-4fcc-f0a3-e504ffe3edba"
      },
      "execution_count": 65,
      "outputs": [
        {
          "output_type": "execute_result",
          "data": {
            "text/plain": [
              "array([[0, 1],\n",
              "       [0, 1],\n",
              "       [0, 1],\n",
              "       ...,\n",
              "       [1, 0],\n",
              "       [1, 0],\n",
              "       [1, 0]], dtype=uint8)"
            ]
          },
          "metadata": {},
          "execution_count": 65
        }
      ]
    },
    {
      "cell_type": "code",
      "source": [
        "y_test"
      ],
      "metadata": {
        "colab": {
          "base_uri": "https://localhost:8080/"
        },
        "id": "w59xNunEo5l3",
        "outputId": "9e3176f7-d080-4dcc-cf6f-0a298c68b636"
      },
      "execution_count": 66,
      "outputs": [
        {
          "output_type": "execute_result",
          "data": {
            "text/plain": [
              "array([[1, 0],\n",
              "       [0, 1],\n",
              "       [0, 1],\n",
              "       ...,\n",
              "       [0, 1],\n",
              "       [1, 0],\n",
              "       [0, 1]], dtype=uint8)"
            ]
          },
          "metadata": {},
          "execution_count": 66
        }
      ]
    },
    {
      "cell_type": "code",
      "source": [
        "x_train.shape[1]"
      ],
      "metadata": {
        "colab": {
          "base_uri": "https://localhost:8080/"
        },
        "id": "leREUBmE1J22",
        "outputId": "d2d37227-a53c-4557-d87d-702cf2c59169"
      },
      "execution_count": 67,
      "outputs": [
        {
          "output_type": "execute_result",
          "data": {
            "text/plain": [
              "42"
            ]
          },
          "metadata": {},
          "execution_count": 67
        }
      ]
    },
    {
      "cell_type": "code",
      "source": [
        "# Modele LSTM\n",
        "#Mise en place du modele LSTM a 5 couches\n",
        "from keras.models import Sequential\n",
        "from keras.layers import Dense\n",
        "from keras.layers import LSTM\n",
        "from keras.layers import Dropout\n",
        "\n",
        "model_lstm = Sequential()\n",
        "model_lstm.add(LSTM(units=128,return_sequences =True,input_shape=(x_train.shape[1],1)))\n",
        "model_lstm.add(LSTM(units =128,return_sequences =True))\n",
        "#model_lstm.add(LSTM(units=64,return_sequences =True))\n",
        "#model_lstm.add(Dropout(0.2))\n",
        "model_lstm.add(Dense(16))\n",
        "model_lstm.add(LSTM(units=32))\n",
        "model_lstm.add(Dense(units=2,activation='sigmoid'))\n",
        "model_lstm.compile(optimizer = 'adam', loss ='binary_crossentropy', metrics=['accuracy'] )\n",
        "model_lstm.summary()"
      ],
      "metadata": {
        "id": "JuFDO7SGKrL5",
        "colab": {
          "base_uri": "https://localhost:8080/"
        },
        "outputId": "78b1e27b-98d7-48d1-c3c5-3ba7b532d651"
      },
      "execution_count": 111,
      "outputs": [
        {
          "output_type": "stream",
          "name": "stdout",
          "text": [
            "Model: \"sequential_28\"\n",
            "_________________________________________________________________\n",
            " Layer (type)                Output Shape              Param #   \n",
            "=================================================================\n",
            " lstm_71 (LSTM)              (None, 42, 128)           66560     \n",
            "                                                                 \n",
            " lstm_72 (LSTM)              (None, 42, 128)           131584    \n",
            "                                                                 \n",
            " dense_56 (Dense)            (None, 42, 16)            2064      \n",
            "                                                                 \n",
            " lstm_73 (LSTM)              (None, 32)                6272      \n",
            "                                                                 \n",
            " dense_57 (Dense)            (None, 2)                 66        \n",
            "                                                                 \n",
            "=================================================================\n",
            "Total params: 206,546\n",
            "Trainable params: 206,546\n",
            "Non-trainable params: 0\n",
            "_________________________________________________________________\n"
          ]
        }
      ]
    },
    {
      "cell_type": "code",
      "source": [
        "#processus de formation du modele LSTM\n",
        "history_lstm = model_lstm.fit(\n",
        "    x_train,\n",
        "    y_train,\n",
        "    validation_split = 0.1,\n",
        "    epochs = 100,\n",
        "    batch_size = 1024\n",
        ")"
      ],
      "metadata": {
        "colab": {
          "base_uri": "https://localhost:8080/"
        },
        "id": "JBct424_8TMf",
        "outputId": "a560ba9a-17e3-4e6e-a2f1-c6eed82d38dc"
      },
      "execution_count": 112,
      "outputs": [
        {
          "output_type": "stream",
          "name": "stdout",
          "text": [
            "Epoch 1/100\n",
            "123/123 [==============================] - 11s 43ms/step - loss: 0.4453 - accuracy: 0.7700 - val_loss: 0.3530 - val_accuracy: 0.8223\n",
            "Epoch 2/100\n",
            "123/123 [==============================] - 4s 34ms/step - loss: 0.3422 - accuracy: 0.8232 - val_loss: 0.3660 - val_accuracy: 0.8231\n",
            "Epoch 3/100\n",
            "123/123 [==============================] - 4s 34ms/step - loss: 0.3558 - accuracy: 0.8075 - val_loss: 0.3248 - val_accuracy: 0.8345\n",
            "Epoch 4/100\n",
            "123/123 [==============================] - 4s 34ms/step - loss: 0.3104 - accuracy: 0.8347 - val_loss: 0.3110 - val_accuracy: 0.8320\n",
            "Epoch 5/100\n",
            "123/123 [==============================] - 4s 35ms/step - loss: 0.3008 - accuracy: 0.8368 - val_loss: 0.3180 - val_accuracy: 0.8303\n",
            "Epoch 6/100\n",
            "123/123 [==============================] - 4s 34ms/step - loss: 0.2918 - accuracy: 0.8402 - val_loss: 0.2951 - val_accuracy: 0.8349\n",
            "Epoch 7/100\n",
            "123/123 [==============================] - 4s 35ms/step - loss: 0.2895 - accuracy: 0.8448 - val_loss: 0.2924 - val_accuracy: 0.8416\n",
            "Epoch 8/100\n",
            "123/123 [==============================] - 4s 34ms/step - loss: 0.2766 - accuracy: 0.8581 - val_loss: 0.2715 - val_accuracy: 0.8648\n",
            "Epoch 9/100\n",
            "123/123 [==============================] - 4s 35ms/step - loss: 0.2676 - accuracy: 0.8685 - val_loss: 0.2633 - val_accuracy: 0.8715\n",
            "Epoch 10/100\n",
            "123/123 [==============================] - 4s 35ms/step - loss: 0.2835 - accuracy: 0.8596 - val_loss: 0.3030 - val_accuracy: 0.8426\n",
            "Epoch 11/100\n",
            "123/123 [==============================] - 4s 35ms/step - loss: 0.2773 - accuracy: 0.8593 - val_loss: 0.2873 - val_accuracy: 0.8518\n",
            "Epoch 12/100\n",
            "123/123 [==============================] - 4s 35ms/step - loss: 0.2540 - accuracy: 0.8765 - val_loss: 0.2521 - val_accuracy: 0.8730\n",
            "Epoch 13/100\n",
            "123/123 [==============================] - 4s 35ms/step - loss: 0.2448 - accuracy: 0.8777 - val_loss: 0.2432 - val_accuracy: 0.8854\n",
            "Epoch 14/100\n",
            "123/123 [==============================] - 4s 34ms/step - loss: 0.2392 - accuracy: 0.8817 - val_loss: 0.2466 - val_accuracy: 0.8708\n",
            "Epoch 15/100\n",
            "123/123 [==============================] - 4s 34ms/step - loss: 0.2358 - accuracy: 0.8843 - val_loss: 0.2402 - val_accuracy: 0.8878\n",
            "Epoch 16/100\n",
            "123/123 [==============================] - 4s 34ms/step - loss: 0.2470 - accuracy: 0.8786 - val_loss: 0.2409 - val_accuracy: 0.8822\n",
            "Epoch 17/100\n",
            "123/123 [==============================] - 4s 34ms/step - loss: 0.2332 - accuracy: 0.8856 - val_loss: 0.2379 - val_accuracy: 0.8769\n",
            "Epoch 18/100\n",
            "123/123 [==============================] - 4s 35ms/step - loss: 0.2393 - accuracy: 0.8823 - val_loss: 0.2511 - val_accuracy: 0.8782\n",
            "Epoch 19/100\n",
            "123/123 [==============================] - 4s 34ms/step - loss: 0.2413 - accuracy: 0.8832 - val_loss: 0.2571 - val_accuracy: 0.8803\n",
            "Epoch 20/100\n",
            "123/123 [==============================] - 4s 34ms/step - loss: 0.2412 - accuracy: 0.8826 - val_loss: 0.2381 - val_accuracy: 0.8876\n",
            "Epoch 21/100\n",
            "123/123 [==============================] - 4s 34ms/step - loss: 0.2319 - accuracy: 0.8869 - val_loss: 0.2314 - val_accuracy: 0.8905\n",
            "Epoch 22/100\n",
            "123/123 [==============================] - 4s 34ms/step - loss: 0.2296 - accuracy: 0.8886 - val_loss: 0.2329 - val_accuracy: 0.8820\n",
            "Epoch 23/100\n",
            "123/123 [==============================] - 4s 34ms/step - loss: 0.2229 - accuracy: 0.8936 - val_loss: 0.2245 - val_accuracy: 0.8915\n",
            "Epoch 24/100\n",
            "123/123 [==============================] - 4s 35ms/step - loss: 0.2224 - accuracy: 0.8915 - val_loss: 0.2304 - val_accuracy: 0.8967\n",
            "Epoch 25/100\n",
            "123/123 [==============================] - 4s 35ms/step - loss: 0.2198 - accuracy: 0.8965 - val_loss: 0.2219 - val_accuracy: 0.8935\n",
            "Epoch 26/100\n",
            "123/123 [==============================] - 4s 36ms/step - loss: 0.2178 - accuracy: 0.8961 - val_loss: 0.2231 - val_accuracy: 0.9008\n",
            "Epoch 27/100\n",
            "123/123 [==============================] - 4s 35ms/step - loss: 0.2171 - accuracy: 0.8978 - val_loss: 0.2195 - val_accuracy: 0.9034\n",
            "Epoch 28/100\n",
            "123/123 [==============================] - 4s 34ms/step - loss: 0.2152 - accuracy: 0.8986 - val_loss: 0.2130 - val_accuracy: 0.8978\n",
            "Epoch 29/100\n",
            "123/123 [==============================] - 4s 34ms/step - loss: 0.2132 - accuracy: 0.8995 - val_loss: 0.2258 - val_accuracy: 0.8961\n",
            "Epoch 30/100\n",
            "123/123 [==============================] - 4s 34ms/step - loss: 0.2096 - accuracy: 0.9011 - val_loss: 0.2123 - val_accuracy: 0.9032\n",
            "Epoch 31/100\n",
            "123/123 [==============================] - 4s 34ms/step - loss: 0.2094 - accuracy: 0.9011 - val_loss: 0.2201 - val_accuracy: 0.8941\n",
            "Epoch 32/100\n",
            "123/123 [==============================] - 4s 34ms/step - loss: 0.2083 - accuracy: 0.9017 - val_loss: 0.2064 - val_accuracy: 0.9004\n",
            "Epoch 33/100\n",
            "123/123 [==============================] - 4s 34ms/step - loss: 0.2189 - accuracy: 0.8965 - val_loss: 0.2213 - val_accuracy: 0.8959\n",
            "Epoch 34/100\n",
            "123/123 [==============================] - 4s 34ms/step - loss: 0.2099 - accuracy: 0.9011 - val_loss: 0.2125 - val_accuracy: 0.9032\n",
            "Epoch 35/100\n",
            "123/123 [==============================] - 4s 34ms/step - loss: 0.1978 - accuracy: 0.9040 - val_loss: 0.2461 - val_accuracy: 0.8844\n",
            "Epoch 36/100\n",
            "123/123 [==============================] - 4s 34ms/step - loss: 0.2072 - accuracy: 0.9018 - val_loss: 0.2054 - val_accuracy: 0.9009\n",
            "Epoch 37/100\n",
            "123/123 [==============================] - 4s 34ms/step - loss: 0.1915 - accuracy: 0.9054 - val_loss: 0.1868 - val_accuracy: 0.9079\n",
            "Epoch 38/100\n",
            "123/123 [==============================] - 4s 34ms/step - loss: 0.1909 - accuracy: 0.9064 - val_loss: 0.1884 - val_accuracy: 0.9094\n",
            "Epoch 39/100\n",
            "123/123 [==============================] - 4s 35ms/step - loss: 0.1941 - accuracy: 0.9065 - val_loss: 0.1921 - val_accuracy: 0.9038\n",
            "Epoch 40/100\n",
            "123/123 [==============================] - 4s 35ms/step - loss: 0.1881 - accuracy: 0.9092 - val_loss: 0.1976 - val_accuracy: 0.9042\n",
            "Epoch 41/100\n",
            "123/123 [==============================] - 4s 34ms/step - loss: 0.1878 - accuracy: 0.9075 - val_loss: 0.1921 - val_accuracy: 0.9098\n",
            "Epoch 42/100\n",
            "123/123 [==============================] - 4s 35ms/step - loss: 0.1849 - accuracy: 0.9096 - val_loss: 0.1769 - val_accuracy: 0.9139\n",
            "Epoch 43/100\n",
            "123/123 [==============================] - 4s 35ms/step - loss: 0.1795 - accuracy: 0.9119 - val_loss: 0.1779 - val_accuracy: 0.9158\n",
            "Epoch 44/100\n",
            "123/123 [==============================] - 4s 35ms/step - loss: 0.1786 - accuracy: 0.9124 - val_loss: 0.1792 - val_accuracy: 0.9163\n",
            "Epoch 45/100\n",
            "123/123 [==============================] - 4s 34ms/step - loss: 0.1801 - accuracy: 0.9124 - val_loss: 0.1875 - val_accuracy: 0.9069\n",
            "Epoch 46/100\n",
            "123/123 [==============================] - 4s 34ms/step - loss: 0.1803 - accuracy: 0.9118 - val_loss: 0.1797 - val_accuracy: 0.9132\n",
            "Epoch 47/100\n",
            "123/123 [==============================] - 4s 34ms/step - loss: 0.1792 - accuracy: 0.9123 - val_loss: 0.1748 - val_accuracy: 0.9189\n",
            "Epoch 48/100\n",
            "123/123 [==============================] - 4s 34ms/step - loss: 0.1730 - accuracy: 0.9151 - val_loss: 0.2020 - val_accuracy: 0.9095\n",
            "Epoch 49/100\n",
            "123/123 [==============================] - 4s 34ms/step - loss: 0.1753 - accuracy: 0.9142 - val_loss: 0.1723 - val_accuracy: 0.9165\n",
            "Epoch 50/100\n",
            "123/123 [==============================] - 4s 34ms/step - loss: 0.1704 - accuracy: 0.9171 - val_loss: 0.1833 - val_accuracy: 0.9103\n",
            "Epoch 51/100\n",
            "123/123 [==============================] - 4s 34ms/step - loss: 0.1740 - accuracy: 0.9147 - val_loss: 0.1885 - val_accuracy: 0.9115\n",
            "Epoch 52/100\n",
            "123/123 [==============================] - 4s 34ms/step - loss: 0.1731 - accuracy: 0.9154 - val_loss: 0.1701 - val_accuracy: 0.9181\n",
            "Epoch 53/100\n",
            "123/123 [==============================] - 4s 35ms/step - loss: 0.1693 - accuracy: 0.9174 - val_loss: 0.1663 - val_accuracy: 0.9163\n",
            "Epoch 54/100\n",
            "123/123 [==============================] - 4s 34ms/step - loss: 0.3047 - accuracy: 0.8438 - val_loss: 0.3046 - val_accuracy: 0.8449\n",
            "Epoch 55/100\n",
            "123/123 [==============================] - 4s 34ms/step - loss: 0.2639 - accuracy: 0.8733 - val_loss: 0.2539 - val_accuracy: 0.8862\n",
            "Epoch 56/100\n",
            "123/123 [==============================] - 4s 34ms/step - loss: 0.2400 - accuracy: 0.8860 - val_loss: 0.2341 - val_accuracy: 0.8874\n",
            "Epoch 57/100\n",
            "123/123 [==============================] - 4s 35ms/step - loss: 0.2239 - accuracy: 0.8928 - val_loss: 0.2154 - val_accuracy: 0.8986\n",
            "Epoch 58/100\n",
            "123/123 [==============================] - 4s 36ms/step - loss: 0.2112 - accuracy: 0.8985 - val_loss: 0.2058 - val_accuracy: 0.8961\n",
            "Epoch 59/100\n",
            "123/123 [==============================] - 4s 35ms/step - loss: 0.2019 - accuracy: 0.9020 - val_loss: 0.2030 - val_accuracy: 0.9000\n",
            "Epoch 60/100\n",
            "123/123 [==============================] - 4s 35ms/step - loss: 0.2177 - accuracy: 0.8971 - val_loss: 0.2066 - val_accuracy: 0.9067\n",
            "Epoch 61/100\n",
            "123/123 [==============================] - 4s 34ms/step - loss: 0.1899 - accuracy: 0.9080 - val_loss: 0.1895 - val_accuracy: 0.9115\n",
            "Epoch 62/100\n",
            "123/123 [==============================] - 4s 34ms/step - loss: 0.1798 - accuracy: 0.9144 - val_loss: 0.1813 - val_accuracy: 0.9114\n",
            "Epoch 63/100\n",
            "123/123 [==============================] - 4s 34ms/step - loss: 0.1741 - accuracy: 0.9175 - val_loss: 0.1740 - val_accuracy: 0.9202\n",
            "Epoch 64/100\n",
            "123/123 [==============================] - 4s 34ms/step - loss: 0.1690 - accuracy: 0.9198 - val_loss: 0.1693 - val_accuracy: 0.9201\n",
            "Epoch 65/100\n",
            "123/123 [==============================] - 4s 35ms/step - loss: 0.1691 - accuracy: 0.9194 - val_loss: 0.1925 - val_accuracy: 0.9042\n",
            "Epoch 66/100\n",
            "123/123 [==============================] - 4s 34ms/step - loss: 0.1656 - accuracy: 0.9209 - val_loss: 0.1709 - val_accuracy: 0.9196\n",
            "Epoch 67/100\n",
            "123/123 [==============================] - 4s 35ms/step - loss: 0.1638 - accuracy: 0.9223 - val_loss: 0.1650 - val_accuracy: 0.9256\n",
            "Epoch 68/100\n",
            "123/123 [==============================] - 4s 35ms/step - loss: 0.1592 - accuracy: 0.9248 - val_loss: 0.1557 - val_accuracy: 0.9259\n",
            "Epoch 69/100\n",
            "123/123 [==============================] - 4s 34ms/step - loss: 0.1602 - accuracy: 0.9239 - val_loss: 0.1593 - val_accuracy: 0.9217\n",
            "Epoch 70/100\n",
            "123/123 [==============================] - 4s 35ms/step - loss: 0.1591 - accuracy: 0.9250 - val_loss: 0.1618 - val_accuracy: 0.9215\n",
            "Epoch 71/100\n",
            "123/123 [==============================] - 4s 34ms/step - loss: 0.1580 - accuracy: 0.9252 - val_loss: 0.1673 - val_accuracy: 0.9209\n",
            "Epoch 72/100\n",
            "123/123 [==============================] - 4s 35ms/step - loss: 0.1593 - accuracy: 0.9239 - val_loss: 0.1628 - val_accuracy: 0.9245\n",
            "Epoch 73/100\n",
            "123/123 [==============================] - 4s 35ms/step - loss: 0.1578 - accuracy: 0.9251 - val_loss: 0.1566 - val_accuracy: 0.9253\n",
            "Epoch 74/100\n",
            "123/123 [==============================] - 4s 35ms/step - loss: 0.1563 - accuracy: 0.9251 - val_loss: 0.1566 - val_accuracy: 0.9265\n",
            "Epoch 75/100\n",
            "123/123 [==============================] - 4s 34ms/step - loss: 0.1563 - accuracy: 0.9254 - val_loss: 0.1555 - val_accuracy: 0.9254\n",
            "Epoch 76/100\n",
            "123/123 [==============================] - 4s 34ms/step - loss: 0.1546 - accuracy: 0.9265 - val_loss: 0.1652 - val_accuracy: 0.9232\n",
            "Epoch 77/100\n",
            "123/123 [==============================] - 4s 34ms/step - loss: 0.1568 - accuracy: 0.9261 - val_loss: 0.1513 - val_accuracy: 0.9275\n",
            "Epoch 78/100\n",
            "123/123 [==============================] - 4s 34ms/step - loss: 0.1532 - accuracy: 0.9277 - val_loss: 0.1543 - val_accuracy: 0.9251\n",
            "Epoch 79/100\n",
            "123/123 [==============================] - 4s 34ms/step - loss: 0.1517 - accuracy: 0.9279 - val_loss: 0.1543 - val_accuracy: 0.9282\n",
            "Epoch 80/100\n",
            "123/123 [==============================] - 4s 34ms/step - loss: 0.1549 - accuracy: 0.9263 - val_loss: 0.1611 - val_accuracy: 0.9250\n",
            "Epoch 81/100\n",
            "123/123 [==============================] - 4s 35ms/step - loss: 0.1527 - accuracy: 0.9273 - val_loss: 0.1601 - val_accuracy: 0.9229\n",
            "Epoch 82/100\n",
            "123/123 [==============================] - 4s 35ms/step - loss: 0.1524 - accuracy: 0.9273 - val_loss: 0.1506 - val_accuracy: 0.9272\n",
            "Epoch 83/100\n",
            "123/123 [==============================] - 4s 35ms/step - loss: 0.1549 - accuracy: 0.9269 - val_loss: 0.1546 - val_accuracy: 0.9247\n",
            "Epoch 84/100\n",
            "123/123 [==============================] - 4s 35ms/step - loss: 0.1529 - accuracy: 0.9270 - val_loss: 0.1580 - val_accuracy: 0.9233\n",
            "Epoch 85/100\n",
            "123/123 [==============================] - 4s 34ms/step - loss: 0.1535 - accuracy: 0.9272 - val_loss: 0.1649 - val_accuracy: 0.9214\n",
            "Epoch 86/100\n",
            "123/123 [==============================] - 4s 34ms/step - loss: 0.1539 - accuracy: 0.9273 - val_loss: 0.1487 - val_accuracy: 0.9308\n",
            "Epoch 87/100\n",
            "123/123 [==============================] - 4s 34ms/step - loss: 0.1503 - accuracy: 0.9288 - val_loss: 0.1530 - val_accuracy: 0.9265\n",
            "Epoch 88/100\n",
            "123/123 [==============================] - 4s 34ms/step - loss: 0.1513 - accuracy: 0.9282 - val_loss: 0.1462 - val_accuracy: 0.9294\n",
            "Epoch 89/100\n",
            "123/123 [==============================] - 4s 35ms/step - loss: 0.1482 - accuracy: 0.9300 - val_loss: 0.1486 - val_accuracy: 0.9296\n",
            "Epoch 90/100\n",
            "123/123 [==============================] - 4s 35ms/step - loss: 0.1485 - accuracy: 0.9296 - val_loss: 0.1487 - val_accuracy: 0.9288\n",
            "Epoch 91/100\n",
            "123/123 [==============================] - 4s 34ms/step - loss: 0.1485 - accuracy: 0.9298 - val_loss: 0.1452 - val_accuracy: 0.9299\n",
            "Epoch 92/100\n",
            "123/123 [==============================] - 4s 34ms/step - loss: 0.1492 - accuracy: 0.9288 - val_loss: 0.1484 - val_accuracy: 0.9312\n",
            "Epoch 93/100\n",
            "123/123 [==============================] - 4s 34ms/step - loss: 0.1488 - accuracy: 0.9293 - val_loss: 0.1489 - val_accuracy: 0.9300\n",
            "Epoch 94/100\n",
            "123/123 [==============================] - 4s 34ms/step - loss: 0.1469 - accuracy: 0.9307 - val_loss: 0.1456 - val_accuracy: 0.9304\n",
            "Epoch 95/100\n",
            "123/123 [==============================] - 4s 35ms/step - loss: 0.1511 - accuracy: 0.9285 - val_loss: 0.1539 - val_accuracy: 0.9299\n",
            "Epoch 96/100\n",
            "123/123 [==============================] - 4s 35ms/step - loss: 0.1486 - accuracy: 0.9298 - val_loss: 0.1594 - val_accuracy: 0.9227\n",
            "Epoch 97/100\n",
            "123/123 [==============================] - 4s 35ms/step - loss: 0.1487 - accuracy: 0.9298 - val_loss: 0.1470 - val_accuracy: 0.9283\n",
            "Epoch 98/100\n",
            "123/123 [==============================] - 4s 35ms/step - loss: 0.1446 - accuracy: 0.9320 - val_loss: 0.1448 - val_accuracy: 0.9328\n",
            "Epoch 99/100\n",
            "123/123 [==============================] - 4s 35ms/step - loss: 0.1463 - accuracy: 0.9307 - val_loss: 0.1449 - val_accuracy: 0.9325\n",
            "Epoch 100/100\n",
            "123/123 [==============================] - 4s 35ms/step - loss: 0.1448 - accuracy: 0.9314 - val_loss: 0.1453 - val_accuracy: 0.9300\n"
          ]
        }
      ]
    },
    {
      "cell_type": "code",
      "source": [
        "# Modele LSTM\n",
        "#Mise en place du modele LSTM a 5 couches\n",
        "from keras.models import Sequential\n",
        "from keras.layers import Dense\n",
        "from keras.layers import LSTM\n",
        "from keras.layers import Dropout\n",
        "\n",
        "model_lstm = Sequential()\n",
        "model_lstm.add(LSTM(units=128,return_sequences =True,input_shape=(x_train.shape[1],1)))\n",
        "model_lstm.add(LSTM(units =64,return_sequences =True))\n",
        "model_lstm.add(LSTM(units=64,return_sequences =True))\n",
        "model_lstm.add(Dropout(0.2))\n",
        "model_lstm.add(LSTM(units=32))\n",
        "model_lstm.add(Dense(units=2,activation='sigmoid'))\n",
        "model_lstm.compile(optimizer = 'adam', loss ='binary_crossentropy', metrics=['accuracy'] )\n",
        "model_lstm.summary()"
      ],
      "metadata": {
        "id": "9opWxtAI0k9z"
      },
      "execution_count": null,
      "outputs": []
    },
    {
      "cell_type": "code",
      "source": [
        "plt.clf()\n",
        "loss = history_lstm.history['loss']\n",
        "val_loss = history_lstm.history['val_loss']\n",
        "epochs = range(1, len(loss) + 1)\n",
        "plt.plot(epochs, loss, 'g', label='Training loss')\n",
        "plt.plot(epochs, val_loss, 'y', label='Validation loss')\n",
        "plt.title('Training and validation loss')\n",
        "plt.xlabel('Epochs')\n",
        "plt.ylabel('Loss')\n",
        "plt.legend()\n",
        "plt.show()"
      ],
      "metadata": {
        "colab": {
          "base_uri": "https://localhost:8080/",
          "height": 295
        },
        "id": "N5PTMJ1a9lNe",
        "outputId": "4dd4c00e-93b7-46b0-a737-061d0fe2ce43"
      },
      "execution_count": 113,
      "outputs": [
        {
          "output_type": "display_data",
          "data": {
            "text/plain": [
              "<Figure size 432x288 with 1 Axes>"
            ],
            "image/png": "[encoded data removed]"
          },
          "metadata": {
            "needs_background": "light"
          }
        }
      ]
    },
    {
      "cell_type": "code",
      "source": [
        "plt.clf()\n",
        "acc = history_lstm.history['accuracy']\n",
        "val_acc = history_lstm.history['val_accuracy']\n",
        "plt.plot(epochs, acc, 'g', label='Training acc')\n",
        "plt.plot(epochs, val_acc, 'y', label='Validation acc')\n",
        "plt.title('Training and validation accuracy')\n",
        "plt.xlabel('Epochs')\n",
        "plt.ylabel('Accuracy')\n",
        "plt.legend()\n",
        "plt.show()"
      ],
      "metadata": {
        "colab": {
          "base_uri": "https://localhost:8080/",
          "height": 295
        },
        "id": "vXcpapVF9sZj",
        "outputId": "e2fd833d-3807-42a9-b7c9-94c89c6506b4"
      },
      "execution_count": 114,
      "outputs": [
        {
          "output_type": "display_data",
          "data": {
            "text/plain": [
              "<Figure size 432x288 with 1 Axes>"
            ],
            "image/png": "[encoded data removed]"
          },
          "metadata": {
            "needs_background": "light"
          }
        }
      ]
    },
    {
      "cell_type": "code",
      "source": [
        "# Evaluation du model\n",
        "model_lstm.evaluate(x_test,y_test)"
      ],
      "metadata": {
        "colab": {
          "base_uri": "https://localhost:8080/"
        },
        "id": "K5E2cPEl96xh",
        "outputId": "2a7995a4-3378-479c-9f09-44945c014a3e"
      },
      "execution_count": 115,
      "outputs": [
        {
          "output_type": "stream",
          "name": "stdout",
          "text": [
            "1454/1454 [==============================] - 9s 6ms/step - loss: 0.1470 - accuracy: 0.9303\n"
          ]
        },
        {
          "output_type": "execute_result",
          "data": {
            "text/plain": [
              "[0.14703591167926788, 0.9303441047668457]"
            ]
          },
          "metadata": {},
          "execution_count": 115
        }
      ]
    },
    {
      "cell_type": "code",
      "source": [
        "# Prediction et affichage des performance du model\n",
        "y_pred = model_lstm.predict(x_test)\n",
        "y_pred = np.argmax(y_pred,axis=1) \n",
        "y_true = np.argmax(y_test,axis=1)\n",
        "\n",
        "print(\"Accuracy: {}\" .format(metrics.accuracy_score(y_true, y_pred)))\n",
        "print(\"Precision: {}\" .format(metrics.precision_score(y_true, y_pred, average='macro')))\n",
        "print(\"Recall: {}\" .format(metrics.recall_score(y_true, y_pred, average='macro')))\n",
        "print(\"F1: {}\" .format(metrics.f1_score(y_true, y_pred, average='macro')))\n"
      ],
      "metadata": {
        "colab": {
          "base_uri": "https://localhost:8080/"
        },
        "id": "2NNhgK2e-J33",
        "outputId": "e75dc234-be1e-45c0-df57-6e9bb3eb8d76"
      },
      "execution_count": 116,
      "outputs": [
        {
          "output_type": "stream",
          "name": "stdout",
          "text": [
            "Accuracy: 0.9303440860215054\n",
            "Precision: 0.9320878476962366\n",
            "Recall: 0.9303440860215053\n",
            "F1: 0.9302737380680004\n"
          ]
        }
      ]
    },
    {
      "cell_type": "code",
      "source": [
        "y_test.shape"
      ],
      "metadata": {
        "colab": {
          "base_uri": "https://localhost:8080/"
        },
        "id": "GhTx7xMvEAHQ",
        "outputId": "39990b76-ac5e-4aa0-d212-fcf8dd031bda"
      },
      "execution_count": null,
      "outputs": [
        {
          "output_type": "execute_result",
          "data": {
            "text/plain": [
              "(46500, 2)"
            ]
          },
          "metadata": {},
          "execution_count": 26
        }
      ]
    },
    {
      "cell_type": "code",
      "source": [
        "y_pred.shape"
      ],
      "metadata": {
        "colab": {
          "base_uri": "https://localhost:8080/"
        },
        "id": "MWNbPmLmELfe",
        "outputId": "7f8dcea0-4ed0-4501-fa16-ce3b529d9697"
      },
      "execution_count": null,
      "outputs": [
        {
          "output_type": "execute_result",
          "data": {
            "text/plain": [
              "(186000,)"
            ]
          },
          "metadata": {},
          "execution_count": 27
        }
      ]
    },
    {
      "cell_type": "code",
      "source": [
        "def plot_confusing_matrix (y_compare,pred,n_categories):\n",
        "\n",
        "  cm = metrics.confusion_matrix(y_compare, pred)\n",
        "  plot_confusion_matrix(conf_mat=cm,figsize=(13,13),show_normed=True)\n",
        "  plt.title('Matrice de confusion')\n",
        "  plt.ylabel('Cible')\n",
        "  plt.xlabel('Prédite')\n",
        "  plt.show()"
      ],
      "metadata": {
        "id": "UQpY-8Kt-_z6"
      },
      "execution_count": 117,
      "outputs": []
    },
    {
      "cell_type": "code",
      "source": [
        "plot_confusing_matrix(y_true,y_pred,2)"
      ],
      "metadata": {
        "colab": {
          "base_uri": "https://localhost:8080/",
          "height": 820
        },
        "id": "AI3-Jjrb_DZ9",
        "outputId": "8984a817-bd59-4a39-be9f-8d9e048e763c"
      },
      "execution_count": 118,
      "outputs": [
        {
          "output_type": "display_data",
          "data": {
            "text/plain": [
              "<Figure size 936x936 with 1 Axes>"
            ],
            "image/png": "[encoded data removed]"
          },
          "metadata": {
            "needs_background": "light"
          }
        }
      ]
    },
    {
      "cell_type": "markdown",
      "source": [
        "Application d'un reseau de neuronnes convolutif\n"
      ],
      "metadata": {
        "id": "fPKuqQzHcRK0"
      }
    },
    {
      "cell_type": "code",
      "source": [
        "\n",
        "X_train = x_train.reshape(x_train.shape[0], 1, 42, 1)   \n",
        "X_test= x_test.reshape(x_test.shape[0], 1, 42, 1)"
      ],
      "metadata": {
        "id": "9mxqS1mCQ0Ew"
      },
      "execution_count": 119,
      "outputs": []
    },
    {
      "cell_type": "code",
      "source": [
        "X_test.shape"
      ],
      "metadata": {
        "colab": {
          "base_uri": "https://localhost:8080/"
        },
        "id": "mY-xgeWmRYd7",
        "outputId": "8ef60eaa-86c3-48b2-f46c-6795a7df8d65"
      },
      "execution_count": 120,
      "outputs": [
        {
          "output_type": "execute_result",
          "data": {
            "text/plain": [
              "(46500, 1, 42, 1)"
            ]
          },
          "metadata": {},
          "execution_count": 120
        }
      ]
    },
    {
      "cell_type": "code",
      "source": [
        "X_train.shape"
      ],
      "metadata": {
        "colab": {
          "base_uri": "https://localhost:8080/"
        },
        "id": "buifPq3ZRfEt",
        "outputId": "3276c4a8-26f4-46c4-ca18-76619a5bbce4"
      },
      "execution_count": 121,
      "outputs": [
        {
          "output_type": "execute_result",
          "data": {
            "text/plain": [
              "(139500, 1, 42, 1)"
            ]
          },
          "metadata": {},
          "execution_count": 121
        }
      ]
    },
    {
      "cell_type": "code",
      "source": [
        "y_train.shape"
      ],
      "metadata": {
        "colab": {
          "base_uri": "https://localhost:8080/"
        },
        "id": "xdH0KZ1sZSIj",
        "outputId": "674f824e-468b-44d7-9561-65b33b96a948"
      },
      "execution_count": 122,
      "outputs": [
        {
          "output_type": "execute_result",
          "data": {
            "text/plain": [
              "(139500, 2)"
            ]
          },
          "metadata": {},
          "execution_count": 122
        }
      ]
    },
    {
      "cell_type": "code",
      "source": [
        "y_test.shape"
      ],
      "metadata": {
        "colab": {
          "base_uri": "https://localhost:8080/"
        },
        "id": "C5Ojaf8jZhAC",
        "outputId": "888878d0-a7db-41f8-8f34-78870fcd0096"
      },
      "execution_count": 123,
      "outputs": [
        {
          "output_type": "execute_result",
          "data": {
            "text/plain": [
              "(46500, 2)"
            ]
          },
          "metadata": {},
          "execution_count": 123
        }
      ]
    },
    {
      "cell_type": "code",
      "source": [
        "# Model CNN\n",
        "from tensorflow import keras\n",
        "from sklearn.model_selection import train_test_split\n",
        "import numpy as np\n",
        "from keras.utils import np_utils\n",
        "from sklearn.model_selection import GridSearchCV\n",
        "from keras.wrappers.scikit_learn import KerasClassifier\n",
        "from keras.models import Sequential\n",
        "from keras.layers import Dense, Activation, Dropout, Conv2D, Flatten, MaxPooling2D,BatchNormalization\n",
        "from keras.layers import LSTM,TimeDistributed,Conv1D,MaxPooling1D\n",
        "from keras.layers import Dense, Dropout, Flatten\n",
        "from keras import models\n",
        "from keras import layers\n",
        "from keras.models import Model\n",
        "\n",
        "CNN_model = Sequential()\n",
        "CNN_model.add(Conv2D(128, kernel_size=(3, 3),activation='tanh',padding='same',input_shape=(1,42,1)))\n",
        "CNN_model.add(MaxPooling2D(pool_size=(2, 2),padding='same'))\n",
        "CNN_model.add(Conv2D(128, (3, 3), activation='tanh',padding='same'))\n",
        "CNN_model.add(Conv2D(64, (3, 3), activation='tanh',padding='same'))\n",
        "CNN_model.add(Flatten())\n",
        "CNN_model.add(Dense(2, activation='sigmoid'))\n",
        "CNN_model.compile(loss='binary_crossentropy',optimizer='adam',metrics=['accuracy'])\n",
        "CNN_model.summary()\n"
      ],
      "metadata": {
        "colab": {
          "base_uri": "https://localhost:8080/"
        },
        "id": "fzMcXaSfRl0H",
        "outputId": "e88a9673-619d-4abe-d636-29e35ace8a9c"
      },
      "execution_count": 131,
      "outputs": [
        {
          "output_type": "stream",
          "name": "stdout",
          "text": [
            "Model: \"sequential_32\"\n",
            "_________________________________________________________________\n",
            " Layer (type)                Output Shape              Param #   \n",
            "=================================================================\n",
            " conv2d_8 (Conv2D)           (None, 1, 42, 128)        1280      \n",
            "                                                                 \n",
            " max_pooling2d_4 (MaxPooling  (None, 1, 21, 128)       0         \n",
            " 2D)                                                             \n",
            "                                                                 \n",
            " conv2d_9 (Conv2D)           (None, 1, 21, 128)        147584    \n",
            "                                                                 \n",
            " conv2d_10 (Conv2D)          (None, 1, 21, 64)         73792     \n",
            "                                                                 \n",
            " flatten_13 (Flatten)        (None, 1344)              0         \n",
            "                                                                 \n",
            " dense_61 (Dense)            (None, 2)                 2690      \n",
            "                                                                 \n",
            "=================================================================\n",
            "Total params: 225,346\n",
            "Trainable params: 225,346\n",
            "Non-trainable params: 0\n",
            "_________________________________________________________________\n"
          ]
        }
      ]
    },
    {
      "cell_type": "code",
      "source": [
        "history = CNN_model.fit(X_train,y_train,validation_data=(X_test,y_test),verbose=1,batch_size=512,epochs=100)"
      ],
      "metadata": {
        "colab": {
          "base_uri": "https://localhost:8080/"
        },
        "id": "xzgRE7mrW5Rf",
        "outputId": "30966230-2917-4b11-8a84-fea7487206c9"
      },
      "execution_count": 132,
      "outputs": [
        {
          "output_type": "stream",
          "name": "stdout",
          "text": [
            "Epoch 1/100\n",
            "273/273 [==============================] - 5s 15ms/step - loss: 0.3039 - accuracy: 0.8462 - val_loss: 0.2467 - val_accuracy: 0.8875\n",
            "Epoch 2/100\n",
            "273/273 [==============================] - 4s 13ms/step - loss: 0.2412 - accuracy: 0.8866 - val_loss: 0.2335 - val_accuracy: 0.8829\n",
            "Epoch 3/100\n",
            "273/273 [==============================] - 4s 13ms/step - loss: 0.2182 - accuracy: 0.9005 - val_loss: 0.2078 - val_accuracy: 0.9105\n",
            "Epoch 4/100\n",
            "273/273 [==============================] - 4s 13ms/step - loss: 0.1991 - accuracy: 0.9111 - val_loss: 0.1910 - val_accuracy: 0.9099\n",
            "Epoch 5/100\n",
            "273/273 [==============================] - 4s 13ms/step - loss: 0.1857 - accuracy: 0.9161 - val_loss: 0.1778 - val_accuracy: 0.9202\n",
            "Epoch 6/100\n",
            "273/273 [==============================] - 4s 13ms/step - loss: 0.1772 - accuracy: 0.9201 - val_loss: 0.1777 - val_accuracy: 0.9174\n",
            "Epoch 7/100\n",
            "273/273 [==============================] - 4s 14ms/step - loss: 0.1726 - accuracy: 0.9218 - val_loss: 0.1824 - val_accuracy: 0.9178\n",
            "Epoch 8/100\n",
            "273/273 [==============================] - 4s 14ms/step - loss: 0.1696 - accuracy: 0.9233 - val_loss: 0.1682 - val_accuracy: 0.9251\n",
            "Epoch 9/100\n",
            "273/273 [==============================] - 4s 13ms/step - loss: 0.1679 - accuracy: 0.9237 - val_loss: 0.1677 - val_accuracy: 0.9240\n",
            "Epoch 10/100\n",
            "273/273 [==============================] - 4s 14ms/step - loss: 0.1657 - accuracy: 0.9246 - val_loss: 0.1628 - val_accuracy: 0.9262\n",
            "Epoch 11/100\n",
            "273/273 [==============================] - 4s 14ms/step - loss: 0.1636 - accuracy: 0.9250 - val_loss: 0.1616 - val_accuracy: 0.9263\n",
            "Epoch 12/100\n",
            "273/273 [==============================] - 4s 13ms/step - loss: 0.1612 - accuracy: 0.9261 - val_loss: 0.1662 - val_accuracy: 0.9216\n",
            "Epoch 13/100\n",
            "273/273 [==============================] - 4s 14ms/step - loss: 0.1603 - accuracy: 0.9263 - val_loss: 0.1658 - val_accuracy: 0.9251\n",
            "Epoch 14/100\n",
            "273/273 [==============================] - 4s 13ms/step - loss: 0.1592 - accuracy: 0.9273 - val_loss: 0.1643 - val_accuracy: 0.9224\n",
            "Epoch 15/100\n",
            "273/273 [==============================] - 4s 13ms/step - loss: 0.1584 - accuracy: 0.9272 - val_loss: 0.1609 - val_accuracy: 0.9258\n",
            "Epoch 16/100\n",
            "273/273 [==============================] - 4s 14ms/step - loss: 0.1576 - accuracy: 0.9282 - val_loss: 0.1588 - val_accuracy: 0.9272\n",
            "Epoch 17/100\n",
            "273/273 [==============================] - 5s 17ms/step - loss: 0.1560 - accuracy: 0.9288 - val_loss: 0.1571 - val_accuracy: 0.9291\n",
            "Epoch 18/100\n",
            "273/273 [==============================] - 4s 13ms/step - loss: 0.1555 - accuracy: 0.9290 - val_loss: 0.1538 - val_accuracy: 0.9300\n",
            "Epoch 19/100\n",
            "273/273 [==============================] - 4s 13ms/step - loss: 0.1539 - accuracy: 0.9297 - val_loss: 0.1537 - val_accuracy: 0.9295\n",
            "Epoch 20/100\n",
            "273/273 [==============================] - 4s 15ms/step - loss: 0.1542 - accuracy: 0.9297 - val_loss: 0.1553 - val_accuracy: 0.9287\n",
            "Epoch 21/100\n",
            "273/273 [==============================] - 4s 16ms/step - loss: 0.1547 - accuracy: 0.9289 - val_loss: 0.1574 - val_accuracy: 0.9285\n",
            "Epoch 22/100\n",
            "273/273 [==============================] - 4s 14ms/step - loss: 0.1531 - accuracy: 0.9301 - val_loss: 0.1641 - val_accuracy: 0.9232\n",
            "Epoch 23/100\n",
            "273/273 [==============================] - 4s 14ms/step - loss: 0.1520 - accuracy: 0.9302 - val_loss: 0.1547 - val_accuracy: 0.9296\n",
            "Epoch 24/100\n",
            "273/273 [==============================] - 4s 14ms/step - loss: 0.1517 - accuracy: 0.9305 - val_loss: 0.1515 - val_accuracy: 0.9315\n",
            "Epoch 25/100\n",
            "273/273 [==============================] - 4s 14ms/step - loss: 0.1507 - accuracy: 0.9314 - val_loss: 0.1508 - val_accuracy: 0.9317\n",
            "Epoch 26/100\n",
            "273/273 [==============================] - 4s 13ms/step - loss: 0.1527 - accuracy: 0.9302 - val_loss: 0.1513 - val_accuracy: 0.9308\n",
            "Epoch 27/100\n",
            "273/273 [==============================] - 4s 13ms/step - loss: 0.1495 - accuracy: 0.9316 - val_loss: 0.1502 - val_accuracy: 0.9310\n",
            "Epoch 28/100\n",
            "273/273 [==============================] - 4s 14ms/step - loss: 0.1502 - accuracy: 0.9317 - val_loss: 0.1545 - val_accuracy: 0.9297\n",
            "Epoch 29/100\n",
            "273/273 [==============================] - 4s 13ms/step - loss: 0.1504 - accuracy: 0.9315 - val_loss: 0.1576 - val_accuracy: 0.9272\n",
            "Epoch 30/100\n",
            "273/273 [==============================] - 4s 13ms/step - loss: 0.1490 - accuracy: 0.9326 - val_loss: 0.1514 - val_accuracy: 0.9292\n",
            "Epoch 31/100\n",
            "273/273 [==============================] - 4s 13ms/step - loss: 0.1489 - accuracy: 0.9320 - val_loss: 0.1521 - val_accuracy: 0.9296\n",
            "Epoch 32/100\n",
            "273/273 [==============================] - 4s 14ms/step - loss: 0.1504 - accuracy: 0.9313 - val_loss: 0.1503 - val_accuracy: 0.9306\n",
            "Epoch 33/100\n",
            "273/273 [==============================] - 4s 14ms/step - loss: 0.1478 - accuracy: 0.9324 - val_loss: 0.1498 - val_accuracy: 0.9300\n",
            "Epoch 34/100\n",
            "273/273 [==============================] - 4s 13ms/step - loss: 0.1472 - accuracy: 0.9328 - val_loss: 0.1528 - val_accuracy: 0.9292\n",
            "Epoch 35/100\n",
            "273/273 [==============================] - 4s 14ms/step - loss: 0.1486 - accuracy: 0.9321 - val_loss: 0.1509 - val_accuracy: 0.9299\n",
            "Epoch 36/100\n",
            "273/273 [==============================] - 4s 13ms/step - loss: 0.1463 - accuracy: 0.9328 - val_loss: 0.1494 - val_accuracy: 0.9331\n",
            "Epoch 37/100\n",
            "273/273 [==============================] - 4s 14ms/step - loss: 0.1471 - accuracy: 0.9327 - val_loss: 0.1474 - val_accuracy: 0.9323\n",
            "Epoch 38/100\n",
            "273/273 [==============================] - 4s 14ms/step - loss: 0.1456 - accuracy: 0.9333 - val_loss: 0.1497 - val_accuracy: 0.9318\n",
            "Epoch 39/100\n",
            "273/273 [==============================] - 4s 14ms/step - loss: 0.1459 - accuracy: 0.9333 - val_loss: 0.1475 - val_accuracy: 0.9328\n",
            "Epoch 40/100\n",
            "273/273 [==============================] - 4s 14ms/step - loss: 0.1455 - accuracy: 0.9331 - val_loss: 0.1502 - val_accuracy: 0.9315\n",
            "Epoch 41/100\n",
            "273/273 [==============================] - 4s 14ms/step - loss: 0.1456 - accuracy: 0.9332 - val_loss: 0.1497 - val_accuracy: 0.9306\n",
            "Epoch 42/100\n",
            "273/273 [==============================] - 4s 13ms/step - loss: 0.1458 - accuracy: 0.9332 - val_loss: 0.1583 - val_accuracy: 0.9274\n",
            "Epoch 43/100\n",
            "273/273 [==============================] - 4s 14ms/step - loss: 0.1455 - accuracy: 0.9337 - val_loss: 0.1467 - val_accuracy: 0.9311\n",
            "Epoch 44/100\n",
            "273/273 [==============================] - 4s 13ms/step - loss: 0.1445 - accuracy: 0.9340 - val_loss: 0.1450 - val_accuracy: 0.9332\n",
            "Epoch 45/100\n",
            "273/273 [==============================] - 4s 13ms/step - loss: 0.1447 - accuracy: 0.9338 - val_loss: 0.1496 - val_accuracy: 0.9300\n",
            "Epoch 46/100\n",
            "273/273 [==============================] - 4s 14ms/step - loss: 0.1449 - accuracy: 0.9334 - val_loss: 0.1507 - val_accuracy: 0.9306\n",
            "Epoch 47/100\n",
            "273/273 [==============================] - 4s 13ms/step - loss: 0.1438 - accuracy: 0.9339 - val_loss: 0.1450 - val_accuracy: 0.9332\n",
            "Epoch 48/100\n",
            "273/273 [==============================] - 4s 14ms/step - loss: 0.1436 - accuracy: 0.9344 - val_loss: 0.1504 - val_accuracy: 0.9334\n",
            "Epoch 49/100\n",
            "273/273 [==============================] - 4s 14ms/step - loss: 0.1441 - accuracy: 0.9343 - val_loss: 0.1447 - val_accuracy: 0.9336\n",
            "Epoch 50/100\n",
            "273/273 [==============================] - 4s 14ms/step - loss: 0.1436 - accuracy: 0.9341 - val_loss: 0.1446 - val_accuracy: 0.9330\n",
            "Epoch 51/100\n",
            "273/273 [==============================] - 4s 13ms/step - loss: 0.1425 - accuracy: 0.9345 - val_loss: 0.1490 - val_accuracy: 0.9309\n",
            "Epoch 52/100\n",
            "273/273 [==============================] - 4s 13ms/step - loss: 0.1432 - accuracy: 0.9343 - val_loss: 0.1506 - val_accuracy: 0.9314\n",
            "Epoch 53/100\n",
            "273/273 [==============================] - 4s 13ms/step - loss: 0.1431 - accuracy: 0.9346 - val_loss: 0.1435 - val_accuracy: 0.9334\n",
            "Epoch 54/100\n",
            "273/273 [==============================] - 4s 14ms/step - loss: 0.1417 - accuracy: 0.9350 - val_loss: 0.1453 - val_accuracy: 0.9329\n",
            "Epoch 55/100\n",
            "273/273 [==============================] - 4s 13ms/step - loss: 0.1422 - accuracy: 0.9344 - val_loss: 0.1459 - val_accuracy: 0.9347\n",
            "Epoch 56/100\n",
            "273/273 [==============================] - 4s 14ms/step - loss: 0.1414 - accuracy: 0.9360 - val_loss: 0.1444 - val_accuracy: 0.9337\n",
            "Epoch 57/100\n",
            "273/273 [==============================] - 4s 13ms/step - loss: 0.1426 - accuracy: 0.9346 - val_loss: 0.1452 - val_accuracy: 0.9322\n",
            "Epoch 58/100\n",
            "273/273 [==============================] - 4s 14ms/step - loss: 0.1412 - accuracy: 0.9352 - val_loss: 0.1479 - val_accuracy: 0.9313\n",
            "Epoch 59/100\n",
            "273/273 [==============================] - 4s 14ms/step - loss: 0.1413 - accuracy: 0.9348 - val_loss: 0.1425 - val_accuracy: 0.9354\n",
            "Epoch 60/100\n",
            "273/273 [==============================] - 4s 14ms/step - loss: 0.1410 - accuracy: 0.9351 - val_loss: 0.1428 - val_accuracy: 0.9339\n",
            "Epoch 61/100\n",
            "273/273 [==============================] - 4s 13ms/step - loss: 0.1413 - accuracy: 0.9352 - val_loss: 0.1458 - val_accuracy: 0.9321\n",
            "Epoch 62/100\n",
            "273/273 [==============================] - 4s 14ms/step - loss: 0.1409 - accuracy: 0.9355 - val_loss: 0.1488 - val_accuracy: 0.9324\n",
            "Epoch 63/100\n",
            "273/273 [==============================] - 4s 14ms/step - loss: 0.1402 - accuracy: 0.9359 - val_loss: 0.1459 - val_accuracy: 0.9324\n",
            "Epoch 64/100\n",
            "273/273 [==============================] - 4s 13ms/step - loss: 0.1405 - accuracy: 0.9362 - val_loss: 0.1503 - val_accuracy: 0.9310\n",
            "Epoch 65/100\n",
            "273/273 [==============================] - 4s 14ms/step - loss: 0.1405 - accuracy: 0.9355 - val_loss: 0.1457 - val_accuracy: 0.9345\n",
            "Epoch 66/100\n",
            "273/273 [==============================] - 4s 14ms/step - loss: 0.1419 - accuracy: 0.9352 - val_loss: 0.1442 - val_accuracy: 0.9340\n",
            "Epoch 67/100\n",
            "273/273 [==============================] - 4s 13ms/step - loss: 0.1399 - accuracy: 0.9359 - val_loss: 0.1419 - val_accuracy: 0.9346\n",
            "Epoch 68/100\n",
            "273/273 [==============================] - 4s 14ms/step - loss: 0.1391 - accuracy: 0.9365 - val_loss: 0.1415 - val_accuracy: 0.9335\n",
            "Epoch 69/100\n",
            "273/273 [==============================] - 4s 14ms/step - loss: 0.1396 - accuracy: 0.9356 - val_loss: 0.1449 - val_accuracy: 0.9342\n",
            "Epoch 70/100\n",
            "273/273 [==============================] - 4s 13ms/step - loss: 0.1397 - accuracy: 0.9362 - val_loss: 0.1431 - val_accuracy: 0.9338\n",
            "Epoch 71/100\n",
            "273/273 [==============================] - 4s 13ms/step - loss: 0.1391 - accuracy: 0.9366 - val_loss: 0.1430 - val_accuracy: 0.9332\n",
            "Epoch 72/100\n",
            "273/273 [==============================] - 4s 13ms/step - loss: 0.1401 - accuracy: 0.9361 - val_loss: 0.1451 - val_accuracy: 0.9332\n",
            "Epoch 73/100\n",
            "273/273 [==============================] - 4s 13ms/step - loss: 0.1403 - accuracy: 0.9364 - val_loss: 0.1429 - val_accuracy: 0.9340\n",
            "Epoch 74/100\n",
            "273/273 [==============================] - 4s 14ms/step - loss: 0.1390 - accuracy: 0.9365 - val_loss: 0.1470 - val_accuracy: 0.9358\n",
            "Epoch 75/100\n",
            "273/273 [==============================] - 4s 14ms/step - loss: 0.1383 - accuracy: 0.9365 - val_loss: 0.1429 - val_accuracy: 0.9334\n",
            "Epoch 76/100\n",
            "273/273 [==============================] - 4s 13ms/step - loss: 0.1382 - accuracy: 0.9369 - val_loss: 0.1503 - val_accuracy: 0.9325\n",
            "Epoch 77/100\n",
            "273/273 [==============================] - 4s 14ms/step - loss: 0.1378 - accuracy: 0.9368 - val_loss: 0.1442 - val_accuracy: 0.9321\n",
            "Epoch 78/100\n",
            "273/273 [==============================] - 4s 13ms/step - loss: 0.1382 - accuracy: 0.9367 - val_loss: 0.1425 - val_accuracy: 0.9348\n",
            "Epoch 79/100\n",
            "273/273 [==============================] - 4s 14ms/step - loss: 0.1377 - accuracy: 0.9369 - val_loss: 0.1434 - val_accuracy: 0.9342\n",
            "Epoch 80/100\n",
            "273/273 [==============================] - 4s 14ms/step - loss: 0.1379 - accuracy: 0.9370 - val_loss: 0.1415 - val_accuracy: 0.9351\n",
            "Epoch 81/100\n",
            "273/273 [==============================] - 4s 13ms/step - loss: 0.1374 - accuracy: 0.9373 - val_loss: 0.1478 - val_accuracy: 0.9297\n",
            "Epoch 82/100\n",
            "273/273 [==============================] - 4s 13ms/step - loss: 0.1372 - accuracy: 0.9370 - val_loss: 0.1440 - val_accuracy: 0.9330\n",
            "Epoch 83/100\n",
            "273/273 [==============================] - 4s 14ms/step - loss: 0.1375 - accuracy: 0.9370 - val_loss: 0.1494 - val_accuracy: 0.9315\n",
            "Epoch 84/100\n",
            "273/273 [==============================] - 4s 14ms/step - loss: 0.1363 - accuracy: 0.9373 - val_loss: 0.1395 - val_accuracy: 0.9354\n",
            "Epoch 85/100\n",
            "273/273 [==============================] - 4s 13ms/step - loss: 0.1356 - accuracy: 0.9381 - val_loss: 0.1401 - val_accuracy: 0.9349\n",
            "Epoch 86/100\n",
            "273/273 [==============================] - 4s 14ms/step - loss: 0.1365 - accuracy: 0.9377 - val_loss: 0.1422 - val_accuracy: 0.9354\n",
            "Epoch 87/100\n",
            "273/273 [==============================] - 4s 14ms/step - loss: 0.1369 - accuracy: 0.9371 - val_loss: 0.1438 - val_accuracy: 0.9355\n",
            "Epoch 88/100\n",
            "273/273 [==============================] - 4s 14ms/step - loss: 0.1369 - accuracy: 0.9374 - val_loss: 0.1411 - val_accuracy: 0.9353\n",
            "Epoch 89/100\n",
            "273/273 [==============================] - 4s 13ms/step - loss: 0.1366 - accuracy: 0.9378 - val_loss: 0.1405 - val_accuracy: 0.9363\n",
            "Epoch 90/100\n",
            "273/273 [==============================] - 4s 13ms/step - loss: 0.1354 - accuracy: 0.9381 - val_loss: 0.1422 - val_accuracy: 0.9360\n",
            "Epoch 91/100\n",
            "273/273 [==============================] - 4s 13ms/step - loss: 0.1371 - accuracy: 0.9373 - val_loss: 0.1390 - val_accuracy: 0.9368\n",
            "Epoch 92/100\n",
            "273/273 [==============================] - 4s 14ms/step - loss: 0.1346 - accuracy: 0.9382 - val_loss: 0.1418 - val_accuracy: 0.9351\n",
            "Epoch 93/100\n",
            "273/273 [==============================] - 4s 13ms/step - loss: 0.1358 - accuracy: 0.9382 - val_loss: 0.1448 - val_accuracy: 0.9322\n",
            "Epoch 94/100\n",
            "273/273 [==============================] - 4s 13ms/step - loss: 0.1360 - accuracy: 0.9384 - val_loss: 0.1458 - val_accuracy: 0.9318\n",
            "Epoch 95/100\n",
            "273/273 [==============================] - 4s 13ms/step - loss: 0.1352 - accuracy: 0.9384 - val_loss: 0.1411 - val_accuracy: 0.9356\n",
            "Epoch 96/100\n",
            "273/273 [==============================] - 4s 13ms/step - loss: 0.1351 - accuracy: 0.9384 - val_loss: 0.1448 - val_accuracy: 0.9314\n",
            "Epoch 97/100\n",
            "273/273 [==============================] - 4s 13ms/step - loss: 0.1350 - accuracy: 0.9381 - val_loss: 0.1418 - val_accuracy: 0.9345\n",
            "Epoch 98/100\n",
            "273/273 [==============================] - 4s 13ms/step - loss: 0.1355 - accuracy: 0.9380 - val_loss: 0.1396 - val_accuracy: 0.9364\n",
            "Epoch 99/100\n",
            "273/273 [==============================] - 4s 14ms/step - loss: 0.1346 - accuracy: 0.9389 - val_loss: 0.1398 - val_accuracy: 0.9353\n",
            "Epoch 100/100\n",
            "273/273 [==============================] - 4s 14ms/step - loss: 0.1358 - accuracy: 0.9379 - val_loss: 0.1424 - val_accuracy: 0.9358\n"
          ]
        }
      ]
    },
    {
      "cell_type": "code",
      "source": [
        "# Evaluation du model\n",
        "CNN_model.evaluate(X_test,y_test)"
      ],
      "metadata": {
        "colab": {
          "base_uri": "https://localhost:8080/"
        },
        "id": "V87YDUovWZxI",
        "outputId": "575b7e2e-ba67-4cd4-ce15-11b4ac1c27b7"
      },
      "execution_count": 133,
      "outputs": [
        {
          "output_type": "stream",
          "name": "stdout",
          "text": [
            "1454/1454 [==============================] - 4s 3ms/step - loss: 0.1424 - accuracy: 0.9358\n"
          ]
        },
        {
          "output_type": "execute_result",
          "data": {
            "text/plain": [
              "[0.1424478441476822, 0.9358064532279968]"
            ]
          },
          "metadata": {},
          "execution_count": 133
        }
      ]
    },
    {
      "cell_type": "code",
      "source": [
        "predict_prob=CNN_model.predict(X_test)\n",
        "y_pred_cnn=np.argmax(predict_prob,axis=1)\n",
        "\n",
        "\n",
        "##print (y_pred)\n",
        "y_true_cnn=np.argmax(y_test, axis=1)\n",
        "from sklearn.metrics import precision_recall_fscore_support as score, precision_score, recall_score, f1_score\n",
        "from sklearn.metrics import classification_report, confusion_matrix\n",
        "CM = confusion_matrix(y_true_cnn, y_pred_cnn)\n",
        "print (CM)\n",
        "print(classification_report(y_true, y_pred))"
      ],
      "metadata": {
        "colab": {
          "base_uri": "https://localhost:8080/"
        },
        "id": "SSEYzKIHmw8v",
        "outputId": "6bafb5ef-e908-4c77-d29b-ebd6185f105d"
      },
      "execution_count": 134,
      "outputs": [
        {
          "output_type": "stream",
          "name": "stdout",
          "text": [
            "[[22122  1128]\n",
            " [ 1857 21393]]\n",
            "              precision    recall  f1-score   support\n",
            "\n",
            "           0       0.90      0.96      0.93     23250\n",
            "           1       0.96      0.90      0.93     23250\n",
            "\n",
            "    accuracy                           0.93     46500\n",
            "   macro avg       0.93      0.93      0.93     46500\n",
            "weighted avg       0.93      0.93      0.93     46500\n",
            "\n"
          ]
        }
      ]
    },
    {
      "cell_type": "code",
      "source": [
        "plot_confusing_matrix(y_true_cnn,y_pred_cnn,2)"
      ],
      "metadata": {
        "colab": {
          "base_uri": "https://localhost:8080/",
          "height": 820
        },
        "id": "IH9uBVXiD5aj",
        "outputId": "9bfac2f9-117a-4b9d-8591-ef53fd2e08e5"
      },
      "execution_count": 136,
      "outputs": [
        {
          "output_type": "display_data",
          "data": {
            "text/plain": [
              "<Figure size 936x936 with 1 Axes>"
            ],
            "image/png": "[encoded data removed]"
          },
          "metadata": {
            "needs_background": "light"
          }
        }
      ]
    },
    {
      "cell_type": "code",
      "source": [
        "TN = CM[0][0]\n",
        "FN = CM[1][0]\n",
        "TP = CM[1][1]\n",
        "FP = CM[0][1]\n"
      ],
      "metadata": {
        "id": "50Tjf0IdnZvd"
      },
      "execution_count": 137,
      "outputs": []
    },
    {
      "cell_type": "code",
      "source": [
        "#Sensibilité, taux de réussite, rappel ou taux de vrais positifs\n",
        "TPR = TP/(TP+FN)\n",
        "print ('TPR',TPR)"
      ],
      "metadata": {
        "colab": {
          "base_uri": "https://localhost:8080/"
        },
        "id": "7sTO6LUsnjUD",
        "outputId": "17a7e836-55fd-4927-e1a9-da65cc06c880"
      },
      "execution_count": 138,
      "outputs": [
        {
          "output_type": "stream",
          "name": "stdout",
          "text": [
            "TPR 0.9201290322580645\n"
          ]
        }
      ]
    },
    {
      "cell_type": "code",
      "source": [
        "# Spécificité ou taux de vrais négatifs\n",
        "TNR = TN/(TN+FP) \n",
        "print('TNR',TNR)"
      ],
      "metadata": {
        "id": "k4QUPr-88wWy",
        "colab": {
          "base_uri": "https://localhost:8080/"
        },
        "outputId": "008573d0-7ad1-4ead-db06-dde3ba3b8cfa"
      },
      "execution_count": 139,
      "outputs": [
        {
          "output_type": "stream",
          "name": "stdout",
          "text": [
            "TNR 0.9514838709677419\n"
          ]
        }
      ]
    },
    {
      "cell_type": "code",
      "source": [
        "#Chute ou taux de faux positifs\n",
        "FPR = FP/(FP+TN)\n",
        "print('FPR',FPR)"
      ],
      "metadata": {
        "id": "wn-VjLp59DTw",
        "colab": {
          "base_uri": "https://localhost:8080/"
        },
        "outputId": "3ccc2d32-8f6f-4f25-8174-5becc66065dc"
      },
      "execution_count": 140,
      "outputs": [
        {
          "output_type": "stream",
          "name": "stdout",
          "text": [
            "FPR 0.04851612903225806\n"
          ]
        }
      ]
    },
    {
      "cell_type": "code",
      "source": [
        "# Taux de faux négatifs\n",
        "FNR = FN/(TP+FN)\n",
        "print ('FNR',FNR) "
      ],
      "metadata": {
        "id": "nctRX6U79XjJ",
        "colab": {
          "base_uri": "https://localhost:8080/"
        },
        "outputId": "0f4a007a-5c7e-45b5-e0dc-26902ed2c5c4"
      },
      "execution_count": 141,
      "outputs": [
        {
          "output_type": "stream",
          "name": "stdout",
          "text": [
            "FNR 0.07987096774193549\n"
          ]
        }
      ]
    }
  ],
  "metadata": {
    "colab": {
      "collapsed_sections": [],
      "name": "Memoire_Classification_binaire.ipynb",
      "provenance": [],
      "mount_file_id": "1bIdGa64gBmF8k5vzyrH5PNxt_c-WJv6m",
      "authorship_tag": "ABX9TyPjAe2iKRMVZjrwmmj17Ah7",
      "include_colab_link": true
    },
    "kernelspec": {
      "display_name": "Python 3",
      "name": "python3"
    },
    "language_info": {
      "name": "python"
    },
    "gpuClass": "standard",
    "accelerator": "GPU"
  },
  "nbformat": 4,
  "nbformat_minor": 0
}